{
 "cells": [
  {
   "cell_type": "code",
   "execution_count": 3,
   "id": "1e2c82a2-48ae-400f-9db7-b2c2c6abd2f0",
   "metadata": {},
   "outputs": [],
   "source": [
    "%reload_ext autoreload\n",
    "%matplotlib inline"
   ]
  },
  {
   "cell_type": "code",
   "execution_count": 12,
   "id": "1b175d56-7f5e-4d66-9905-4f133840356d",
   "metadata": {},
   "outputs": [
    {
     "name": "stdout",
     "output_type": "stream",
     "text": [
      "Own modules available: ['conditionalstats', 'plot2D', 'plotCondPDFs', 'plot1D', 'conditionalstats_chunked']\n",
      "Own modules available: ['fcns_load_DYAMOND_SAM', 'load_TOOCAN_DYAMOND_modif', 'load_TOOCAN_DYAMOND', 'load_TOOCAN_DYAMOND_modif_BF', 'casestudy']\n"
     ]
    }
   ],
   "source": [
    "%autoreload 2\n",
    "\n",
    "import sys,os,glob\n",
    "import psutil\n",
    "\n",
    "import matplotlib\n",
    "import matplotlib.pyplot as plt\n",
    "import numpy as np\n",
    "import xarray as xr\n",
    "import pandas as pd\n",
    "from pprint import pprint\n",
    "import datetime as dt\n",
    "\n",
    "\n",
    "from matplotlib.colors import LogNorm\n",
    "from matplotlib.gridspec import GridSpec\n",
    "import cartopy.crs as ccrs\n",
    "\n",
    "import datetime as dt\n",
    "import re\n",
    "import gc\n",
    "import matplotlib.animation as animation\n",
    "import warnings\n",
    "import pickle\n",
    "from scipy.interpolate import interp1d\n",
    "\n",
    "\n",
    "#-- Own settings\n",
    "\n",
    "from settings import *\n",
    "\n",
    "## current script object\n",
    "thismodule = sys.modules[__name__]\n",
    "workdir = os.getcwd()\n",
    "# Add own module library to path\n",
    "moduledir, fcndir = defineDir(workdir)\n",
    "\n",
    "# load own libraries\n",
    "from conditionalstats import *\n",
    "from conditionalstats_chunked import *\n",
    "from plot1D import *\n",
    "\n",
    "# own DYAMOND functions\n",
    "from fcns_load_DYAMOND_SAM import *\n",
    "# own TOOCAN functions\n",
    "from load_TOOCAN_DYAMOND_modif_BF import load_TOOCAN_DYAMOND"
   ]
  },
  {
   "cell_type": "markdown",
   "id": "fe9badc4-4020-49c3-9252-fc60b99459db",
   "metadata": {},
   "source": [
    "# Pacific ITCZ"
   ]
  },
  {
   "cell_type": "markdown",
   "id": "08e07152-a6b6-405e-a26e-b93cbaf9de52",
   "metadata": {},
   "source": [
    "1. Distribution de pluie (au cours du temps)\n",
    "2. Distribution de pluie conditionnée (à TOOCAN, en fonction du temps)\n",
    "3. Pente des distributions\n",
    "4. Fréquence d'occurrence des systèmes (en fonction du temps)\n",
    "5. "
   ]
  },
  {
   "cell_type": "code",
   "execution_count": 5,
   "id": "5086d31b-09e8-4d2e-8e13-0bd6d72664fd",
   "metadata": {},
   "outputs": [],
   "source": [
    "path_dy = '/data/bfildier/DYAMOND_REGIONS/205E_250E_0N_20N/SAM/'\n",
    "path_dy_2D = os.path.join(path_dy,'2D')"
   ]
  },
  {
   "cell_type": "code",
   "execution_count": 24,
   "id": "1d1a558e-a5e0-4327-8c72-fbc07e646420",
   "metadata": {},
   "outputs": [],
   "source": [
    "regions = [regionNameFromCoord(box) for box in [box_1,box_2,box_3]]+['tropics']\n",
    "masks = ['all','TOOCAN','PW_40']\n",
    "varids = 'pr','PW'\n",
    "varids_DY = 'Prec','PW'\n",
    "i_t_0 = 832\n",
    "i_t_end = 1917"
   ]
  },
  {
   "cell_type": "code",
   "execution_count": 30,
   "id": "acc5c8dc-8217-4a20-b01a-314f11f6d33c",
   "metadata": {},
   "outputs": [
    {
     "name": "stdout",
     "output_type": "stream",
     "text": [
      "310E_340E_0N_20N pr all\n",
      "832..900..1000..1100..1200..1300..1400..1500..1600..1700..1800..1900..1917..\n",
      "310E_340E_0N_20N pr TOOCAN\n",
      "832..900..1000..1100..1200..1300..1400..1500..1600..1700..1800..1900..1917..\n",
      "310E_340E_0N_20N pr PW_40\n",
      "832..900..1000..1100..1200..1300..1400..1500..1600..1700..1800..1900..1917..\n",
      "310E_340E_0N_20N PW all\n",
      "832..900..1000..1100..1200..1300..1400..1500..1600..1700..1800..1900..1917..\n",
      "310E_340E_0N_20N PW TOOCAN\n",
      "832..900..1000..1100..1200..1300..1400..1500..1600..1700..1800..1900..1917..\n",
      "310E_340E_0N_20N PW PW_40\n",
      "832..900..1000..1100..1200..1300..1400..1500..1600..1700..1800..1900..1917..\n",
      "205E_250E_0N_20N pr all\n",
      "832..900..1000..1100..1200..1300..1400..1500..1600..1700..1800..1900..1917..\n",
      "205E_250E_0N_20N pr TOOCAN\n",
      "832..900..1000..1100..1200..1300..1400..1500..1600..1700..1800..1900..1917..\n",
      "205E_250E_0N_20N pr PW_40\n",
      "832..900..1000..1100..1200..1300..1400..1500..1600..1700..1800..1900..1917..\n",
      "205E_250E_0N_20N PW all\n",
      "832..900..1000..1100..1200..1300..1400..1500..1600..1700..1800..1900..1917..\n",
      "205E_250E_0N_20N PW TOOCAN\n",
      "832..900..1000..1100..1200..1300..1400..1500..1600..1700..1800..1900..1917..\n",
      "205E_250E_0N_20N PW PW_40\n",
      "832..900..1000..1100..1200..1300..1400..1500..1600..1700..1800..1900..1917..\n",
      "130E_165E_0N_20N pr all\n",
      "832..900..1000..1100..1200..1300..1400..1500..1600..1700..1800..1900..1917..\n",
      "130E_165E_0N_20N pr TOOCAN\n",
      "832..900..1000..1100..1200..1300..1400..1500..1600..1700..1800..1900..1917..\n",
      "130E_165E_0N_20N pr PW_40\n",
      "832..900..1000..1100..1200..1300..1400..1500..1600..1700..1800..1900..1917..\n",
      "130E_165E_0N_20N PW all\n",
      "832..900..1000..1100..1200..1300..1400..1500..1600..1700..1800..1900..1917..\n",
      "130E_165E_0N_20N PW TOOCAN\n",
      "832..900..1000..1100..1200..1300..1400..1500..1600..1700..1800..1900..1917..\n",
      "130E_165E_0N_20N PW PW_40\n",
      "832..900..1000..1100..1200..1300..1400..1500..1600..1700..1800..1900..1917..\n",
      "tropics pr all\n",
      "832..900..1000..1100..1200..1300..1400..1500..1600..1700..1800..1900..1917..\n",
      "tropics pr TOOCAN\n",
      "832..900..1000..1100..1200..1300..1400..1500..1600..1700..1800..1900..1917..\n",
      "tropics pr PW_40\n",
      "832..900..1000..1100..1200..1300..1400..1500..1600..1700..1800..1900..1917..\n",
      "tropics PW all\n",
      "832..900..1000..1100..1200..1300..1400..1500..1600..1700..1800..1900..1917..\n",
      "tropics PW TOOCAN\n",
      "832..900..1000..1100..1200..1300..1400..1500..1600..1700..1800..1900..1917..\n",
      "tropics PW PW_40\n",
      "832..900..1000..1100..1200..1300..1400..1500..1600..1700..1800..1900..1917..\n"
     ]
    }
   ],
   "source": [
    "# Load precomputed distributions\n",
    "\n",
    "dict_distribs = {}\n",
    "\n",
    "for region in regions:\n",
    "    \n",
    "    # init\n",
    "    dict_distribs[region] = {}\n",
    "\n",
    "    for varid,varid_DY in zip(varids,varids_DY):\n",
    "\n",
    "        # init\n",
    "        dict_distribs[region][varid] = {}\n",
    "        \n",
    "        for mask in masks:\n",
    "            \n",
    "            print(region,varid,mask)\n",
    "            \n",
    "            # init\n",
    "            dict_distribs[region][varid][mask] = {}\n",
    "            \n",
    "            for i_t in np.arange(i_t_0,i_t_end+1):\n",
    "                \n",
    "                if i_t%100 == 0 or i_t in [i_t_0,i_t_end]:\n",
    "                    print(i_t,end='..')\n",
    "                \n",
    "                filename = '../results/%s/%s/%s/time_slices/dist_%s_t_%d.pickle'%(region,varid_DY,mask,varid,i_t)\n",
    "\n",
    "                # load if exists\n",
    "                if len(glob.glob(filename)) > 0:\n",
    "                    \n",
    "                    dict_distribs[region][varid][mask][i_t] = pickle.load(open(filename,'rb'))\n",
    "                \n",
    "            print()"
   ]
  },
  {
   "cell_type": "code",
   "execution_count": null,
   "id": "30c9c52b-a7c7-4c82-b4c1-0fa572c3394e",
   "metadata": {},
   "outputs": [],
   "source": [
    "# Compute full distributions\n",
    "\n"
   ]
  },
  {
   "cell_type": "code",
   "execution_count": 31,
   "id": "b76d1ffc-6937-41e8-8ff3-1b61f5935b2b",
   "metadata": {},
   "outputs": [],
   "source": [
    "# Calculate distribution slopes\n"
   ]
  },
  {
   "cell_type": "code",
   "execution_count": 11,
   "id": "2a2587d1-c4a5-4ba7-8dc8-8f7ea668c572",
   "metadata": {},
   "outputs": [
    {
     "name": "stdout",
     "output_type": "stream",
     "text": [
      "[0.00000000e+00 0.00000000e+00 0.00000000e+00 0.00000000e+00\n",
      " 0.00000000e+00 0.00000000e+00 0.00000000e+00 0.00000000e+00\n",
      " 0.00000000e+00 0.00000000e+00 0.00000000e+00 4.09393311e-02\n",
      " 4.09545898e-02 1.22817993e-01 2.04711914e-01 4.09393311e-01\n",
      " 6.95975304e-01 1.10536194e+00 1.63760376e+00 2.37451172e+00\n",
      " 3.31613159e+00 4.42150879e+00 5.81344604e+00 7.20541382e+00\n",
      " 8.76107788e+00 1.02741420e+01 1.19544373e+01 1.36329346e+01\n",
      " 1.52705383e+01 1.67853014e+01 1.83410187e+01 1.99376831e+01\n",
      " 2.16571193e+01 2.33294712e+01 2.51779441e+01 2.62377836e+01\n",
      " 2.75568396e+01 2.92257544e+01 3.03363777e+01 3.24550516e+01\n",
      " 3.38429768e+01 3.52572837e+01 3.61660069e+01 3.71361640e+01\n",
      " 3.81007354e+01 3.90368318e+01 3.94768882e+01 4.14782397e+01\n",
      " 4.25433793e+01 4.39013030e+01 4.45229441e+01 4.54758926e+01]\n",
      "[ 0.          0.          0.          0.          0.          0.08187866\n",
      "  0.28657532  0.6550293   1.18722534  1.84225464  2.74298096  3.84835815\n",
      "  5.19934082  6.83694458  8.39267136  9.97010081 11.66784668 13.42827744\n",
      " 15.06585693 16.81694178 18.38195801 20.13841188 21.67748149 23.26697608\n",
      " 24.86728981 26.26937158 27.7579831  29.39303849 30.28374373 32.54245929\n",
      " 35.11418115 36.0507645  36.79051094 37.73818093 38.74877534 39.41585136\n",
      " 40.89566346 42.14145556 42.4383249 ]\n"
     ]
    }
   ],
   "source": []
  },
  {
   "cell_type": "code",
   "execution_count": null,
   "id": "f670c5ed-7b2b-421c-93a6-67242ceeb170",
   "metadata": {},
   "outputs": [],
   "source": []
  }
 ],
 "metadata": {
  "kernelspec": {
   "display_name": "Python 3 (ipykernel)",
   "language": "python",
   "name": "python3"
  },
  "language_info": {
   "codemirror_mode": {
    "name": "ipython",
    "version": 3
   },
   "file_extension": ".py",
   "mimetype": "text/x-python",
   "name": "python",
   "nbconvert_exporter": "python",
   "pygments_lexer": "ipython3",
   "version": "3.8.13"
  }
 },
 "nbformat": 4,
 "nbformat_minor": 5
}
