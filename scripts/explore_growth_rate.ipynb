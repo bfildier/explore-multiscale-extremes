{
 "cells": [
  {
   "cell_type": "code",
   "execution_count": 1,
   "id": "108ed474-1302-4786-9991-23f13bb9e6b8",
   "metadata": {},
   "outputs": [],
   "source": [
    "%load_ext autoreload\n",
    "%matplotlib inline"
   ]
  },
  {
   "cell_type": "code",
   "execution_count": 2,
   "id": "0c493754-8992-43bd-a3e8-0bfe4e423906",
   "metadata": {},
   "outputs": [],
   "source": [
    "%autoreload 2\n",
    "\n",
    "import sys,os,glob\n",
    "import psutil\n",
    "\n",
    "import matplotlib\n",
    "import matplotlib.pyplot as plt\n",
    "import numpy as np\n",
    "import xarray as xr\n",
    "import pandas as pd\n",
    "from pprint import pprint\n",
    "\n",
    "from matplotlib.colors import LogNorm\n",
    "from matplotlib.gridspec import GridSpec\n",
    "import cartopy.crs as ccrs\n",
    "\n",
    "import datetime as dt\n",
    "import re\n",
    "import gc\n",
    "import matplotlib.animation as animation\n",
    "import warnings\n",
    "\n",
    "## load TOOCAN\n",
    "from load_TOOCAN_DYAMOND_modif import load_TOOCAN_DYAMOND\n",
    "\n",
    "## current script object\n",
    "thismodule = sys.modules[__name__]\n",
    "\n",
    "# ## Graphical parameters\n",
    "# plt.style.use(os.path.join(matplotlib.get_configdir(),'stylelib/presentation.mplstyle'))"
   ]
  },
  {
   "cell_type": "code",
   "execution_count": 3,
   "id": "78ce2063-76a5-4baa-b254-6a01ddda7dd9",
   "metadata": {},
   "outputs": [],
   "source": [
    "DIR_DYAMOND = '/bdd/DYAMOND/SAM-4km/OUT_2D'\n",
    "DIR_DATA = '../input'\n",
    "DIR_FIG = '../figures'"
   ]
  },
  {
   "cell_type": "code",
   "execution_count": 4,
   "id": "d68447f9-d389-448c-873a-c8a647eee32f",
   "metadata": {},
   "outputs": [],
   "source": [
    "# relation table DYAMOND - segmentation TOOCAN\n",
    "df = pd.read_csv(os.path.join(DIR_DATA,'relation_2_table_UTC_dyamond_segmentation.csv'))\n",
    "df.sort_values(by='UTC',ignore_index=True,inplace=True)"
   ]
  },
  {
   "cell_type": "code",
   "execution_count": null,
   "id": "6ff6ef9e-b4ee-49e5-a439-2b9ae0a2ff30",
   "metadata": {},
   "outputs": [],
   "source": []
  },
  {
   "cell_type": "code",
   "execution_count": 7,
   "id": "05ae91f5-d6c3-4f3c-af47-6a383d40bfeb",
   "metadata": {},
   "outputs": [],
   "source": [
    "# an arbitrary time step\n",
    "i_t = 898\n",
    "\n",
    "root_DYAMOND = df.iloc[i_t]['path_dyamond']\n",
    "file_W_DYAMOND = root_DYAMOND+'_W.nc'\n",
    "file_Precac_DYAMOND = root_DYAMOND+'.Precac.2D.nc'\n",
    "path_segTOOCAN = '/'+df.iloc[i_t]['img_seg_path']"
   ]
  },
  {
   "cell_type": "code",
   "execution_count": 8,
   "id": "89ba76b1-39c8-44c2-9ce7-8d7bbbca6019",
   "metadata": {},
   "outputs": [],
   "source": [
    "#! ls /bdd/DYAMOND/SAM-4km/OUT_2D"
   ]
  },
  {
   "cell_type": "code",
   "execution_count": 9,
   "id": "b5c44558-4958-4a7c-8219-00f179d0a3e6",
   "metadata": {},
   "outputs": [
    {
     "data": {
      "text/plain": [
       "'DYAMOND_9216x4608x74_7.5s_4km_4608_0000216240_W.nc'"
      ]
     },
     "execution_count": 9,
     "metadata": {},
     "output_type": "execute_result"
    }
   ],
   "source": [
    "file_W_DYAMOND"
   ]
  },
  {
   "cell_type": "code",
   "execution_count": 11,
   "id": "4d1347e2-ad5b-4cfe-acaa-3caf1ccf0e2e",
   "metadata": {},
   "outputs": [],
   "source": [
    "path_TOOCAN = '/data/fiolleau/DYAMOND/TOOCAN/TOOCAN_v2.07_olr/GLOBAL/2016/FileTracking/TOOCAN-GLOBAL-20160801-20160831.dat.gz'"
   ]
  },
  {
   "cell_type": "code",
   "execution_count": 12,
   "id": "489eeb37-63db-410d-9e46-6162b84bcef7",
   "metadata": {},
   "outputs": [
    {
     "name": "stdout",
     "output_type": "stream",
     "text": [
      "/data/fiolleau/DYAMOND/TOOCAN/TOOCAN_v2.07_olr/GLOBAL/2016/FileTracking/TOOCAN-GLOBAL-20160801-20160831.dat.gz\n",
      "b'       1         171.00         171.72           0.00           0.00         171.10    17045.28  17045.7922   82.69  -54.94    2116       1       15.41           1.79           4.38           0.41          90.00           0.00           0.00           0.00           0.00              5              0          80.00           0.00           0.00           0.00\\n' ['1', '171.00', '171.72', '0.00', '0.00', '171.10', '17045.28', '17045.7922', '82.69', '-54.94', '2116', '1', '15.41', '1.79', '4.38', '0.41', '90.00', '0.00', '0.00', '0.00', '0.00', '5', '0', '80.00', '0.00', '0.00', '0.00']\n"
     ]
    },
    {
     "ename": "IndexError",
     "evalue": "list index out of range",
     "output_type": "error",
     "traceback": [
      "\u001b[0;31m---------------------------------------------------------------------------\u001b[0m",
      "\u001b[0;31mIndexError\u001b[0m                                Traceback (most recent call last)",
      "Cell \u001b[0;32mIn[12], line 1\u001b[0m\n\u001b[0;32m----> 1\u001b[0m mcs_objs \u001b[38;5;241m=\u001b[39m \u001b[43mload_TOOCAN_DYAMOND\u001b[49m\u001b[43m(\u001b[49m\u001b[43mpath_TOOCAN\u001b[49m\u001b[43m)\u001b[49m\n",
      "File \u001b[0;32m~/analyses/explore-multiscale-extremes/scripts/load_TOOCAN_DYAMOND_modif.py:209\u001b[0m, in \u001b[0;36mload_TOOCAN_DYAMOND\u001b[0;34m(FileTOOCAN)\u001b[0m\n\u001b[1;32m    207\u001b[0m data[iMCS].clusters.qc_im.append(int(Values[0]))\t    \t\t\t# quality control on the Infrared image\n\u001b[1;32m    208\u001b[0m data[iMCS].clusters.olrmin.append(float(Values[1]))\t    \t\t\t# min brightness temperature of the convective system at day TU (K)\n\u001b[0;32m--> 209\u001b[0m data[iMCS].clusters.olravg_172Wm2.append(float(Values[2]))\t    \t\t\t#  average brightness temperature of the convective system at day TU (K) \n\u001b[1;32m    210\u001b[0m data[iMCS].clusters.olravg_110Wm2.append(float(Values[3]))            #  min brightness temperature of the convective system at day TU (K)\n\u001b[1;32m    211\u001b[0m data[iMCS].clusters.olravg_90Wm2.append(float(Values[4]))\t    \t#  min brightness temperature of the convective system at day TU (K)\n",
      "\u001b[0;31mIndexError\u001b[0m: list index out of range"
     ]
    }
   ],
   "source": [
    "mcs_objs = load_TOOCAN_DYAMOND(path_TOOCAN)"
   ]
  },
  {
   "cell_type": "code",
   "execution_count": null,
   "id": "5343bf02-4042-49d7-8a83-b0f18b0fbc8c",
   "metadata": {},
   "outputs": [],
   "source": []
  }
 ],
 "metadata": {
  "kernelspec": {
   "display_name": "Python 3 (ipykernel)",
   "language": "python",
   "name": "python3"
  },
  "language_info": {
   "codemirror_mode": {
    "name": "ipython",
    "version": 3
   },
   "file_extension": ".py",
   "mimetype": "text/x-python",
   "name": "python",
   "nbconvert_exporter": "python",
   "pygments_lexer": "ipython3",
   "version": "3.8.13"
  }
 },
 "nbformat": 4,
 "nbformat_minor": 5
}
