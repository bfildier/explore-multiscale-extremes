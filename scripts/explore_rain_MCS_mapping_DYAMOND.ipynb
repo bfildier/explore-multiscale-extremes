{
 "cells": [
  {
   "cell_type": "code",
   "execution_count": 2,
   "id": "918d51ee-61aa-4806-bfdf-f00a7b65f19d",
   "metadata": {},
   "outputs": [
    {
     "name": "stdout",
     "output_type": "stream",
     "text": [
      "The autoreload extension is already loaded. To reload it, use:\n",
      "  %reload_ext autoreload\n"
     ]
    }
   ],
   "source": [
    "%load_ext autoreload\n",
    "%matplotlib inline"
   ]
  },
  {
   "cell_type": "code",
   "execution_count": 49,
   "id": "9e64edbe-11c2-4361-a138-0eaaa34984c1",
   "metadata": {},
   "outputs": [
    {
     "name": "stdout",
     "output_type": "stream",
     "text": [
      "Own modules available: ['casestudy', 'conditionalstats', 'conditionalstats_chunked', 'lifecycle_mapping', 'plot1D', 'plot2D', 'plotCondPDFs']\n",
      "Own modules available: ['PrecipGrid', 'fcns_load_DYAMOND_SAM', 'fcns_load_RCEMIP_SAM', 'fcns_movie', 'fcns_multiscale_extremes', 'load_TOOCAN_DYAMOND', 'load_TOOCAN_DYAMOND_modif', 'load_TOOCAN_DYAMOND_modif_BF', 'fcns_load_DYAMOND_SAM_Tb_Feng']\n"
     ]
    }
   ],
   "source": [
    "%autoreload 2\n",
    "\n",
    "import sys,os,glob\n",
    "import psutil\n",
    "\n",
    "import matplotlib\n",
    "import matplotlib.pyplot as plt\n",
    "import numpy as np\n",
    "import xarray as xr\n",
    "import pandas as pd\n",
    "from pprint import pprint\n",
    "from skimage import measure\n",
    "\n",
    "from matplotlib.colors import LogNorm\n",
    "from matplotlib.gridspec import GridSpec\n",
    "from matplotlib.patches import Rectangle\n",
    "import cartopy.crs as ccrs\n",
    "from datetime import datetime as dt\n",
    "import pickle\n",
    "\n",
    "import datetime as dt\n",
    "import re\n",
    "import gc\n",
    "import matplotlib.animation as animation\n",
    "import warnings\n",
    "\n",
    "## current script object\n",
    "thismodule = sys.modules[__name__]\n",
    "\n",
    "# Own settings\n",
    "from settings import *\n",
    "\n",
    "workdir = os.getcwd()\n",
    "moduledir, fcndir = defineDir(workdir)"
   ]
  },
  {
   "cell_type": "code",
   "execution_count": 4,
   "id": "9fc1f1bd-85a1-4ac5-9f11-25e6d76be497",
   "metadata": {},
   "outputs": [],
   "source": [
    "%autoreload 2\n",
    "\n",
    "# to access segmentation files and simulation outputs\n",
    "from fcns_load_DYAMOND_SAM import *\n",
    "from fcns_load_DYAMOND_SAM_Tb_Feng import *\n",
    "# display functions\n",
    "from fcns_movie import *\n",
    "# plotting\n",
    "from plot1D import *"
   ]
  },
  {
   "cell_type": "code",
   "execution_count": 5,
   "id": "da66311a-f4c6-41b2-9977-c9353c44e4d1",
   "metadata": {},
   "outputs": [],
   "source": [
    "df = pd.read_csv(os.path.join(DIR_DATA,'relation_2_table_UTC_dyamond_segmentation.csv'))\n",
    "df.sort_values(by='UTC',ignore_index=True,inplace=True)"
   ]
  },
  {
   "cell_type": "code",
   "execution_count": 18,
   "id": "538ee26b-ce24-47b2-867d-d913ddc5241c",
   "metadata": {},
   "outputs": [
    {
     "data": {
      "text/html": [
       "<div>\n",
       "<style scoped>\n",
       "    .dataframe tbody tr th:only-of-type {\n",
       "        vertical-align: middle;\n",
       "    }\n",
       "\n",
       "    .dataframe tbody tr th {\n",
       "        vertical-align: top;\n",
       "    }\n",
       "\n",
       "    .dataframe thead th {\n",
       "        text-align: right;\n",
       "    }\n",
       "</style>\n",
       "<table border=\"1\" class=\"dataframe\">\n",
       "  <thead>\n",
       "    <tr style=\"text-align: right;\">\n",
       "      <th></th>\n",
       "      <th>Unnamed: 0</th>\n",
       "      <th>Unnamed: 0.4</th>\n",
       "      <th>Unnamed: 0.3</th>\n",
       "      <th>Unnamed: 0.2</th>\n",
       "      <th>img_seg_path</th>\n",
       "      <th>str_code</th>\n",
       "      <th>Unnamed: 0.1</th>\n",
       "      <th>Unnamed: 0.1.1</th>\n",
       "      <th>year</th>\n",
       "      <th>month</th>\n",
       "      <th>day</th>\n",
       "      <th>hour</th>\n",
       "      <th>minute</th>\n",
       "      <th>path_dyamond</th>\n",
       "      <th>UTC</th>\n",
       "    </tr>\n",
       "  </thead>\n",
       "  <tbody>\n",
       "    <tr>\n",
       "      <th>0</th>\n",
       "      <td>476</td>\n",
       "      <td>476.0</td>\n",
       "      <td>476.0</td>\n",
       "      <td>476.0</td>\n",
       "      <td>data/fiolleau/DYAMOND/TOOCAN/TOOCAN_v2.07/GLOB...</td>\n",
       "      <td>2016-8-1-1-30</td>\n",
       "      <td>2.0</td>\n",
       "      <td>2.0</td>\n",
       "      <td>2016.0</td>\n",
       "      <td>8.0</td>\n",
       "      <td>1.0</td>\n",
       "      <td>1.0</td>\n",
       "      <td>30.0</td>\n",
       "      <td>DYAMOND_9216x4608x74_7.5s_4km_4608_0000000720</td>\n",
       "      <td>17014.03</td>\n",
       "    </tr>\n",
       "    <tr>\n",
       "      <th>1</th>\n",
       "      <td>443</td>\n",
       "      <td>443.0</td>\n",
       "      <td>443.0</td>\n",
       "      <td>443.0</td>\n",
       "      <td>data/fiolleau/DYAMOND/TOOCAN/TOOCAN_v2.07/GLOB...</td>\n",
       "      <td>2016-8-1-2-0</td>\n",
       "      <td>3.0</td>\n",
       "      <td>3.0</td>\n",
       "      <td>2016.0</td>\n",
       "      <td>8.0</td>\n",
       "      <td>1.0</td>\n",
       "      <td>2.0</td>\n",
       "      <td>0.0</td>\n",
       "      <td>DYAMOND_9216x4608x74_7.5s_4km_4608_0000000960</td>\n",
       "      <td>17014.04</td>\n",
       "    </tr>\n",
       "    <tr>\n",
       "      <th>2</th>\n",
       "      <td>468</td>\n",
       "      <td>468.0</td>\n",
       "      <td>468.0</td>\n",
       "      <td>468.0</td>\n",
       "      <td>data/fiolleau/DYAMOND/TOOCAN/TOOCAN_v2.07/GLOB...</td>\n",
       "      <td>2016-8-1-2-30</td>\n",
       "      <td>4.0</td>\n",
       "      <td>4.0</td>\n",
       "      <td>2016.0</td>\n",
       "      <td>8.0</td>\n",
       "      <td>1.0</td>\n",
       "      <td>2.0</td>\n",
       "      <td>30.0</td>\n",
       "      <td>DYAMOND_9216x4608x74_7.5s_4km_4608_0000001200</td>\n",
       "      <td>17014.05</td>\n",
       "    </tr>\n",
       "    <tr>\n",
       "      <th>3</th>\n",
       "      <td>432</td>\n",
       "      <td>432.0</td>\n",
       "      <td>432.0</td>\n",
       "      <td>432.0</td>\n",
       "      <td>data/fiolleau/DYAMOND/TOOCAN/TOOCAN_v2.07/GLOB...</td>\n",
       "      <td>2016-8-1-3-0</td>\n",
       "      <td>5.0</td>\n",
       "      <td>5.0</td>\n",
       "      <td>2016.0</td>\n",
       "      <td>8.0</td>\n",
       "      <td>1.0</td>\n",
       "      <td>3.0</td>\n",
       "      <td>0.0</td>\n",
       "      <td>DYAMOND_9216x4608x74_7.5s_4km_4608_0000001440</td>\n",
       "      <td>17014.06</td>\n",
       "    </tr>\n",
       "    <tr>\n",
       "      <th>4</th>\n",
       "      <td>437</td>\n",
       "      <td>437.0</td>\n",
       "      <td>437.0</td>\n",
       "      <td>437.0</td>\n",
       "      <td>data/fiolleau/DYAMOND/TOOCAN/TOOCAN_v2.07/GLOB...</td>\n",
       "      <td>2016-8-1-3-30</td>\n",
       "      <td>6.0</td>\n",
       "      <td>6.0</td>\n",
       "      <td>2016.0</td>\n",
       "      <td>8.0</td>\n",
       "      <td>1.0</td>\n",
       "      <td>3.0</td>\n",
       "      <td>30.0</td>\n",
       "      <td>DYAMOND_9216x4608x74_7.5s_4km_4608_0000001680</td>\n",
       "      <td>17014.07</td>\n",
       "    </tr>\n",
       "    <tr>\n",
       "      <th>...</th>\n",
       "      <td>...</td>\n",
       "      <td>...</td>\n",
       "      <td>...</td>\n",
       "      <td>...</td>\n",
       "      <td>...</td>\n",
       "      <td>...</td>\n",
       "      <td>...</td>\n",
       "      <td>...</td>\n",
       "      <td>...</td>\n",
       "      <td>...</td>\n",
       "      <td>...</td>\n",
       "      <td>...</td>\n",
       "      <td>...</td>\n",
       "      <td>...</td>\n",
       "      <td>...</td>\n",
       "    </tr>\n",
       "    <tr>\n",
       "      <th>1914</th>\n",
       "      <td>1295</td>\n",
       "      <td>1295.0</td>\n",
       "      <td>1295.0</td>\n",
       "      <td>1295.0</td>\n",
       "      <td>data/fiolleau/DYAMOND/TOOCAN/TOOCAN_v2.07/GLOB...</td>\n",
       "      <td>2016-9-9-22-30</td>\n",
       "      <td>1916.0</td>\n",
       "      <td>1916.0</td>\n",
       "      <td>2016.0</td>\n",
       "      <td>9.0</td>\n",
       "      <td>9.0</td>\n",
       "      <td>22.0</td>\n",
       "      <td>30.0</td>\n",
       "      <td>DYAMOND_9216x4608x74_7.5s_4km_4608_0000460080</td>\n",
       "      <td>17053.45</td>\n",
       "    </tr>\n",
       "    <tr>\n",
       "      <th>1915</th>\n",
       "      <td>1315</td>\n",
       "      <td>1315.0</td>\n",
       "      <td>1315.0</td>\n",
       "      <td>1315.0</td>\n",
       "      <td>data/fiolleau/DYAMOND/TOOCAN/TOOCAN_v2.07/GLOB...</td>\n",
       "      <td>2016-9-9-23-0</td>\n",
       "      <td>1917.0</td>\n",
       "      <td>1917.0</td>\n",
       "      <td>2016.0</td>\n",
       "      <td>9.0</td>\n",
       "      <td>9.0</td>\n",
       "      <td>23.0</td>\n",
       "      <td>0.0</td>\n",
       "      <td>DYAMOND_9216x4608x74_7.5s_4km_4608_0000460320</td>\n",
       "      <td>17053.46</td>\n",
       "    </tr>\n",
       "    <tr>\n",
       "      <th>1916</th>\n",
       "      <td>1313</td>\n",
       "      <td>1313.0</td>\n",
       "      <td>1313.0</td>\n",
       "      <td>1313.0</td>\n",
       "      <td>data/fiolleau/DYAMOND/TOOCAN/TOOCAN_v2.07/GLOB...</td>\n",
       "      <td>2016-9-9-23-30</td>\n",
       "      <td>1918.0</td>\n",
       "      <td>1918.0</td>\n",
       "      <td>2016.0</td>\n",
       "      <td>9.0</td>\n",
       "      <td>9.0</td>\n",
       "      <td>23.0</td>\n",
       "      <td>30.0</td>\n",
       "      <td>DYAMOND_9216x4608x74_7.5s_4km_4608_0000460560</td>\n",
       "      <td>17053.47</td>\n",
       "    </tr>\n",
       "    <tr>\n",
       "      <th>1917</th>\n",
       "      <td>1304</td>\n",
       "      <td>1304.0</td>\n",
       "      <td>1304.0</td>\n",
       "      <td>1304.0</td>\n",
       "      <td>data/fiolleau/DYAMOND/TOOCAN/TOOCAN_v2.07/GLOB...</td>\n",
       "      <td>2016-9-10-0-0</td>\n",
       "      <td>1919.0</td>\n",
       "      <td>1919.0</td>\n",
       "      <td>2016.0</td>\n",
       "      <td>9.0</td>\n",
       "      <td>10.0</td>\n",
       "      <td>0.0</td>\n",
       "      <td>0.0</td>\n",
       "      <td>DYAMOND_9216x4608x74_7.5s_4km_4608_0000460800</td>\n",
       "      <td>17053.48</td>\n",
       "    </tr>\n",
       "    <tr>\n",
       "      <th>1918</th>\n",
       "      <td>1919</td>\n",
       "      <td>NaN</td>\n",
       "      <td>NaN</td>\n",
       "      <td>NaN</td>\n",
       "      <td>NaN</td>\n",
       "      <td>NaN</td>\n",
       "      <td>NaN</td>\n",
       "      <td>NaN</td>\n",
       "      <td>NaN</td>\n",
       "      <td>NaN</td>\n",
       "      <td>NaN</td>\n",
       "      <td>NaN</td>\n",
       "      <td>NaN</td>\n",
       "      <td>NaN</td>\n",
       "      <td>17054.01</td>\n",
       "    </tr>\n",
       "  </tbody>\n",
       "</table>\n",
       "<p>1919 rows × 15 columns</p>\n",
       "</div>"
      ],
      "text/plain": [
       "      Unnamed: 0  Unnamed: 0.4  Unnamed: 0.3  Unnamed: 0.2  \\\n",
       "0            476         476.0         476.0         476.0   \n",
       "1            443         443.0         443.0         443.0   \n",
       "2            468         468.0         468.0         468.0   \n",
       "3            432         432.0         432.0         432.0   \n",
       "4            437         437.0         437.0         437.0   \n",
       "...          ...           ...           ...           ...   \n",
       "1914        1295        1295.0        1295.0        1295.0   \n",
       "1915        1315        1315.0        1315.0        1315.0   \n",
       "1916        1313        1313.0        1313.0        1313.0   \n",
       "1917        1304        1304.0        1304.0        1304.0   \n",
       "1918        1919           NaN           NaN           NaN   \n",
       "\n",
       "                                           img_seg_path        str_code  \\\n",
       "0     data/fiolleau/DYAMOND/TOOCAN/TOOCAN_v2.07/GLOB...   2016-8-1-1-30   \n",
       "1     data/fiolleau/DYAMOND/TOOCAN/TOOCAN_v2.07/GLOB...    2016-8-1-2-0   \n",
       "2     data/fiolleau/DYAMOND/TOOCAN/TOOCAN_v2.07/GLOB...   2016-8-1-2-30   \n",
       "3     data/fiolleau/DYAMOND/TOOCAN/TOOCAN_v2.07/GLOB...    2016-8-1-3-0   \n",
       "4     data/fiolleau/DYAMOND/TOOCAN/TOOCAN_v2.07/GLOB...   2016-8-1-3-30   \n",
       "...                                                 ...             ...   \n",
       "1914  data/fiolleau/DYAMOND/TOOCAN/TOOCAN_v2.07/GLOB...  2016-9-9-22-30   \n",
       "1915  data/fiolleau/DYAMOND/TOOCAN/TOOCAN_v2.07/GLOB...   2016-9-9-23-0   \n",
       "1916  data/fiolleau/DYAMOND/TOOCAN/TOOCAN_v2.07/GLOB...  2016-9-9-23-30   \n",
       "1917  data/fiolleau/DYAMOND/TOOCAN/TOOCAN_v2.07/GLOB...   2016-9-10-0-0   \n",
       "1918                                                NaN             NaN   \n",
       "\n",
       "      Unnamed: 0.1  Unnamed: 0.1.1    year  month   day  hour  minute  \\\n",
       "0              2.0             2.0  2016.0    8.0   1.0   1.0    30.0   \n",
       "1              3.0             3.0  2016.0    8.0   1.0   2.0     0.0   \n",
       "2              4.0             4.0  2016.0    8.0   1.0   2.0    30.0   \n",
       "3              5.0             5.0  2016.0    8.0   1.0   3.0     0.0   \n",
       "4              6.0             6.0  2016.0    8.0   1.0   3.0    30.0   \n",
       "...            ...             ...     ...    ...   ...   ...     ...   \n",
       "1914        1916.0          1916.0  2016.0    9.0   9.0  22.0    30.0   \n",
       "1915        1917.0          1917.0  2016.0    9.0   9.0  23.0     0.0   \n",
       "1916        1918.0          1918.0  2016.0    9.0   9.0  23.0    30.0   \n",
       "1917        1919.0          1919.0  2016.0    9.0  10.0   0.0     0.0   \n",
       "1918           NaN             NaN     NaN    NaN   NaN   NaN     NaN   \n",
       "\n",
       "                                       path_dyamond       UTC  \n",
       "0     DYAMOND_9216x4608x74_7.5s_4km_4608_0000000720  17014.03  \n",
       "1     DYAMOND_9216x4608x74_7.5s_4km_4608_0000000960  17014.04  \n",
       "2     DYAMOND_9216x4608x74_7.5s_4km_4608_0000001200  17014.05  \n",
       "3     DYAMOND_9216x4608x74_7.5s_4km_4608_0000001440  17014.06  \n",
       "4     DYAMOND_9216x4608x74_7.5s_4km_4608_0000001680  17014.07  \n",
       "...                                             ...       ...  \n",
       "1914  DYAMOND_9216x4608x74_7.5s_4km_4608_0000460080  17053.45  \n",
       "1915  DYAMOND_9216x4608x74_7.5s_4km_4608_0000460320  17053.46  \n",
       "1916  DYAMOND_9216x4608x74_7.5s_4km_4608_0000460560  17053.47  \n",
       "1917  DYAMOND_9216x4608x74_7.5s_4km_4608_0000460800  17053.48  \n",
       "1918                                            NaN  17054.01  \n",
       "\n",
       "[1919 rows x 15 columns]"
      ]
     },
     "execution_count": 18,
     "metadata": {},
     "output_type": "execute_result"
    }
   ],
   "source": [
    "df"
   ]
  },
  {
   "cell_type": "markdown",
   "id": "4984906c-ad1f-4ab7-9b83-8dabbbbe57f4",
   "metadata": {},
   "source": [
    "## Check relation table has correct matching"
   ]
  },
  {
   "cell_type": "markdown",
   "id": "84f0a03e-3975-4cb8-87e3-d1702af57e89",
   "metadata": {},
   "source": [
    "It appears"
   ]
  },
  {
   "cell_type": "code",
   "execution_count": 61,
   "id": "1fbc2428-ecfd-43e7-98b4-2d46f48735df",
   "metadata": {},
   "outputs": [],
   "source": [
    "# exmaple index\n",
    "i_ex = 93"
   ]
  },
  {
   "cell_type": "code",
   "execution_count": 62,
   "id": "d24202ba-a5a6-4c84-b32e-d619b8346194",
   "metadata": {},
   "outputs": [
    {
     "name": "stdout",
     "output_type": "stream",
     "text": [
      "2016-8-3-0-0\n"
     ]
    },
    {
     "data": {
      "text/plain": [
       "(None,\n",
       " 'data/fiolleau/DYAMOND/TOOCAN/TOOCAN_v2.07/GLOBAL/2016/2016_08_02/ImageSegTOOCAN_20160802-48.nc',\n",
       " 'DYAMOND_9216x4608x74_7.5s_4km_4608_0000023040')"
      ]
     },
     "execution_count": 62,
     "metadata": {},
     "output_type": "execute_result"
    }
   ],
   "source": [
    "print(df.iloc[i_ex].str_code), df.iloc[i_ex].img_seg_path, df.iloc[i_ex].path_dyamond"
   ]
  },
  {
   "cell_type": "code",
   "execution_count": 63,
   "id": "a0e8df4d-fba1-489c-8bfe-d10c105ea2a1",
   "metadata": {},
   "outputs": [
    {
     "name": "stdout",
     "output_type": "stream",
     "text": [
      "/bdd/DYAMOND/SAM-4km/OUT_2D/DYAMOND_9216x4608x74_7.5s_4km_4608_0000023040.Precac.2D.nc\n",
      "timestamp: 23040\n",
      "delta_t = 48.0\n"
     ]
    }
   ],
   "source": [
    "path_data = '/bdd/DYAMOND/SAM-4km/OUT_2D/%s.Precac.2D.nc'%df.iloc[i_ex].path_dyamond\n",
    "timestamp = int(df.iloc[i_ex].path_dyamond.split('_')[-1])\n",
    "delta_t = timestamp*7.5/3600\n",
    "print(path_data)\n",
    "print('timestamp:',timestamp)\n",
    "print('delta_t =',delta_t)"
   ]
  },
  {
   "cell_type": "code",
   "execution_count": 64,
   "id": "59dfb5ac-b907-4c0c-970d-fe5e5482a20e",
   "metadata": {},
   "outputs": [
    {
     "name": "stdout",
     "output_type": "stream",
     "text": [
      "2016-08-01 00:00:00\n",
      "2 days, 0:00:00\n",
      "2016-08-03 00:00:00\n"
     ]
    }
   ],
   "source": [
    "datetime_ref = dt.datetime(year=2016,month=8,day=1)\n",
    "print(datetime_ref)\n",
    "delta_time = dt.timedelta(hours=delta_t)\n",
    "print(delta_time)\n",
    "datetime_ex = datetime_ref + delta_time\n",
    "print(datetime_ex)"
   ]
  },
  {
   "cell_type": "code",
   "execution_count": 65,
   "id": "6c696800-903d-483c-824e-ae1a809e1f2d",
   "metadata": {},
   "outputs": [
    {
     "name": "stdout",
     "output_type": "stream",
     "text": [
      "netcdf DYAMOND_9216x4608x74_7.5s_4km_4608_0000024720.Precac.2D {\n",
      "dimensions:\n",
      "\ttime = UNLIMITED ; // (1 currently)\n",
      "\tlat = 4608 ;\n",
      "\tlon = 9216 ;\n",
      "variables:\n",
      "\tfloat Precac(time, lat, lon) ;\n",
      "\t\tPrecac:long_name = \"Surface Accum Precip.\" ;\n",
      "\t\tPrecac:units = \"mm\" ;\n",
      "\tfloat lat(lat) ;\n",
      "\t\tlat:units = \"degrees_north\" ;\n",
      "\tfloat lon(lon) ;\n",
      "\t\tlon:units = \"degrees_east\" ;\n",
      "\tfloat time(time) ;\n",
      "\t\ttime:units = \"day\" ;\n",
      "\t\ttime:long_name = \"time\" ;\n",
      "\n",
      "// global attributes:\n",
      "\t\t:history = \"Sat Jul 28 09:49:00 2018: ncks -v Precac /gpfs/p/unsb0007/SAM7.1_DYAMOND/OUT_2D/DYAMOND_9216x4608x74_7.5s_4km_4608_0000024720.2Dcom_001_0.nc /glade/scratch_new/marat/SAM7.1_DYAMOND/OUT_2D/DYAMOND_9216x4608x74_7.5s_4km_4608_0000024720.Precac.2D.nc\" ;\n",
      "\t\t:NCO = \"netCDF Operators version 4.7.4 (http://nco.sf.net)\" ;\n",
      "data:\n",
      "\n",
      " time = 216.1458 ;\n",
      "}\n"
     ]
    }
   ],
   "source": [
    "! ncdump -v time /bdd/DYAMOND/SAM-4km/OUT_2D/DYAMOND_9216x4608x74_7.5s_4km_4608_0000024720.Precac.2D.nc"
   ]
  },
  {
   "cell_type": "code",
   "execution_count": 70,
   "id": "5238b09f-de67-4037-8129-1f5eb90ce4c5",
   "metadata": {},
   "outputs": [
    {
     "name": "stdout",
     "output_type": "stream",
     "text": [
      "netcdf ImageSegTOOCAN_20160802-48 {\n",
      "dimensions:\n",
      "\tlatitude = 2072 ;\n",
      "\tlongitude = 9216 ;\n",
      "\ttime = UNLIMITED ; // (1 currently)\n",
      "variables:\n",
      "\tfloat MCS_label(time, latitude, longitude) ;\n",
      "\t\tMCS_label:units = \" \" ;\n",
      "\t\tMCS_label:standard_name = \"MCS_label\" ;\n",
      "\t\tMCS_label:long_name = \"MCS labellisation\" ;\n",
      "\t\tMCS_label:_FillValue = -998.f ;\n",
      "\t\tMCS_label:missing_value = -999.f ;\n",
      "\tfloat latitude(latitude) ;\n",
      "\t\tlatitude:units = \"degrees_north\" ;\n",
      "\t\tlatitude:long_name = \"latitude\" ;\n",
      "\tfloat longitude(longitude) ;\n",
      "\t\tlongitude:units = \"degrees_east\" ;\n",
      "\t\tlongitude:long_name = \"longitude\" ;\n",
      "\t\tlongitude:FlagDegEst = 0 ;\n",
      "\tdouble time(time) ;\n",
      "\t\ttime:standard_name = \"time\" ;\n",
      "\t\ttime:long_name = \"slot begin time\" ;\n",
      "\t\ttime:units = \"seconds since 1970-01-01 00:00:00 UTC\" ;\n",
      "\n",
      "// global attributes:\n",
      "\t\t:title = \"TOOCAN segmented images - Gridded data 04 km\" ;\n",
      "\t\t:image_time = \"2016-08-02-T23-30-00 UTC\" ;\n",
      "\t\t:slot_start_time = \"23-30-00 UTC\" ;\n",
      "\t\t:slot_end_time = \"00-00-00 UTC\" ;\n",
      "\t\t:platform = \"\" ;\n",
      "\t\t:channel = \"Infrared \" ;\n",
      "\t\t:nadir = \"sub satellite point longitude: 0.000000°\" ;\n",
      "\t\t:grid_resolution_in_degrees = 0.04f ;\n",
      "\t\t:version = \"\" ;\n",
      "data:\n",
      "\n",
      " time = 1470180600 ;\n",
      "}\n"
     ]
    }
   ],
   "source": [
    "! ncdump -v time /data/fiolleau/DYAMOND/TOOCAN/TOOCAN_v2.07/GLOBAL/2016/2016_08_02/ImageSegTOOCAN_20160802-48.nc"
   ]
  },
  {
   "cell_type": "code",
   "execution_count": 71,
   "id": "9f11ed32-f817-4453-a51c-3cc0f2f66ea6",
   "metadata": {},
   "outputs": [
    {
     "name": "stdout",
     "output_type": "stream",
     "text": [
      "1970-01-01 00:00:00\n",
      "17015 days, 23:30:00\n",
      "2016-08-02 23:30:00\n"
     ]
    }
   ],
   "source": [
    "datetime_base_ref = dt.datetime(year=1970,month=1,day=1)\n",
    "print(datetime_base_ref)\n",
    "# delta_time_seg = dt.timedelta(seconds = 1470193200)\n",
    "delta_time_seg = dt.timedelta(seconds = 1470180600)\n",
    "print(delta_time_seg)\n",
    "datetime_ex_seg = datetime_base_ref + delta_time_seg \n",
    "print(datetime_ex_seg)"
   ]
  },
  {
   "cell_type": "markdown",
   "id": "134f586d-b409-447b-92c8-79e079a721f9",
   "metadata": {},
   "source": [
    "# Goal: Compare old and new mask with a changed Tb threshold to detect MCSs"
   ]
  },
  {
   "cell_type": "markdown",
   "id": "9019f90d-9544-470f-a8de-75567d65b826",
   "metadata": {},
   "source": [
    "### Make new relation table (check that the relation table is correct)"
   ]
  },
  {
   "cell_type": "code",
   "execution_count": 16,
   "id": "e11a3e4e-f555-4bcf-ae60-44f79e6edd3f",
   "metadata": {},
   "outputs": [
    {
     "data": {
      "text/plain": [
       "'DYAMOND_9216x4608x74_7.5s_4km_4608_0000012000'"
      ]
     },
     "execution_count": 16,
     "metadata": {},
     "output_type": "execute_result"
    }
   ],
   "source": [
    "df.iloc[46]['path_dyamond']"
   ]
  },
  {
   "cell_type": "code",
   "execution_count": 17,
   "id": "69cacfe8-94cd-4e64-a373-c37c51f026a3",
   "metadata": {},
   "outputs": [],
   "source": [
    "i_t_min = 0\n",
    "i_t_max = 1919"
   ]
  },
  {
   "cell_type": "code",
   "execution_count": 41,
   "id": "ac43a90c-0acd-45fd-a464-64afe05c8ae5",
   "metadata": {},
   "outputs": [
    {
     "name": "stdout",
     "output_type": "stream",
     "text": [
      "/bdd/DYAMOND/SAM-4km/OUT_2D/DYAMOND_9216x4608x74_7.5s_4km_4608_0000000240.Precac.2D.nc\n",
      "/bdd/DYAMOND/SAM-4km/OUT_2D/DYAMOND_9216x4608x74_7.5s_4km_4608_0000000480.Precac.2D.nc\n",
      "ls: write error: Broken pipe\n"
     ]
    }
   ],
   "source": [
    "! ls /bdd/DYAMOND/SAM-4km/OUT_2D/DYAMOND_9216x4608x74_7.5s_4km_4608_*.Precac.2D.nc | head -2"
   ]
  },
  {
   "cell_type": "code",
   "execution_count": 37,
   "id": "a7ca4f57-529c-4f57-ae02-162939f08d02",
   "metadata": {},
   "outputs": [
    {
     "name": "stdout",
     "output_type": "stream",
     "text": [
      " time = 214.0625 ;\n"
     ]
    }
   ],
   "source": [
    "! ncdump -v time /bdd/DYAMOND/SAM-4km/OUT_2D/DYAMOND_9216x4608x74_7.5s_4km_4608_0000000720.Precac.2D.nc | tail -2 | head -1"
   ]
  },
  {
   "cell_type": "code",
   "execution_count": 11,
   "id": "f8387d91-363a-4e43-8e22-474dfaf7b04d",
   "metadata": {},
   "outputs": [],
   "source": [
    "from datetime import timezone"
   ]
  },
  {
   "cell_type": "code",
   "execution_count": 11,
   "id": "36837859-fbbc-4022-9d6f-cf8fe8148aa8",
   "metadata": {},
   "outputs": [],
   "source": [
    "def index2date(i_t):\n",
    "    \n",
    "    # reference\n",
    "    dict_date_ref = {'year' : 2016, 'month' : 8, 'day' : 1} # ! edit BF\n",
    "    datetime_ref = dt.datetime(dict_date_ref['year'], dict_date_ref['month'], dict_date_ref['day'])\n",
    "    timestamp_ref = datetime_ref.timestamp()\n",
    "    \n",
    "    # find date\n",
    "    i_t_in_seconds = (i_t+1) * 30 * 60 # ! edit BF: advance time step\n",
    "    timezone_weird_lag_to_watch = 2*60*60 #2hours\n",
    "    timestamp = timestamp_ref + i_t_in_seconds + timezone_weird_lag_to_watch\n",
    "    date = dt.datetime.utcfromtimestamp(timestamp)\n",
    "    \n",
    "    return date\n",
    "\n",
    "def get_filename_tb_feng(i_t):\n",
    "    \n",
    "    root = \"/bdd/MT_WORKSPACE/lgouttes/MODELS/DYAMOND/Summer/SAM/TOOCAN_Olr-Tb_Feng/TOOCAN_v2.07/GLOBAL/2016/\"\n",
    "    \n",
    "    date = index2date(i_t)\n",
    "    \n",
    "    # strings\n",
    "    date_time_str = date.strftime(\"%Y-%m-%d-%H-%M\")\n",
    "    date_str = date.strftime(\"%Y_%m_%d\")\n",
    "    date_str_no_underscore = date.strftime(\"%Y%m%d\")\n",
    "    \n",
    "    hours = int(date.strftime(\"%H\"))\n",
    "    minutes = int(date.strftime(\"%M\"))\n",
    "    n_half_hours = int(2*hours + minutes/30 + 1)\n",
    "    dir_path = os.path.join(root, date_str)\n",
    "    file_root= \"mcs_mask_TOOCAN_SAM_\"+date_str_no_underscore+'-'+str(n_half_hours).zfill(3)+'.nc'\n",
    "    filename = os.path.join(dir_path, file_root)\n",
    "    \n",
    "    return filename\n",
    "\n",
    "def timeStep2Date(dt_str):\n",
    "    \n",
    "    # reference\n",
    "    dict_date_ref = {'year' : 2016, 'month' : 8, 'day' : 1} # ! edit BF\n",
    "    datetime_ref = dt.datetime(dict_date_ref['year'], dict_date_ref['month'], dict_date_ref['day'])\n",
    "    \n",
    "    timestamp_ref = datetime_ref.timestamp()\n",
    "    \n",
    "    # find date\n",
    "    time_step = int(int(dt_str)*7.5)\n",
    "    timezone_weird_lag_to_watch = 2*60*60 #2hours\n",
    "    timestamp = timestamp_ref + time_step + timezone_weird_lag_to_watch\n",
    "    date = dt.datetime.utcfromtimestamp(timestamp)\n",
    "    \n",
    "    return date"
   ]
  },
  {
   "cell_type": "code",
   "execution_count": null,
   "id": "e44d23d4-899e-4d57-9443-8463bc456b1d",
   "metadata": {},
   "outputs": [],
   "source": [
    "for i_t in range(0,48):\n",
    "\n",
    "    print(i_t,df.iloc[i_t]['img_seg_path'],df.iloc[i_t]['path_dyamond'])"
   ]
  },
  {
   "cell_type": "code",
   "execution_count": null,
   "id": "562ee20d-ae41-408a-85bd-c6959663e4c9",
   "metadata": {},
   "outputs": [],
   "source": [
    "for i_t in range(0,1920):\n",
    "\n",
    "    filepath = get_filename_tb_feng(i_t)\n",
    "    if len(glob.glob(filepath)) > 0:\n",
    "        print(i_t,filepath)"
   ]
  },
  {
   "cell_type": "code",
   "execution_count": 13,
   "id": "c377dbaf-42ac-48a2-8d9b-44c882662d94",
   "metadata": {},
   "outputs": [
    {
     "data": {
      "text/plain": [
       "'2016_08_01'"
      ]
     },
     "execution_count": 13,
     "metadata": {},
     "output_type": "execute_result"
    }
   ],
   "source": [
    "os.path.basename(os.path.dirname(get_filename_tb_feng(10)))"
   ]
  },
  {
   "cell_type": "code",
   "execution_count": 14,
   "id": "8b187cf2-834e-40cc-9454-16df7b110fe2",
   "metadata": {},
   "outputs": [
    {
     "name": "stdout",
     "output_type": "stream",
     "text": [
      "2016-08-01 00:30:00\n",
      "2016-08-01 00:30:00\n"
     ]
    }
   ],
   "source": [
    "i_t = 0\n",
    "dt_str = '0000000240'\n",
    "\n",
    "print(index2date(i_t))\n",
    "date = timeStep2Date(dt_str) \n",
    "print(timeStep2Date(dt_str))\n"
   ]
  },
  {
   "cell_type": "markdown",
   "id": "10f86f6b-c0d7-4660-8657-24e3c95bca74",
   "metadata": {},
   "source": [
    "# Create timetable"
   ]
  },
  {
   "cell_type": "code",
   "execution_count": 154,
   "id": "66a0cf9b-a8f1-4613-b210-0d4dfd25c4b0",
   "metadata": {},
   "outputs": [],
   "source": [
    "index = list(range(0,1920))\n",
    "img_seg_path = [get_filename_tb_feng(i_t) for i_t in index]\n",
    "str_code = [index2date(i_t).strftime(\"%Y-%m-%d-%H-%M\") for i_t in index]\n",
    "time_stamp = [None for i_t in index]\n",
    "path_dyamond = [None for i_t in index]"
   ]
  },
  {
   "cell_type": "code",
   "execution_count": 155,
   "id": "0c39788d-14a9-4e8b-a8d5-26e98736ff8f",
   "metadata": {},
   "outputs": [],
   "source": [
    "file_root = 'DYAMOND_9216x4608x74_7.5s_4km_4608_%s.%s.2D.nc'\n",
    "varid = 'Precac'\n",
    "stored_files = glob.glob(os.path.join(DIR_DYAMOND,file_root%('*',varid)))\n",
    "stored_files.sort()\n",
    "\n",
    "for i in index:\n",
    "    \n",
    "    s_c = str_code[i]\n",
    "    delta_t = dt.datetime.strptime(s_c,'%Y-%m-%d-%H-%M')-dt.datetime(year=2016,month=8,day=1)\n",
    "    time_stamp[i] = str(int((delta_t.days*86400 + delta_t.seconds)/7.5)).rjust(10,'0')\n",
    "    file_name = os.path.join(DIR_DYAMOND,file_root%(time_stamp[i],varid))\n",
    "    if file_name in stored_files:\n",
    "        path_dyamond[i] = file_name"
   ]
  },
  {
   "cell_type": "code",
   "execution_count": 157,
   "id": "58b66757-6506-4543-9905-1299ab9722ac",
   "metadata": {},
   "outputs": [],
   "source": [
    "d = pd.DataFrame({'img_seg_path': pd.Series(img_seg_path,\n",
    "                                  index=index),\n",
    "                 'str_code': pd.Series(str_code,\n",
    "                                  index=index),\n",
    "                 'time_stamp': pd.Series(time_stamp,\n",
    "                                  index=index),\n",
    "                 'path_dyamond': pd.Series(path_dyamond,\n",
    "                                  index=index)})"
   ]
  },
  {
   "cell_type": "code",
   "execution_count": 161,
   "id": "39824579-b9e3-4a71-8859-95fd9ca736e7",
   "metadata": {},
   "outputs": [],
   "source": [
    "# Check"
   ]
  },
  {
   "cell_type": "code",
   "execution_count": 158,
   "id": "4ebc9151-9af0-499b-8b38-a845d181c8c5",
   "metadata": {},
   "outputs": [
    {
     "name": "stdout",
     "output_type": "stream",
     "text": [
      "/bdd/DYAMOND/SAM-4km/OUT_2D/DYAMOND_9216x4608x74_7.5s_4km_4608_0000009840.Precac.2D.nc\n",
      "/bdd/DYAMOND/SAM-4km/OUT_2D/DYAMOND_9216x4608x74_7.5s_4km_4608_0000010080.Precac.2D.nc\n",
      "/bdd/DYAMOND/SAM-4km/OUT_2D/DYAMOND_9216x4608x74_7.5s_4km_4608_0000010320.Precac.2D.nc\n",
      "/bdd/DYAMOND/SAM-4km/OUT_2D/DYAMOND_9216x4608x74_7.5s_4km_4608_0000010560.Precac.2D.nc\n",
      "/bdd/DYAMOND/SAM-4km/OUT_2D/DYAMOND_9216x4608x74_7.5s_4km_4608_0000010800.Precac.2D.nc\n",
      "/bdd/DYAMOND/SAM-4km/OUT_2D/DYAMOND_9216x4608x74_7.5s_4km_4608_0000011040.Precac.2D.nc\n",
      "/bdd/DYAMOND/SAM-4km/OUT_2D/DYAMOND_9216x4608x74_7.5s_4km_4608_0000011280.Precac.2D.nc\n",
      "/bdd/DYAMOND/SAM-4km/OUT_2D/DYAMOND_9216x4608x74_7.5s_4km_4608_0000011520.Precac.2D.nc\n",
      "/bdd/DYAMOND/SAM-4km/OUT_2D/DYAMOND_9216x4608x74_7.5s_4km_4608_0000011760.Precac.2D.nc\n",
      "/bdd/DYAMOND/SAM-4km/OUT_2D/DYAMOND_9216x4608x74_7.5s_4km_4608_0000012000.Precac.2D.nc\n",
      "/bdd/DYAMOND/SAM-4km/OUT_2D/DYAMOND_9216x4608x74_7.5s_4km_4608_0000012240.Precac.2D.nc\n",
      "/bdd/DYAMOND/SAM-4km/OUT_2D/DYAMOND_9216x4608x74_7.5s_4km_4608_0000012480.Precac.2D.nc\n",
      "/bdd/DYAMOND/SAM-4km/OUT_2D/DYAMOND_9216x4608x74_7.5s_4km_4608_0000012720.Precac.2D.nc\n",
      "/bdd/DYAMOND/SAM-4km/OUT_2D/DYAMOND_9216x4608x74_7.5s_4km_4608_0000012960.Precac.2D.nc\n",
      "/bdd/DYAMOND/SAM-4km/OUT_2D/DYAMOND_9216x4608x74_7.5s_4km_4608_0000013200.Precac.2D.nc\n",
      "/bdd/DYAMOND/SAM-4km/OUT_2D/DYAMOND_9216x4608x74_7.5s_4km_4608_0000013440.Precac.2D.nc\n",
      "/bdd/DYAMOND/SAM-4km/OUT_2D/DYAMOND_9216x4608x74_7.5s_4km_4608_0000013680.Precac.2D.nc\n",
      "/bdd/DYAMOND/SAM-4km/OUT_2D/DYAMOND_9216x4608x74_7.5s_4km_4608_0000013920.Precac.2D.nc\n",
      "/bdd/DYAMOND/SAM-4km/OUT_2D/DYAMOND_9216x4608x74_7.5s_4km_4608_0000014160.Precac.2D.nc\n",
      "/bdd/DYAMOND/SAM-4km/OUT_2D/DYAMOND_9216x4608x74_7.5s_4km_4608_0000014400.Precac.2D.nc\n",
      "ls: write error: Broken pipe\n"
     ]
    }
   ],
   "source": [
    "! ls /bdd/DYAMOND/SAM-4km/OUT_2D/*Precac* | head -60 | tail -20"
   ]
  },
  {
   "cell_type": "code",
   "execution_count": 12,
   "id": "223c592d-9beb-4f1e-ac8b-4edfbab0e965",
   "metadata": {},
   "outputs": [
    {
     "ename": "NameError",
     "evalue": "name 'd' is not defined",
     "output_type": "error",
     "traceback": [
      "\u001b[0;31m---------------------------------------------------------------------------\u001b[0m",
      "\u001b[0;31mNameError\u001b[0m                                 Traceback (most recent call last)",
      "Cell \u001b[0;32mIn[12], line 1\u001b[0m\n\u001b[0;32m----> 1\u001b[0m \u001b[43md\u001b[49m[\u001b[38;5;241m1900\u001b[39m:]\n",
      "\u001b[0;31mNameError\u001b[0m: name 'd' is not defined"
     ]
    }
   ],
   "source": [
    "d[1900:]"
   ]
  },
  {
   "cell_type": "code",
   "execution_count": null,
   "id": "f68a4f19-4f6a-40b1-aa33-df221f2212ed",
   "metadata": {},
   "outputs": [],
   "source": []
  }
 ],
 "metadata": {
  "kernelspec": {
   "display_name": "Python 3 (ipykernel)",
   "language": "python",
   "name": "python3"
  },
  "language_info": {
   "codemirror_mode": {
    "name": "ipython",
    "version": 3
   },
   "file_extension": ".py",
   "mimetype": "text/x-python",
   "name": "python",
   "nbconvert_exporter": "python",
   "pygments_lexer": "ipython3",
   "version": "3.8.13"
  }
 },
 "nbformat": 4,
 "nbformat_minor": 5
}
