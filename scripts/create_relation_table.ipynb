{
 "cells": [
  {
   "cell_type": "code",
   "execution_count": 3,
   "id": "91864179-5dd1-486d-b595-6f3c7e9e9280",
   "metadata": {
    "tags": []
   },
   "outputs": [
    {
     "name": "stdout",
     "output_type": "stream",
     "text": [
      "The autoreload extension is already loaded. To reload it, use:\n",
      "  %reload_ext autoreload\n"
     ]
    }
   ],
   "source": [
    "%load_ext autoreload\n",
    "%matplotlib inline"
   ]
  },
  {
   "cell_type": "code",
   "execution_count": 73,
   "id": "12f9f1b4-3021-45f3-8d54-74920a1d435e",
   "metadata": {
    "tags": []
   },
   "outputs": [
    {
     "name": "stdout",
     "output_type": "stream",
     "text": [
      "Own modules available: ['casestudy', 'conditionalstats', 'conditionalstats_chunked', 'lifecycle_mapping', 'plot1D', 'plot2D', 'plotCondPDFs']\n",
      "Own modules available: ['PrecipGrid', 'fcns_load_DYAMOND_SAM', 'fcns_load_RCEMIP_SAM', 'fcns_movie', 'fcns_multiscale_extremes', 'load_TOOCAN_DYAMOND', 'load_TOOCAN_DYAMOND_modif', 'load_TOOCAN_DYAMOND_modif_BF', 'fcns_load_DYAMOND_SAM_Tb_Feng', 'load_TOOCAN_v208_DYAMOND', 'fcns_load_MCSMIP']\n"
     ]
    }
   ],
   "source": [
    "%autoreload 2\n",
    "\n",
    "import sys,os,glob\n",
    "import psutil\n",
    "\n",
    "import matplotlib\n",
    "import matplotlib.pyplot as plt\n",
    "import numpy as np\n",
    "import xarray as xr\n",
    "import pandas as pd\n",
    "from pprint import pprint\n",
    "from skimage import measure\n",
    "from scipy.optimize import curve_fit\n",
    "\n",
    "from tqdm import tqdm\n",
    "\n",
    "from matplotlib.colors import LogNorm\n",
    "from matplotlib.gridspec import GridSpec\n",
    "from matplotlib.patches import Rectangle\n",
    "import cartopy.crs as ccrs\n",
    "from datetime import datetime as dt\n",
    "import pickle\n",
    "\n",
    "import datetime as dt\n",
    "import re\n",
    "import gc\n",
    "import matplotlib.animation as animation\n",
    "import warnings\n",
    "\n",
    "## current script object\n",
    "thismodule = sys.modules[__name__]\n",
    "\n",
    "# Own settings\n",
    "from settings import *\n",
    "\n",
    "workdir = os.getcwd()\n",
    "moduledir, fcndir = defineDir(workdir)"
   ]
  },
  {
   "cell_type": "markdown",
   "id": "ebb60861-ead6-4dcd-b2d2-3c33aba0cffe",
   "metadata": {},
   "source": [
    "# Example relation table"
   ]
  },
  {
   "cell_type": "code",
   "execution_count": 6,
   "id": "641c10b5-c347-4ef5-9270-7f0e6d7ce44f",
   "metadata": {
    "tags": []
   },
   "outputs": [],
   "source": [
    "#-- load own libraries\n",
    "\n",
    "# to access segmentation files and simulation outputs\n",
    "from fcns_load_DYAMOND_SAM import *"
   ]
  },
  {
   "cell_type": "code",
   "execution_count": 7,
   "id": "c99fa635-3e00-4cd2-8741-5293d29f407e",
   "metadata": {
    "tags": []
   },
   "outputs": [],
   "source": [
    "relation_table = loadRelTable('DYAMOND_SEG') "
   ]
  },
  {
   "cell_type": "code",
   "execution_count": 8,
   "id": "f2bf5bdb-f3c0-441e-b464-352215385b5b",
   "metadata": {
    "tags": []
   },
   "outputs": [
    {
     "data": {
      "text/html": [
       "<div>\n",
       "<style scoped>\n",
       "    .dataframe tbody tr th:only-of-type {\n",
       "        vertical-align: middle;\n",
       "    }\n",
       "\n",
       "    .dataframe tbody tr th {\n",
       "        vertical-align: top;\n",
       "    }\n",
       "\n",
       "    .dataframe thead th {\n",
       "        text-align: right;\n",
       "    }\n",
       "</style>\n",
       "<table border=\"1\" class=\"dataframe\">\n",
       "  <thead>\n",
       "    <tr style=\"text-align: right;\">\n",
       "      <th></th>\n",
       "      <th>Unnamed: 0</th>\n",
       "      <th>Unnamed: 0.4</th>\n",
       "      <th>Unnamed: 0.3</th>\n",
       "      <th>Unnamed: 0.2</th>\n",
       "      <th>img_seg_path</th>\n",
       "      <th>str_code</th>\n",
       "      <th>Unnamed: 0.1</th>\n",
       "      <th>Unnamed: 0.1.1</th>\n",
       "      <th>year</th>\n",
       "      <th>month</th>\n",
       "      <th>day</th>\n",
       "      <th>hour</th>\n",
       "      <th>minute</th>\n",
       "      <th>path_dyamond</th>\n",
       "      <th>UTC</th>\n",
       "    </tr>\n",
       "  </thead>\n",
       "  <tbody>\n",
       "    <tr>\n",
       "      <th>0</th>\n",
       "      <td>476</td>\n",
       "      <td>476.0</td>\n",
       "      <td>476.0</td>\n",
       "      <td>476.0</td>\n",
       "      <td>data/fiolleau/DYAMOND/TOOCAN/TOOCAN_v2.07/GLOB...</td>\n",
       "      <td>2016-8-1-1-30</td>\n",
       "      <td>2.0</td>\n",
       "      <td>2.0</td>\n",
       "      <td>2016.0</td>\n",
       "      <td>8.0</td>\n",
       "      <td>1.0</td>\n",
       "      <td>1.0</td>\n",
       "      <td>30.0</td>\n",
       "      <td>DYAMOND_9216x4608x74_7.5s_4km_4608_0000000720</td>\n",
       "      <td>17014.03</td>\n",
       "    </tr>\n",
       "    <tr>\n",
       "      <th>1</th>\n",
       "      <td>443</td>\n",
       "      <td>443.0</td>\n",
       "      <td>443.0</td>\n",
       "      <td>443.0</td>\n",
       "      <td>data/fiolleau/DYAMOND/TOOCAN/TOOCAN_v2.07/GLOB...</td>\n",
       "      <td>2016-8-1-2-0</td>\n",
       "      <td>3.0</td>\n",
       "      <td>3.0</td>\n",
       "      <td>2016.0</td>\n",
       "      <td>8.0</td>\n",
       "      <td>1.0</td>\n",
       "      <td>2.0</td>\n",
       "      <td>0.0</td>\n",
       "      <td>DYAMOND_9216x4608x74_7.5s_4km_4608_0000000960</td>\n",
       "      <td>17014.04</td>\n",
       "    </tr>\n",
       "    <tr>\n",
       "      <th>2</th>\n",
       "      <td>468</td>\n",
       "      <td>468.0</td>\n",
       "      <td>468.0</td>\n",
       "      <td>468.0</td>\n",
       "      <td>data/fiolleau/DYAMOND/TOOCAN/TOOCAN_v2.07/GLOB...</td>\n",
       "      <td>2016-8-1-2-30</td>\n",
       "      <td>4.0</td>\n",
       "      <td>4.0</td>\n",
       "      <td>2016.0</td>\n",
       "      <td>8.0</td>\n",
       "      <td>1.0</td>\n",
       "      <td>2.0</td>\n",
       "      <td>30.0</td>\n",
       "      <td>DYAMOND_9216x4608x74_7.5s_4km_4608_0000001200</td>\n",
       "      <td>17014.05</td>\n",
       "    </tr>\n",
       "    <tr>\n",
       "      <th>3</th>\n",
       "      <td>432</td>\n",
       "      <td>432.0</td>\n",
       "      <td>432.0</td>\n",
       "      <td>432.0</td>\n",
       "      <td>data/fiolleau/DYAMOND/TOOCAN/TOOCAN_v2.07/GLOB...</td>\n",
       "      <td>2016-8-1-3-0</td>\n",
       "      <td>5.0</td>\n",
       "      <td>5.0</td>\n",
       "      <td>2016.0</td>\n",
       "      <td>8.0</td>\n",
       "      <td>1.0</td>\n",
       "      <td>3.0</td>\n",
       "      <td>0.0</td>\n",
       "      <td>DYAMOND_9216x4608x74_7.5s_4km_4608_0000001440</td>\n",
       "      <td>17014.06</td>\n",
       "    </tr>\n",
       "    <tr>\n",
       "      <th>4</th>\n",
       "      <td>437</td>\n",
       "      <td>437.0</td>\n",
       "      <td>437.0</td>\n",
       "      <td>437.0</td>\n",
       "      <td>data/fiolleau/DYAMOND/TOOCAN/TOOCAN_v2.07/GLOB...</td>\n",
       "      <td>2016-8-1-3-30</td>\n",
       "      <td>6.0</td>\n",
       "      <td>6.0</td>\n",
       "      <td>2016.0</td>\n",
       "      <td>8.0</td>\n",
       "      <td>1.0</td>\n",
       "      <td>3.0</td>\n",
       "      <td>30.0</td>\n",
       "      <td>DYAMOND_9216x4608x74_7.5s_4km_4608_0000001680</td>\n",
       "      <td>17014.07</td>\n",
       "    </tr>\n",
       "    <tr>\n",
       "      <th>...</th>\n",
       "      <td>...</td>\n",
       "      <td>...</td>\n",
       "      <td>...</td>\n",
       "      <td>...</td>\n",
       "      <td>...</td>\n",
       "      <td>...</td>\n",
       "      <td>...</td>\n",
       "      <td>...</td>\n",
       "      <td>...</td>\n",
       "      <td>...</td>\n",
       "      <td>...</td>\n",
       "      <td>...</td>\n",
       "      <td>...</td>\n",
       "      <td>...</td>\n",
       "      <td>...</td>\n",
       "    </tr>\n",
       "    <tr>\n",
       "      <th>1914</th>\n",
       "      <td>1295</td>\n",
       "      <td>1295.0</td>\n",
       "      <td>1295.0</td>\n",
       "      <td>1295.0</td>\n",
       "      <td>data/fiolleau/DYAMOND/TOOCAN/TOOCAN_v2.07/GLOB...</td>\n",
       "      <td>2016-9-9-22-30</td>\n",
       "      <td>1916.0</td>\n",
       "      <td>1916.0</td>\n",
       "      <td>2016.0</td>\n",
       "      <td>9.0</td>\n",
       "      <td>9.0</td>\n",
       "      <td>22.0</td>\n",
       "      <td>30.0</td>\n",
       "      <td>DYAMOND_9216x4608x74_7.5s_4km_4608_0000460080</td>\n",
       "      <td>17053.45</td>\n",
       "    </tr>\n",
       "    <tr>\n",
       "      <th>1915</th>\n",
       "      <td>1315</td>\n",
       "      <td>1315.0</td>\n",
       "      <td>1315.0</td>\n",
       "      <td>1315.0</td>\n",
       "      <td>data/fiolleau/DYAMOND/TOOCAN/TOOCAN_v2.07/GLOB...</td>\n",
       "      <td>2016-9-9-23-0</td>\n",
       "      <td>1917.0</td>\n",
       "      <td>1917.0</td>\n",
       "      <td>2016.0</td>\n",
       "      <td>9.0</td>\n",
       "      <td>9.0</td>\n",
       "      <td>23.0</td>\n",
       "      <td>0.0</td>\n",
       "      <td>DYAMOND_9216x4608x74_7.5s_4km_4608_0000460320</td>\n",
       "      <td>17053.46</td>\n",
       "    </tr>\n",
       "    <tr>\n",
       "      <th>1916</th>\n",
       "      <td>1313</td>\n",
       "      <td>1313.0</td>\n",
       "      <td>1313.0</td>\n",
       "      <td>1313.0</td>\n",
       "      <td>data/fiolleau/DYAMOND/TOOCAN/TOOCAN_v2.07/GLOB...</td>\n",
       "      <td>2016-9-9-23-30</td>\n",
       "      <td>1918.0</td>\n",
       "      <td>1918.0</td>\n",
       "      <td>2016.0</td>\n",
       "      <td>9.0</td>\n",
       "      <td>9.0</td>\n",
       "      <td>23.0</td>\n",
       "      <td>30.0</td>\n",
       "      <td>DYAMOND_9216x4608x74_7.5s_4km_4608_0000460560</td>\n",
       "      <td>17053.47</td>\n",
       "    </tr>\n",
       "    <tr>\n",
       "      <th>1917</th>\n",
       "      <td>1304</td>\n",
       "      <td>1304.0</td>\n",
       "      <td>1304.0</td>\n",
       "      <td>1304.0</td>\n",
       "      <td>data/fiolleau/DYAMOND/TOOCAN/TOOCAN_v2.07/GLOB...</td>\n",
       "      <td>2016-9-10-0-0</td>\n",
       "      <td>1919.0</td>\n",
       "      <td>1919.0</td>\n",
       "      <td>2016.0</td>\n",
       "      <td>9.0</td>\n",
       "      <td>10.0</td>\n",
       "      <td>0.0</td>\n",
       "      <td>0.0</td>\n",
       "      <td>DYAMOND_9216x4608x74_7.5s_4km_4608_0000460800</td>\n",
       "      <td>17053.48</td>\n",
       "    </tr>\n",
       "    <tr>\n",
       "      <th>1918</th>\n",
       "      <td>1919</td>\n",
       "      <td>NaN</td>\n",
       "      <td>NaN</td>\n",
       "      <td>NaN</td>\n",
       "      <td>NaN</td>\n",
       "      <td>NaN</td>\n",
       "      <td>NaN</td>\n",
       "      <td>NaN</td>\n",
       "      <td>NaN</td>\n",
       "      <td>NaN</td>\n",
       "      <td>NaN</td>\n",
       "      <td>NaN</td>\n",
       "      <td>NaN</td>\n",
       "      <td>NaN</td>\n",
       "      <td>17054.01</td>\n",
       "    </tr>\n",
       "  </tbody>\n",
       "</table>\n",
       "<p>1919 rows × 15 columns</p>\n",
       "</div>"
      ],
      "text/plain": [
       "      Unnamed: 0  Unnamed: 0.4  Unnamed: 0.3  Unnamed: 0.2  \\\n",
       "0            476         476.0         476.0         476.0   \n",
       "1            443         443.0         443.0         443.0   \n",
       "2            468         468.0         468.0         468.0   \n",
       "3            432         432.0         432.0         432.0   \n",
       "4            437         437.0         437.0         437.0   \n",
       "...          ...           ...           ...           ...   \n",
       "1914        1295        1295.0        1295.0        1295.0   \n",
       "1915        1315        1315.0        1315.0        1315.0   \n",
       "1916        1313        1313.0        1313.0        1313.0   \n",
       "1917        1304        1304.0        1304.0        1304.0   \n",
       "1918        1919           NaN           NaN           NaN   \n",
       "\n",
       "                                           img_seg_path        str_code  \\\n",
       "0     data/fiolleau/DYAMOND/TOOCAN/TOOCAN_v2.07/GLOB...   2016-8-1-1-30   \n",
       "1     data/fiolleau/DYAMOND/TOOCAN/TOOCAN_v2.07/GLOB...    2016-8-1-2-0   \n",
       "2     data/fiolleau/DYAMOND/TOOCAN/TOOCAN_v2.07/GLOB...   2016-8-1-2-30   \n",
       "3     data/fiolleau/DYAMOND/TOOCAN/TOOCAN_v2.07/GLOB...    2016-8-1-3-0   \n",
       "4     data/fiolleau/DYAMOND/TOOCAN/TOOCAN_v2.07/GLOB...   2016-8-1-3-30   \n",
       "...                                                 ...             ...   \n",
       "1914  data/fiolleau/DYAMOND/TOOCAN/TOOCAN_v2.07/GLOB...  2016-9-9-22-30   \n",
       "1915  data/fiolleau/DYAMOND/TOOCAN/TOOCAN_v2.07/GLOB...   2016-9-9-23-0   \n",
       "1916  data/fiolleau/DYAMOND/TOOCAN/TOOCAN_v2.07/GLOB...  2016-9-9-23-30   \n",
       "1917  data/fiolleau/DYAMOND/TOOCAN/TOOCAN_v2.07/GLOB...   2016-9-10-0-0   \n",
       "1918                                                NaN             NaN   \n",
       "\n",
       "      Unnamed: 0.1  Unnamed: 0.1.1    year  month   day  hour  minute  \\\n",
       "0              2.0             2.0  2016.0    8.0   1.0   1.0    30.0   \n",
       "1              3.0             3.0  2016.0    8.0   1.0   2.0     0.0   \n",
       "2              4.0             4.0  2016.0    8.0   1.0   2.0    30.0   \n",
       "3              5.0             5.0  2016.0    8.0   1.0   3.0     0.0   \n",
       "4              6.0             6.0  2016.0    8.0   1.0   3.0    30.0   \n",
       "...            ...             ...     ...    ...   ...   ...     ...   \n",
       "1914        1916.0          1916.0  2016.0    9.0   9.0  22.0    30.0   \n",
       "1915        1917.0          1917.0  2016.0    9.0   9.0  23.0     0.0   \n",
       "1916        1918.0          1918.0  2016.0    9.0   9.0  23.0    30.0   \n",
       "1917        1919.0          1919.0  2016.0    9.0  10.0   0.0     0.0   \n",
       "1918           NaN             NaN     NaN    NaN   NaN   NaN     NaN   \n",
       "\n",
       "                                       path_dyamond       UTC  \n",
       "0     DYAMOND_9216x4608x74_7.5s_4km_4608_0000000720  17014.03  \n",
       "1     DYAMOND_9216x4608x74_7.5s_4km_4608_0000000960  17014.04  \n",
       "2     DYAMOND_9216x4608x74_7.5s_4km_4608_0000001200  17014.05  \n",
       "3     DYAMOND_9216x4608x74_7.5s_4km_4608_0000001440  17014.06  \n",
       "4     DYAMOND_9216x4608x74_7.5s_4km_4608_0000001680  17014.07  \n",
       "...                                             ...       ...  \n",
       "1914  DYAMOND_9216x4608x74_7.5s_4km_4608_0000460080  17053.45  \n",
       "1915  DYAMOND_9216x4608x74_7.5s_4km_4608_0000460320  17053.46  \n",
       "1916  DYAMOND_9216x4608x74_7.5s_4km_4608_0000460560  17053.47  \n",
       "1917  DYAMOND_9216x4608x74_7.5s_4km_4608_0000460800  17053.48  \n",
       "1918                                            NaN  17054.01  \n",
       "\n",
       "[1919 rows x 15 columns]"
      ]
     },
     "execution_count": 8,
     "metadata": {},
     "output_type": "execute_result"
    }
   ],
   "source": [
    "relation_table"
   ]
  },
  {
   "cell_type": "code",
   "execution_count": 21,
   "id": "e271aad9-f86e-43df-8e0f-9050ab14c3da",
   "metadata": {
    "tags": []
   },
   "outputs": [
    {
     "data": {
      "text/plain": [
       "'data/fiolleau/DYAMOND/TOOCAN/TOOCAN_v2.07/GLOBAL/2016/2016_08_01/ImageSegTOOCAN_20160801-03.nc'"
      ]
     },
     "execution_count": 21,
     "metadata": {},
     "output_type": "execute_result"
    }
   ],
   "source": [
    "relation_table['img_seg_path'][0]"
   ]
  },
  {
   "cell_type": "markdown",
   "id": "7dd2d784-eaf4-4690-9f8c-01ac36fa0562",
   "metadata": {},
   "source": [
    "# Construct a relation table for other model and other TOOCAN version"
   ]
  },
  {
   "cell_type": "code",
   "execution_count": 149,
   "id": "0f13f581-f9d9-44f2-89fc-24cc136c9c19",
   "metadata": {
    "tags": []
   },
   "outputs": [],
   "source": [
    "model ='FV3'\n",
    "toocan_version = 'v2.07'\n",
    "toocan_version_str = toocan_version.replace('.','')\n",
    "DIR_DYAMOND = DIR_ROOTS['MCSMIP']['model_output']%model\n",
    "DIR_TOOCANSEG = DIR_ROOTS['MCSMIP']['TOOCANSEG']%(model,toocan_version)\n",
    "dt_min = dt.datetime.strptime(BOUNDS['MCSMIP']['model_output'][model]['start'],\"%Y%m%d%H\")\n",
    "dt_max = dt.datetime.strptime(BOUNDS['MCSMIP']['model_output'][model]['end'],\"%Y%m%d%H\")"
   ]
  },
  {
   "cell_type": "code",
   "execution_count": 150,
   "id": "d538cf64-b767-47f0-84c5-8cee580b5385",
   "metadata": {
    "tags": []
   },
   "outputs": [
    {
     "data": {
      "text/plain": [
       "'/bdd/MT_WORKSPACE/MCS/MODELS/MCSMIP/DYAMOND/Summer/FV3/olr_pcp_instantaneous'"
      ]
     },
     "execution_count": 150,
     "metadata": {},
     "output_type": "execute_result"
    }
   ],
   "source": [
    "DIR_DYAMOND"
   ]
  },
  {
   "cell_type": "code",
   "execution_count": 151,
   "id": "a19fb506-25cc-4b0d-892c-ff85a1b218f0",
   "metadata": {
    "tags": []
   },
   "outputs": [
    {
     "name": "stdout",
     "output_type": "stream",
     "text": [
      "/bdd/MT_WORKSPACE/MCS/MODELS/MCSMIP/DYAMOND/Summer/FV3/olr_pcp_instantaneous/pr_rlut_fv3_2016080223.nc\n"
     ]
    }
   ],
   "source": [
    "! ls /bdd/MT_WORKSPACE/MCS/MODELS/MCSMIP/DYAMOND/Summer/FV3/olr_pcp_instantaneous/pr_rlut_fv3_2016080223.nc"
   ]
  },
  {
   "cell_type": "code",
   "execution_count": 152,
   "id": "4746b247-f9b3-4489-b780-85aa27c1f28c",
   "metadata": {
    "tags": []
   },
   "outputs": [
    {
     "data": {
      "text/plain": [
       "'/bdd/MT_WORKSPACE/lgouttes/MODELS/MCSMIP/DYAMOND/Summer/FV3/TOOCAN/TOOCAN_v2.07/GLOBAL/2016'"
      ]
     },
     "execution_count": 152,
     "metadata": {},
     "output_type": "execute_result"
    }
   ],
   "source": [
    "DIR_TOOCANSEG"
   ]
  },
  {
   "cell_type": "code",
   "execution_count": 153,
   "id": "d503dd9d-4538-453a-96ba-3581d37989d6",
   "metadata": {
    "tags": []
   },
   "outputs": [
    {
     "name": "stdout",
     "output_type": "stream",
     "text": [
      "2016_08_01  2016_08_13\t2016_08_25  2016_09_06\n",
      "2016_08_02  2016_08_14\t2016_08_26  2016_09_07\n",
      "2016_08_03  2016_08_15\t2016_08_27  2016_09_08\n",
      "2016_08_04  2016_08_16\t2016_08_28  2016_09_09\n",
      "2016_08_05  2016_08_17\t2016_08_29  FileTracking\n",
      "2016_08_06  2016_08_18\t2016_08_30  FileTracking_NETCDF\n",
      "2016_08_07  2016_08_19\t2016_08_31  FinalFileTracking\n",
      "2016_08_08  2016_08_20\t2016_09_01  NewFinalFileTracking\n",
      "2016_08_09  2016_08_21\t2016_09_02  TOOCAN-GLOBAL-20160801-20160831.dat.gz\n",
      "2016_08_10  2016_08_22\t2016_09_03  TOOCAN-GLOBAL-20160901-20160909.dat.gz\n",
      "2016_08_11  2016_08_23\t2016_09_04\n",
      "2016_08_12  2016_08_24\t2016_09_05\n"
     ]
    }
   ],
   "source": [
    "! ls /bdd/MT_WORKSPACE/lgouttes/MODELS/MCSMIP/DYAMOND/Summer/FV3/TOOCAN/TOOCAN_v2.07/GLOBAL/2016"
   ]
  },
  {
   "cell_type": "code",
   "execution_count": 154,
   "id": "4d30cb2b-457b-47e0-92bf-d558fae9a625",
   "metadata": {
    "tags": []
   },
   "outputs": [
    {
     "name": "stdout",
     "output_type": "stream",
     "text": [
      "mcs_mask_TOOCAN_FV3_20160802-001.nc  mcs_mask_TOOCAN_FV3_20160802-013.nc\n",
      "mcs_mask_TOOCAN_FV3_20160802-002.nc  mcs_mask_TOOCAN_FV3_20160802-014.nc\n",
      "mcs_mask_TOOCAN_FV3_20160802-003.nc  mcs_mask_TOOCAN_FV3_20160802-015.nc\n",
      "mcs_mask_TOOCAN_FV3_20160802-004.nc  mcs_mask_TOOCAN_FV3_20160802-016.nc\n",
      "mcs_mask_TOOCAN_FV3_20160802-005.nc  mcs_mask_TOOCAN_FV3_20160802-017.nc\n",
      "mcs_mask_TOOCAN_FV3_20160802-006.nc  mcs_mask_TOOCAN_FV3_20160802-018.nc\n",
      "mcs_mask_TOOCAN_FV3_20160802-007.nc  mcs_mask_TOOCAN_FV3_20160802-019.nc\n",
      "mcs_mask_TOOCAN_FV3_20160802-008.nc  mcs_mask_TOOCAN_FV3_20160802-020.nc\n",
      "mcs_mask_TOOCAN_FV3_20160802-009.nc  mcs_mask_TOOCAN_FV3_20160802-021.nc\n",
      "mcs_mask_TOOCAN_FV3_20160802-010.nc  mcs_mask_TOOCAN_FV3_20160802-022.nc\n",
      "mcs_mask_TOOCAN_FV3_20160802-011.nc  mcs_mask_TOOCAN_FV3_20160802-023.nc\n",
      "mcs_mask_TOOCAN_FV3_20160802-012.nc  mcs_mask_TOOCAN_FV3_20160802-024.nc\n"
     ]
    }
   ],
   "source": [
    "! ls /bdd/MT_WORKSPACE/lgouttes/MODELS/MCSMIP/DYAMOND/Summer/FV3/TOOCAN/TOOCAN_v2.07/GLOBAL/2016/2016_08_02"
   ]
  },
  {
   "cell_type": "markdown",
   "id": "524eadf1-01f8-4ccd-96aa-d0374769a77c",
   "metadata": {
    "tags": []
   },
   "source": [
    "*******\n",
    "\n",
    "Check correspondence between model output and MCS masks:\n",
    "    \n",
    "    pr_rlut_fv3_2016080223.nc corresponds to mcs_mask_TOOCAN_FV3_20160802-024.nc\n",
    "    \n",
    "so there is an offset in the hour index\n",
    "\n",
    "*******"
   ]
  },
  {
   "cell_type": "code",
   "execution_count": 155,
   "id": "e33eb3ca-78c0-497e-876b-264b802a81f3",
   "metadata": {
    "tags": []
   },
   "outputs": [],
   "source": [
    "# initialize table columns\n",
    "\n",
    "str_code_all = []\n",
    "img_seg_path_all = []\n",
    "path_dyamond_all = []\n",
    "UTC_all = []"
   ]
  },
  {
   "cell_type": "code",
   "execution_count": 156,
   "id": "2c2b18cf-c666-4ea7-ad88-a3268c990442",
   "metadata": {
    "tags": []
   },
   "outputs": [
    {
     "name": "stdout",
     "output_type": "stream",
     "text": [
      "step 0 outside bounds\n"
     ]
    }
   ],
   "source": [
    "# iterate over hours between early July and mid-September\n",
    "\n",
    "dt_0 = dt.datetime(year=2016,month=8,day=1,hour=0)\n",
    "dt_delta = dt.timedelta(seconds=3600)\n",
    "\n",
    "for i_t in range(0,960):\n",
    "    \n",
    "    dt_current = dt_0 + i_t*dt_delta\n",
    "\n",
    "    if dt_current >= dt_min and dt_current <= dt_max:\n",
    "        \n",
    "        # print(dt_current.strftime(\"%Y%m%d%H\"),end='; ')\n",
    "\n",
    "        #- compute info\n",
    "        # date\n",
    "        date_str = dt_current.strftime(\"%Y%m%d%H\")\n",
    "        # segmentation mask path\n",
    "        date_str_2 = dt_current.strftime(\"%Y_%m_%d\")\n",
    "        year = dt_current.strftime(\"%Y\")\n",
    "        filename = FILE_ROOTS['MCSMIP']['TOOCANSEG']%(model,dt_current.strftime(\"%Y%m%d\")+\"-\"+str(dt_current.hour+1).rjust(3,'0'))\n",
    "        img_seg_path = os.path.join(DIR_TOOCANSEG,date_str_2,filename)\n",
    "        # output path\n",
    "        filename = FILE_ROOTS['MCSMIP']['model_output'][model]%date_str\n",
    "        path_dyamond = os.path.join(DIR_DYAMOND,filename)\n",
    "        # UTC <days from 1970-01-01>.<hour>\n",
    "        UTC = \"%d.\"%((dt.datetime(year=2016,month=8,day=1)-dt.datetime(year=1970,month=1,day=1)).days)+str(dt_current.hour).rjust(2,'0')\n",
    "\n",
    "        #- store info\n",
    "        str_code_all.append(date_str) # STOPPED HERE\n",
    "        img_seg_path_all.append(img_seg_path)\n",
    "        path_dyamond_all.append(path_dyamond)\n",
    "        UTC_all.append(UTC)\n",
    "\n",
    "    else:\n",
    "\n",
    "        print('step %d outside bounds'%i_t)\n",
    "        str_code_all.append(None)\n",
    "        img_seg_path_all.append(None)\n",
    "        path_dyamond_all.append(None)\n",
    "        UTC_all.append(None)\n",
    "\n",
    "#- Store all of these in a pandas dataframe\n",
    "\n",
    "d = {'date': str_code_all,\n",
    "     'path_toocanseg': img_seg_path_all,\n",
    "     'path_dyamond': path_dyamond_all,\n",
    "     'UTC': UTC_all}\n",
    "\n",
    "\n",
    "relation_table = pd.DataFrame(data=d)"
   ]
  },
  {
   "cell_type": "code",
   "execution_count": 157,
   "id": "31bc6906-ac97-4fc1-b9e9-adc40565a28c",
   "metadata": {
    "tags": []
   },
   "outputs": [
    {
     "data": {
      "text/html": [
       "<div>\n",
       "<style scoped>\n",
       "    .dataframe tbody tr th:only-of-type {\n",
       "        vertical-align: middle;\n",
       "    }\n",
       "\n",
       "    .dataframe tbody tr th {\n",
       "        vertical-align: top;\n",
       "    }\n",
       "\n",
       "    .dataframe thead th {\n",
       "        text-align: right;\n",
       "    }\n",
       "</style>\n",
       "<table border=\"1\" class=\"dataframe\">\n",
       "  <thead>\n",
       "    <tr style=\"text-align: right;\">\n",
       "      <th></th>\n",
       "      <th>date</th>\n",
       "      <th>path_toocanseg</th>\n",
       "      <th>path_dyamond</th>\n",
       "      <th>UTC</th>\n",
       "    </tr>\n",
       "  </thead>\n",
       "  <tbody>\n",
       "    <tr>\n",
       "      <th>0</th>\n",
       "      <td>None</td>\n",
       "      <td>None</td>\n",
       "      <td>None</td>\n",
       "      <td>None</td>\n",
       "    </tr>\n",
       "    <tr>\n",
       "      <th>1</th>\n",
       "      <td>2016080101</td>\n",
       "      <td>/bdd/MT_WORKSPACE/lgouttes/MODELS/MCSMIP/DYAMO...</td>\n",
       "      <td>/bdd/MT_WORKSPACE/MCS/MODELS/MCSMIP/DYAMOND/Su...</td>\n",
       "      <td>17014.01</td>\n",
       "    </tr>\n",
       "    <tr>\n",
       "      <th>2</th>\n",
       "      <td>2016080102</td>\n",
       "      <td>/bdd/MT_WORKSPACE/lgouttes/MODELS/MCSMIP/DYAMO...</td>\n",
       "      <td>/bdd/MT_WORKSPACE/MCS/MODELS/MCSMIP/DYAMOND/Su...</td>\n",
       "      <td>17014.02</td>\n",
       "    </tr>\n",
       "    <tr>\n",
       "      <th>3</th>\n",
       "      <td>2016080103</td>\n",
       "      <td>/bdd/MT_WORKSPACE/lgouttes/MODELS/MCSMIP/DYAMO...</td>\n",
       "      <td>/bdd/MT_WORKSPACE/MCS/MODELS/MCSMIP/DYAMOND/Su...</td>\n",
       "      <td>17014.03</td>\n",
       "    </tr>\n",
       "    <tr>\n",
       "      <th>4</th>\n",
       "      <td>2016080104</td>\n",
       "      <td>/bdd/MT_WORKSPACE/lgouttes/MODELS/MCSMIP/DYAMO...</td>\n",
       "      <td>/bdd/MT_WORKSPACE/MCS/MODELS/MCSMIP/DYAMOND/Su...</td>\n",
       "      <td>17014.04</td>\n",
       "    </tr>\n",
       "    <tr>\n",
       "      <th>...</th>\n",
       "      <td>...</td>\n",
       "      <td>...</td>\n",
       "      <td>...</td>\n",
       "      <td>...</td>\n",
       "    </tr>\n",
       "    <tr>\n",
       "      <th>955</th>\n",
       "      <td>2016090919</td>\n",
       "      <td>/bdd/MT_WORKSPACE/lgouttes/MODELS/MCSMIP/DYAMO...</td>\n",
       "      <td>/bdd/MT_WORKSPACE/MCS/MODELS/MCSMIP/DYAMOND/Su...</td>\n",
       "      <td>17014.19</td>\n",
       "    </tr>\n",
       "    <tr>\n",
       "      <th>956</th>\n",
       "      <td>2016090920</td>\n",
       "      <td>/bdd/MT_WORKSPACE/lgouttes/MODELS/MCSMIP/DYAMO...</td>\n",
       "      <td>/bdd/MT_WORKSPACE/MCS/MODELS/MCSMIP/DYAMOND/Su...</td>\n",
       "      <td>17014.20</td>\n",
       "    </tr>\n",
       "    <tr>\n",
       "      <th>957</th>\n",
       "      <td>2016090921</td>\n",
       "      <td>/bdd/MT_WORKSPACE/lgouttes/MODELS/MCSMIP/DYAMO...</td>\n",
       "      <td>/bdd/MT_WORKSPACE/MCS/MODELS/MCSMIP/DYAMOND/Su...</td>\n",
       "      <td>17014.21</td>\n",
       "    </tr>\n",
       "    <tr>\n",
       "      <th>958</th>\n",
       "      <td>2016090922</td>\n",
       "      <td>/bdd/MT_WORKSPACE/lgouttes/MODELS/MCSMIP/DYAMO...</td>\n",
       "      <td>/bdd/MT_WORKSPACE/MCS/MODELS/MCSMIP/DYAMOND/Su...</td>\n",
       "      <td>17014.22</td>\n",
       "    </tr>\n",
       "    <tr>\n",
       "      <th>959</th>\n",
       "      <td>2016090923</td>\n",
       "      <td>/bdd/MT_WORKSPACE/lgouttes/MODELS/MCSMIP/DYAMO...</td>\n",
       "      <td>/bdd/MT_WORKSPACE/MCS/MODELS/MCSMIP/DYAMOND/Su...</td>\n",
       "      <td>17014.23</td>\n",
       "    </tr>\n",
       "  </tbody>\n",
       "</table>\n",
       "<p>960 rows × 4 columns</p>\n",
       "</div>"
      ],
      "text/plain": [
       "           date                                     path_toocanseg  \\\n",
       "0          None                                               None   \n",
       "1    2016080101  /bdd/MT_WORKSPACE/lgouttes/MODELS/MCSMIP/DYAMO...   \n",
       "2    2016080102  /bdd/MT_WORKSPACE/lgouttes/MODELS/MCSMIP/DYAMO...   \n",
       "3    2016080103  /bdd/MT_WORKSPACE/lgouttes/MODELS/MCSMIP/DYAMO...   \n",
       "4    2016080104  /bdd/MT_WORKSPACE/lgouttes/MODELS/MCSMIP/DYAMO...   \n",
       "..          ...                                                ...   \n",
       "955  2016090919  /bdd/MT_WORKSPACE/lgouttes/MODELS/MCSMIP/DYAMO...   \n",
       "956  2016090920  /bdd/MT_WORKSPACE/lgouttes/MODELS/MCSMIP/DYAMO...   \n",
       "957  2016090921  /bdd/MT_WORKSPACE/lgouttes/MODELS/MCSMIP/DYAMO...   \n",
       "958  2016090922  /bdd/MT_WORKSPACE/lgouttes/MODELS/MCSMIP/DYAMO...   \n",
       "959  2016090923  /bdd/MT_WORKSPACE/lgouttes/MODELS/MCSMIP/DYAMO...   \n",
       "\n",
       "                                          path_dyamond       UTC  \n",
       "0                                                 None      None  \n",
       "1    /bdd/MT_WORKSPACE/MCS/MODELS/MCSMIP/DYAMOND/Su...  17014.01  \n",
       "2    /bdd/MT_WORKSPACE/MCS/MODELS/MCSMIP/DYAMOND/Su...  17014.02  \n",
       "3    /bdd/MT_WORKSPACE/MCS/MODELS/MCSMIP/DYAMOND/Su...  17014.03  \n",
       "4    /bdd/MT_WORKSPACE/MCS/MODELS/MCSMIP/DYAMOND/Su...  17014.04  \n",
       "..                                                 ...       ...  \n",
       "955  /bdd/MT_WORKSPACE/MCS/MODELS/MCSMIP/DYAMOND/Su...  17014.19  \n",
       "956  /bdd/MT_WORKSPACE/MCS/MODELS/MCSMIP/DYAMOND/Su...  17014.20  \n",
       "957  /bdd/MT_WORKSPACE/MCS/MODELS/MCSMIP/DYAMOND/Su...  17014.21  \n",
       "958  /bdd/MT_WORKSPACE/MCS/MODELS/MCSMIP/DYAMOND/Su...  17014.22  \n",
       "959  /bdd/MT_WORKSPACE/MCS/MODELS/MCSMIP/DYAMOND/Su...  17014.23  \n",
       "\n",
       "[960 rows x 4 columns]"
      ]
     },
     "execution_count": 157,
     "metadata": {},
     "output_type": "execute_result"
    }
   ],
   "source": [
    "relation_table"
   ]
  },
  {
   "cell_type": "code",
   "execution_count": 112,
   "id": "1aa238dd-9885-4d3b-8645-6654367045b2",
   "metadata": {
    "tags": []
   },
   "outputs": [],
   "source": [
    "#- Save\n",
    "file_out = os.path.join(DIR_DATA,'relation_table_UTC_dyamond_segmentation_%s_%s.csv'%(model,toocan_version_str))\n",
    "relation_table.to_csv(file_out)"
   ]
  },
  {
   "cell_type": "markdown",
   "id": "29c7a499-5c8a-4f63-88b7-587ec71843d7",
   "metadata": {},
   "source": [
    "# Automate for all models"
   ]
  },
  {
   "cell_type": "code",
   "execution_count": 143,
   "id": "f7297ad1-aa07-42be-ac26-5ea036dda4ab",
   "metadata": {
    "tags": []
   },
   "outputs": [],
   "source": [
    "\n",
    "def buildRelationTable(model,toocan_version):\n",
    "    \n",
    "    #- load paths\n",
    "    toocan_version_str = toocan_version.replace('.','')\n",
    "    DIR_DYAMOND = DIR_ROOTS['MCSMIP']['model_output']%model\n",
    "    DIR_TOOCANSEG = DIR_ROOTS['MCSMIP']['TOOCANSEG']%(model,toocan_version)\n",
    "    dt_min = dt.datetime.strptime(BOUNDS['MCSMIP']['model_output'][model]['start'],\"%Y%m%d%H\")\n",
    "    dt_max = dt.datetime.strptime(BOUNDS['MCSMIP']['model_output'][model]['end'],\"%Y%m%d%H\")\n",
    "    \n",
    "    #- initialize table columns\n",
    "\n",
    "    str_code_all = []\n",
    "    img_seg_path_all = []\n",
    "    path_dyamond_all = []\n",
    "    UTC_all = []\n",
    "\n",
    "    #- iterate over hours between early July and mid-September\n",
    "\n",
    "    dt_0 = dt.datetime(year=2016,month=8,day=1,hour=0)\n",
    "    dt_delta = dt.timedelta(seconds=3600)\n",
    "\n",
    "    for i_t in range(0,960):\n",
    "\n",
    "        dt_current = dt_0 + i_t*dt_delta\n",
    "\n",
    "        if dt_current >= dt_min and dt_current <= dt_max:\n",
    "\n",
    "            # print(dt_current.strftime(\"%Y%m%d%H\"),end='; ')\n",
    "\n",
    "            #- compute info\n",
    "            # date\n",
    "            date_str = dt_current.strftime(\"%Y%m%d%H\")\n",
    "            # segmentation mask path\n",
    "            date_str_2 = dt_current.strftime(\"%Y_%m_%d\")\n",
    "            year = dt_current.strftime(\"%Y\")\n",
    "            filename = FILE_ROOTS['MCSMIP']['TOOCANSEG']%(model,dt_current.strftime(\"%Y%m%d\")+\"-\"+str(dt_current.hour+1).rjust(3,'0'))\n",
    "            img_seg_path = os.path.join(DIR_TOOCANSEG,date_str_2,filename)\n",
    "            # output path\n",
    "            filename = FILE_ROOTS['MCSMIP']['model_output'][model]%date_str\n",
    "            path_dyamond = os.path.join(DIR_DYAMOND,filename)\n",
    "            # UTC <days from 1970-01-01>.<hour>\n",
    "            UTC = \"%d.\"%((dt.datetime(year=2016,month=8,day=1)-dt.datetime(year=1970,month=1,day=1)).days)+str(dt_current.hour).rjust(2,'0')\n",
    "            \n",
    "            #- store info\n",
    "            str_code_all.append(date_str) # STOPPED HERE\n",
    "            img_seg_path_all.append(img_seg_path)\n",
    "            path_dyamond_all.append(path_dyamond)\n",
    "            UTC_all.append(UTC)\n",
    "\n",
    "        else:\n",
    "\n",
    "            print('step %d outside bounds'%i_t)\n",
    "            str_code_all.append(None)\n",
    "            img_seg_path_all.append(None)\n",
    "            path_dyamond_all.append(None)\n",
    "            UTC_all.append(None)\n",
    "            \n",
    "    #- Store all of these in a pandas dataframe\n",
    "\n",
    "    d = {'date': str_code_all,\n",
    "         'path_toocanseg': img_seg_path_all,\n",
    "         'path_dyamond': path_dyamond_all,\n",
    "         'UTC': UTC_all}\n",
    "\n",
    "    relation_table = pd.DataFrame(data=d)\n",
    "\n",
    "    #- Save\n",
    "    file_out = os.path.join(DIR_DATA,'relation_table_UTC_dyamond_segmentation_%s_%s.csv'%(model,toocan_version_str))\n",
    "    relation_table.to_csv(file_out)\n",
    "    \n",
    "    print('%s-%s complete'%(model,toocan_version))\n",
    "    \n",
    "    return"
   ]
  },
  {
   "cell_type": "code",
   "execution_count": 144,
   "id": "497de3e4-f28c-43cb-abb3-ea8516630b40",
   "metadata": {
    "tags": []
   },
   "outputs": [
    {
     "name": "stdout",
     "output_type": "stream",
     "text": [
      "step 0 outside bounds\n",
      "step 1 outside bounds\n",
      "step 2 outside bounds\n",
      "step 3 outside bounds\n",
      "step 4 outside bounds\n",
      "step 5 outside bounds\n",
      "step 6 outside bounds\n",
      "step 7 outside bounds\n",
      "step 8 outside bounds\n",
      "step 9 outside bounds\n",
      "step 10 outside bounds\n",
      "step 11 outside bounds\n",
      "step 12 outside bounds\n",
      "step 13 outside bounds\n",
      "step 14 outside bounds\n",
      "step 15 outside bounds\n",
      "step 16 outside bounds\n",
      "step 17 outside bounds\n",
      "step 18 outside bounds\n",
      "step 19 outside bounds\n",
      "step 20 outside bounds\n",
      "step 21 outside bounds\n",
      "step 22 outside bounds\n",
      "step 23 outside bounds\n",
      "ARPEGE-v2.07 complete\n",
      "step 0 outside bounds\n",
      "FV3-v2.07 complete\n",
      "IFS-v2.07 complete\n",
      "step 0 outside bounds\n",
      "MPAS-v2.07 complete\n",
      "NICAM-v2.07 complete\n",
      "OBS-v2.07 complete\n",
      "step 0 outside bounds\n",
      "SAM-v2.07 complete\n",
      "UM-v2.07 complete\n"
     ]
    }
   ],
   "source": [
    "models = 'ARPEGE', 'FV3', 'IFS', 'MPAS', 'NICAM', 'OBS', 'SAM', 'UM'\n",
    "toocan_version = 'v2.07'\n",
    "\n",
    "for model in models:\n",
    "    \n",
    "    buildRelationTable(model,toocan_version)"
   ]
  },
  {
   "cell_type": "code",
   "execution_count": null,
   "id": "dbcef813-bb58-4ae0-9c24-83b93b106a15",
   "metadata": {
    "tags": []
   },
   "outputs": [],
   "source": [
    "\n",
    "\n"
   ]
  },
  {
   "cell_type": "code",
   "execution_count": null,
   "id": "6fc39fee-ee57-4196-b089-ffbe4dff7c3d",
   "metadata": {},
   "outputs": [],
   "source": []
  },
  {
   "cell_type": "code",
   "execution_count": null,
   "id": "5a03a212-8f6c-4fc5-8353-35fabd26a70c",
   "metadata": {},
   "outputs": [],
   "source": []
  },
  {
   "cell_type": "code",
   "execution_count": null,
   "id": "da19939b-2c00-42c2-8fd3-734885aa42c0",
   "metadata": {
    "tags": []
   },
   "outputs": [],
   "source": []
  },
  {
   "cell_type": "code",
   "execution_count": null,
   "id": "8acc2d30-9079-4aa2-88d2-88d20863fb24",
   "metadata": {},
   "outputs": [],
   "source": []
  }
 ],
 "metadata": {
  "kernelspec": {
   "display_name": "Python 3 (ipykernel)",
   "language": "python",
   "name": "python3"
  },
  "language_info": {
   "codemirror_mode": {
    "name": "ipython",
    "version": 3
   },
   "file_extension": ".py",
   "mimetype": "text/x-python",
   "name": "python",
   "nbconvert_exporter": "python",
   "pygments_lexer": "ipython3",
   "version": "3.8.13"
  }
 },
 "nbformat": 4,
 "nbformat_minor": 5
}
