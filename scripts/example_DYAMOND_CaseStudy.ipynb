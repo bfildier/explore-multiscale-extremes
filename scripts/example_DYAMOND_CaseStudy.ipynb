{
 "cells": [
  {
   "cell_type": "code",
   "execution_count": 34,
   "id": "dbe50497-81e8-4445-94c9-d356b12f3358",
   "metadata": {},
   "outputs": [
    {
     "name": "stdout",
     "output_type": "stream",
     "text": [
      "The autoreload extension is already loaded. To reload it, use:\n",
      "  %reload_ext autoreload\n"
     ]
    }
   ],
   "source": [
    "%load_ext autoreload\n",
    "%matplotlib inline"
   ]
  },
  {
   "cell_type": "code",
   "execution_count": 35,
   "id": "0d09126f-e3ac-4d25-b1ab-f34a0bdece63",
   "metadata": {},
   "outputs": [
    {
     "name": "stdout",
     "output_type": "stream",
     "text": [
      "Own modules available: ['conditionalstats', 'plot2D', 'plotCondPDFs', 'plot1D', 'conditionalstats_chunked']\n",
      "Own modules available: ['fcns_load_DYAMOND_SAM', 'load_TOOCAN_DYAMOND_modif', 'load_TOOCAN_DYAMOND', 'load_TOOCAN_DYAMOND_modif_BF', 'casestudy', 'settings']\n"
     ]
    }
   ],
   "source": [
    "%autoreload 2\n",
    "\n",
    "import sys,os,glob\n",
    "import psutil\n",
    "\n",
    "import matplotlib\n",
    "import matplotlib.pyplot as plt\n",
    "import numpy as np\n",
    "import xarray as xr\n",
    "import pandas as pd\n",
    "from pprint import pprint\n",
    "\n",
    "from matplotlib.colors import LogNorm\n",
    "from matplotlib.gridspec import GridSpec\n",
    "from matplotlib.patches import Rectangle\n",
    "import cartopy.crs as ccrs\n",
    "\n",
    "import datetime as dt\n",
    "import re\n",
    "import gc\n",
    "import matplotlib.animation as animation\n",
    "import warnings\n",
    "\n",
    "# Own settings\n",
    "from settings import *\n",
    "workdir = os.getcwd()\n",
    "moduledir, fcndir = defineDir(workdir)\n",
    "\n",
    "## load TOOCAN\n",
    "# from load_TOOCAN_DYAMOND_modif import load_TOOCAN_DYAMOND\n",
    "from load_TOOCAN_DYAMOND_modif_BF import load_TOOCAN_DYAMOND\n",
    "\n",
    "## current script object\n",
    "thismodule = sys.modules[__name__]"
   ]
  },
  {
   "cell_type": "code",
   "execution_count": 36,
   "id": "d371f967-3ec6-4dc0-b24d-2dc966a8b101",
   "metadata": {},
   "outputs": [],
   "source": [
    "region = '205E_250E_0N_20N'\n",
    "DATA_PATH = '/data/bfildier/DYAMOND_REGIONS'\n",
    "DIR_SAM_2D = os.path.join(DATA_PATH,region,'SAM/2D')"
   ]
  },
  {
   "cell_type": "markdown",
   "id": "ea94d0c9-416a-4db7-99bb-2e6dbc329d21",
   "metadata": {},
   "source": [
    "# Relation table"
   ]
  },
  {
   "cell_type": "code",
   "execution_count": null,
   "id": "0b36e9a2-1156-4b9f-ad78-ee87831dec15",
   "metadata": {},
   "outputs": [],
   "source": []
  },
  {
   "cell_type": "markdown",
   "id": "59d29ef8-09ac-4dc9-a0ec-1b4f5d87a62d",
   "metadata": {},
   "source": [
    "# Case study per region"
   ]
  },
  {
   "cell_type": "markdown",
   "id": "a47eba97-df4e-481c-8a70-3bca66017834",
   "metadata": {},
   "source": [
    "1 variable for this region weights 22G. Need to implement DistributionChunked. Do this in object CaseStudy."
   ]
  },
  {
   "cell_type": "code",
   "execution_count": 45,
   "id": "4846e361-37da-4561-8175-aff4ba380b42",
   "metadata": {},
   "outputs": [],
   "source": [
    "from casestudy import *\n",
    "from fcns_load_DYAMOND_SAM import *"
   ]
  },
  {
   "cell_type": "code",
   "execution_count": 46,
   "id": "eb69125e-6378-4dad-b7c3-0ba864671478",
   "metadata": {},
   "outputs": [],
   "source": [
    "region = 'tropics'\n",
    "varid = 'Prec'\n",
    "mask = 'all'"
   ]
  },
  {
   "cell_type": "code",
   "execution_count": 47,
   "id": "cbb83656-5d2e-4bc1-be81-e802f9bff956",
   "metadata": {},
   "outputs": [],
   "source": [
    "cs_tropics = CaseStudy(name='DYAMOND-SAM',\n",
    "                  region=region,\n",
    "                  rel_tab_dyam_seg=loadRelTable('DYAMOND_SEG'))"
   ]
  },
  {
   "cell_type": "markdown",
   "id": "8cbca399-4ada-4009-a487-ebb964f52704",
   "metadata": {},
   "source": [
    "    Load all time-dependent distributions"
   ]
  },
  {
   "cell_type": "code",
   "execution_count": 48,
   "id": "cc1dff1a-444c-4329-b731-1835f5d98a57",
   "metadata": {},
   "outputs": [
    {
     "name": "stdout",
     "output_type": "stream",
     "text": [
      "time_slices.tar.gz\n"
     ]
    }
   ],
   "source": [
    "! ls /home/bfildier/analyses/explore-multiscale-extremes/results/tropics/Prec/all"
   ]
  },
  {
   "cell_type": "code",
   "execution_count": 52,
   "id": "6bec4d44-3c36-4e4a-a05f-e1d519076941",
   "metadata": {},
   "outputs": [],
   "source": [
    "! ls ../temp"
   ]
  },
  {
   "cell_type": "code",
   "execution_count": 53,
   "id": "4807deb6-94d9-41b4-90d9-e4f738f6039a",
   "metadata": {},
   "outputs": [],
   "source": [
    "cs_tropics.setSimulationSpecs(i_t_min = 832,\n",
    "                              i_t_max = 1917,\n",
    "                              lat_slice=slice(-30,30))\n",
    "\n",
    "# where sliced distributions are stored\n",
    "cs_tropics.setDirectories(dir_dist_sliced=os.path.join(DIR_OUT,region,varid,mask))\n",
    "\n",
    "# load all distributions\n",
    "cs_tropics.loadDistPrSliced()"
   ]
  },
  {
   "cell_type": "markdown",
   "id": "035e09d9-93a5-4089-b6f7-e815cd7ff37d",
   "metadata": {},
   "source": [
    "    Compute Pr distribution over all times"
   ]
  },
  {
   "cell_type": "code",
   "execution_count": 54,
   "id": "8620b7d9-2147-484d-b7a1-1246e88e1ef7",
   "metadata": {},
   "outputs": [],
   "source": [
    "# compute mean precip time series\n",
    "cs_tropics.computePrMean()\n",
    "\n",
    "# find \"missing\" time indices\n",
    "cs_tropics.findTimeIndToIgnore()"
   ]
  },
  {
   "cell_type": "code",
   "execution_count": 55,
   "id": "0b72279e-f2e0-4f6b-ad30-61c61f6c230f",
   "metadata": {},
   "outputs": [],
   "source": [
    "# compute full distribution\n",
    "cs_tropics.combinePrDistributions()"
   ]
  },
  {
   "cell_type": "code",
   "execution_count": 56,
   "id": "20036d4b-5271-4739-8900-d2d2d9a04453",
   "metadata": {},
   "outputs": [
    {
     "name": "stdout",
     "output_type": "stream",
     "text": [
      "< DistributionChunked object:\n",
      " . bintype: invlogQ\n",
      " . nbins: 81\n",
      " . nbpd: 10\n",
      " . nppb: 4\n",
      " . nd: 8\n",
      " . fill_last_decade: False\n",
      " . name: pr, DYAMOND-SAM tropics, all times\n",
      " . size: 15238250496\n",
      " . vmin: -0.075976014\n",
      " . vmax: 125.83331\n",
      " . rank_edges: <class 'numpy.ndarray'>\n",
      " . ranks: <class 'numpy.ndarray'>\n",
      " . percentiles: <class 'numpy.ndarray'>\n",
      " . bins: <class 'numpy.ndarray'>\n",
      " . density: None\n",
      " . bin_locations_stored: [False False False ... False False False]\n",
      " . overwrite: False\n",
      " . dist_chunks: <class 'list'>\n",
      " . chunks_to_ignore: <class 'list'>\n",
      " . nchunks: 1086\n",
      " . size_chunks: <class 'list'>\n",
      " . vmin_chunks: <class 'list'>\n",
      " . vmax_chunks: <class 'list'>\n",
      " . bin_locations: {}\n",
      " >\n"
     ]
    }
   ],
   "source": [
    "print(cs_tropics.dist_pr)"
   ]
  },
  {
   "cell_type": "code",
   "execution_count": 57,
   "id": "8498ea47-3f11-45d3-847b-b8bf58bf84a0",
   "metadata": {},
   "outputs": [
    {
     "name": "stdout",
     "output_type": "stream",
     "text": [
      "< CaseStudy object:\n",
      " . name: DYAMOND-SAM\n",
      " . region: tropics\n",
      " . rel_tab_dyam_seg: <class 'pandas.core.frame.DataFrame'>\n",
      " . i_t_min: 832\n",
      " . i_t_max: 1917\n",
      " . range_t: range(832, 1918)\n",
      " . lat_slice: slice(-30, 30, None)\n",
      " . lon_slice: None\n",
      " . dir_dist_sliced: ../results/tropics/Prec/all\n",
      " . dict_dist_pr_sliced: <class 'dict'>\n",
      " . pr_mean: [0.08895927 0.09020749 0.09127147 ... 0.0871079  0.08649893 0.08537947]\n",
      " . times_to_ignore: <class 'numpy.ndarray'>\n",
      " . dist_pr: <class 'conditionalstats_chunked.DistributionChunked'>\n",
      " >\n",
      "time indices to ignore:\n",
      "[ 862  863  958  959 1054 1055 1150 1151 1246 1247 1342 1343 1438 1439\n",
      " 1534 1535 1630 1631 1726 1727 1822 1823]\n"
     ]
    }
   ],
   "source": [
    "print(cs_tropics)\n",
    "print('time indices to ignore:')\n",
    "print(cs_tropics.times_to_ignore)"
   ]
  },
  {
   "cell_type": "code",
   "execution_count": null,
   "id": "9793b047-2e63-42e2-91bf-0b2cedb42d30",
   "metadata": {},
   "outputs": [],
   "source": []
  },
  {
   "cell_type": "markdown",
   "id": "c6fa5253-0913-4fd8-ba5c-d03e3702f773",
   "metadata": {},
   "source": [
    "# Case study over warm pool"
   ]
  },
  {
   "cell_type": "code",
   "execution_count": 6,
   "id": "e7143667-4047-4fc1-9299-0d729fc05014",
   "metadata": {},
   "outputs": [],
   "source": [
    "cs_warmpool = CaseStudy(name='DYAMOND-SAM',\n",
    "                       region='Warm Pool',\n",
    "                       rel_tab_dyam_seg=loadRelTable('DYAMOND_SEG'))"
   ]
  },
  {
   "cell_type": "code",
   "execution_count": 7,
   "id": "9a4ffe76-2449-4230-b0ab-759ae541d92a",
   "metadata": {},
   "outputs": [],
   "source": [
    "coords_warmpool = [130,165,0,20] # Western Pacific Warm Pool"
   ]
  },
  {
   "cell_type": "code",
   "execution_count": 9,
   "id": "f87f70be-d8e9-489a-82a9-0c46a333b219",
   "metadata": {},
   "outputs": [],
   "source": [
    "cs_warmpool.setSimulationSpecs(i_t_min = 832,\n",
    "                              i_t_max = 1917,\n",
    "                              lat_slice=slice(coords_warmpool[2],coords_warmpool[3]),\n",
    "                              lon_slice=slice(coords_warmpool[0],coords_warmpool[1]))"
   ]
  },
  {
   "cell_type": "code",
   "execution_count": null,
   "id": "32efb03f-f868-4487-bb20-c5589105d3e1",
   "metadata": {},
   "outputs": [],
   "source": []
  }
 ],
 "metadata": {
  "kernelspec": {
   "display_name": "Python 3 (ipykernel)",
   "language": "python",
   "name": "python3"
  },
  "language_info": {
   "codemirror_mode": {
    "name": "ipython",
    "version": 3
   },
   "file_extension": ".py",
   "mimetype": "text/x-python",
   "name": "python",
   "nbconvert_exporter": "python",
   "pygments_lexer": "ipython3",
   "version": "3.8.13"
  }
 },
 "nbformat": 4,
 "nbformat_minor": 5
}
