{
 "cells": [
  {
   "cell_type": "code",
   "execution_count": 4,
   "id": "dbe50497-81e8-4445-94c9-d356b12f3358",
   "metadata": {},
   "outputs": [],
   "source": [
    "%load_ext autoreload\n",
    "%matplotlib inline"
   ]
  },
  {
   "cell_type": "code",
   "execution_count": 5,
   "id": "0d09126f-e3ac-4d25-b1ab-f34a0bdece63",
   "metadata": {},
   "outputs": [
    {
     "name": "stdout",
     "output_type": "stream",
     "text": [
      "Own modules available: ['conditionalstats', 'plot2D', 'plotCondPDFs', 'plot1D', 'conditionalstats_chunked']\n",
      "Own modules available: ['fcns_load_DYAMOND_SAM', 'load_TOOCAN_DYAMOND_modif', 'load_TOOCAN_DYAMOND', 'load_TOOCAN_DYAMOND_modif_BF', 'casestudy', 'settings', 'fcns_load_RCEMIP_SAM']\n"
     ]
    }
   ],
   "source": [
    "%autoreload 2\n",
    "\n",
    "import sys,os,glob\n",
    "import psutil\n",
    "\n",
    "import matplotlib\n",
    "import matplotlib.pyplot as plt\n",
    "import numpy as np\n",
    "import xarray as xr\n",
    "import pandas as pd\n",
    "from pprint import pprint\n",
    "\n",
    "from matplotlib.colors import LogNorm\n",
    "from matplotlib.gridspec import GridSpec\n",
    "from matplotlib.patches import Rectangle\n",
    "import cartopy.crs as ccrs\n",
    "\n",
    "import datetime as dt\n",
    "import re\n",
    "import gc\n",
    "import matplotlib.animation as animation\n",
    "import warnings\n",
    "\n",
    "# Own settings\n",
    "from settings import *\n",
    "\n",
    "workdir = os.getcwd()\n",
    "moduledir, fcndir = defineDir(workdir)\n",
    "\n",
    "## load TOOCAN\n",
    "# from load_TOOCAN_DYAMOND_modif import load_TOOCAN_DYAMOND\n",
    "from load_TOOCAN_DYAMOND_modif_BF import load_TOOCAN_DYAMOND\n",
    "\n",
    "## current script object\n",
    "thismodule = sys.modules[__name__]"
   ]
  },
  {
   "cell_type": "code",
   "execution_count": 6,
   "id": "0fc90bd6-5538-46ea-953a-58e9e11192c6",
   "metadata": {},
   "outputs": [],
   "source": [
    "from casestudy import *\n",
    "from fcns_load_DYAMOND_SAM import *"
   ]
  },
  {
   "cell_type": "code",
   "execution_count": 7,
   "id": "d371f967-3ec6-4dc0-b24d-2dc966a8b101",
   "metadata": {},
   "outputs": [],
   "source": [
    "region = '205E_250E_0N_20N'\n",
    "DATA_PATH = '/data/bfildier/DYAMOND_REGIONS'\n",
    "DIR_SAM_2D = os.path.join(DATA_PATH,region,'SAM/2D')"
   ]
  },
  {
   "cell_type": "markdown",
   "id": "ea94d0c9-416a-4db7-99bb-2e6dbc329d21",
   "metadata": {},
   "source": [
    "# Relation table"
   ]
  },
  {
   "cell_type": "markdown",
   "id": "59d29ef8-09ac-4dc9-a0ec-1b4f5d87a62d",
   "metadata": {},
   "source": [
    "# Case study per region"
   ]
  },
  {
   "cell_type": "markdown",
   "id": "a47eba97-df4e-481c-8a70-3bca66017834",
   "metadata": {},
   "source": [
    "1 variable for this region weights 22G. Need to implement DistributionChunked. Do this in object CaseStudy."
   ]
  },
  {
   "cell_type": "code",
   "execution_count": 7,
   "id": "eb69125e-6378-4dad-b7c3-0ba864671478",
   "metadata": {},
   "outputs": [],
   "source": [
    "region = 'tropics'\n",
    "varid = 'Prec'\n",
    "mask = 'all'"
   ]
  },
  {
   "cell_type": "code",
   "execution_count": 8,
   "id": "cbb83656-5d2e-4bc1-be81-e802f9bff956",
   "metadata": {},
   "outputs": [],
   "source": [
    "cs_tropics = CaseStudy(name='DYAMOND-SAM',\n",
    "                      region=region,\n",
    "                      rel_tab_dyam_seg=loadRelTable('DYAMOND_SEG'))"
   ]
  },
  {
   "cell_type": "markdown",
   "id": "8cbca399-4ada-4009-a487-ebb964f52704",
   "metadata": {},
   "source": [
    "    Load all time-dependent distributions"
   ]
  },
  {
   "cell_type": "code",
   "execution_count": 9,
   "id": "cc1dff1a-444c-4329-b731-1835f5d98a57",
   "metadata": {},
   "outputs": [
    {
     "name": "stdout",
     "output_type": "stream",
     "text": [
      "time_slices.tar.gz\n"
     ]
    }
   ],
   "source": [
    "! ls /home/bfildier/analyses/explore-multiscale-extremes/results/tropics/Prec/all"
   ]
  },
  {
   "cell_type": "code",
   "execution_count": 10,
   "id": "6bec4d44-3c36-4e4a-a05f-e1d519076941",
   "metadata": {},
   "outputs": [],
   "source": [
    "# ! rm -rf ../temp/*\n",
    "! ls ../temp/"
   ]
  },
  {
   "cell_type": "code",
   "execution_count": 11,
   "id": "4807deb6-94d9-41b4-90d9-e4f738f6039a",
   "metadata": {},
   "outputs": [
    {
     "name": "stdout",
     "output_type": "stream",
     "text": [
      "Prec\n",
      "- all\n",
      "- PW_40\n",
      "PW\n",
      "- all\n",
      "- PW_40\n"
     ]
    }
   ],
   "source": [
    "cs_tropics.setSimulationSpecs(i_t_min = 832,\n",
    "                              i_t_max = 1917,\n",
    "                              lat_slice=slice(-30,30))\n",
    "\n",
    "for varid in 'Prec','PW':\n",
    "    \n",
    "    print(varid)\n",
    "    \n",
    "    for mask in 'all','PW_40':\n",
    "\n",
    "        print('-',mask)\n",
    "\n",
    "        # where sliced distributions are stored\n",
    "        cs_tropics.setDirectories(region,varid,mask)\n",
    "\n",
    "        # load all distributions\n",
    "        cs_tropics.loadDistSliced(varid,mask)\n"
   ]
  },
  {
   "cell_type": "markdown",
   "id": "035e09d9-93a5-4089-b6f7-e815cd7ff37d",
   "metadata": {},
   "source": [
    "    Compute Pr distribution over all times"
   ]
  },
  {
   "cell_type": "code",
   "execution_count": 12,
   "id": "8620b7d9-2147-484d-b7a1-1246e88e1ef7",
   "metadata": {},
   "outputs": [],
   "source": [
    "# compute mean precip time series\n",
    "cs_tropics.computeMean(varid='Prec',mask='all')\n",
    "\n",
    "# find \"missing\" time indices\n",
    "cs_tropics.findTimeIndToIgnore()"
   ]
  },
  {
   "cell_type": "code",
   "execution_count": 13,
   "id": "0b72279e-f2e0-4f6b-ad30-61c61f6c230f",
   "metadata": {},
   "outputs": [
    {
     "name": "stdout",
     "output_type": "stream",
     "text": [
      "Prec\n",
      "- all\n",
      "- PW_40\n",
      "PW\n",
      "- all\n",
      "- PW_40\n"
     ]
    }
   ],
   "source": [
    "# compute full distributions\n",
    "for varid in 'Prec','PW':\n",
    "\n",
    "    print(varid)\n",
    "    \n",
    "    for mask in 'all','PW_40':\n",
    "\n",
    "        print('-',mask)\n",
    "        cs_tropics.combineDistributions(varid,mask)"
   ]
  },
  {
   "cell_type": "code",
   "execution_count": 14,
   "id": "a4a4c9db-ba5d-43e3-88eb-63d9a08bb110",
   "metadata": {},
   "outputs": [],
   "source": [
    "# compute mean of PW above 40mm\n",
    "cs_tropics.computeMean(varid='PW',mask='PW_40')"
   ]
  },
  {
   "cell_type": "code",
   "execution_count": 15,
   "id": "8498ea47-3f11-45d3-847b-b8bf58bf84a0",
   "metadata": {},
   "outputs": [
    {
     "name": "stdout",
     "output_type": "stream",
     "text": [
      "< CaseStudy object:\n",
      " . name: DYAMOND-SAM\n",
      " . region: tropics\n",
      " . rel_tab_dyam_seg: <class 'pandas.core.frame.DataFrame'>\n",
      " . i_t_min: 832\n",
      " . i_t_max: 1917\n",
      " . range_t: range(832, 1918)\n",
      " . lat_slice: slice(-30, 30, None)\n",
      " . lon_slice: None\n",
      " . dir_dist_pr_all_sliced: ../results/tropics/Prec/all\n",
      " . dict_dist_pr_all_sliced: <class 'dict'>\n",
      " . dir_dist_pr_PW_40_sliced: ../results/tropics/Prec/PW_40\n",
      " . dict_dist_pr_PW_40_sliced: <class 'dict'>\n",
      " . dir_dist_PW_all_sliced: ../results/tropics/PW/all\n",
      " . dict_dist_PW_all_sliced: <class 'dict'>\n",
      " . dir_dist_PW_PW_40_sliced: ../results/tropics/PW/PW_40\n",
      " . dict_dist_PW_PW_40_sliced: <class 'dict'>\n",
      " . pr_all_mean: [0.08895927 0.09020749 0.09127147 ... 0.0871079  0.08649893 0.08537947]\n",
      " . times_to_ignore: <class 'numpy.ndarray'>\n",
      " . dist_pr_all: <class 'conditionalstats_chunked.DistributionChunked'>\n",
      " . dist_pr_PW_40: <class 'conditionalstats_chunked.DistributionChunked'>\n",
      " . dist_PW_all: <class 'conditionalstats_chunked.DistributionChunked'>\n",
      " . dist_PW_PW_40: <class 'conditionalstats_chunked.DistributionChunked'>\n",
      " . PW_PW_40_mean: [50.805595 50.79496  50.779892 ... 49.919094 49.913357 49.9071  ]\n",
      " >\n",
      "time indices to ignore:\n",
      "[ 862  863  958  959 1054 1055 1150 1151 1246 1247 1342 1343 1438 1439\n",
      " 1534 1535 1630 1631 1726 1727 1822 1823]\n"
     ]
    }
   ],
   "source": [
    "print(cs_tropics)\n",
    "print('time indices to ignore:')\n",
    "print(cs_tropics.times_to_ignore)"
   ]
  },
  {
   "cell_type": "markdown",
   "id": "7c84e9f6-6602-4612-aac5-f0f403d1ad64",
   "metadata": {},
   "source": []
  },
  {
   "cell_type": "markdown",
   "id": "2c0ea127-5b77-4121-8194-6d17d721ce1d",
   "metadata": {},
   "source": [
    "Compare variability in precipitation extremes and W in moist regions"
   ]
  },
  {
   "cell_type": "code",
   "execution_count": 20,
   "id": "4f2f02f2-841b-4089-9a7c-0fccb61c065f",
   "metadata": {},
   "outputs": [
    {
     "data": {
      "text/plain": [
       "(-10.0, 10.0)"
      ]
     },
     "execution_count": 20,
     "metadata": {},
     "output_type": "execute_result"
    },
    {
     "data": {
      "image/png": "[encoded data removed]",
      "text/plain": [
       "<Figure size 640x480 with 1 Axes>"
      ]
     },
     "metadata": {},
     "output_type": "display_data"
    }
   ],
   "source": [
    "# Pext vs. mean PW above 40mm\n",
    "\n",
    "rank_e = 99.999\n",
    "i_e = cs_tropics.dist_pr_all.indexOfRank(rank_e)\n",
    "    \n",
    "# mask_to_ignore = np.zeros(cs_tropics.dist_pr_all.n, dtype=int)\n",
    "\n",
    "pr_e = cs_tropics.dist_pr_all.percentiles[i_e]\n",
    "dpr_ext = [d.percentiles[i_e] - pr_e for d in cs_tropics.dict_dist_pr_all_sliced.values()]\n",
    "PW_above40 = cs_tropics.PW_PW_40_mean\n",
    "\n",
    "fig,ax = plt.subplots()\n",
    "ax.scatter(PW_above40,dpr_ext)\n",
    "ax.set_ylim((-10,10))"
   ]
  },
  {
   "cell_type": "code",
   "execution_count": 32,
   "id": "b38820b7-19c2-4c66-b5ae-78fc35b5674d",
   "metadata": {},
   "outputs": [
    {
     "data": {
      "text/plain": [
       "(-6.0, 6.0)"
      ]
     },
     "execution_count": 32,
     "metadata": {},
     "output_type": "execute_result"
    },
    {
     "data": {
      "image/png": "[encoded data removed]",
      "text/plain": [
       "<Figure size 640x480 with 1 Axes>"
      ]
     },
     "metadata": {},
     "output_type": "display_data"
    }
   ],
   "source": [
    "# Pext vs. PW 90th percentile\n",
    "\n",
    "# Prec\n",
    "rank_Pe = 99.999\n",
    "i_Pe = cs_tropics.dist_pr_all.indexOfRank(rank_Pe)\n",
    "pr_e = cs_tropics.dist_pr_all.percentiles[i_Pe]\n",
    "dpr_e = [d.percentiles[i_Pe] - pr_e for d in cs_tropics.dict_dist_pr_all_sliced.values()]\n",
    "\n",
    "# PW\n",
    "rank_PWe = 99.9999\n",
    "i_PWe = cs_tropics.dist_PW_all.indexOfRank(rank_PWe)\n",
    "PW_e = cs_tropics.dist_PW_all.percentiles[i_PWe]\n",
    "dPW_e = [d.percentiles[i_PWe] - PW_e for d in cs_tropics.dict_dist_PW_all_sliced.values()]\n",
    "\n",
    "# Show\n",
    "fig,ax = plt.subplots()\n",
    "ax.scatter(dPW_e,dpr_e)\n",
    "ax.set_ylim((-6,6))"
   ]
  },
  {
   "cell_type": "code",
   "execution_count": 79,
   "id": "9ff13b17-d5c5-4edb-b87b-6abd1b1401ac",
   "metadata": {},
   "outputs": [
    {
     "name": "stdout",
     "output_type": "stream",
     "text": [
      "[ 40.          43.87816272  47.08797441  49.7443692   51.90694801\n",
      "  53.60976424  54.97201929  56.0788496   57.03242479  57.87532033\n",
      "  58.6501008   59.36528758  60.04641218  60.70199601  61.33203517\n",
      "  61.94505282  62.54103844  63.13702402  63.72449854  64.31196661\n",
      "  64.89943714  65.48690806  66.0743796   66.67036458  67.27487164\n",
      "  67.88787966  68.51792154  69.1564788   69.82057986  70.49319473\n",
      "  71.18283112  71.88098894  72.59617488  73.30284102  74.00099192\n",
      "  74.6906356   75.3547289   76.02735119  76.70847302  77.42365394\n",
      "  78.19844041  79.03282157  79.95233924  80.94849328  82.04680379\n",
      "  83.23877696  84.54994931  85.98031623  87.52987699  89.14755281\n",
      "  90.74820645  92.18708769  93.45568829  94.57954152  95.58420544\n",
      "  96.52075188  97.41472688  98.25762197  99.02389533  99.71353407\n",
      " 100.33506046 100.90550963 101.437636   101.91017141 102.34864292\n",
      " 102.75306444 103.14470689 103.53635474 103.91097989 104.23451247\n",
      " 104.60061638 104.90712719 105.2051162  105.48607763 105.7627885\n",
      " 106.09058347 106.35877858 106.63548287 106.87813609 107.06544476\n",
      " 107.24424039]\n"
     ]
    }
   ],
   "source": []
  },
  {
   "cell_type": "code",
   "execution_count": 82,
   "id": "923a461d-58cc-4c02-be9f-22237ea3d2ea",
   "metadata": {},
   "outputs": [
    {
     "data": {
      "text/plain": [
       "(81,)"
      ]
     },
     "execution_count": 82,
     "metadata": {},
     "output_type": "execute_result"
    }
   ],
   "source": []
  },
  {
   "cell_type": "markdown",
   "id": "c6fa5253-0913-4fd8-ba5c-d03e3702f773",
   "metadata": {},
   "source": [
    "# Case study over warm pool"
   ]
  },
  {
   "cell_type": "code",
   "execution_count": 6,
   "id": "e7143667-4047-4fc1-9299-0d729fc05014",
   "metadata": {},
   "outputs": [],
   "source": [
    "cs_warmpool = CaseStudy(name='DYAMOND-SAM',\n",
    "                       region='Warm Pool',\n",
    "                       rel_tab_dyam_seg=loadRelTable('DYAMOND_SEG'))"
   ]
  },
  {
   "cell_type": "code",
   "execution_count": 7,
   "id": "9a4ffe76-2449-4230-b0ab-759ae541d92a",
   "metadata": {},
   "outputs": [],
   "source": [
    "coords_warmpool = [130,165,0,20] # Western Pacific Warm Pool"
   ]
  },
  {
   "cell_type": "code",
   "execution_count": 9,
   "id": "f87f70be-d8e9-489a-82a9-0c46a333b219",
   "metadata": {},
   "outputs": [],
   "source": [
    "cs_warmpool.setSimulationSpecs(i_t_min = 832,\n",
    "                              i_t_max = 1917,\n",
    "                              lat_slice=slice(coords_warmpool[2],coords_warmpool[3]),\n",
    "                              lon_slice=slice(coords_warmpool[0],coords_warmpool[1]))"
   ]
  },
  {
   "cell_type": "code",
   "execution_count": null,
   "id": "32efb03f-f868-4487-bb20-c5589105d3e1",
   "metadata": {},
   "outputs": [],
   "source": []
  },
  {
   "cell_type": "markdown",
   "id": "729063ed-a569-4fc0-9329-7ace438d58cb",
   "metadata": {},
   "source": [
    "# AFTER implementation of ChunkedDistribution AND computeMcsAgeOnPrDistribution"
   ]
  },
  {
   "cell_type": "code",
   "execution_count": null,
   "id": "46208583-15e6-4d68-ab27-1b041ed19c38",
   "metadata": {},
   "outputs": [],
   "source": [
    "\n",
    "\n",
    "\n",
    "            \n",
    "# 3. combine diagnostics from all times in cs.dist_var (DistributionChunked)\n",
    "\n",
    "#     # dist_var.combineMcsAgeComposites(N_all_bins,diag_all_bins,diag,metric)    # TODO    \n",
    "    \n",
    "# #     # add to case study\n",
    "# #     writeDistInCaseStudy(cs,dist_var,varid,mask)\n",
    "    \n",
    "#     # save case study to disk\n",
    "#     save_dir = os.path.join(DIR_OUT,\"case_studies\",name)\n",
    "#     os.makedirs(save_dir,exist_ok=True)\n",
    "#     pickle.dump(cs,open(os.path.join(save_dir,'case_study_%s_%s.pickle'%(region,mask),'wb'))\n"
   ]
  }
 ],
 "metadata": {
  "kernelspec": {
   "display_name": "Python 3 (ipykernel)",
   "language": "python",
   "name": "python3"
  },
  "language_info": {
   "codemirror_mode": {
    "name": "ipython",
    "version": 3
   },
   "file_extension": ".py",
   "mimetype": "text/x-python",
   "name": "python",
   "nbconvert_exporter": "python",
   "pygments_lexer": "ipython3",
   "version": "3.8.13"
  }
 },
 "nbformat": 4,
 "nbformat_minor": 5
}
