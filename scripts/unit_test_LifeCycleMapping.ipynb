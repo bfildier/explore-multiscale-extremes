{
 "cells": [
  {
   "cell_type": "code",
   "execution_count": null,
   "id": "7b0a3def-adea-4ee7-8bae-e9f061726384",
   "metadata": {},
   "outputs": [],
   "source": [
    "%load_ext autoreload\n",
    "%matplotlib inline"
   ]
  },
  {
   "cell_type": "code",
   "execution_count": null,
   "id": "f694c129-6f9b-4e78-92e7-36dc425813f1",
   "metadata": {},
   "outputs": [],
   "source": [
    "%autoreload 2\n",
    "\n",
    "import sys,os,glob\n",
    "import psutil\n",
    "\n",
    "import matplotlib\n",
    "import matplotlib.pyplot as plt\n",
    "import numpy as np\n",
    "import xarray as xr\n",
    "import pandas as pd\n",
    "from pprint import pprint\n",
    "from skimage import measure\n",
    "from scipy.optimize import curve_fit\n",
    "\n",
    "from matplotlib.colors import LogNorm\n",
    "from matplotlib.gridspec import GridSpec\n",
    "from matplotlib.patches import Rectangle\n",
    "import cartopy.crs as ccrs\n",
    "from datetime import datetime as dt\n",
    "import pickle\n",
    "\n",
    "import datetime as dt\n",
    "import re\n",
    "import gc\n",
    "import matplotlib.animation as animation\n",
    "import warnings\n",
    "\n",
    "## current script object\n",
    "thismodule = sys.modules[__name__]\n",
    "\n",
    "# Own settings\n",
    "from settings import *\n",
    "\n",
    "workdir = os.getcwd()\n",
    "moduledir, fcndir = defineDir(workdir)"
   ]
  },
  {
   "cell_type": "code",
   "execution_count": null,
   "id": "c7aea618-6cba-49f8-90cb-4018be31eea4",
   "metadata": {},
   "outputs": [],
   "source": [
    "%autoreload 2\n",
    "\n",
    "# to access segmentation files and simulation outputs\n",
    "from fcns_load_DYAMOND_SAM import *\n",
    "# to access TOOCAN objects\n",
    "from load_TOOCAN_DYAMOND_modif_BF import *\n",
    "# mapping function\n",
    "from lifecycle_mapping import *\n",
    "# display functions\n",
    "from fcns_movie import *\n",
    "# plotting\n",
    "from plot1D import *"
   ]
  },
  {
   "cell_type": "code",
   "execution_count": null,
   "id": "fc685fa8-bbd6-4ad2-90b9-4e16e06eb82f",
   "metadata": {},
   "outputs": [],
   "source": [
    "# load relation table\n",
    "df = relation_table = loadRelTable('DYAMOND_SEG')"
   ]
  },
  {
   "cell_type": "code",
   "execution_count": null,
   "id": "dae8e579-56f5-44e4-b7c8-43cca64c8686",
   "metadata": {},
   "outputs": [],
   "source": [
    "glob.glob(os.path.join(DIR_TOOCAN_DYAMOND,'*.gz'))"
   ]
  },
  {
   "cell_type": "code",
   "execution_count": null,
   "id": "daf4b8a6-67fb-4e6f-ad3a-af58708460e9",
   "metadata": {},
   "outputs": [],
   "source": [
    "toocan = loadAllMCSs(DIR_TOOCAN_DYAMOND,load_TOOCAN_DYAMOND)"
   ]
  },
  {
   "cell_type": "code",
   "execution_count": null,
   "id": "b98fcd11-e4b4-48ca-a22b-5aaa498a95c0",
   "metadata": {},
   "outputs": [],
   "source": [
    "# list of TOOCAN labels, for quicker mapping on toocan list\n",
    "labels_toocan = [toocan[i].label for i in range(len(toocan))]"
   ]
  },
  {
   "cell_type": "code",
   "execution_count": null,
   "id": "6a66757e-a1d2-4bdc-a973-22ef64c71a7c",
   "metadata": {},
   "outputs": [],
   "source": [
    "# list of TOOCAN labels, for quicker mapping on toocan list\n",
    "labels_toocan = [toocan[i].label for i in range(len(toocan))]"
   ]
  },
  {
   "cell_type": "markdown",
   "id": "f25091d3-fef5-4ef1-9be5-34eb60fd0bba",
   "metadata": {},
   "source": [
    "# LifeCycleMapping object"
   ]
  },
  {
   "cell_type": "code",
   "execution_count": null,
   "id": "b242f888-05f4-4973-9198-5ec504cb4e23",
   "metadata": {},
   "outputs": [],
   "source": [
    "# set location on disk and check if exists\n",
    "timetable_file = 'TOOCAN_time_table.csv'\n",
    "timetable_path = os.path.join(DIR_DATA,timetable_file)\n",
    "\n",
    "# check if table exists on disk\n",
    "table_exists = len(glob.glob(timetable_path)) > 0 \n",
    "\n",
    "# choose to overwrite\n",
    "overwrite = False\n",
    "\n",
    "# Load or compute time table\n",
    "\n",
    "if table_exists and not overwrite:\n",
    "    \n",
    "    #-- read from disk\n",
    "    print('reading from %s'%timetable_path)\n",
    "    toocan_timetable = pd.read_csv(timetable_path)\n",
    "    \n",
    "else:\n",
    "    \n",
    "     toocan_timetable = None\n"
   ]
  },
  {
   "cell_type": "code",
   "execution_count": null,
   "id": "fee4bf01-0d5a-4c1e-b741-73a391957269",
   "metadata": {},
   "outputs": [],
   "source": [
    "# initialize LCM object\n",
    "lcm = LifeCycleMapping(relation_table,toocan_timetable,toocan)"
   ]
  },
  {
   "cell_type": "markdown",
   "id": "40965130-e1aa-437b-a504-d6b2336580c5",
   "metadata": {},
   "source": [
    "## test defineMappingLabelToIndex()"
   ]
  },
  {
   "cell_type": "code",
   "execution_count": null,
   "id": "3d933bc6-6fe6-4e10-ae91-41072a574c23",
   "metadata": {},
   "outputs": [],
   "source": [
    "# compute mapping label to index for faster fetching of MCS in toocan list by label\n",
    "lcm.defineMappingLabelToIndex()"
   ]
  },
  {
   "cell_type": "code",
   "execution_count": null,
   "id": "20232da8-8f3f-4ef8-9d2c-2f60389dcf68",
   "metadata": {},
   "outputs": [],
   "source": [
    "##-- unit test for random labels\n",
    "\n",
    "label = 200 # pick any valid label here\n",
    "print('label:',label)\n",
    "\n",
    "ind_label = lcm.toocan_index_of_label[label]\n",
    "print('index:',ind_label)\n",
    "\n",
    "print('same as input label?',labels_toocan[ind_label] == label)"
   ]
  },
  {
   "cell_type": "code",
   "execution_count": null,
   "id": "0c3c45f8-2352-40db-8c38-68601cb5c62f",
   "metadata": {},
   "outputs": [],
   "source": [
    "##-- Detail of the defineMappingLabelToIndex method, line by line\n",
    "\n",
    "# ex_labels_toocan = [1,3,4,5,7,8,9,10]\n",
    "ex_labels_toocan = np.array([10,3,9,8,7,5,1,4])\n",
    "# max_lab_toocan = \n",
    "ex_labels_valid = [3,5,7,8,9]\n",
    "\n",
    "# 0. initiate with nans\n",
    "# inds_labels_all = np.array(np.arange(0,np.nanmax(self.labels_toocan)+1),dtype=float)\n",
    "inds_labels_all = np.array(np.arange(0,np.nanmax(ex_labels_toocan)+1),dtype=float)\n",
    "print('inds_labels_all:',inds_labels_all)\n",
    "inds_labels_all[0] = np.nan\n",
    "print('inds_labels_all:',inds_labels_all)\n",
    "\n",
    "# 1. Nans\n",
    "# mask of valid label indices\n",
    "# mask_labels_valid = np.in1d(inds_labels_all,self.labels_valid)\n",
    "mask_labels_valid = np.in1d(inds_labels_all,ex_labels_valid)\n",
    "print('mask_labels_valid:',mask_labels_valid)\n",
    "\n",
    "# replace invalid with nans\n",
    "inds_labels_all[~mask_labels_valid] = np.nan\n",
    "print('inds_labels_all:',inds_labels_all)\n",
    "# inds_labels_valid = inds_labels_all[~np.isnan(inds_labels_all)]\n",
    "# print('inds_labels_valid:',inds_labels_valid)\n",
    "\n",
    "# 2. Indices\n",
    "# mask of valid toocan labels\n",
    "# mask_toocan_labels_valid = np.in1d(self.labels_toocan,self.labels_valid)\n",
    "mask_toocan_labels_valid = np.in1d(ex_labels_toocan,ex_labels_valid)\n",
    "print('mask_toocan_labels_valid:',mask_toocan_labels_valid)\n",
    "toocan_labels_valid_unordered = ex_labels_toocan[mask_toocan_labels_valid]\n",
    "print('toocan_labels_valid_unordered:',toocan_labels_valid_unordered)\n",
    "order_toocan_valid = sorted(range(len(toocan_labels_valid_unordered)), key=lambda k: toocan_labels_valid_unordered[k])\n",
    "print('order_toocan_valid:',order_toocan_valid)\n",
    "\n",
    "# find indices of valid toocan labels\n",
    "ind_toocan_valid = np.where(mask_toocan_labels_valid)[0]\n",
    "print('ind_toocan_valid:',ind_toocan_valid)\n",
    "# assign \n",
    "inds_labels_all[mask_labels_valid] = np.take(np.array(ind_toocan_valid,dtype=int),order_toocan_valid)\n",
    "print('inds_labels_all:',inds_labels_all)\n",
    "inds_labels_all = np.asarray(inds_labels_all,dtype=int)\n",
    "# inds_labels_all[inds_labels_all < 0] = np.nan\n",
    "print('inds_labels_all:',inds_labels_all)\n",
    "\n",
    "print('lab,ind')\n",
    "for lab in ex_labels_valid:\n",
    "    \n",
    "    print(lab, inds_labels_all[lab])"
   ]
  }
 ],
 "metadata": {
  "kernelspec": {
   "display_name": "Python 3 (ipykernel)",
   "language": "python",
   "name": "python3"
  },
  "language_info": {
   "codemirror_mode": {
    "name": "ipython",
    "version": 3
   },
   "file_extension": ".py",
   "mimetype": "text/x-python",
   "name": "python",
   "nbconvert_exporter": "python",
   "pygments_lexer": "ipython3",
   "version": "3.8.13"
  }
 },
 "nbformat": 4,
 "nbformat_minor": 5
}
