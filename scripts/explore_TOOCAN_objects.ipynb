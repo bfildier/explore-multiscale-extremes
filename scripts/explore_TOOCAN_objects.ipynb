{
 "cells": [
  {
   "cell_type": "code",
   "execution_count": 1,
   "id": "fdb43b96-0d8e-4a5e-803f-6c2dd2ae3abe",
   "metadata": {},
   "outputs": [],
   "source": [
    "%reload_ext autoreload\n",
    "%matplotlib inline"
   ]
  },
  {
   "cell_type": "code",
   "execution_count": 2,
   "id": "416cde94-e007-49de-9cba-e5ea03ab5ad6",
   "metadata": {},
   "outputs": [
    {
     "name": "stdout",
     "output_type": "stream",
     "text": [
      "Own modules available: ['conditionalstats', 'plot2D', 'plotCondPDFs', 'plot1D', 'conditionalstats_chunked']\n",
      "Own modules available: ['fcns_load_DYAMOND_SAM', 'load_TOOCAN_DYAMOND_modif', 'load_TOOCAN_DYAMOND', 'load_TOOCAN_DYAMOND_modif_BF', 'casestudy']\n"
     ]
    }
   ],
   "source": [
    "%autoreload 2\n",
    "\n",
    "import sys,os,glob\n",
    "import psutil\n",
    "\n",
    "import matplotlib\n",
    "import matplotlib.pyplot as plt\n",
    "import numpy as np\n",
    "import xarray as xr\n",
    "import pandas as pd\n",
    "from pprint import pprint\n",
    "import datetime as dt\n",
    "\n",
    "\n",
    "from matplotlib.colors import LogNorm\n",
    "from matplotlib.gridspec import GridSpec\n",
    "import cartopy.crs as ccrs\n",
    "\n",
    "import datetime as dt\n",
    "import re\n",
    "import gc\n",
    "import matplotlib.animation as animation\n",
    "import warnings\n",
    "import pickle\n",
    "from scipy.interpolate import interp1d\n",
    "\n",
    "\n",
    "#-- Own settings\n",
    "\n",
    "from settings import *\n",
    "\n",
    "## current script object\n",
    "thismodule = sys.modules[__name__]\n",
    "workdir = os.getcwd()\n",
    "# Add own module library to path\n",
    "moduledir, fcndir = defineDir(workdir)\n",
    "\n",
    "# load own libraries\n",
    "from conditionalstats import *\n",
    "from conditionalstats_chunked import *\n",
    "from plot1D import *\n",
    "\n",
    "# own DYAMOND functions\n",
    "from fcns_load_DYAMOND_SAM import *\n",
    "# own TOOCAN functions\n",
    "from load_TOOCAN_DYAMOND_modif_BF import load_TOOCAN_DYAMOND"
   ]
  },
  {
   "cell_type": "code",
   "execution_count": 3,
   "id": "02b53924-8c25-4400-b114-ca35e0f9b3ad",
   "metadata": {},
   "outputs": [],
   "source": [
    "path = '/data/fiolleau/DYAMOND/TOOCAN/TOOCAN_v2.07/GLOBAL/2016/FileTracking'"
   ]
  },
  {
   "cell_type": "code",
   "execution_count": 4,
   "id": "111b453a-3da6-4e0f-b373-a41403ea9568",
   "metadata": {},
   "outputs": [],
   "source": [
    "filename = 'TOOCAN-GLOBAL-20160801-20160831.dat.gz'"
   ]
  },
  {
   "cell_type": "code",
   "execution_count": 6,
   "id": "a9442f66-ce99-4d7c-a03d-95f79f851a9f",
   "metadata": {},
   "outputs": [
    {
     "name": "stdout",
     "output_type": "stream",
     "text": [
      "/data/fiolleau/DYAMOND/TOOCAN/TOOCAN_v2.07/GLOBAL/2016/FileTracking/TOOCAN-GLOBAL-20160801-20160831.dat.gz\n"
     ]
    }
   ],
   "source": [
    "toocan = load_TOOCAN_DYAMOND(os.path.join(path,filename))"
   ]
  },
  {
   "cell_type": "code",
   "execution_count": 7,
   "id": "d7dd9a22-be83-4ad0-9712-c51b9b5f2c75",
   "metadata": {},
   "outputs": [
    {
     "data": {
      "text/plain": [
       "< MCS_IntParameters object:\n",
       " . label: 1\n",
       " . qc_MCS: 11100\n",
       " . duration: 12.5\n",
       " . classif: 2\n",
       " . Tmax: 0.0\n",
       " . Utime_Init: 17014.18\n",
       " . lonInit: 115.04\n",
       " . latInit: 20.71\n",
       " . Utime_End: 17014.42\n",
       " . lonEnd: 116.37\n",
       " . latEnd: 21.88\n",
       " . lonmin: 114.93\n",
       " . latmin: 20.71\n",
       " . lonmax: 116.37\n",
       " . latmax: 21.89\n",
       " . vavg: 4.2\n",
       " . dist: 189.2\n",
       " . olrmin: 188.0\n",
       " . surfmaxPix_172Wm2: 0\n",
       " . surfmaxkm2_172Wm2: 32864.0\n",
       " . surfmaxkm2_132Wm2: 32592.0\n",
       " . surfmaxkm2_110Wm2: 32320.0\n",
       " . surfmaxkm2_90Wm2: 31520.0\n",
       " . surfcumkm2_172Wm2: 354480.0\n",
       " . surfcumkm2_132Wm2: 0\n",
       " . surfcumkm2_110Wm2: 0\n",
       " . surfcumkm2_90Wm2: 0\n",
       " . precip_total: 0\n",
       " . precip_max: 0\n",
       " . maxSurf00mmh_km2: 0\n",
       " . maxSurf02mmh_km2: 0\n",
       " . maxSurf05mmh_km2: 0\n",
       " . maxSurf10mmh_km2: 0\n",
       " . classif_JIRAK: 0.0\n",
       " . localtime_Init: 17014.6737\n",
       " . localtime_End: 17015.1774\n",
       " . clusters: <class 'load_TOOCAN_DYAMOND_modif_BF.MCS_Lifecycle'>\n",
       " >"
      ]
     },
     "execution_count": 7,
     "metadata": {},
     "output_type": "execute_result"
    }
   ],
   "source": [
    "toocan[0]"
   ]
  },
  {
   "cell_type": "code",
   "execution_count": 8,
   "id": "4da684fe-ef8e-4a71-8918-74f035cda468",
   "metadata": {},
   "outputs": [
    {
     "name": "stdout",
     "output_type": "stream",
     "text": [
      "276179 TOOCAN objects\n"
     ]
    }
   ],
   "source": [
    "N_mcs = len(toocan)\n",
    "print(N_mcs,'TOOCAN objects')"
   ]
  },
  {
   "cell_type": "code",
   "execution_count": 9,
   "id": "881a49fc-717f-4d0a-8244-764af4239943",
   "metadata": {},
   "outputs": [],
   "source": [
    "date_ref = dt.datetime(year=1970,month=1,day=1)\n",
    "times_init = np.array([date_ref+dt.timedelta(days=toocan[i_mcs].Utime_Init) for i_mcs in range(N_mcs)])"
   ]
  },
  {
   "cell_type": "code",
   "execution_count": 10,
   "id": "4c55cc2c-ec54-4e96-be66-c21decc20ced",
   "metadata": {},
   "outputs": [
    {
     "data": {
      "text/plain": [
       "array([datetime.datetime(2016, 8, 1, 4, 19, 12),\n",
       "       datetime.datetime(2016, 8, 1, 8, 52, 48),\n",
       "       datetime.datetime(2016, 8, 1, 0, 43, 12), ...,\n",
       "       datetime.datetime(2016, 8, 31, 11, 16, 48),\n",
       "       datetime.datetime(2016, 8, 31, 10, 48),\n",
       "       datetime.datetime(2016, 8, 31, 11, 31, 12)], dtype=object)"
      ]
     },
     "execution_count": 10,
     "metadata": {},
     "output_type": "execute_result"
    }
   ],
   "source": [
    "times_init"
   ]
  },
  {
   "cell_type": "code",
   "execution_count": 11,
   "id": "add4856a-9490-418a-a7a1-4e3b66672faa",
   "metadata": {},
   "outputs": [],
   "source": [
    "# Tmax"
   ]
  },
  {
   "cell_type": "code",
   "execution_count": 12,
   "id": "f1571c28-cabd-4f0b-89f4-ec2d3e7afbc3",
   "metadata": {},
   "outputs": [
    {
     "data": {
      "text/plain": [
       "array([0.])"
      ]
     },
     "execution_count": 12,
     "metadata": {},
     "output_type": "execute_result"
    }
   ],
   "source": [
    "Tmax = np.array([toocan[i_mcs].Tmax for i_mcs in range(N_mcs)])\n",
    "np.unique(Tmax)"
   ]
  },
  {
   "cell_type": "code",
   "execution_count": 13,
   "id": "6965910f-cd08-49e9-9360-1afc9fe3d555",
   "metadata": {},
   "outputs": [
    {
     "data": {
      "text/plain": [
       "[<matplotlib.lines.Line2D at 0x15370fc59070>]"
      ]
     },
     "execution_count": 13,
     "metadata": {},
     "output_type": "execute_result"
    }
   ],
   "source": [
    "plt.plot(toocan[0].clusters.Utime,toocan[0].clusters.surfkm2_132Wm2)"
   ]
  },
  {
   "cell_type": "code",
   "execution_count": 14,
   "id": "f6f330c7-50dd-4751-895b-74b309671ff3",
   "metadata": {},
   "outputs": [
    {
     "data": {
      "text/plain": [
       "(17014.18, 17014.42)"
      ]
     },
     "execution_count": 14,
     "metadata": {},
     "output_type": "execute_result"
    }
   ],
   "source": [
    "toocan[0].clusters.Utime[0], toocan[0].clusters.Utime[-1]"
   ]
  },
  {
   "cell_type": "code",
   "execution_count": null,
   "id": "4bff1547-26c4-4c52-808a-2f7b9880ec9f",
   "metadata": {},
   "outputs": [],
   "source": []
  }
 ],
 "metadata": {
  "kernelspec": {
   "display_name": "Python 3 (ipykernel)",
   "language": "python",
   "name": "python3"
  },
  "language_info": {
   "codemirror_mode": {
    "name": "ipython",
    "version": 3
   },
   "file_extension": ".py",
   "mimetype": "text/x-python",
   "name": "python",
   "nbconvert_exporter": "python",
   "pygments_lexer": "ipython3",
   "version": "3.8.13"
  }
 },
 "nbformat": 4,
 "nbformat_minor": 5
}
