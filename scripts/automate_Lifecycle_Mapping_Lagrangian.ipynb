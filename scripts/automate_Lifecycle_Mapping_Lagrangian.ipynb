{
 "cells": [
  {
   "cell_type": "code",
   "execution_count": 2,
   "id": "34c5de86-e829-4c5b-be57-352593c93a09",
   "metadata": {
    "tags": []
   },
   "outputs": [
    {
     "name": "stdout",
     "output_type": "stream",
     "text": [
      "The autoreload extension is already loaded. To reload it, use:\n",
      "  %reload_ext autoreload\n"
     ]
    }
   ],
   "source": [
    "%load_ext autoreload\n",
    "%matplotlib inline"
   ]
  },
  {
   "cell_type": "code",
   "execution_count": 3,
   "id": "69b933af-75bc-496f-b69e-ad550d863767",
   "metadata": {
    "tags": []
   },
   "outputs": [
    {
     "name": "stdout",
     "output_type": "stream",
     "text": [
      "Own modules available: ['casestudy', 'conditionalstats', 'conditionalstats_chunked', 'lifecycle_mapping', 'plot1D', 'plot2D', 'plotCondPDFs']\n",
      "Own modules available: ['PrecipGrid', 'fcns_load_DYAMOND_SAM', 'fcns_load_RCEMIP_SAM', 'fcns_movie', 'fcns_multiscale_extremes', 'load_TOOCAN_DYAMOND', 'load_TOOCAN_DYAMOND_modif', 'load_TOOCAN_DYAMOND_modif_BF', 'fcns_load_DYAMOND_SAM_Tb_Feng', 'load_TOOCAN_v208_DYAMOND']\n"
     ]
    }
   ],
   "source": [
    "%autoreload 2\n",
    "\n",
    "import sys,os,glob\n",
    "import psutil\n",
    "\n",
    "import matplotlib\n",
    "import matplotlib.pyplot as plt\n",
    "import numpy as np\n",
    "import xarray as xr\n",
    "import pandas as pd\n",
    "from pprint import pprint\n",
    "from skimage import measure\n",
    "from scipy.optimize import curve_fit\n",
    "\n",
    "from tqdm import tqdm\n",
    "\n",
    "from matplotlib.colors import LogNorm\n",
    "from matplotlib.gridspec import GridSpec\n",
    "from matplotlib.patches import Rectangle\n",
    "import cartopy.crs as ccrs\n",
    "from datetime import datetime as dt\n",
    "import pickle\n",
    "\n",
    "import datetime as dt\n",
    "import re\n",
    "import gc\n",
    "import matplotlib.animation as animation\n",
    "import warnings\n",
    "\n",
    "## current script object\n",
    "thismodule = sys.modules[__name__]\n",
    "\n",
    "# Own settings\n",
    "from settings import *\n",
    "\n",
    "workdir = os.getcwd()\n",
    "moduledir, fcndir = defineDir(workdir)"
   ]
  },
  {
   "cell_type": "code",
   "execution_count": 4,
   "id": "ac4359a3-913a-4134-b6cd-fc8f014dbc03",
   "metadata": {
    "tags": []
   },
   "outputs": [],
   "source": [
    "%autoreload 2\n",
    "\n",
    "# to access segmentation files and simulation outputs\n",
    "from fcns_load_DYAMOND_SAM import *\n",
    "# to access TOOCAN objects\n",
    "# from load_TOOCAN_DYAMOND_modif_BF import *\n",
    "from load_TOOCAN_v208_DYAMOND import *\n",
    "# mapping function\n",
    "from lifecycle_mapping import *\n",
    "# display functions\n",
    "from fcns_movie import *\n",
    "# plotting\n",
    "from plot1D import *\n",
    "# load own libraries\n",
    "from conditionalstats import *"
   ]
  },
  {
   "cell_type": "markdown",
   "id": "a73983af-b241-4fb9-9664-1d2ee51bb7e1",
   "metadata": {},
   "source": [
    "# Test loading other models and TOOCAN versions"
   ]
  },
  {
   "cell_type": "code",
   "execution_count": 8,
   "id": "825571ad-b33e-4860-b7f3-373cd08b6155",
   "metadata": {
    "tags": []
   },
   "outputs": [],
   "source": [
    "# DYAMOND\n",
    "\n",
    "project = 'DYAMOND' # not used here\n",
    "toocan_version = 'v2.08'\n",
    "model_name = 'SAM'\n",
    "resolution = '4km-30mn'"
   ]
  },
  {
   "cell_type": "code",
   "execution_count": 11,
   "id": "4c21f6df-a209-40a1-be57-43cdec7fdf87",
   "metadata": {
    "tags": []
   },
   "outputs": [
    {
     "name": "stdout",
     "output_type": "stream",
     "text": [
      "/bdd/MT_WORKSPACE/lgouttes/MODELS/DYAMOND/Summer/SAM/235K/TOOCAN/TOOCAN_v2.08/GLOBAL/2016\n",
      "/bdd/MT_WORKSPACE/lgouttes/MODELS/DYAMOND/Summer/SAM/235K/TOOCAN/TOOCAN_v2.08/GLOBAL/2016/FileTracking\n"
     ]
    }
   ],
   "source": [
    "DIR_TOOCANSEG = getDirDYAMOND(resolution,'TOOCANSEG',model_name,toocan_version)\n",
    "DIR_TOOCAN = getDirDYAMOND(resolution,'TOOCAN',model_name,toocan_version)\n",
    "print(DIR_TOOCANSEG)\n",
    "print(DIR_TOOCAN)"
   ]
  },
  {
   "cell_type": "code",
   "execution_count": 13,
   "id": "b4104ae6-10e0-48c3-b366-732d12e8c634",
   "metadata": {
    "tags": []
   },
   "outputs": [
    {
     "name": "stdout",
     "output_type": "stream",
     "text": [
      "TOOCAN-GLOBAL-20160801-20160831.dat.gz\tTOOCAN-GLOBAL-20160901-20160910.dat.gz\n"
     ]
    }
   ],
   "source": [
    "! ls /bdd/MT_WORKSPACE/lgouttes/MODELS/DYAMOND/Summer/SAM/235K/TOOCAN/TOOCAN_v2.08/GLOBAL/2016/FileTracking"
   ]
  },
  {
   "cell_type": "code",
   "execution_count": 14,
   "id": "ccc9f1e4-fc2e-491f-91f1-a6f8565b6ed4",
   "metadata": {
    "tags": []
   },
   "outputs": [],
   "source": [
    "# RCEMIP\n",
    "\n",
    "project = 'RCEMIP' # not used here\n",
    "toocan_version = 'v220'\n",
    "model_name = 'SAM'\n",
    "resolution = '4km-30mn'\n",
    "\n",
    "#### STOPPED HERE"
   ]
  },
  {
   "cell_type": "code",
   "execution_count": null,
   "id": "ce7f320b-879b-4ed7-915c-3c520c0e3ee3",
   "metadata": {},
   "outputs": [],
   "source": []
  }
 ],
 "metadata": {
  "kernelspec": {
   "display_name": "Python 3 (ipykernel)",
   "language": "python",
   "name": "python3"
  },
  "language_info": {
   "codemirror_mode": {
    "name": "ipython",
    "version": 3
   },
   "file_extension": ".py",
   "mimetype": "text/x-python",
   "name": "python",
   "nbconvert_exporter": "python",
   "pygments_lexer": "ipython3",
   "version": "3.8.13"
  }
 },
 "nbformat": 4,
 "nbformat_minor": 5
}
