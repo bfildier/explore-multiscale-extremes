{
 "cells": [
  {
   "cell_type": "code",
   "execution_count": 71,
   "id": "bc80a21a-2a82-4a5f-8306-41aff4b0660d",
   "metadata": {},
   "outputs": [
    {
     "name": "stdout",
     "output_type": "stream",
     "text": [
      "The autoreload extension is already loaded. To reload it, use:\n",
      "  %reload_ext autoreload\n"
     ]
    }
   ],
   "source": [
    "%load_ext autoreload\n",
    "%matplotlib inline"
   ]
  },
  {
   "cell_type": "code",
   "execution_count": 118,
   "id": "23cc86ce-59f2-4d35-b78c-12ab37a998b0",
   "metadata": {},
   "outputs": [
    {
     "name": "stdout",
     "output_type": "stream",
     "text": [
      "Own modules available: ['casestudy', 'conditionalstats', 'conditionalstats_chunked', 'plot1D', 'plot2D', 'plotCondPDFs', 'lifecycle_mapping']\n",
      "Own modules available: ['load_TOOCAN_DYAMOND_modif', 'load_TOOCAN_DYAMOND', 'load_TOOCAN_DYAMOND_modif_BF', 'fcns_load_RCEMIP_SAM', 'fcns_multiscale_extremes', 'PrecipGrid', 'fcns_load_DYAMOND_SAM', 'fcns_movie']\n"
     ]
    }
   ],
   "source": [
    "%autoreload 2\n",
    "\n",
    "import sys,os,glob\n",
    "import psutil\n",
    "\n",
    "import matplotlib\n",
    "import matplotlib.pyplot as plt\n",
    "import numpy as np\n",
    "import xarray as xr\n",
    "import pandas as pd\n",
    "from pprint import pprint\n",
    "from skimage import measure\n",
    "from scipy.optimize import curve_fit\n",
    "\n",
    "from matplotlib.colors import LogNorm\n",
    "from matplotlib.gridspec import GridSpec\n",
    "from matplotlib.patches import Rectangle\n",
    "import cartopy.crs as ccrs\n",
    "from datetime import datetime as dt\n",
    "\n",
    "import datetime as dt\n",
    "import re\n",
    "import gc\n",
    "import matplotlib.animation as animation\n",
    "import warnings\n",
    "\n",
    "## current script object\n",
    "thismodule = sys.modules[__name__]\n",
    "\n",
    "# Own settings\n",
    "from settings import *\n",
    "\n",
    "workdir = os.getcwd()\n",
    "moduledir, fcndir = defineDir(workdir)"
   ]
  },
  {
   "cell_type": "code",
   "execution_count": 92,
   "id": "6198cb77-d3de-4a09-ac78-48360f8e0a1a",
   "metadata": {},
   "outputs": [],
   "source": [
    "%autoreload 2\n",
    "\n",
    "# to access segmentation files and simulation outputs\n",
    "from fcns_load_DYAMOND_SAM import *\n",
    "# to access TOOCAN objects\n",
    "from load_TOOCAN_DYAMOND_modif_BF import *\n",
    "# mapping function\n",
    "from lifecycle_mapping import *"
   ]
  },
  {
   "cell_type": "code",
   "execution_count": 67,
   "id": "87d1cf76-f8b9-4b6b-b676-4c042e388839",
   "metadata": {},
   "outputs": [],
   "source": [
    "# load relation table\n",
    "relation_table = loadRelTable('DYAMOND_SEG')"
   ]
  },
  {
   "cell_type": "code",
   "execution_count": 68,
   "id": "176d913f-a603-412a-840f-ad400141b6f1",
   "metadata": {},
   "outputs": [
    {
     "data": {
      "text/plain": [
       "['/data/fiolleau/DYAMOND/TOOCAN/TOOCAN_v2.07/GLOBAL/2016/FileTracking/TOOCAN-GLOBAL-20160901-20160910.dat.gz',\n",
       " '/data/fiolleau/DYAMOND/TOOCAN/TOOCAN_v2.07/GLOBAL/2016/FileTracking/TOOCAN-GLOBAL-20160801-20160831.dat.gz']"
      ]
     },
     "execution_count": 68,
     "metadata": {},
     "output_type": "execute_result"
    }
   ],
   "source": [
    "glob.glob(os.path.join(DIR_TOOCAN_DYAMOND,'*.gz'))"
   ]
  },
  {
   "cell_type": "code",
   "execution_count": 69,
   "id": "df9a0b59-c84c-45fb-8b10-b301e2c79b48",
   "metadata": {},
   "outputs": [
    {
     "name": "stdout",
     "output_type": "stream",
     "text": [
      "load /data/fiolleau/DYAMOND/TOOCAN/TOOCAN_v2.07/GLOBAL/2016/FileTracking/TOOCAN-GLOBAL-20160901-20160910.dat.gz\n",
      "/data/fiolleau/DYAMOND/TOOCAN/TOOCAN_v2.07/GLOBAL/2016/FileTracking/TOOCAN-GLOBAL-20160901-20160910.dat.gz\n",
      "load /data/fiolleau/DYAMOND/TOOCAN/TOOCAN_v2.07/GLOBAL/2016/FileTracking/TOOCAN-GLOBAL-20160801-20160831.dat.gz\n",
      "/data/fiolleau/DYAMOND/TOOCAN/TOOCAN_v2.07/GLOBAL/2016/FileTracking/TOOCAN-GLOBAL-20160801-20160831.dat.gz\n"
     ]
    }
   ],
   "source": [
    "toocan = loadAllMCSs(DIR_TOOCAN_DYAMOND,load_TOOCAN_DYAMOND)"
   ]
  },
  {
   "cell_type": "code",
   "execution_count": 70,
   "id": "e9e5d7a3-8860-4c8e-9ad9-0f8c2753d6b9",
   "metadata": {},
   "outputs": [],
   "source": [
    "# list of TOOCAN labels, for quicker mapping on toocan list\n",
    "labels_toocan = [toocan[i].label for i in range(len(toocan))]"
   ]
  },
  {
   "cell_type": "markdown",
   "id": "f3756a6f-bee6-4d42-96c9-07323b3f51df",
   "metadata": {},
   "source": [
    "# Test LifeCycleMapping methods"
   ]
  },
  {
   "cell_type": "code",
   "execution_count": 9,
   "id": "1691a888-211a-4614-beab-c702b1990353",
   "metadata": {},
   "outputs": [
    {
     "name": "stderr",
     "output_type": "stream",
     "text": [
      "/home/bfildier/.local/lib/python3.8/site-packages/xarray/conventions.py:492: SerializationWarning: variable 'MCS_label' has multiple fill values {-999.0, -998.0}, decoding all values to NaN.\n",
      "  new_vars[k] = decode_cf_variable(\n"
     ]
    }
   ],
   "source": [
    "# Example data\n",
    "\n",
    "i_t = 500 # index in relation table\n",
    "date = relation_table.loc[i_t].str_code\n",
    "\n",
    "# load segmentation mask for that date\n",
    "segmask = loadTOOCANSeg(i_t,relation_table)\n"
   ]
  },
  {
   "cell_type": "code",
   "execution_count": 10,
   "id": "8d1737f6-b70e-4e59-a78b-4572be210536",
   "metadata": {},
   "outputs": [
    {
     "name": "stdout",
     "output_type": "stream",
     "text": [
      "[119749 121064 126715 ... 134180 134208 134331]\n"
     ]
    }
   ],
   "source": [
    "# list all labels in segmask\n",
    "def getLabelsInSegmentationMask(segmask):\n",
    "    \n",
    "    seg_1D = segmask.values.flatten()\n",
    "    seg_1D_nonans = seg_1D[~np.isnan(seg_1D)]\n",
    "\n",
    "    return np.unique(np.array(seg_1D_nonans,dtype=int))\n",
    "    \n",
    "labels_in_segmask = getLabelsInSegmentationMask(segmask)\n",
    "print(labels_in_segmask)"
   ]
  },
  {
   "cell_type": "code",
   "execution_count": 18,
   "id": "cdfb98d4-dc36-4965-ad39-e4817f4460f3",
   "metadata": {},
   "outputs": [],
   "source": [
    "lcm = LifeCycleMapping(None,relation_table,toocan)"
   ]
  },
  {
   "cell_type": "markdown",
   "id": "7114e569-df2b-4d3a-a58d-658c369aaee9",
   "metadata": {},
   "source": [
    "## dev getMCSAge(self,i_t,MCS_label)"
   ]
  },
  {
   "cell_type": "code",
   "execution_count": 15,
   "id": "e7326e90-66e9-47e7-a641-07f9da0341bc",
   "metadata": {},
   "outputs": [
    {
     "name": "stdout",
     "output_type": "stream",
     "text": [
      "197682 126789\n"
     ]
    }
   ],
   "source": [
    "# example MCS label\n",
    "label = 134180\n",
    "\n",
    "# index in list\n",
    "i_MCS = np.where(np.array(labels_toocan) == label)[0][0]\n",
    "\n",
    "print(i_MCS,lcm.toocan_index_of_label[label])"
   ]
  },
  {
   "cell_type": "code",
   "execution_count": 13,
   "id": "cd63e49e-47b1-4b77-89c5-a9b617c6682a",
   "metadata": {},
   "outputs": [
    {
     "data": {
      "text/plain": [
       "<matplotlib.legend.Legend at 0x14638c3a2310>"
      ]
     },
     "execution_count": 13,
     "metadata": {},
     "output_type": "execute_result"
    }
   ],
   "source": [
    "# show lifecycle\n",
    "\n",
    "area_labels = 'surfkm2_172Wm2', 'surfkm2_132Wm2', 'surfkm2_110Wm2', 'surfkm2_90Wm2'\n",
    "n_labs = len(area_labels)\n",
    "\n",
    "fig,ax = plt.subplots(figsize=(6,5))\n",
    "\n",
    "for i_l in range(n_labs):\n",
    "\n",
    "    area_lab = area_labels[0]\n",
    "    \n",
    "    time = toocan[i_MCS].clusters.Localtime\n",
    "    area_t = np.array(getattr(toocan[i_MCS].clusters,area_lab))\n",
    "    \n",
    "    ax.plot(time,area_t,label=area_lab)\n",
    "    \n",
    "plt.legend()"
   ]
  },
  {
   "cell_type": "code",
   "execution_count": 14,
   "id": "0215f1c6-f627-427f-8403-899ae706a1a3",
   "metadata": {},
   "outputs": [
    {
     "name": "stdout",
     "output_type": "stream",
     "text": [
      "134180\n"
     ]
    },
    {
     "data": {
      "text/plain": [
       "True"
      ]
     },
     "execution_count": 14,
     "metadata": {},
     "output_type": "execute_result"
    }
   ],
   "source": [
    "print(toocan[i_MCS].label)\n",
    "bool(np.any(segmask == toocan[i_MCS].label).data)"
   ]
  },
  {
   "cell_type": "code",
   "execution_count": 15,
   "id": "e8580adf-02f1-4055-a408-c84db57d2f52",
   "metadata": {},
   "outputs": [
    {
     "name": "stdout",
     "output_type": "stream",
     "text": [
      "17024.23\n",
      "2016-8-11-11-30\n",
      "[False  True False False False False False False False False False False\n",
      " False False False False False False False False False False False False\n",
      " False False False False False False False False False False False False]\n"
     ]
    }
   ],
   "source": [
    "print(relation_table.loc[i_t].UTC)\n",
    "print(relation_table.loc[i_t].str_code)\n",
    "print(toocan[i_MCS].clusters.Utime == relation_table.loc[i_t].UTC)"
   ]
  },
  {
   "cell_type": "code",
   "execution_count": 16,
   "id": "db3aa23e-7608-478a-912e-5bb55615a03b",
   "metadata": {},
   "outputs": [
    {
     "name": "stdout",
     "output_type": "stream",
     "text": [
      "start_match = True\n",
      "end_match = True\n"
     ]
    }
   ],
   "source": [
    "i_test = 500\n",
    "time_i = toocan[i_test].Utime_Init\n",
    "time_e = toocan[i_test].Utime_End\n",
    "print('start_match =',toocan[i_test].clusters.Utime[0] == time_i)\n",
    "print('end_match =',toocan[i_test].clusters.Utime[-1] == time_e)"
   ]
  },
  {
   "cell_type": "code",
   "execution_count": 17,
   "id": "b0d74597-df45-4cd9-8bfd-540fadf45b23",
   "metadata": {},
   "outputs": [],
   "source": [
    "\n",
    "def timeIndex2Timedelta(i_MCS,j_t_MCS):\n",
    "    \n",
    "    date_str = toocan[i_MCS].clusters.Utime[j_t_MCS]\n",
    "    date_day = int(str(date_str).split('.')[0])\n",
    "    date_30mn = int((str(date_str).split('.')[-1]).ljust(2,'0'))\n",
    "    # compute time delta\n",
    "    td = timedelta(days = int(date_str),seconds = date_30mn*30*60)\n",
    "    # return\n",
    "    return td\n",
    "\n",
    "\n",
    "def getAgeMCS(i_MCS,j_t_MCS):\n",
    "    \"\"\"Arguments:\n",
    "    - i_MCS: index of MCS in toocan list\n",
    "    - j_t_MCS: time index in MCS lifecycle\n",
    "    \n",
    "    Returns:\n",
    "    - age in hours\"\"\"\n",
    "    \n",
    "    # birth time\n",
    "    time_birth = timeIndex2Timedelta(i_MCS,0)\n",
    "    # current time\n",
    "    time_now = timeIndex2Timedelta(i_MCS,j_t_MCS)\n",
    "    # age delta\n",
    "    age_delta = time_now - time_birth\n",
    "    \n",
    "    return age_delta.total_seconds()/3600\n"
   ]
  },
  {
   "cell_type": "code",
   "execution_count": 18,
   "id": "fde57911-9ee1-4109-9751-620ef3a482f5",
   "metadata": {},
   "outputs": [
    {
     "data": {
      "text/plain": [
       "0.02857142857142857"
      ]
     },
     "execution_count": 18,
     "metadata": {},
     "output_type": "execute_result"
    }
   ],
   "source": [
    "# find correct slice in TOOCAN lifecycle for current time\n",
    "j_MCS_at_t = np.where(toocan[i_MCS].clusters.Utime == relation_table.loc[i_t].UTC)[0][0]\n",
    "\n",
    "# turn it into system's age\n",
    "age = getAgeMCS(i_MCS,j_MCS_at_t) # in hours\n",
    "\n",
    "# total lifetime\n",
    "lifetime_MCS = getAgeMCS(i_MCS,-1) # in hours\n",
    "\n",
    "age/lifetime_MCS"
   ]
  },
  {
   "cell_type": "code",
   "execution_count": 19,
   "id": "04299224-5448-4d86-a1ed-e068487088e9",
   "metadata": {},
   "outputs": [
    {
     "name": "stdout",
     "output_type": "stream",
     "text": [
      "age: 0.5\n",
      "duration: 17.5\n",
      "normalized age: 2.857%\n"
     ]
    }
   ],
   "source": [
    "# check if current label occurs in current segmentation mask\n",
    "time_match = bool(np.any(segmask == toocan[i_MCS].label).data)\n",
    "\n",
    "if time_match:\n",
    "    \n",
    "    # find correct slice in TOOCAN lifecycle for current time\n",
    "    j_MCS_at_t = np.where(toocan[i_MCS].clusters.Utime == relation_table.loc[i_t].UTC)[0][0]\n",
    "    \n",
    "    # turn it into system's age\n",
    "    age_MCS_at_t = getAgeMCS(i_MCS,j_MCS_at_t) # in hours\n",
    "    \n",
    "    # total lifetime\n",
    "    lifetime_MCS = getAgeMCS(i_MCS,-1) # in hours\n",
    "    \n",
    "    # normalized age\n",
    "    norm_age_MCS_at_t = age_MCS_at_t/lifetime_MCS\n",
    "    \n",
    "    print('age:',age_MCS_at_t)\n",
    "    print('duration:', lifetime_MCS)\n",
    "    print('normalized age: %2.3f%%'%(norm_age_MCS_at_t*100))\n"
   ]
  },
  {
   "cell_type": "markdown",
   "id": "d3b72388-e4bd-4660-9acf-d5f6b13c4c7f",
   "metadata": {},
   "source": [
    "## test getMCSAge(self,i_t,MCS_label)"
   ]
  },
  {
   "cell_type": "code",
   "execution_count": 109,
   "id": "76b7c08e-ecc3-4605-8232-5233832ac98f",
   "metadata": {},
   "outputs": [],
   "source": [
    "lcm = LifeCycleMapping(None,relation_table,toocan)"
   ]
  },
  {
   "cell_type": "code",
   "execution_count": 110,
   "id": "19009398-2873-4eec-bd91-6bb6ebeb65a8",
   "metadata": {},
   "outputs": [
    {
     "name": "stderr",
     "output_type": "stream",
     "text": [
      "/home/bfildier/.local/lib/python3.8/site-packages/xarray/conventions.py:492: SerializationWarning: variable 'MCS_label' has multiple fill values {-999.0, -998.0}, decoding all values to NaN.\n",
      "  new_vars[k] = decode_cf_variable(\n"
     ]
    }
   ],
   "source": [
    "# example time index\n",
    "i_t_test = 500\n",
    "\n",
    "# example MCS label\n",
    "label_test = 134180\n",
    "\n",
    "# load segmentation mask for that date\n",
    "segmask = loadTOOCANSeg(i_t_test,relation_table)"
   ]
  },
  {
   "cell_type": "code",
   "execution_count": 112,
   "id": "72ad2ed0-b647-4e5a-8c9d-de348095d68c",
   "metadata": {},
   "outputs": [
    {
     "name": "stdout",
     "output_type": "stream",
     "text": [
      "age of MCS 134180 at time index 500: 0.5\n",
      "Normalized age of MCS 134180 at time index 500: 0.02857142857142857\n"
     ]
    }
   ],
   "source": [
    "age = lcm.computeMCSAgeMetrics(i_t_test,label_test,segmask)\n",
    "print('age of MCS %d at time index %d:'%(label_test,i_t_test),age)\n",
    "\n",
    "norm_age = lcm.computeMCSAgeMetrics(i_t_test,label_test,segmask,normalize=True)\n",
    "print('Normalized age of MCS %d at time index %d:'%(label_test,i_t_test),norm_age)"
   ]
  },
  {
   "cell_type": "markdown",
   "id": "9afc9bb3-98f7-4ac5-89ad-80b71ead7354",
   "metadata": {},
   "source": [
    "# test segMaskToAgeMask"
   ]
  },
  {
   "cell_type": "code",
   "execution_count": 122,
   "id": "11302adc-0c5c-42ae-873f-671ac261b30c",
   "metadata": {},
   "outputs": [],
   "source": [
    "from fcns_movie import *"
   ]
  },
  {
   "cell_type": "code",
   "execution_count": 123,
   "id": "ddfc229d-3d8d-41a4-a3c2-aaa1168db487",
   "metadata": {},
   "outputs": [],
   "source": [
    "lcm = LifeCycleMapping(None,relation_table,toocan)"
   ]
  },
  {
   "cell_type": "code",
   "execution_count": 116,
   "id": "8780c3fa-3680-4659-8eb9-25b917e32da7",
   "metadata": {},
   "outputs": [
    {
     "name": "stderr",
     "output_type": "stream",
     "text": [
      "/home/bfildier/.local/lib/python3.8/site-packages/xarray/conventions.py:492: SerializationWarning: variable 'MCS_label' has multiple fill values {-999.0, -998.0}, decoding all values to NaN.\n",
      "  new_vars[k] = decode_cf_variable(\n"
     ]
    }
   ],
   "source": [
    "# example time index\n",
    "i_t_test = 500\n",
    "\n",
    "# load segmentation mask for that date\n",
    "segmask = loadTOOCANSeg(i_t_test,relation_table)"
   ]
  },
  {
   "cell_type": "code",
   "execution_count": 124,
   "id": "621ceba8-2953-4624-90f3-0b3605442b88",
   "metadata": {},
   "outputs": [
    {
     "name": "stdout",
     "output_type": "stream",
     "text": [
      "Unexpected exception formatting exception. Falling back to standard exception\n"
     ]
    },
    {
     "name": "stderr",
     "output_type": "stream",
     "text": [
      "/home/bfildier/analyses/explore-multiscale-extremes/modules/lifecycle_mapping.py:230: FutureWarning: Using a non-tuple sequence for multidimensional indexing is deprecated; use `arr[tuple(seq)]` instead of `arr[seq]`. In the future this will be interpreted as an array index, `arr[np.array(seq)]`, which will result either in an error or a different result.\n",
      "Traceback (most recent call last):\n",
      "  File \"/home/bfildier/.conda/envs/pyLMD/lib/python3.8/site-packages/IPython/core/interactiveshell.py\", line 3460, in run_code\n",
      "    exec(code_obj, self.user_global_ns, self.user_ns)\n",
      "  File \"/tmp/ipykernel_3803426/535694889.py\", line 1, in <module>\n",
      "    age_mask = lcm.computeAgeMask(i_t_test,segmask)\n",
      "  File \"/home/bfildier/analyses/explore-multiscale-extremes/modules/lifecycle_mapping.py\", line 230, in computeAgeMask\n",
      "    age_mask[segmask == label] = ages[label]\n",
      "IndexError: boolean index did not match indexed array along dimension 0; dimension is 1 but corresponding boolean dimension is 2072\n",
      "\n",
      "During handling of the above exception, another exception occurred:\n",
      "\n",
      "Traceback (most recent call last):\n",
      "  File \"/home/bfildier/.conda/envs/pyLMD/lib/python3.8/site-packages/IPython/core/interactiveshell.py\", line 2057, in showtraceback\n",
      "    stb = self.InteractiveTB.structured_traceback(\n",
      "  File \"/home/bfildier/.conda/envs/pyLMD/lib/python3.8/site-packages/IPython/core/ultratb.py\", line 1118, in structured_traceback\n",
      "    return FormattedTB.structured_traceback(\n",
      "  File \"/home/bfildier/.conda/envs/pyLMD/lib/python3.8/site-packages/IPython/core/ultratb.py\", line 1012, in structured_traceback\n",
      "    return VerboseTB.structured_traceback(\n",
      "  File \"/home/bfildier/.conda/envs/pyLMD/lib/python3.8/site-packages/IPython/core/ultratb.py\", line 865, in structured_traceback\n",
      "    formatted_exception = self.format_exception_as_a_whole(etype, evalue, etb, number_of_lines_of_context,\n",
      "  File \"/home/bfildier/.conda/envs/pyLMD/lib/python3.8/site-packages/IPython/core/ultratb.py\", line 818, in format_exception_as_a_whole\n",
      "    frames.append(self.format_record(r))\n",
      "  File \"/home/bfildier/.conda/envs/pyLMD/lib/python3.8/site-packages/IPython/core/ultratb.py\", line 736, in format_record\n",
      "    result += ''.join(_format_traceback_lines(frame_info.lines, Colors, self.has_colors, lvals))\n",
      "  File \"/home/bfildier/.conda/envs/pyLMD/lib/python3.8/site-packages/stack_data/utils.py\", line 145, in cached_property_wrapper\n",
      "    value = obj.__dict__[self.func.__name__] = self.func(obj)\n",
      "  File \"/home/bfildier/.conda/envs/pyLMD/lib/python3.8/site-packages/stack_data/core.py\", line 698, in lines\n",
      "    pieces = self.included_pieces\n",
      "  File \"/home/bfildier/.conda/envs/pyLMD/lib/python3.8/site-packages/stack_data/utils.py\", line 145, in cached_property_wrapper\n",
      "    value = obj.__dict__[self.func.__name__] = self.func(obj)\n",
      "  File \"/home/bfildier/.conda/envs/pyLMD/lib/python3.8/site-packages/stack_data/core.py\", line 649, in included_pieces\n",
      "    pos = scope_pieces.index(self.executing_piece)\n",
      "  File \"/home/bfildier/.conda/envs/pyLMD/lib/python3.8/site-packages/stack_data/utils.py\", line 145, in cached_property_wrapper\n",
      "    value = obj.__dict__[self.func.__name__] = self.func(obj)\n",
      "  File \"/home/bfildier/.conda/envs/pyLMD/lib/python3.8/site-packages/stack_data/core.py\", line 628, in executing_piece\n",
      "    return only(\n",
      "  File \"/home/bfildier/.conda/envs/pyLMD/lib/python3.8/site-packages/executing/executing.py\", line 164, in only\n",
      "    raise NotOneValueFound('Expected one value, found 0')\n",
      "executing.executing.NotOneValueFound: Expected one value, found 0\n"
     ]
    }
   ],
   "source": [
    "age_mask = lcm.computeAgeMask(i_t_test,segmask)\n",
    "\n",
    "# show\n",
    "fig = plt.figure(figsize=(Lx_fig,Ly_fig))\n",
    "ax = plt.axes(projection=ccrs.PlateCarree(central_longitude=0))\n",
    "\n",
    "ax.pcolormesh(age_mask%10,transform=ccrs.PlateCarree(),cmap=cmap_mcs,alpha=1)\n"
   ]
  }
 ],
 "metadata": {
  "kernelspec": {
   "display_name": "Python 3 (ipykernel)",
   "language": "python",
   "name": "python3"
  },
  "language_info": {
   "codemirror_mode": {
    "name": "ipython",
    "version": 3
   },
   "file_extension": ".py",
   "mimetype": "text/x-python",
   "name": "python",
   "nbconvert_exporter": "python",
   "pygments_lexer": "ipython3",
   "version": "3.8.13"
  }
 },
 "nbformat": 4,
 "nbformat_minor": 5
}
