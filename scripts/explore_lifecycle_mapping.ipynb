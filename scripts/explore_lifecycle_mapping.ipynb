{
 "cells": [
  {
   "cell_type": "code",
   "execution_count": 21,
   "id": "bc80a21a-2a82-4a5f-8306-41aff4b0660d",
   "metadata": {},
   "outputs": [
    {
     "name": "stdout",
     "output_type": "stream",
     "text": [
      "The autoreload extension is already loaded. To reload it, use:\n",
      "  %reload_ext autoreload\n"
     ]
    }
   ],
   "source": [
    "%load_ext autoreload\n",
    "%matplotlib inline"
   ]
  },
  {
   "cell_type": "code",
   "execution_count": 3,
   "id": "23cc86ce-59f2-4d35-b78c-12ab37a998b0",
   "metadata": {},
   "outputs": [
    {
     "name": "stdout",
     "output_type": "stream",
     "text": [
      "Own modules available: ['casestudy', 'conditionalstats', 'conditionalstats_chunked', 'plot1D', 'plot2D', 'plotCondPDFs', 'lifecycle_mapping']\n",
      "Own modules available: ['load_TOOCAN_DYAMOND_modif', 'load_TOOCAN_DYAMOND', 'load_TOOCAN_DYAMOND_modif_BF', 'fcns_load_RCEMIP_SAM', 'fcns_multiscale_extremes', 'PrecipGrid', 'fcns_load_DYAMOND_SAM', 'fcns_movie']\n"
     ]
    }
   ],
   "source": [
    "%autoreload 2\n",
    "\n",
    "import sys,os,glob\n",
    "import psutil\n",
    "\n",
    "import matplotlib\n",
    "import matplotlib.pyplot as plt\n",
    "import numpy as np\n",
    "import xarray as xr\n",
    "import pandas as pd\n",
    "from pprint import pprint\n",
    "from skimage import measure\n",
    "from scipy.optimize import curve_fit\n",
    "\n",
    "from matplotlib.colors import LogNorm\n",
    "from matplotlib.gridspec import GridSpec\n",
    "from matplotlib.patches import Rectangle\n",
    "import cartopy.crs as ccrs\n",
    "from datetime import datetime as dt\n",
    "import pickle\n",
    "\n",
    "import datetime as dt\n",
    "import re\n",
    "import gc\n",
    "import matplotlib.animation as animation\n",
    "import warnings\n",
    "\n",
    "## current script object\n",
    "thismodule = sys.modules[__name__]\n",
    "\n",
    "# Own settings\n",
    "from settings import *\n",
    "\n",
    "workdir = os.getcwd()\n",
    "moduledir, fcndir = defineDir(workdir)"
   ]
  },
  {
   "cell_type": "code",
   "execution_count": 7,
   "id": "6198cb77-d3de-4a09-ac78-48360f8e0a1a",
   "metadata": {},
   "outputs": [],
   "source": [
    "%autoreload 2\n",
    "\n",
    "# to access segmentation files and simulation outputs\n",
    "from fcns_load_DYAMOND_SAM import *\n",
    "# to access TOOCAN objects\n",
    "from load_TOOCAN_DYAMOND_modif_BF import *\n",
    "# mapping function\n",
    "from lifecycle_mapping import *\n",
    "# display functions\n",
    "from fcns_movie import *\n",
    "# plotting\n",
    "from plot1D import *"
   ]
  },
  {
   "cell_type": "code",
   "execution_count": 8,
   "id": "87d1cf76-f8b9-4b6b-b676-4c042e388839",
   "metadata": {},
   "outputs": [],
   "source": [
    "# load relation table\n",
    "relation_table = loadRelTable('DYAMOND_SEG')"
   ]
  },
  {
   "cell_type": "code",
   "execution_count": 9,
   "id": "176d913f-a603-412a-840f-ad400141b6f1",
   "metadata": {},
   "outputs": [
    {
     "data": {
      "text/plain": [
       "['/data/fiolleau/DYAMOND/TOOCAN/TOOCAN_v2.07/GLOBAL/2016/FileTracking/TOOCAN-GLOBAL-20160901-20160910.dat.gz',\n",
       " '/data/fiolleau/DYAMOND/TOOCAN/TOOCAN_v2.07/GLOBAL/2016/FileTracking/TOOCAN-GLOBAL-20160801-20160831.dat.gz']"
      ]
     },
     "execution_count": 9,
     "metadata": {},
     "output_type": "execute_result"
    }
   ],
   "source": [
    "glob.glob(os.path.join(DIR_TOOCAN_DYAMOND,'*.gz'))"
   ]
  },
  {
   "cell_type": "code",
   "execution_count": 10,
   "id": "df9a0b59-c84c-45fb-8b10-b301e2c79b48",
   "metadata": {},
   "outputs": [
    {
     "name": "stdout",
     "output_type": "stream",
     "text": [
      "load /data/fiolleau/DYAMOND/TOOCAN/TOOCAN_v2.07/GLOBAL/2016/FileTracking/TOOCAN-GLOBAL-20160901-20160910.dat.gz\n",
      "/data/fiolleau/DYAMOND/TOOCAN/TOOCAN_v2.07/GLOBAL/2016/FileTracking/TOOCAN-GLOBAL-20160901-20160910.dat.gz\n",
      "load /data/fiolleau/DYAMOND/TOOCAN/TOOCAN_v2.07/GLOBAL/2016/FileTracking/TOOCAN-GLOBAL-20160801-20160831.dat.gz\n",
      "/data/fiolleau/DYAMOND/TOOCAN/TOOCAN_v2.07/GLOBAL/2016/FileTracking/TOOCAN-GLOBAL-20160801-20160831.dat.gz\n"
     ]
    },
    {
     "ename": "KeyboardInterrupt",
     "evalue": "",
     "output_type": "error",
     "traceback": [
      "\u001b[0;31m---------------------------------------------------------------------------\u001b[0m",
      "\u001b[0;31mKeyboardInterrupt\u001b[0m                         Traceback (most recent call last)",
      "Cell \u001b[0;32mIn[10], line 1\u001b[0m\n\u001b[0;32m----> 1\u001b[0m toocan \u001b[38;5;241m=\u001b[39m \u001b[43mloadAllMCSs\u001b[49m\u001b[43m(\u001b[49m\u001b[43mDIR_TOOCAN_DYAMOND\u001b[49m\u001b[43m,\u001b[49m\u001b[43mload_TOOCAN_DYAMOND\u001b[49m\u001b[43m)\u001b[49m\n",
      "File \u001b[0;32m~/analyses/explore-multiscale-extremes/functions/fcns_load_DYAMOND_SAM.py:105\u001b[0m, in \u001b[0;36mloadAllMCSs\u001b[0;34m(path_to_dir, fun_load_TOOCAN)\u001b[0m\n\u001b[1;32m    103\u001b[0m     path \u001b[38;5;241m=\u001b[39m paths_TOOCAN[i_p]\n\u001b[1;32m    104\u001b[0m     \u001b[38;5;28mprint\u001b[39m(\u001b[38;5;124m'\u001b[39m\u001b[38;5;124mload \u001b[39m\u001b[38;5;132;01m%s\u001b[39;00m\u001b[38;5;124m'\u001b[39m\u001b[38;5;241m%\u001b[39mpath)\n\u001b[0;32m--> 105\u001b[0m     toocan\u001b[38;5;241m.\u001b[39mextend(\u001b[43mfun_load_TOOCAN\u001b[49m\u001b[43m(\u001b[49m\u001b[43mpath\u001b[49m\u001b[43m)\u001b[49m)\n\u001b[1;32m    107\u001b[0m \u001b[38;5;28;01mreturn\u001b[39;00m toocan\n",
      "File \u001b[0;32m~/analyses/explore-multiscale-extremes/functions/load_TOOCAN_DYAMOND_modif_BF.py:326\u001b[0m, in \u001b[0;36mload_TOOCAN_DYAMOND\u001b[0;34m(FileTOOCAN)\u001b[0m\n\u001b[1;32m    324\u001b[0m data[iMCS]\u001b[38;5;241m.\u001b[39mclusters\u001b[38;5;241m.\u001b[39msemimajor_172Wm2\u001b[38;5;241m.\u001b[39mappend(\u001b[38;5;28mfloat\u001b[39m(Values[\u001b[38;5;241m14\u001b[39m]))  \u001b[38;5;66;03m#\u001b[39;00m\n\u001b[1;32m    325\u001b[0m data[iMCS]\u001b[38;5;241m.\u001b[39mclusters\u001b[38;5;241m.\u001b[39mexcentricity_172Wm2\u001b[38;5;241m.\u001b[39mappend(\u001b[38;5;28mfloat\u001b[39m(Values[\u001b[38;5;241m15\u001b[39m]))  \u001b[38;5;66;03m#\u001b[39;00m\n\u001b[0;32m--> 326\u001b[0m data[iMCS]\u001b[38;5;241m.\u001b[39mclusters\u001b[38;5;241m.\u001b[39morientation_172Wm2\u001b[38;5;241m.\u001b[39mappend(\u001b[38;5;28;43mfloat\u001b[39;49m\u001b[43m(\u001b[49m\u001b[43mValues\u001b[49m\u001b[43m[\u001b[49m\u001b[38;5;241;43m16\u001b[39;49m\u001b[43m]\u001b[49m\u001b[43m)\u001b[49m)  \u001b[38;5;66;03m#\u001b[39;00m\n\u001b[1;32m    328\u001b[0m data[iMCS]\u001b[38;5;241m.\u001b[39mclusters\u001b[38;5;241m.\u001b[39msemiminor_132Wm2\u001b[38;5;241m.\u001b[39mappend(\u001b[38;5;28mfloat\u001b[39m(Values[\u001b[38;5;241m17\u001b[39m]))  \u001b[38;5;66;03m#\u001b[39;00m\n\u001b[1;32m    329\u001b[0m data[iMCS]\u001b[38;5;241m.\u001b[39mclusters\u001b[38;5;241m.\u001b[39msemimajor_132Wm2\u001b[38;5;241m.\u001b[39mappend(\u001b[38;5;28mfloat\u001b[39m(Values[\u001b[38;5;241m18\u001b[39m]))  \u001b[38;5;66;03m#\u001b[39;00m\n",
      "\u001b[0;31mKeyboardInterrupt\u001b[0m: "
     ]
    }
   ],
   "source": [
    "toocan = loadAllMCSs(DIR_TOOCAN_DYAMOND,load_TOOCAN_DYAMOND)"
   ]
  },
  {
   "cell_type": "code",
   "execution_count": null,
   "id": "e9e5d7a3-8860-4c8e-9ad9-0f8c2753d6b9",
   "metadata": {},
   "outputs": [],
   "source": [
    "# list of TOOCAN labels, for quicker mapping on toocan list\n",
    "labels_toocan = [toocan[i].label for i in range(len(toocan))]"
   ]
  },
  {
   "cell_type": "markdown",
   "id": "f3756a6f-bee6-4d42-96c9-07323b3f51df",
   "metadata": {},
   "source": [
    "# Test LifeCycleMapping methods"
   ]
  },
  {
   "cell_type": "code",
   "execution_count": 14,
   "id": "1691a888-211a-4614-beab-c702b1990353",
   "metadata": {},
   "outputs": [],
   "source": [
    "# Example data\n",
    "\n",
    "i_t = 500 # index in relation table\n",
    "date = relation_table.loc[i_t].str_code\n",
    "\n",
    "# load segmentation mask for that date\n",
    "segmask = loadTOOCANSeg(i_t,relation_table)\n"
   ]
  },
  {
   "cell_type": "code",
   "execution_count": 15,
   "id": "8d1737f6-b70e-4e59-a78b-4572be210536",
   "metadata": {},
   "outputs": [
    {
     "name": "stdout",
     "output_type": "stream",
     "text": [
      "[119749 121064 126715 ... 134180 134208 134331]\n"
     ]
    }
   ],
   "source": [
    "# list all labels in segmask\n",
    "def getLabelsInSegmentationMask(segmask):\n",
    "    \n",
    "    seg_1D = segmask.values.flatten()\n",
    "    seg_1D_nonans = seg_1D[~np.isnan(seg_1D)]\n",
    "\n",
    "    return np.unique(np.array(seg_1D_nonans,dtype=int))\n",
    "    \n",
    "labels_in_segmask = getLabelsInSegmentationMask(segmask)\n",
    "print(labels_in_segmask)"
   ]
  },
  {
   "cell_type": "code",
   "execution_count": 16,
   "id": "ee36175e-495d-456f-84aa-ab6616052046",
   "metadata": {},
   "outputs": [
    {
     "name": "stdout",
     "output_type": "stream",
     "text": [
      "reading from ../input/TOOCAN_time_table.csv\n"
     ]
    }
   ],
   "source": [
    "# set location on disk and check if exists\n",
    "timetable_file = 'TOOCAN_time_table.csv'\n",
    "timetable_path = os.path.join(DIR_DATA,timetable_file)\n",
    "\n",
    "# check if table exists on disk\n",
    "table_exists = len(glob.glob(timetable_path)) > 0 \n",
    "\n",
    "# choose to overwrite\n",
    "overwrite = False\n",
    "\n",
    "# Load or compute time table\n",
    "\n",
    "if table_exists and not overwrite:\n",
    "    \n",
    "    #-- read from disk\n",
    "    print('reading from %s'%timetable_path)\n",
    "    toocan_timetable = pd.read_csv(timetable_path)\n",
    "    \n",
    "else:\n",
    "    \n",
    "     toocan_timetable = None\n",
    "        "
   ]
  },
  {
   "cell_type": "code",
   "execution_count": 17,
   "id": "cdfb98d4-dc36-4965-ad39-e4817f4460f3",
   "metadata": {},
   "outputs": [],
   "source": [
    "lcm = LifeCycleMapping(None,relation_table,toocan_timetable,toocan)"
   ]
  },
  {
   "cell_type": "markdown",
   "id": "7114e569-df2b-4d3a-a58d-658c369aaee9",
   "metadata": {},
   "source": [
    "## dev getMCSAge(self,i_t,MCS_label)"
   ]
  },
  {
   "cell_type": "code",
   "execution_count": 14,
   "id": "e7326e90-66e9-47e7-a641-07f9da0341bc",
   "metadata": {},
   "outputs": [],
   "source": [
    "# example MCS label\n",
    "label = 134180\n",
    "\n",
    "# index in list\n",
    "i_MCS = np.where(np.array(labels_toocan) == label)[0][0]\n",
    "\n",
    "# print(i_MCS,lcm.toocan_index_of_label[label])"
   ]
  },
  {
   "cell_type": "code",
   "execution_count": 15,
   "id": "cd63e49e-47b1-4b77-89c5-a9b617c6682a",
   "metadata": {},
   "outputs": [
    {
     "data": {
      "text/plain": [
       "<matplotlib.legend.Legend at 0x14a7e02bafa0>"
      ]
     },
     "execution_count": 15,
     "metadata": {},
     "output_type": "execute_result"
    }
   ],
   "source": [
    "# show lifecycle\n",
    "\n",
    "area_labels = 'surfkm2_172Wm2', 'surfkm2_132Wm2', 'surfkm2_110Wm2', 'surfkm2_90Wm2'\n",
    "n_labs = len(area_labels)\n",
    "\n",
    "fig,ax = plt.subplots(figsize=(6,5))\n",
    "\n",
    "for i_l in range(n_labs):\n",
    "\n",
    "    area_lab = area_labels[0]\n",
    "    \n",
    "    time = toocan[i_MCS].clusters.Localtime\n",
    "    area_t = np.array(getattr(toocan[i_MCS].clusters,area_lab))\n",
    "    \n",
    "    ax.plot(time,area_t,label=area_lab)\n",
    "    \n",
    "plt.legend()"
   ]
  },
  {
   "cell_type": "code",
   "execution_count": 16,
   "id": "0215f1c6-f627-427f-8403-899ae706a1a3",
   "metadata": {},
   "outputs": [
    {
     "name": "stdout",
     "output_type": "stream",
     "text": [
      "134180\n"
     ]
    },
    {
     "data": {
      "text/plain": [
       "True"
      ]
     },
     "execution_count": 16,
     "metadata": {},
     "output_type": "execute_result"
    }
   ],
   "source": [
    "print(toocan[i_MCS].label)\n",
    "bool(np.any(segmask == toocan[i_MCS].label).data)"
   ]
  },
  {
   "cell_type": "code",
   "execution_count": 17,
   "id": "e8580adf-02f1-4055-a408-c84db57d2f52",
   "metadata": {},
   "outputs": [
    {
     "name": "stdout",
     "output_type": "stream",
     "text": [
      "17024.23\n",
      "2016-8-11-11-30\n",
      "[False  True False False False False False False False False False False\n",
      " False False False False False False False False False False False False\n",
      " False False False False False False False False False False False False]\n"
     ]
    }
   ],
   "source": [
    "print(relation_table.loc[i_t].UTC)\n",
    "print(relation_table.loc[i_t].str_code)\n",
    "print(toocan[i_MCS].clusters.Utime == relation_table.loc[i_t].UTC)"
   ]
  },
  {
   "cell_type": "code",
   "execution_count": 18,
   "id": "db3aa23e-7608-478a-912e-5bb55615a03b",
   "metadata": {},
   "outputs": [
    {
     "name": "stdout",
     "output_type": "stream",
     "text": [
      "start_match = True\n",
      "end_match = True\n"
     ]
    }
   ],
   "source": [
    "i_test = 500\n",
    "time_i = toocan[i_test].Utime_Init\n",
    "time_e = toocan[i_test].Utime_End\n",
    "print('start_match =',toocan[i_test].clusters.Utime[0] == time_i)\n",
    "print('end_match =',toocan[i_test].clusters.Utime[-1] == time_e)"
   ]
  },
  {
   "cell_type": "code",
   "execution_count": 19,
   "id": "b0d74597-df45-4cd9-8bfd-540fadf45b23",
   "metadata": {},
   "outputs": [],
   "source": [
    "\n",
    "def timeIndex2Timedelta(i_MCS,j_t_MCS):\n",
    "    \n",
    "    date_str = toocan[i_MCS].clusters.Utime[j_t_MCS]\n",
    "    date_day = int(str(date_str).split('.')[0])\n",
    "    date_30mn = int((str(date_str).split('.')[-1]).ljust(2,'0'))\n",
    "    # compute time delta\n",
    "    td = timedelta(days = int(date_str),seconds = date_30mn*30*60)\n",
    "    # return\n",
    "    return td\n",
    "\n",
    "\n",
    "def getAgeMCS(i_MCS,j_t_MCS):\n",
    "    \"\"\"Arguments:\n",
    "    - i_MCS: index of MCS in toocan list\n",
    "    - j_t_MCS: time index in MCS lifecycle\n",
    "    \n",
    "    Returns:\n",
    "    - age in hours\"\"\"\n",
    "    \n",
    "    # birth time\n",
    "    time_birth = timeIndex2Timedelta(i_MCS,0)\n",
    "    # current time\n",
    "    time_now = timeIndex2Timedelta(i_MCS,j_t_MCS)\n",
    "    # age delta\n",
    "    age_delta = time_now - time_birth\n",
    "    \n",
    "    return age_delta.total_seconds()/3600\n"
   ]
  },
  {
   "cell_type": "code",
   "execution_count": 20,
   "id": "fde57911-9ee1-4109-9751-620ef3a482f5",
   "metadata": {},
   "outputs": [
    {
     "data": {
      "text/plain": [
       "0.02857142857142857"
      ]
     },
     "execution_count": 20,
     "metadata": {},
     "output_type": "execute_result"
    }
   ],
   "source": [
    "# find correct slice in TOOCAN lifecycle for current time\n",
    "j_MCS_at_t = np.where(toocan[i_MCS].clusters.Utime == relation_table.loc[i_t].UTC)[0][0]\n",
    "\n",
    "# turn it into system's age\n",
    "age = getAgeMCS(i_MCS,j_MCS_at_t) # in hours\n",
    "\n",
    "# total lifetime\n",
    "lifetime_MCS = getAgeMCS(i_MCS,-1) # in hours\n",
    "\n",
    "age/lifetime_MCS"
   ]
  },
  {
   "cell_type": "code",
   "execution_count": 21,
   "id": "04299224-5448-4d86-a1ed-e068487088e9",
   "metadata": {},
   "outputs": [
    {
     "name": "stdout",
     "output_type": "stream",
     "text": [
      "age: 0.5\n",
      "duration: 17.5\n",
      "normalized age: 2.857%\n"
     ]
    }
   ],
   "source": [
    "# check if current label occurs in current segmentation mask\n",
    "time_match = bool(np.any(segmask == toocan[i_MCS].label).data)\n",
    "\n",
    "if time_match:\n",
    "    \n",
    "    # find correct slice in TOOCAN lifecycle for current time\n",
    "    j_MCS_at_t = np.where(toocan[i_MCS].clusters.Utime == relation_table.loc[i_t].UTC)[0][0]\n",
    "    \n",
    "    # turn it into system's age\n",
    "    age_MCS_at_t = getAgeMCS(i_MCS,j_MCS_at_t) # in hours\n",
    "    \n",
    "    # total lifetime\n",
    "    lifetime_MCS = getAgeMCS(i_MCS,-1) # in hours\n",
    "    \n",
    "    # normalized age\n",
    "    norm_age_MCS_at_t = age_MCS_at_t/lifetime_MCS\n",
    "    \n",
    "    print('age:',age_MCS_at_t)\n",
    "    print('duration:', lifetime_MCS)\n",
    "    print('normalized age: %2.3f%%'%(norm_age_MCS_at_t*100))\n"
   ]
  },
  {
   "cell_type": "markdown",
   "id": "d3b72388-e4bd-4660-9acf-d5f6b13c4c7f",
   "metadata": {},
   "source": [
    "## test getMCSAge(self,i_t,MCS_label)"
   ]
  },
  {
   "cell_type": "code",
   "execution_count": 22,
   "id": "76b7c08e-ecc3-4605-8232-5233832ac98f",
   "metadata": {},
   "outputs": [],
   "source": [
    "lcm = LifeCycleMapping(None,relation_table,toocan_timetable,toocan)"
   ]
  },
  {
   "cell_type": "code",
   "execution_count": 23,
   "id": "19009398-2873-4eec-bd91-6bb6ebeb65a8",
   "metadata": {},
   "outputs": [],
   "source": [
    "# example time index\n",
    "i_t_test = 500\n",
    "\n",
    "# example MCS label\n",
    "label_test = 134180\n",
    "\n",
    "# load segmentation mask for that date\n",
    "segmask = loadTOOCANSeg(i_t_test,relation_table)"
   ]
  },
  {
   "cell_type": "code",
   "execution_count": 24,
   "id": "72ad2ed0-b647-4e5a-8c9d-de348095d68c",
   "metadata": {},
   "outputs": [
    {
     "name": "stdout",
     "output_type": "stream",
     "text": [
      "age of MCS 134180 at time index 500: 0.5\n",
      "Normalized age of MCS 134180 at time index 500: 0.02857142857142857\n"
     ]
    }
   ],
   "source": [
    "age = lcm.computeMCSAgeMetrics(i_t_test,label_test,segmask)\n",
    "print('age of MCS %d at time index %d:'%(label_test,i_t_test),age)\n",
    "\n",
    "norm_age = lcm.computeMCSAgeMetrics(i_t_test,label_test,segmask,metric='norm_age')\n",
    "print('Normalized age of MCS %d at time index %d:'%(label_test,i_t_test),norm_age)"
   ]
  },
  {
   "cell_type": "markdown",
   "id": "bafdaae1-9247-45cd-b694-8d528567ae10",
   "metadata": {},
   "source": [
    "# dev segMaskToAgeMask"
   ]
  },
  {
   "cell_type": "markdown",
   "id": "2e446736-1537-443b-bd6f-72eada65754b",
   "metadata": {},
   "source": [
    "Speed up calculation of age mask by computing a time table first. Include it in __init__ function of class LifeCycleMapping."
   ]
  },
  {
   "cell_type": "code",
   "execution_count": 25,
   "id": "79f390d6-d16c-4b50-a7f9-6d8d0d173e0b",
   "metadata": {},
   "outputs": [],
   "source": [
    "#----- generate MCS_time_table -----#"
   ]
  },
  {
   "cell_type": "code",
   "execution_count": 26,
   "id": "adb4b64f-2143-46a7-bfa9-b774518da20b",
   "metadata": {},
   "outputs": [],
   "source": [
    "# set location on disk and check if exists\n",
    "timetable_file = 'TOOCAN_time_table.csv'\n",
    "timetable_path = os.path.join(DIR_DATA,timetable_file)\n",
    "\n",
    "# check if table exists on disk\n",
    "table_exists = len(glob.glob(timetable_path)) > 0 \n",
    "\n",
    "# choose to overwrite\n",
    "overwrite = False"
   ]
  },
  {
   "cell_type": "code",
   "execution_count": 27,
   "id": "4dde77e8-3ba5-44f0-aa08-3994e208579a",
   "metadata": {},
   "outputs": [
    {
     "name": "stdout",
     "output_type": "stream",
     "text": [
      "reading from ../input/TOOCAN_time_table.csv\n",
      "CPU times: user 74.7 ms, sys: 11.7 ms, total: 86.4 ms\n",
      "Wall time: 85.6 ms\n"
     ]
    }
   ],
   "source": [
    "%%time\n",
    "\n",
    "# Load or compute time table\n",
    "\n",
    "if table_exists and not overwrite:\n",
    "    \n",
    "    #-- read from disk\n",
    "    print('reading from %s'%timetable_path)\n",
    "    toocan_timetable = pd.read_csv(timetable_path)\n",
    "    \n",
    "    # execution takes:\n",
    "    # CPU times: user 98 ms, sys: 23.7 ms, total: 122 ms\n",
    "    # Wall time: 159 ms\n",
    "    \n",
    "else:\n",
    "    \n",
    "    print('n_MCS :',len(toocan))\n",
    "    \n",
    "    #-- initialize\n",
    "    toocan_timetable = pd.DataFrame(columns=['label','i_t_min','i_t_max','duration'], index=np.arange(np.nanmax(labels_toocan)))\n",
    "    \n",
    "    #-- fill\n",
    "    for i_MCS in range(len(toocan)):\n",
    "\n",
    "        if i_MCS%10000 == 0:\n",
    "            print(i_MCS,end='..')\n",
    "\n",
    "        MCS = toocan[i_MCS]\n",
    "\n",
    "        # label\n",
    "        label = MCS.label\n",
    "\n",
    "        # birth\n",
    "        i_t_min = np.where(relation_table.UTC == MCS.Utime_Init)[0][0]\n",
    "\n",
    "        # death\n",
    "        i_t_max = np.where(relation_table.UTC == MCS.Utime_End)[0][0]\n",
    "\n",
    "        # duration (equal (i_t_max-i_t_min+1)*0.5 hrs)\n",
    "        duration = MCS.duration\n",
    "\n",
    "        # save\n",
    "        toocan_timetable.loc[label] = pd.Series({'label':label,'i_t_min':i_t_min,'i_t_max':i_t_max,'duration':duration})\n",
    "    \n",
    "    #--- Save to disk \n",
    "    if overwrite or not table_exists:\n",
    "        print('saving to %s'%timetable_path)\n",
    "        toocan_timetable.to_csv(timetable_path)\n",
    "\n",
    "    # loop execution takes:\n",
    "    # CPU times: user 2min 47s, sys: 4.53 s, total: 2min 51s\n",
    "    # Wall time: 2min 47s\n"
   ]
  },
  {
   "cell_type": "code",
   "execution_count": 28,
   "id": "029f08d8-3f41-4b8c-afdf-62a9f0846448",
   "metadata": {},
   "outputs": [
    {
     "name": "stdout",
     "output_type": "stream",
     "text": [
      "/data/fiolleau/DYAMOND/TOOCAN/TOOCAN_v2.07/GLOBAL/2016/2016_08_11/ImageSegTOOCAN_20160811-23.nc\n",
      "/data/fiolleau/DYAMOND/TOOCAN/TOOCAN_v2.07/GLOBAL/2016/2016_08_11/ImageSegTOOCAN_20160811-23.nc\n"
     ]
    }
   ],
   "source": [
    "# LOAD TOOCAN SEGMENTATION MASK MANUALLY -- to debug weird 2D maps of segmentation masks (looks empty)\n",
    "\n",
    "# example time index\n",
    "i_t_test = 832\n",
    "\n",
    "full_path = '/'+relation_table.iloc[i_t]['img_seg_path']\n",
    "print(full_path)\n",
    "\n",
    "filename = os.path.basename(full_path)\n",
    "date = os.path.basename(os.path.dirname(full_path))\n",
    "path_TOOCAN = os.path.join(DIR_TOOCANSEG_DYAMOND,date,filename)\n",
    "print(path_TOOCAN)\n",
    "\n",
    "# Load TOOCAN data\n",
    "with warnings.catch_warnings():\n",
    "    warnings.simplefilter(\"ignore\")\n",
    "    img_TOOCAN = xr.open_dataarray(path_TOOCAN)"
   ]
  },
  {
   "cell_type": "code",
   "execution_count": 29,
   "id": "f3aece39-4179-4351-b102-2251c45fabc1",
   "metadata": {},
   "outputs": [],
   "source": [
    "## image\n",
    "cmap = plt.cm.RdBu\n",
    "# cmap_mcs = plt.cm.get_cmap('rainbow', 10)\n",
    "cmap_mcs = plt.cm.get_cmap('Accent', 10)\n",
    "clim = (10,70)\n",
    "lon_lim = (280,100)\n",
    "lat_lim = (-10,30)\n",
    "slice_lat = slice(*lat_lim)\n",
    "slice_lon = slice(*lon_lim)\n",
    "\n",
    "# compute figure size\n",
    "dlon = np.diff(lon_lim)[0] % 360\n",
    "dlat = np.diff(lat_lim)[0]\n",
    "Lx_fig = 15\n",
    "Lx_cbar = 1.5\n",
    "Ly_title = 1\n",
    "Ly_fig = (Lx_fig-Lx_cbar)/dlon*dlat + Ly_title"
   ]
  },
  {
   "cell_type": "code",
   "execution_count": 30,
   "id": "f7d2d6b3-9396-4a9a-b85d-811d786e6063",
   "metadata": {},
   "outputs": [],
   "source": [
    "# Try copying data in xarray dataArray to plot with existing function\n",
    "\n",
    "def npArray2XrDataArray(np_array):\n",
    "    \n",
    "    da_to_show = xr.DataArray(\n",
    "        data=np_array[np.newaxis,...],\n",
    "        dims=[\"time\",\"latitude\", \"longitude\"],\n",
    "        coords=dict(\n",
    "            longitude=(img_TOOCAN.longitude),\n",
    "            latitude=(img_TOOCAN.latitude),\n",
    "            time=(img_TOOCAN.time),\n",
    "        ),\n",
    "        attrs=dict(\n",
    "            description=\"TOOCAN segmentation mask.\",\n",
    "            units=\"\",\n",
    "        ),\n",
    "    )\n",
    "    \n",
    "    return da_to_show"
   ]
  },
  {
   "cell_type": "code",
   "execution_count": 31,
   "id": "68c89a3f-109d-4f7e-b905-149e67c19c18",
   "metadata": {},
   "outputs": [],
   "source": [
    "da_to_show = npArray2XrDataArray(img_TOOCAN[0].values)"
   ]
  },
  {
   "cell_type": "code",
   "execution_count": 32,
   "id": "a6045e56-2e72-41ae-87b6-60c0042cb789",
   "metadata": {},
   "outputs": [
    {
     "name": "stdout",
     "output_type": "stream",
     "text": [
      "show each side of longitude 0º\n"
     ]
    }
   ],
   "source": [
    "# initialize figure\n",
    "fig = plt.figure(figsize=(Lx_fig,Ly_fig))\n",
    "ax = plt.axes(projection=ccrs.PlateCarree(central_longitude=0))\n",
    "\n",
    "with warnings.catch_warnings():\n",
    "    warnings.simplefilter(\"ignore\")\n",
    "    ims = showSnapshot(ax,slice_lat,slice_lon,data=None,segmask=da_to_show)"
   ]
  },
  {
   "cell_type": "code",
   "execution_count": 33,
   "id": "7716c3e4-c813-45d7-9da7-8fbb087f7aff",
   "metadata": {},
   "outputs": [],
   "source": [
    "# example time index\n",
    "i_t_test = 832\n",
    "\n",
    "# load segmentation mask for that date\n",
    "segmask = loadTOOCANSeg(i_t_test,relation_table)[0]"
   ]
  },
  {
   "cell_type": "code",
   "execution_count": 34,
   "id": "7678c586-e7ff-4dc7-97c8-d3cfc4c7b432",
   "metadata": {},
   "outputs": [],
   "source": [
    "#- step 1. Mask of nans and flatten segmentation mask without nans\n",
    "\n",
    "# flatten segmask\n",
    "segmask_1D = segmask.values.flatten()\n",
    "# mask of nans\n",
    "mask_nans_segmask_1D = np.isnan(segmask_1D)\n",
    "# remove nans\n",
    "segmask_1D_valid = segmask_1D[~mask_nans_segmask_1D]"
   ]
  },
  {
   "cell_type": "code",
   "execution_count": 35,
   "id": "9c75b6c6-a41c-48ab-8464-86555db8059a",
   "metadata": {},
   "outputs": [],
   "source": [
    "#- step 2. Take time metrics at labels\n",
    "\n",
    "# births\n",
    "i_t_min_valid = np.array(toocan_timetable['i_t_min'].take(segmask_1D_valid))\n",
    "# deaths\n",
    "i_t_max_valid = np.array(toocan_timetable['i_t_max'].take(segmask_1D_valid))\n",
    "# durations\n",
    "durations_valid = np.array(toocan_timetable['duration'].take(segmask_1D_valid))\n",
    "# age\n",
    "age_valid = (i_t_test-i_t_min_valid)/2\n",
    "# normalized age\n",
    "norm_age_valid = (i_t_test-i_t_min_valid)/2/durations_valid"
   ]
  },
  {
   "cell_type": "code",
   "execution_count": 36,
   "id": "a8fe36c3-ab67-4d18-8200-26ad45d94500",
   "metadata": {},
   "outputs": [],
   "source": [
    "#- step 3. Insert in 1D arrays with nans\n",
    "\n",
    "# age\n",
    "age_1D = np.full(segmask_1D.shape,np.nan)\n",
    "age_1D[~mask_nans_segmask_1D] = age_valid\n",
    "# norm age\n",
    "norm_age_1D = np.full(segmask_1D.shape,np.nan)\n",
    "norm_age_1D[~mask_nans_segmask_1D] = norm_age_valid"
   ]
  },
  {
   "cell_type": "code",
   "execution_count": 37,
   "id": "8df5d1f3-9461-4c19-9bab-be01205cecb5",
   "metadata": {},
   "outputs": [],
   "source": [
    "#- step 4. reshape\n",
    "\n",
    "age = np.reshape(age_1D, segmask.shape)\n",
    "norm_age = np.reshape(norm_age_1D, segmask.shape)"
   ]
  },
  {
   "cell_type": "code",
   "execution_count": 38,
   "id": "ec7a1be9-3583-4b6e-b875-4911dfe272ea",
   "metadata": {},
   "outputs": [
    {
     "data": {
      "text/plain": [
       "(0.9677184508727478, 0.9677184508727478, 0.9677184508727478)"
      ]
     },
     "execution_count": 38,
     "metadata": {},
     "output_type": "execute_result"
    }
   ],
   "source": [
    "np.isnan(age).sum()/age.size, np.isnan(age_1D).sum()/age_1D.size, np.sum(mask_nans_segmask_1D)/mask_nans_segmask_1D.size, "
   ]
  },
  {
   "cell_type": "code",
   "execution_count": 39,
   "id": "983942d7-4b51-426f-bb92-d815a5d25739",
   "metadata": {},
   "outputs": [
    {
     "data": {
      "text/plain": [
       "[<cartopy.mpl.geocollection.GeoQuadMesh at 0x14a7df72c610>]"
      ]
     },
     "execution_count": 39,
     "metadata": {},
     "output_type": "execute_result"
    }
   ],
   "source": [
    "ims[0]"
   ]
  },
  {
   "cell_type": "code",
   "execution_count": 42,
   "id": "644cdab0-029a-42a3-b17e-789920d6081e",
   "metadata": {},
   "outputs": [
    {
     "name": "stdout",
     "output_type": "stream",
     "text": [
      "show each side of longitude 0º\n"
     ]
    },
    {
     "data": {
      "image/png": "[encoded data removed]",
      "text/plain": [
       "<Figure size 1500x400 with 2 Axes>"
      ]
     },
     "metadata": {},
     "output_type": "display_data"
    }
   ],
   "source": [
    "# initialize figure\n",
    "fig = plt.figure(figsize=(Lx_fig,Ly_fig))\n",
    "ax = plt.axes(projection=ccrs.PlateCarree(central_longitude=0))\n",
    "\n",
    "with warnings.catch_warnings():\n",
    "    warnings.simplefilter(\"ignore\")\n",
    "    ims = showSnapshot(ax,slice_lat,slice_lon,data=None,segmask=npArray2XrDataArray(age),MCS_color_mode='linear')\n",
    "    \n",
    "    showColorBar(fig,ax,ims[0][0],label='MCS age (hrs)')"
   ]
  },
  {
   "cell_type": "markdown",
   "id": "9afc9bb3-98f7-4ac5-89ad-80b71ead7354",
   "metadata": {},
   "source": [
    "# test segMaskToAgeMask"
   ]
  },
  {
   "cell_type": "code",
   "execution_count": 43,
   "id": "11302adc-0c5c-42ae-873f-671ac261b30c",
   "metadata": {},
   "outputs": [],
   "source": [
    "from fcns_movie import *"
   ]
  },
  {
   "cell_type": "code",
   "execution_count": 80,
   "id": "ddfc229d-3d8d-41a4-a3c2-aaa1168db487",
   "metadata": {},
   "outputs": [],
   "source": [
    "lcm = LifeCycleMapping(None,relation_table,toocan_timetable,toocan)"
   ]
  },
  {
   "cell_type": "code",
   "execution_count": 45,
   "id": "8780c3fa-3680-4659-8eb9-25b917e32da7",
   "metadata": {},
   "outputs": [],
   "source": [
    "# example time index\n",
    "i_t_test = 500\n",
    "\n",
    "# load segmentation mask for that date\n",
    "segmask = loadTOOCANSeg(i_t_test,relation_table)[0]"
   ]
  },
  {
   "cell_type": "code",
   "execution_count": 46,
   "id": "4ee6c30a-59f0-4663-85ba-629f2f72f891",
   "metadata": {},
   "outputs": [
    {
     "name": "stdout",
     "output_type": "stream",
     "text": [
      "show each side of longitude 0º\n"
     ]
    },
    {
     "data": {
      "image/png": "[encoded data removed]",
      "text/plain": [
       "<Figure size 1500x400 with 2 Axes>"
      ]
     },
     "metadata": {},
     "output_type": "display_data"
    }
   ],
   "source": [
    "# initialize figure\n",
    "fig = plt.figure(figsize=(Lx_fig,Ly_fig))\n",
    "ax = plt.axes(projection=ccrs.PlateCarree(central_longitude=0))\n",
    "\n",
    "with warnings.catch_warnings():\n",
    "    warnings.simplefilter(\"ignore\")\n",
    "    ims = showSnapshot(ax,slice_lat,slice_lon,data=None,segmask=npArray2XrDataArray(segmask.values),MCS_color_mode='cyclic')\n",
    "    \n",
    "    showColorBar(fig,ax,ims[0][0],label='MCS label (%10)')"
   ]
  },
  {
   "cell_type": "code",
   "execution_count": 47,
   "id": "b434eee6-0062-41fa-ada3-221b70812a48",
   "metadata": {},
   "outputs": [
    {
     "name": "stdout",
     "output_type": "stream",
     "text": [
      "only one side of longitude 0º\n"
     ]
    },
    {
     "data": {
      "image/png": "[encoded data removed]",
      "text/plain": [
       "<Figure size 1500x400 with 2 Axes>"
      ]
     },
     "metadata": {},
     "output_type": "display_data"
    }
   ],
   "source": [
    "# initialize figure\n",
    "fig = plt.figure(figsize=(Lx_fig,Ly_fig))\n",
    "ax = plt.axes(projection=ccrs.PlateCarree(central_longitude=0))\n",
    "\n",
    "with warnings.catch_warnings():\n",
    "    warnings.simplefilter(\"ignore\")\n",
    "    ims = showSnapshot(ax,slice(0,20),slice(320,350),data=None,segmask=npArray2XrDataArray(segmask.values),MCS_color_mode='cyclic')\n",
    "    \n",
    "    showColorBar(fig,ax,ims[0][0],label='MCS label (mod 10)')\n",
    "    \n",
    "# plt.savefig()"
   ]
  },
  {
   "cell_type": "code",
   "execution_count": 87,
   "id": "6fccb82d-e7af-4aaf-a3d0-14202b95d773",
   "metadata": {},
   "outputs": [
    {
     "name": "stdout",
     "output_type": "stream",
     "text": [
      "efficient code\n",
      "CPU times: user 54.4 ms, sys: 388 ms, total: 442 ms\n",
      "Wall time: 446 ms\n"
     ]
    }
   ],
   "source": [
    "%%time\n",
    "print('efficient code')\n",
    "age_mask = lcm.computeAgesFromSegMask(i_t_test,segmask) # EFFICIENT VERSION"
   ]
  },
  {
   "cell_type": "code",
   "execution_count": 92,
   "id": "cca32f71-00a6-4f0b-a0fc-456f3b41922b",
   "metadata": {},
   "outputs": [
    {
     "name": "stdout",
     "output_type": "stream",
     "text": [
      "old code\n",
      "compute\n",
      "2016 labels in current segmentation mask\n",
      "\n",
      "save to disk\n",
      "CPU times: user 11min 53s, sys: 5.58 s, total: 11min 59s\n",
      "Wall time: 11min 59s\n"
     ]
    }
   ],
   "source": [
    "%%time\n",
    "print('old code')\n",
    "\n",
    "# define file to avoid repeating long calculation\n",
    "age_old_file = 'age_mask_old.pickle'\n",
    "age_old_path = os.path.join(DIR_DATA,'optimize_and_debug',age_old_file)\n",
    "\n",
    "overwrite = False\n",
    "age_file_exists = len(glob.glob(age_old_path)) > 0\n",
    "\n",
    "# Load or compute\n",
    "if age_file_exists and not overwrite:\n",
    "    \n",
    "    print('load file from disk')\n",
    "    age_mask_old = pickle.load(open(age_old_path,'rb'))\n",
    "    \n",
    "else:\n",
    "    \n",
    "    # longer calculation\n",
    "    # CPU times: user 10min 55s, sys: 3.37 s, total: 10min 58s\n",
    "    # Wall time: 10min 58s\n",
    "\n",
    "    print('compute')\n",
    "    age_mask_old = lcm.computeAgesFromSegMask_old(i_t_test,segmask) # NOT EFFICIENT VERSION # takes 9-10min....\n",
    "    \n",
    "    # save\n",
    "    print('save to disk')\n",
    "    pickle.dump(age_mask_old,open(age_old_path,'wb'))"
   ]
  },
  {
   "cell_type": "code",
   "execution_count": 94,
   "id": "61362f75-d6e0-49c0-ac66-3bd1f8c7892b",
   "metadata": {},
   "outputs": [
    {
     "data": {
      "text/plain": [
       "False"
      ]
     },
     "execution_count": 94,
     "metadata": {},
     "output_type": "execute_result"
    }
   ],
   "source": [
    "# compare results\n",
    "np.all(np.absolute(age_mask - age_mask_old) < 10)"
   ]
  },
  {
   "cell_type": "code",
   "execution_count": 97,
   "id": "d3bb0a51-b0d6-4baf-a2ce-4e5b48864fa9",
   "metadata": {},
   "outputs": [
    {
     "name": "stdout",
     "output_type": "stream",
     "text": [
      "only one side of longitude 0º\n",
      "only one side of longitude 0º\n"
     ]
    },
    {
     "data": {
      "image/png": "[encoded data removed]",
      "text/plain": [
       "<Figure size 1500x400 with 4 Axes>"
      ]
     },
     "metadata": {},
     "output_type": "display_data"
    }
   ],
   "source": [
    "# initialize figure\n",
    "fig = plt.figure(figsize=(Lx_fig,Ly_fig))\n",
    "gs = GridSpec(1,2,figure=fig)\n",
    "\n",
    "ax1 = fig.add_subplot(gs[0], projection=ccrs.PlateCarree(central_longitude=0))\n",
    "ax2 = fig.add_subplot(gs[1], projection=ccrs.PlateCarree(central_longitude=0))\n",
    "\n",
    "with warnings.catch_warnings():\n",
    "    warnings.simplefilter(\"ignore\")\n",
    "    \n",
    "    ims = showSnapshot(ax1,slice(0,20),slice(320,350),data=None,segmask=npArray2XrDataArray(age_mask),MCS_color_mode='linear')\n",
    "    ax1.set_title('Ages, (new) fast calculation')\n",
    "    showColorBar(fig,ax1,ims[0][0],label='MCS age (hrs)')\n",
    "    \n",
    "    ims = showSnapshot(ax2,slice(0,20),slice(320,350),data=None,segmask=npArray2XrDataArray(age_mask_old-age_mask),MCS_color_mode='linear')\n",
    "    ax2.set_title('Age difference btw. fast and slow calculation')\n",
    "    showColorBar(fig,ax2,ims[0][0],label=r'$\\Delta$ age (hrs)')\n",
    "    \n",
    "# plt.savefig(os.path.join(DIR_FIG,'debug/fixed_compare_age_calculations.png'),bbox_inches='tight')"
   ]
  },
  {
   "cell_type": "code",
   "execution_count": 52,
   "id": "ce5abf64-9e90-4d6f-9387-a8f6989b4945",
   "metadata": {},
   "outputs": [
    {
     "name": "stdout",
     "output_type": "stream",
     "text": [
      "MCS with wrong age calculation: [128054. 128184. 128227. 129064. 129198. 129204. 130221. 130351. 131391.\n",
      " 131677. 131739. 132924. 132926. 133800. 134059. 134084.]\n",
      "\n",
      "all time characteristics\n",
      "        Unnamed: 0     label  i_t_min  i_t_max  duration  ages  ages_old\n",
      "128054      128054  128054.0    487.0    513.0      13.5   7.0      11.0\n",
      "128184      128184  128184.0    487.0    528.0      21.0   7.0      11.0\n",
      "128227      128227  128227.0    497.0    515.0       9.5   2.0      10.5\n",
      "129064      129064  129064.0    487.0    515.0      14.5   7.0      11.0\n",
      "129198      129198  129198.0    497.0    514.0       9.0   2.0      10.5\n",
      "129204      129204  129204.0    497.0    516.0      10.0   2.0      10.5\n",
      "130221      130221  130221.0    487.0    509.0      11.5   7.0      11.0\n",
      "130351      130351  130351.0    497.0    506.0       5.0   2.0      10.5\n",
      "131391      131391  131391.0    487.0    502.0       8.0   7.0      11.0\n",
      "131677      131677  131677.0    497.0    517.0      10.5   2.0      10.5\n",
      "131739      131739  131739.0    497.0    522.0      13.0   2.0      10.5\n",
      "132924      132924  132924.0    497.0    511.0       7.5   2.0      10.5\n",
      "132926      132926  132926.0    497.0    509.0       6.5   2.0      10.5\n",
      "133800      133800  133800.0    487.0    501.0       7.5   7.0      11.0\n",
      "134059      134059  134059.0    497.0    516.0      10.0   2.0      10.5\n",
      "134084      134084  134084.0    497.0    504.0       4.0   2.0      10.5\n"
     ]
    }
   ],
   "source": [
    "#-- extract label of wrong calculation for this subregion to debug (now calculation is fixed)\n",
    "\n",
    "s_lon = slice(320,350)\n",
    "s_lat = slice(0,20)\n",
    "\n",
    "# convert to xarray\n",
    "delta_age_mask_xr = npArray2XrDataArray(age_mask_old-age_mask)\n",
    "age_mask_xr = npArray2XrDataArray(age_mask)\n",
    "age_mask_old_xr = npArray2XrDataArray(age_mask_old)\n",
    "\n",
    "# coords\n",
    "lonarray_toocan,latarray_toocan = getCoords2D(delta_age_mask_xr,s_lon,s_lat) \n",
    "# delta age\n",
    "delta_age_sub = delta_age_mask_xr.sel(longitude=s_lon,latitude=s_lat)[0]\n",
    "# age\n",
    "age_sub = age_mask_xr.sel(longitude=s_lon,latitude=s_lat)[0]\n",
    "age_old_sub = age_mask_old_xr.sel(longitude=s_lon,latitude=s_lat)[0]\n",
    "# segmask\n",
    "segmask_sub = segmask.sel(longitude=s_lon,latitude=s_lat)\n",
    "\n",
    "# mask \n",
    "mask_wrong = delta_age_sub > 0\n",
    "\n",
    "# labels wrong\n",
    "labels_wrong = np.unique(segmask_sub.values.flatten()[mask_wrong.values.flatten()])\n",
    "# ages wrong\n",
    "# ages_wrong = np.unique(age_sub.values.flatten()[mask_wrong.values.flatten()])\n",
    "ages_wrong = [age_sub.values.flatten()[(segmask_sub == label).values.flatten()][0] for label in labels_wrong]\n",
    "# ages_old_wrong = np.unique(age_old_sub.values.flatten()[mask_wrong.values.flatten()])\n",
    "ages_old_wrong = [age_old_sub.values.flatten()[(segmask_sub == label).values.flatten()][0] for label in labels_wrong]\n",
    "\n",
    "print('MCS with wrong age calculation:',labels_wrong)\n",
    "print()\n",
    "print('all time characteristics')\n",
    "df_wrong = toocan_timetable.take(list((labels_wrong).astype(int)))\n",
    "df_wrong['ages'] = list(ages_wrong)\n",
    "df_wrong['ages_old'] = list(ages_old_wrong)\n",
    "print(df_wrong)\n",
    "\n",
    "\n",
    "# for label in labels_wrong:\n",
    "    \n",
    "    "
   ]
  },
  {
   "cell_type": "code",
   "execution_count": 86,
   "id": "55beae49-6b09-4848-ad12-e25effcf1c6c",
   "metadata": {},
   "outputs": [
    {
     "name": "stdout",
     "output_type": "stream",
     "text": [
      "init Utime in toocan object: 17024.1\n",
      "init Utime in toocan time object: 17024.1\n",
      "init timedelta in toocan time object: 17024 days, 5:00:00\n",
      "init time in relation table occurs at index 487 and equals 2016-8-11-5-0\n",
      "current time in toocan object occurs at index 13\n",
      "current time in toocan object: 17024.23\n",
      "current time in relation table occurs at index 500 and equals 2016-8-11-11-30\n",
      "current timedelta in toocan time object: 17024 days, 11:30:00\n",
      "all Utime in toocan object: [17024.1, 17024.11, 17024.12, 17024.13, 17024.14, 17024.15, 17024.16, 17024.17, 17024.18, 17024.19, 17024.2, 17024.21, 17024.22, 17024.23, 17024.24, 17024.25, 17024.26, 17024.27, 17024.28, 17024.29, 17024.3, 17024.31, 17024.32, 17024.33, 17024.34, 17024.35, 17024.36]\n",
      "old age calculation: 6.5\n",
      "new age calculation: 6.5\n"
     ]
    }
   ],
   "source": [
    "# DEBUG wrong ages on example MCS\n",
    "# ERROR was coming from method lcm.timeIndex2Timedelta(self,i_MCS,j_t_MCS)\n",
    "# at line   \" date_30mn = int((str(date_str).split('.')[-1]).ljust(2,'0')) \"\n",
    "# because ljust was omitted (so initial hours were mislabeled 1 instead of 10, 2 instead of 20, etc.\n",
    "# NOW FIXED\n",
    "\n",
    "# pick first MCS with a wrong age\n",
    "label = 128054\n",
    "df_wrong.loc[label]\n",
    "i_MCS = lcm.indexOfLabel(label)\n",
    "MCS = lcm.toocan[i_MCS]\n",
    "\n",
    "# time characteristics\n",
    "localtime_Init = MCS.localtime_Init\n",
    "localtime_End = MCS.localtime_End\n",
    "\n",
    "# 1. check init times are the same in TOOCAN and relation table\n",
    "Utime_Init_toocan = lcm.toocan[i_MCS].Utime_Init\n",
    "print('init Utime in toocan object:',Utime_Init_toocan)\n",
    "Utime_Init_toocan_2 = lcm.toocan[i_MCS].clusters.Utime[0]\n",
    "print('init Utime in toocan time object:',Utime_Init_toocan_2)\n",
    "td_Init_toocan = lcm.timeIndex2Timedelta(i_MCS,0)\n",
    "print('init timedelta in toocan time object:',td_Init_toocan)\n",
    "\n",
    "# 2. check index of init time in relation table and corresponding time\n",
    "i_t_init = np.where(relation_table.UTC == MCS.Utime_Init)[0][0]\n",
    "time_init_str = relation_table.str_code.loc[i_t_init]\n",
    "print('init time in relation table occurs at index %d and equals %s'%(i_t_init,time_init_str))\n",
    "\n",
    "\n",
    "# 3. check index of current time in toocan object\n",
    "j_t_MCS = np.where(lcm.toocan[i_MCS].clusters.Utime == lcm.relation_table.loc[i_t].UTC)[0][0]\n",
    "print('current time in toocan object occurs at index %d'%j_t_MCS)\n",
    "Utime_current_toocan = lcm.toocan[i_MCS].clusters.Utime[j_t_MCS]\n",
    "print('current time in toocan object:',Utime_current_toocan)\n",
    "time_current_str = relation_table.str_code.loc[i_t]\n",
    "print('current time in relation table occurs at index %d and equals %s'%(i_t,time_current_str))\n",
    "# reltable_t = relation_table.loc[i_t]\n",
    "# print('current entry in relation table:',reltable_t)\n",
    "\n",
    "# 4. current timedelta in toocan time object\n",
    "td_current_toocan = lcm.timeIndex2Timedelta(i_MCS,j_t_MCS)\n",
    "print('current timedelta in toocan time object:',td_current_toocan)\n",
    "\n",
    "Utime_toocan = lcm.toocan[i_MCS].clusters.Utime\n",
    "print('all Utime in toocan object:',Utime_toocan)\n",
    "\n",
    "\n",
    "# 5. check age calculation in (old method) is fixed\n",
    "age_t_old = lcm.getAgeMCS(i_t,label)\n",
    "print('old age calculation:',age_t_old)\n",
    "age_t_new = (i_t-i_t_init)/2\n",
    "print('new age calculation:',age_t_new)\n",
    "\n",
    "#--------------#\n",
    "# STOPPED HERE #\n",
    "#--------------#\n"
   ]
  },
  {
   "cell_type": "markdown",
   "id": "26077f4f-464f-4281-9e1b-dcb8d8d84988",
   "metadata": {},
   "source": [
    "# dev compositeMCSAgeOnDist"
   ]
  },
  {
   "cell_type": "code",
   "execution_count": 18,
   "id": "86e50850-8183-4153-81ad-619d2d43d220",
   "metadata": {},
   "outputs": [],
   "source": [
    "##--- Prepare ---##\n",
    "\n",
    "lcm = LifeCycleMapping(None,relation_table,toocan_timetable,toocan)\n",
    "\n",
    "# example time index\n",
    "i_t_test = 500\n",
    "lat_slice = slice(-30,30)\n",
    "\n",
    "# load segmentation mask for that date\n",
    "segmask = loadTOOCANSeg(i_t_test,relation_table)[0].sel(latitude=lat_slice)\n",
    "\n",
    "# load prec data for that date\n",
    "pr_t = loadPrec(i_t,relation_table).sel(lat=lat_slice)\n",
    "\n",
    "# what to compute\n",
    "metric = 'age'\n",
    "diag = 'mean'"
   ]
  },
  {
   "cell_type": "code",
   "execution_count": 20,
   "id": "035dac9a-eb27-4661-8d94-f2e0ad628c8e",
   "metadata": {},
   "outputs": [],
   "source": [
    "# load chunked distribution\n",
    "\n",
    "from casestudy import *\n",
    "\n",
    "region = 'tropics'\n",
    "varid = 'Prec'\n",
    "mask = 'all'\n",
    "\n",
    "cs = CaseStudy(name='DYAMOND-SAM',\n",
    "               region=region,\n",
    "               rel_tab_dyam_seg=loadRelTable('DYAMOND_SEG'))\n",
    "\n",
    "cs.setSimulationSpecs(i_t_min = 832,\n",
    "                      i_t_max = 1917)\n",
    "\n",
    "# where sliced distributions are stored\n",
    "cs.setDirectories(varid,mask)\n",
    "\n",
    "# load all distributions\n",
    "cs.loadDistSliced(varid,mask)\n",
    "\n",
    "# compute mean precip time series\n",
    "cs.computeMean(varid='Prec',mask='all')\n",
    "\n",
    "# find \"missing\" time indices\n",
    "cs.findTimeIndToIgnore()\n",
    "\n",
    "# store times\n",
    "cs.storeTimes()\n",
    "\n",
    "# compute full distributions\n",
    "cs.combineDistributions(varid,mask)"
   ]
  },
  {
   "cell_type": "code",
   "execution_count": 21,
   "id": "3da46680-45e2-4833-ad7b-1cd1e243a5e4",
   "metadata": {},
   "outputs": [],
   "source": [
    "# rename for code dev\n",
    "dist_var = cs.dist_pr_all\n",
    "sample = pr_t.values"
   ]
  },
  {
   "cell_type": "code",
   "execution_count": 22,
   "id": "ff4c2195-e51b-4069-bc1a-63663f8192bf",
   "metadata": {},
   "outputs": [
    {
     "name": "stdout",
     "output_type": "stream",
     "text": [
      "# digits: 72\n"
     ]
    }
   ],
   "source": [
    "# 1. compute mask of metric\n",
    "age_metric = lcm.computeAgesFromSegMask(i_t,segmask,metric).flatten() # 1D array\n",
    "\n",
    "# 2. digitize sample values in distribution bins\n",
    "digits = dist_var.getBinIndices(sample) # 1D array\n",
    "N_dig = np.nanmax(digits)\n",
    "\n",
    "print('# digits:',N_dig)\n",
    "\n",
    "# 3. for each bin i, apply diagnostic to the metric and save sample size\n",
    "diag_all_bins = np.full(N_dig,np.nan)\n",
    "N_in_bin = np.full(N_dig,np.nan)"
   ]
  },
  {
   "cell_type": "code",
   "execution_count": 23,
   "id": "38e482b0-de5f-43e1-b845-37dfeb68d78e",
   "metadata": {},
   "outputs": [
    {
     "name": "stderr",
     "output_type": "stream",
     "text": [
      "/tmp/ipykernel_122383/1087238649.py:11: RuntimeWarning: Mean of empty slice\n",
      "  diag_in_bin = getattr(np,'nan%s'%diag)(age_in_bin)\n"
     ]
    }
   ],
   "source": [
    "for i_bin in range(0,N_dig):\n",
    "\n",
    "    # x-y mask in bin i\n",
    "    mask_bin = (digits == i_bin)\n",
    "    \n",
    "    # extract age in bin\n",
    "    age_in_bin = age_metric[mask_bin]\n",
    "    \n",
    "    # apply diagnostic\n",
    "    if diag in ['mean','max','std','min']:\n",
    "        diag_in_bin = getattr(np,'nan%s'%diag)(age_in_bin)\n",
    "        \n",
    "    diag_all_bins[i_bin] = diag_in_bin\n",
    "    \n",
    "    # get bin sample size \n",
    "    N_in_bin[i_bin] = age_in_bin.size\n",
    "    "
   ]
  },
  {
   "cell_type": "code",
   "execution_count": null,
   "id": "1757a372-cc0c-4f7a-82c1-177efb44ab7f",
   "metadata": {},
   "outputs": [],
   "source": []
  },
  {
   "cell_type": "markdown",
   "id": "0a09c02f-577c-4616-ab1b-0d3e45949248",
   "metadata": {},
   "source": [
    "## test"
   ]
  },
  {
   "cell_type": "code",
   "execution_count": 73,
   "id": "7b654775-4fdf-430e-a048-e3d91ca4a7c8",
   "metadata": {},
   "outputs": [
    {
     "name": "stderr",
     "output_type": "stream",
     "text": [
      "/home/bfildier/analyses/explore-multiscale-extremes/modules/lifecycle_mapping.py:372: RuntimeWarning: Mean of empty slice\n",
      "  diag_all_bins[i_bin] = getattr(np,'nan%s'%diag)(age_in_bin)\n"
     ]
    }
   ],
   "source": [
    "# rename for code dev\n",
    "dist_var = cs.dist_pr_all\n",
    "sample = pr_t.values\n",
    "\n",
    "diag_all_bins,N_all_bins = lcm.compositeMcsAgeOnDist(i_t,segmask,sample,dist_var,diag='mean',metric='age')"
   ]
  },
  {
   "cell_type": "markdown",
   "id": "1910ed4a-4c2d-497c-befd-92761dbaa6c2",
   "metadata": {},
   "source": [
    "# Dev code DistributionChunked.computeMcsAgeOnDist"
   ]
  },
  {
   "cell_type": "code",
   "execution_count": null,
   "id": "17a9afb4-b2b3-4fc4-b44a-2ce854c740f5",
   "metadata": {},
   "outputs": [],
   "source": [
    "i_t0 = 832\n",
    "Ni = 5\n",
    "\n",
    "diag = 'max'\n",
    "\n",
    "diag_all_bins = [] # store diagnostics vs. bin at each t\n",
    "N_all_bins = [] # store sample size vs. bin each t\n",
    "N_valid_all_bins = [] # store sample size of non nan values vs. bin each t\n",
    "\n",
    "for i_t in range(i_t0,i_t0+Ni):\n",
    "\n",
    "    print('compute age composite @ i_t = %d ...'%i_t)\n",
    "\n",
    "    # load segmentation mask for that date\n",
    "    segmask = loadTOOCANSeg(i_t,lcm.relation_table)[0].sel(latitude=lat_slice).values\n",
    "\n",
    "    # load prec data for that date\n",
    "    sample = loadPrec(i_t,lcm.relation_table).sel(lat=lat_slice).values\n",
    "\n",
    "    diag_all_bins_t,N_all_bins_t,N_valid_all_bins_t = lcm.compositeMcsAgeOnDist(i_t,segmask,sample,dist_var,diag=diag,metric='age')\n",
    "\n",
    "    # store \n",
    "    diag_all_bins.append(diag_all_bins_t)\n",
    "    N_all_bins.append(N_all_bins_t)\n",
    "    N_valid_all_bins.append(N_valid_all_bins_t)\n"
   ]
  },
  {
   "cell_type": "code",
   "execution_count": null,
   "id": "d911831d-48de-4921-bf8c-f2ce973dfd90",
   "metadata": {},
   "outputs": [
    {
     "data": {
      "text/plain": [
       "< CaseStudy object:\n",
       " . name: DYAMOND-SAM\n",
       " . region: tropics\n",
       " . model: SAM\n",
       " . rel_tab_dyam_seg: <class 'pandas.core.frame.DataFrame'>\n",
       " . i_t_min: 832\n",
       " . i_t_max: 1917\n",
       " . range_t: range(832, 1918)\n",
       " . dir_dist_pr_all_sliced: ../results/tropics/Prec/all\n",
       " . dict_dist_pr_all_sliced: <class 'dict'>\n",
       " . pr_all_mean: [0.08895927 0.09020749 0.09127147 ... 0.0871079  0.08649893 0.08537947]\n",
       " . times_to_ignore: <class 'numpy.ndarray'>\n",
       " . time: <class 'numpy.ndarray'>\n",
       " . dist_pr_all: <class 'conditionalstats_chunked.DistributionChunked'>\n",
       " >"
      ]
     },
     "execution_count": 63,
     "metadata": {},
     "output_type": "execute_result"
    }
   ],
   "source": [
    "cs"
   ]
  },
  {
   "cell_type": "code",
   "execution_count": null,
   "id": "53d259ec-ebad-408f-888d-51f589c806cb",
   "metadata": {},
   "outputs": [
    {
     "data": {
      "text/plain": [
       "(5, 81)"
      ]
     },
     "execution_count": 58,
     "metadata": {},
     "output_type": "execute_result"
    }
   ],
   "source": [
    "np.vstack(diag_all_bins).shape"
   ]
  },
  {
   "cell_type": "code",
   "execution_count": null,
   "id": "044d1c03-780d-4860-b994-d1ba6dd91dee",
   "metadata": {},
   "outputs": [
    {
     "data": {
      "text/plain": [
       "array([ 0. , 25. , 25. ,  0. ,  0. , 24.5,  0. , 25. , 25. , 25. , 25. ,\n",
       "       25. , 24.5, 24.5, 24.5, 24.5, 24.5, 24.5, 24.5, 24.5, 24. , 24. ,\n",
       "       24. , 20. , 24. , 19. , 19.5, 19.5, 19. , 19. , 18.5, 19. , 19. ,\n",
       "       18.5, 18.5, 19.5, 18.5, 19. , 19. , 18.5, 18.5, 18.5, 18.5, 18.5,\n",
       "       17. , 18.5, 18.5, 18.5, 17.5, 17. , 18. , 14.5, 14.5, 14.5, 13.5,\n",
       "       13.5, 14.5, 12.5, 14.5, 14. , 13. , 13.5, 14. , 11. , 13. ,  6. ,\n",
       "       13. ,  6. , 10.5,  0. ,  6.5, 13. ,  3.5,  0. ,  0. ,  0. ,  3.5,\n",
       "        0. ,  0. ,  6. ,  0. ])"
      ]
     },
     "execution_count": 59,
     "metadata": {},
     "output_type": "execute_result"
    }
   ],
   "source": [
    "np.nanmax(np.vstack(diag_all_bins),axis=0)"
   ]
  },
  {
   "cell_type": "code",
   "execution_count": null,
   "id": "f9d4a984-8066-4556-a26f-2285b5eff64b",
   "metadata": {},
   "outputs": [
    {
     "data": {
      "text/plain": [
       "< DistributionChunked object:\n",
       " . bintype: invlogQ\n",
       " . nbins: 81\n",
       " . nbpd: 10\n",
       " . nppb: 4\n",
       " . nd: 8\n",
       " . fill_last_decade: False\n",
       " . name: pr, all, DYAMOND-SAM tropics, all times\n",
       " . size: 15238250496\n",
       " . vmin: -0.075976014\n",
       " . vmax: 125.83331\n",
       " . rank_edges: <class 'numpy.ndarray'>\n",
       " . ranks: <class 'numpy.ndarray'>\n",
       " . percentiles: <class 'numpy.ndarray'>\n",
       " . bins: <class 'numpy.ndarray'>\n",
       " . density: None\n",
       " . bin_locations_stored: [False False False ... False False False]\n",
       " . overwrite: False\n",
       " . dist_chunks: <class 'list'>\n",
       " . chunks_to_ignore: <class 'list'>\n",
       " . nchunks: 1086\n",
       " . size_chunks: <class 'list'>\n",
       " . vmin_chunks: <class 'list'>\n",
       " . vmax_chunks: <class 'list'>\n",
       " . bin_locations: {}\n",
       " >"
      ]
     },
     "execution_count": 67,
     "metadata": {},
     "output_type": "execute_result"
    }
   ],
   "source": [
    "cs.dist_pr_all"
   ]
  },
  {
   "cell_type": "markdown",
   "id": "5699351b-49b7-43bf-97a5-2c5b60766042",
   "metadata": {},
   "source": [
    "# dev caseStudy combineMcsAgeDiagnostics"
   ]
  },
  {
   "cell_type": "code",
   "execution_count": 11,
   "id": "c5380b30-0a38-4df9-9476-1d15d97bb2a7",
   "metadata": {},
   "outputs": [],
   "source": [
    "# Load case study\n",
    "\n",
    "def loadCaseStudy(varid,region,mask):\n",
    "    \n",
    "    varid_str = varid\n",
    "    if varid == 'Prec':\n",
    "        varid_str = 'pr'\n",
    "    # output dir\n",
    "    dir_in = os.path.join(DIR_OUT,region,varid,mask)\n",
    "    # save\n",
    "    cs = pickle.load(open(os.path.join(dir_in,'case_study.pickle'),'rb'))\n",
    "    # output\n",
    "    return cs"
   ]
  },
  {
   "cell_type": "code",
   "execution_count": 69,
   "id": "76ae24ff-3725-41b1-85c9-e7a516e3f2e5",
   "metadata": {},
   "outputs": [],
   "source": [
    "varid = 'Prec'\n",
    "region = 'tropics'\n",
    "mask = 'all'\n",
    "\n",
    "mask_xy = 'ocean'\n",
    "# mask_xy='allXY'\n",
    "mask_T = 'min5hr'\n",
    "# mask_T = 'allT'\n",
    "\n",
    "# metric = 'norm_age'\n",
    "metric = 'age'\n",
    "diag = 'mean'"
   ]
  },
  {
   "cell_type": "code",
   "execution_count": 70,
   "id": "47a7420f-cb27-4460-807a-332251bab3cb",
   "metadata": {},
   "outputs": [],
   "source": [
    "# 1. load case study\n",
    "\n",
    "cs = loadCaseStudy(varid,region,mask)"
   ]
  },
  {
   "cell_type": "code",
   "execution_count": 71,
   "id": "41243124-c2da-4362-bfe3-b5382e879c9c",
   "metadata": {},
   "outputs": [
    {
     "name": "stdout",
     "output_type": "stream",
     "text": [
      "diag name: mean_age_ocean_min5hr\n",
      "merge data from: ../results/tropics/mean_age_ocean_min5hr/all/time_slices\n",
      "832.."
     ]
    },
    {
     "ename": "FileNotFoundError",
     "evalue": "[Errno 2] No such file or directory: '../results/tropics/mean_age_ocean_min5hr/all/time_slices/mean_age_ocean_min5hr_t_832.pickle'",
     "output_type": "error",
     "traceback": [
      "\u001b[0;31m---------------------------------------------------------------------------\u001b[0m",
      "\u001b[0;31mFileNotFoundError\u001b[0m                         Traceback (most recent call last)",
      "Cell \u001b[0;32mIn[71], line 20\u001b[0m\n\u001b[1;32m     17\u001b[0m     \u001b[38;5;28mprint\u001b[39m(i_t,end\u001b[38;5;241m=\u001b[39m\u001b[38;5;124m'\u001b[39m\u001b[38;5;124m..\u001b[39m\u001b[38;5;124m'\u001b[39m)\n\u001b[1;32m     19\u001b[0m \u001b[38;5;66;03m# load\u001b[39;00m\n\u001b[0;32m---> 20\u001b[0m cs\u001b[38;5;241m.\u001b[39mdiag_all_t\u001b[38;5;241m.\u001b[39mappend(pickle\u001b[38;5;241m.\u001b[39mload(\u001b[38;5;28;43mopen\u001b[39;49m\u001b[43m(\u001b[49m\u001b[43mos\u001b[49m\u001b[38;5;241;43m.\u001b[39;49m\u001b[43mpath\u001b[49m\u001b[38;5;241;43m.\u001b[39;49m\u001b[43mjoin\u001b[49m\u001b[43m(\u001b[49m\u001b[43msave_dir\u001b[49m\u001b[43m,\u001b[49m\u001b[38;5;124;43m'\u001b[39;49m\u001b[38;5;132;43;01m%s\u001b[39;49;00m\u001b[38;5;124;43m_t_\u001b[39;49m\u001b[38;5;132;43;01m%d\u001b[39;49;00m\u001b[38;5;124;43m.pickle\u001b[39;49m\u001b[38;5;124;43m'\u001b[39;49m\u001b[38;5;241;43m%\u001b[39;49m\u001b[43m(\u001b[49m\u001b[43mdiag_name\u001b[49m\u001b[43m,\u001b[49m\u001b[43mi_t\u001b[49m\u001b[43m)\u001b[49m\u001b[43m)\u001b[49m\u001b[43m,\u001b[49m\u001b[38;5;124;43m'\u001b[39;49m\u001b[38;5;124;43mrb\u001b[39;49m\u001b[38;5;124;43m'\u001b[39;49m\u001b[43m)\u001b[49m))\n\u001b[1;32m     21\u001b[0m cs\u001b[38;5;241m.\u001b[39mN_all_t\u001b[38;5;241m.\u001b[39mappend(pickle\u001b[38;5;241m.\u001b[39mload(\u001b[38;5;28mopen\u001b[39m(os\u001b[38;5;241m.\u001b[39mpath\u001b[38;5;241m.\u001b[39mjoin(save_dir,\u001b[38;5;124m'\u001b[39m\u001b[38;5;124mN_all_bins_t_\u001b[39m\u001b[38;5;132;01m%d\u001b[39;00m\u001b[38;5;124m.pickle\u001b[39m\u001b[38;5;124m'\u001b[39m\u001b[38;5;241m%\u001b[39m(i_t)),\u001b[38;5;124m'\u001b[39m\u001b[38;5;124mrb\u001b[39m\u001b[38;5;124m'\u001b[39m)))\n\u001b[1;32m     22\u001b[0m cs\u001b[38;5;241m.\u001b[39mN_valid_all_t\u001b[38;5;241m.\u001b[39mappend(pickle\u001b[38;5;241m.\u001b[39mload(\u001b[38;5;28mopen\u001b[39m(os\u001b[38;5;241m.\u001b[39mpath\u001b[38;5;241m.\u001b[39mjoin(save_dir,\u001b[38;5;124m'\u001b[39m\u001b[38;5;124mN_valid_all_bins_t_\u001b[39m\u001b[38;5;132;01m%d\u001b[39;00m\u001b[38;5;124m.pickle\u001b[39m\u001b[38;5;124m'\u001b[39m\u001b[38;5;241m%\u001b[39m(i_t)),\u001b[38;5;124m'\u001b[39m\u001b[38;5;124mrb\u001b[39m\u001b[38;5;124m'\u001b[39m)))\n",
      "File \u001b[0;32m~/.conda/envs/pyLMD/lib/python3.8/site-packages/IPython/core/interactiveshell.py:282\u001b[0m, in \u001b[0;36m_modified_open\u001b[0;34m(file, *args, **kwargs)\u001b[0m\n\u001b[1;32m    275\u001b[0m \u001b[38;5;28;01mif\u001b[39;00m file \u001b[38;5;129;01min\u001b[39;00m {\u001b[38;5;241m0\u001b[39m, \u001b[38;5;241m1\u001b[39m, \u001b[38;5;241m2\u001b[39m}:\n\u001b[1;32m    276\u001b[0m     \u001b[38;5;28;01mraise\u001b[39;00m \u001b[38;5;167;01mValueError\u001b[39;00m(\n\u001b[1;32m    277\u001b[0m         \u001b[38;5;124mf\u001b[39m\u001b[38;5;124m\"\u001b[39m\u001b[38;5;124mIPython won\u001b[39m\u001b[38;5;124m'\u001b[39m\u001b[38;5;124mt let you open fd=\u001b[39m\u001b[38;5;132;01m{\u001b[39;00mfile\u001b[38;5;132;01m}\u001b[39;00m\u001b[38;5;124m by default \u001b[39m\u001b[38;5;124m\"\u001b[39m\n\u001b[1;32m    278\u001b[0m         \u001b[38;5;124m\"\u001b[39m\u001b[38;5;124mas it is likely to crash IPython. If you know what you are doing, \u001b[39m\u001b[38;5;124m\"\u001b[39m\n\u001b[1;32m    279\u001b[0m         \u001b[38;5;124m\"\u001b[39m\u001b[38;5;124myou can use builtins\u001b[39m\u001b[38;5;124m'\u001b[39m\u001b[38;5;124m open.\u001b[39m\u001b[38;5;124m\"\u001b[39m\n\u001b[1;32m    280\u001b[0m     )\n\u001b[0;32m--> 282\u001b[0m \u001b[38;5;28;01mreturn\u001b[39;00m \u001b[43mio_open\u001b[49m\u001b[43m(\u001b[49m\u001b[43mfile\u001b[49m\u001b[43m,\u001b[49m\u001b[43m \u001b[49m\u001b[38;5;241;43m*\u001b[39;49m\u001b[43margs\u001b[49m\u001b[43m,\u001b[49m\u001b[43m \u001b[49m\u001b[38;5;241;43m*\u001b[39;49m\u001b[38;5;241;43m*\u001b[39;49m\u001b[43mkwargs\u001b[49m\u001b[43m)\u001b[49m\n",
      "\u001b[0;31mFileNotFoundError\u001b[0m: [Errno 2] No such file or directory: '../results/tropics/mean_age_ocean_min5hr/all/time_slices/mean_age_ocean_min5hr_t_832.pickle'"
     ]
    }
   ],
   "source": [
    "# 2. load diagnostic and sample sizes (TO DO maybe: in all distributions at t)\n",
    "\n",
    "# name of diagnostic\n",
    "diag_name = '%s_%s_%s_%s'%(diag,metric,mask_xy,mask_T)\n",
    "print('diag name:',diag_name)\n",
    "# where to fetch data\n",
    "save_dir = os.path.join(DIR_OUT,region,diag_name,mask,'time_slices')\n",
    "print('merge data from:',save_dir)\n",
    "\n",
    "cs.diag_all_t = []\n",
    "cs.N_all_t = []\n",
    "cs.N_valid_all_t = []\n",
    "\n",
    "for i_t in cs.range_t:\n",
    "    \n",
    "    if i_t%100 == 0 or i_t in [cs.i_t_min, cs.i_t_max]:\n",
    "        print(i_t,end='..')\n",
    "    \n",
    "    # load\n",
    "    cs.diag_all_t.append(pickle.load(open(os.path.join(save_dir,'%s_t_%d.pickle'%(diag_name,i_t)),'rb')))\n",
    "    cs.N_all_t.append(pickle.load(open(os.path.join(save_dir,'N_all_bins_t_%d.pickle'%(i_t)),'rb')))\n",
    "    cs.N_valid_all_t.append(pickle.load(open(os.path.join(save_dir,'N_valid_all_bins_t_%d.pickle'%(i_t)),'rb')))\n",
    "\n",
    "    \n",
    "print()"
   ]
  },
  {
   "cell_type": "code",
   "execution_count": 65,
   "id": "b9da009d-5198-4646-b7f2-6cee4b43777c",
   "metadata": {},
   "outputs": [],
   "source": [
    "# 3. combine diagnostics from all times in cs.dist_var (DistributionChunked)\n",
    "\n",
    "def combineMcsAgeDiagnostic(cs,diag,metric):\n",
    "    \n",
    "    # name of diagnostic\n",
    "    diag_name = '%s_%s'%(diag,metric)\n",
    "    N_t = len(cs.N_all_t)\n",
    "    N_Q = cs.dist_pr_all.nbins\n",
    "    \n",
    "    if diag == 'mean':\n",
    "        \n",
    "        N_valid = np.full(N_Q,0)\n",
    "        diag_value = np.full(N_Q,0)\n",
    "        \n",
    "        for i_t in range(N_t):\n",
    "\n",
    "            if cs.diag_all_t[i_t] is not None: # None should correspond to indices with corrupted data\n",
    "                \n",
    "                N_valid = N_valid + cs.N_valid_all_t[i_t]\n",
    "                diag_value = diag_value + (cs.N_valid_all_t[i_t])*(cs.diag_all_t[i_t])\n",
    "        \n",
    "        # normalize sum by total number of valid points in each bin\n",
    "        diag_value = diag_value/N_valid\n",
    "        \n",
    "    return diag_value, N_valid"
   ]
  },
  {
   "cell_type": "code",
   "execution_count": 66,
   "id": "05ff4219-3bdb-40b1-955a-fd64bdc2db8d",
   "metadata": {},
   "outputs": [
    {
     "name": "stderr",
     "output_type": "stream",
     "text": [
      "/tmp/ipykernel_2652151/2797585383.py:23: RuntimeWarning: invalid value encountered in true_divide\n",
      "  diag_value = diag_value/N_valid\n"
     ]
    }
   ],
   "source": [
    "mean_norm_age, N_valid = combineMcsAgeDiagnostic(cs,'mean','norm_age')"
   ]
  },
  {
   "cell_type": "code",
   "execution_count": 67,
   "id": "6995ba0b-5e9c-43c6-afb4-d2cc36d2aa1c",
   "metadata": {},
   "outputs": [],
   "source": [
    "# define slice to plot\n",
    "\n",
    "# start after last nan value\n",
    "# i_min = np.where(np.isnan(mean_norm_age))[0][-1]\n",
    "i_min = 7\n",
    "# define slice\n",
    "s_hide = slice(None,i_min)\n",
    "# hide noisy/nan beginning\n",
    "mean_norm_age[s_hide] = np.nan\n",
    "N_valid[s_hide] = np.nan"
   ]
  },
  {
   "cell_type": "code",
   "execution_count": 68,
   "id": "f5963e15-a5a4-47ef-b096-0335c90acb8a",
   "metadata": {},
   "outputs": [
    {
     "data": {
      "image/png": "[encoded data removed]",
      "text/plain": [
       "<Figure size 700x400 with 3 Axes>"
      ]
     },
     "metadata": {},
     "output_type": "display_data"
    }
   ],
   "source": [
    "fig,ax = plt.subplots(figsize=(7,4))\n",
    "\n",
    "ax_N = ax.twinx()\n",
    "\n",
    "rankmax = 99.999999\n",
    "ranks = cs.dist_pr_all.ranks\n",
    "\n",
    "# frame\n",
    "setFrame(ax,rankmin=0,rankmax=rankmax,xtickrotation=45) # in here, duplicate the outer axis for fixing independent frame\n",
    "\n",
    "# Manual\n",
    "showData(ax,ranks,mean_norm_age,color='k',linewidth=1.2,alpha=0.5,rankmin=0,rankmax=rankmax,label='mean normalized age')\n",
    "\n",
    "# embedded method DistributionChunked.computeDistribution\n",
    "showData(ax_N,ranks,N_valid,color='r',linestyle='--',linewidth=1.2,alpha=0.5,rankmin=0,rankmax=rankmax,label='sample size')\n",
    "\n",
    "\n",
    "#- labels\n",
    "ax.set_xlabel('Ranks Q (%)',labelpad=45)\n",
    "ax.set_ylabel(r'Normalized MCS age $\\tau$')\n",
    "ax.legend(fontsize=7)\n",
    "\n",
    "ax.set_ylabel(r'Normalized age $\\tau$')\n",
    "ax_N.set_ylabel('Bin sample size (#)')\n",
    "ax.set_title('%s, %s'%(mask_xy,mask_T))\n",
    "\n",
    "ax_N.set_yscale('log')\n",
    "ax_N.yaxis.label.set_color('red')\n",
    "\n",
    "\n",
    "\n",
    "#- bounds\n",
    "ax.set_ylim((0.2,0.55))\n",
    "\n",
    "\n",
    "plt.savefig(os.path.join(DIR_FIG,'lifecycle','%s_and_N_vs_ranks.pdf'%diag_name),bbox_inches='tight')\n",
    "plt.show()"
   ]
  },
  {
   "cell_type": "markdown",
   "id": "b207a722-b69f-4b54-9d49-31f0178dcf95",
   "metadata": {},
   "source": [
    "# Dev masks"
   ]
  },
  {
   "cell_type": "markdown",
   "id": "a2ee1934-c308-4a90-b992-bfb15f4209fd",
   "metadata": {},
   "source": [
    "## Geographical masks"
   ]
  },
  {
   "cell_type": "markdown",
   "id": "6e5bf674-4347-4f78-9f56-62ca2f81524a",
   "metadata": {},
   "source": [
    "Land-ocean"
   ]
  },
  {
   "cell_type": "code",
   "execution_count": 35,
   "id": "e61ad0b5-b8e2-47de-ab0a-f2de7356879c",
   "metadata": {},
   "outputs": [],
   "source": [
    "landfile = 'DYAMOND_9216x4608x74_7.5s_4km_4608_0000200160.LANDMASK.2D.nc'\n",
    "landpath = os.path.join(DIR_DYAMOND,landfile)\n",
    "\n",
    "landmask = xr.open_dataarray(landpath).sel(lat=slice(-30,30))[0]"
   ]
  },
  {
   "cell_type": "code",
   "execution_count": 36,
   "id": "331e5ab1-caca-4a4b-a2e7-06d90d464b2b",
   "metadata": {},
   "outputs": [
    {
     "data": {
      "text/html": [
       "<div><svg style=\"position: absolute; width: 0; height: 0; overflow: hidden\">\n",
       "<defs>\n",
       "<symbol id=\"icon-database\" viewBox=\"0 0 32 32\">\n",
       "<path d=\"M16 0c-8.837 0-16 2.239-16 5v4c0 2.761 7.163 5 16 5s16-2.239 16-5v-4c0-2.761-7.163-5-16-5z\"></path>\n",
       "<path d=\"M16 17c-8.837 0-16-2.239-16-5v6c0 2.761 7.163 5 16 5s16-2.239 16-5v-6c0 2.761-7.163 5-16 5z\"></path>\n",
       "<path d=\"M16 26c-8.837 0-16-2.239-16-5v6c0 2.761 7.163 5 16 5s16-2.239 16-5v-6c0 2.761-7.163 5-16 5z\"></path>\n",
       "</symbol>\n",
       "<symbol id=\"icon-file-text2\" viewBox=\"0 0 32 32\">\n",
       "<path d=\"M28.681 7.159c-0.694-0.947-1.662-2.053-2.724-3.116s-2.169-2.030-3.116-2.724c-1.612-1.182-2.393-1.319-2.841-1.319h-15.5c-1.378 0-2.5 1.121-2.5 2.5v27c0 1.378 1.122 2.5 2.5 2.5h23c1.378 0 2.5-1.122 2.5-2.5v-19.5c0-0.448-0.137-1.23-1.319-2.841zM24.543 5.457c0.959 0.959 1.712 1.825 2.268 2.543h-4.811v-4.811c0.718 0.556 1.584 1.309 2.543 2.268zM28 29.5c0 0.271-0.229 0.5-0.5 0.5h-23c-0.271 0-0.5-0.229-0.5-0.5v-27c0-0.271 0.229-0.5 0.5-0.5 0 0 15.499-0 15.5 0v7c0 0.552 0.448 1 1 1h7v19.5z\"></path>\n",
       "<path d=\"M23 26h-14c-0.552 0-1-0.448-1-1s0.448-1 1-1h14c0.552 0 1 0.448 1 1s-0.448 1-1 1z\"></path>\n",
       "<path d=\"M23 22h-14c-0.552 0-1-0.448-1-1s0.448-1 1-1h14c0.552 0 1 0.448 1 1s-0.448 1-1 1z\"></path>\n",
       "<path d=\"M23 18h-14c-0.552 0-1-0.448-1-1s0.448-1 1-1h14c0.552 0 1 0.448 1 1s-0.448 1-1 1z\"></path>\n",
       "</symbol>\n",
       "</defs>\n",
       "</svg>\n",
       "<style>/* CSS stylesheet for displaying xarray objects in jupyterlab.\n",
       " *\n",
       " */\n",
       "\n",
       ":root {\n",
       "  --xr-font-color0: var(--jp-content-font-color0, rgba(0, 0, 0, 1));\n",
       "  --xr-font-color2: var(--jp-content-font-color2, rgba(0, 0, 0, 0.54));\n",
       "  --xr-font-color3: var(--jp-content-font-color3, rgba(0, 0, 0, 0.38));\n",
       "  --xr-border-color: var(--jp-border-color2, #e0e0e0);\n",
       "  --xr-disabled-color: var(--jp-layout-color3, #bdbdbd);\n",
       "  --xr-background-color: var(--jp-layout-color0, white);\n",
       "  --xr-background-color-row-even: var(--jp-layout-color1, white);\n",
       "  --xr-background-color-row-odd: var(--jp-layout-color2, #eeeeee);\n",
       "}\n",
       "\n",
       "html[theme=dark],\n",
       "body.vscode-dark {\n",
       "  --xr-font-color0: rgba(255, 255, 255, 1);\n",
       "  --xr-font-color2: rgba(255, 255, 255, 0.54);\n",
       "  --xr-font-color3: rgba(255, 255, 255, 0.38);\n",
       "  --xr-border-color: #1F1F1F;\n",
       "  --xr-disabled-color: #515151;\n",
       "  --xr-background-color: #111111;\n",
       "  --xr-background-color-row-even: #111111;\n",
       "  --xr-background-color-row-odd: #313131;\n",
       "}\n",
       "\n",
       ".xr-wrap {\n",
       "  display: block;\n",
       "  min-width: 300px;\n",
       "  max-width: 700px;\n",
       "}\n",
       "\n",
       ".xr-text-repr-fallback {\n",
       "  /* fallback to plain text repr when CSS is not injected (untrusted notebook) */\n",
       "  display: none;\n",
       "}\n",
       "\n",
       ".xr-header {\n",
       "  padding-top: 6px;\n",
       "  padding-bottom: 6px;\n",
       "  margin-bottom: 4px;\n",
       "  border-bottom: solid 1px var(--xr-border-color);\n",
       "}\n",
       "\n",
       ".xr-header > div,\n",
       ".xr-header > ul {\n",
       "  display: inline;\n",
       "  margin-top: 0;\n",
       "  margin-bottom: 0;\n",
       "}\n",
       "\n",
       ".xr-obj-type,\n",
       ".xr-array-name {\n",
       "  margin-left: 2px;\n",
       "  margin-right: 10px;\n",
       "}\n",
       "\n",
       ".xr-obj-type {\n",
       "  color: var(--xr-font-color2);\n",
       "}\n",
       "\n",
       ".xr-sections {\n",
       "  padding-left: 0 !important;\n",
       "  display: grid;\n",
       "  grid-template-columns: 150px auto auto 1fr 20px 20px;\n",
       "}\n",
       "\n",
       ".xr-section-item {\n",
       "  display: contents;\n",
       "}\n",
       "\n",
       ".xr-section-item input {\n",
       "  display: none;\n",
       "}\n",
       "\n",
       ".xr-section-item input + label {\n",
       "  color: var(--xr-disabled-color);\n",
       "}\n",
       "\n",
       ".xr-section-item input:enabled + label {\n",
       "  cursor: pointer;\n",
       "  color: var(--xr-font-color2);\n",
       "}\n",
       "\n",
       ".xr-section-item input:enabled + label:hover {\n",
       "  color: var(--xr-font-color0);\n",
       "}\n",
       "\n",
       ".xr-section-summary {\n",
       "  grid-column: 1;\n",
       "  color: var(--xr-font-color2);\n",
       "  font-weight: 500;\n",
       "}\n",
       "\n",
       ".xr-section-summary > span {\n",
       "  display: inline-block;\n",
       "  padding-left: 0.5em;\n",
       "}\n",
       "\n",
       ".xr-section-summary-in:disabled + label {\n",
       "  color: var(--xr-font-color2);\n",
       "}\n",
       "\n",
       ".xr-section-summary-in + label:before {\n",
       "  display: inline-block;\n",
       "  content: '►';\n",
       "  font-size: 11px;\n",
       "  width: 15px;\n",
       "  text-align: center;\n",
       "}\n",
       "\n",
       ".xr-section-summary-in:disabled + label:before {\n",
       "  color: var(--xr-disabled-color);\n",
       "}\n",
       "\n",
       ".xr-section-summary-in:checked + label:before {\n",
       "  content: '▼';\n",
       "}\n",
       "\n",
       ".xr-section-summary-in:checked + label > span {\n",
       "  display: none;\n",
       "}\n",
       "\n",
       ".xr-section-summary,\n",
       ".xr-section-inline-details {\n",
       "  padding-top: 4px;\n",
       "  padding-bottom: 4px;\n",
       "}\n",
       "\n",
       ".xr-section-inline-details {\n",
       "  grid-column: 2 / -1;\n",
       "}\n",
       "\n",
       ".xr-section-details {\n",
       "  display: none;\n",
       "  grid-column: 1 / -1;\n",
       "  margin-bottom: 5px;\n",
       "}\n",
       "\n",
       ".xr-section-summary-in:checked ~ .xr-section-details {\n",
       "  display: contents;\n",
       "}\n",
       "\n",
       ".xr-array-wrap {\n",
       "  grid-column: 1 / -1;\n",
       "  display: grid;\n",
       "  grid-template-columns: 20px auto;\n",
       "}\n",
       "\n",
       ".xr-array-wrap > label {\n",
       "  grid-column: 1;\n",
       "  vertical-align: top;\n",
       "}\n",
       "\n",
       ".xr-preview {\n",
       "  color: var(--xr-font-color3);\n",
       "}\n",
       "\n",
       ".xr-array-preview,\n",
       ".xr-array-data {\n",
       "  padding: 0 5px !important;\n",
       "  grid-column: 2;\n",
       "}\n",
       "\n",
       ".xr-array-data,\n",
       ".xr-array-in:checked ~ .xr-array-preview {\n",
       "  display: none;\n",
       "}\n",
       "\n",
       ".xr-array-in:checked ~ .xr-array-data,\n",
       ".xr-array-preview {\n",
       "  display: inline-block;\n",
       "}\n",
       "\n",
       ".xr-dim-list {\n",
       "  display: inline-block !important;\n",
       "  list-style: none;\n",
       "  padding: 0 !important;\n",
       "  margin: 0;\n",
       "}\n",
       "\n",
       ".xr-dim-list li {\n",
       "  display: inline-block;\n",
       "  padding: 0;\n",
       "  margin: 0;\n",
       "}\n",
       "\n",
       ".xr-dim-list:before {\n",
       "  content: '(';\n",
       "}\n",
       "\n",
       ".xr-dim-list:after {\n",
       "  content: ')';\n",
       "}\n",
       "\n",
       ".xr-dim-list li:not(:last-child):after {\n",
       "  content: ',';\n",
       "  padding-right: 5px;\n",
       "}\n",
       "\n",
       ".xr-has-index {\n",
       "  font-weight: bold;\n",
       "}\n",
       "\n",
       ".xr-var-list,\n",
       ".xr-var-item {\n",
       "  display: contents;\n",
       "}\n",
       "\n",
       ".xr-var-item > div,\n",
       ".xr-var-item label,\n",
       ".xr-var-item > .xr-var-name span {\n",
       "  background-color: var(--xr-background-color-row-even);\n",
       "  margin-bottom: 0;\n",
       "}\n",
       "\n",
       ".xr-var-item > .xr-var-name:hover span {\n",
       "  padding-right: 5px;\n",
       "}\n",
       "\n",
       ".xr-var-list > li:nth-child(odd) > div,\n",
       ".xr-var-list > li:nth-child(odd) > label,\n",
       ".xr-var-list > li:nth-child(odd) > .xr-var-name span {\n",
       "  background-color: var(--xr-background-color-row-odd);\n",
       "}\n",
       "\n",
       ".xr-var-name {\n",
       "  grid-column: 1;\n",
       "}\n",
       "\n",
       ".xr-var-dims {\n",
       "  grid-column: 2;\n",
       "}\n",
       "\n",
       ".xr-var-dtype {\n",
       "  grid-column: 3;\n",
       "  text-align: right;\n",
       "  color: var(--xr-font-color2);\n",
       "}\n",
       "\n",
       ".xr-var-preview {\n",
       "  grid-column: 4;\n",
       "}\n",
       "\n",
       ".xr-var-name,\n",
       ".xr-var-dims,\n",
       ".xr-var-dtype,\n",
       ".xr-preview,\n",
       ".xr-attrs dt {\n",
       "  white-space: nowrap;\n",
       "  overflow: hidden;\n",
       "  text-overflow: ellipsis;\n",
       "  padding-right: 10px;\n",
       "}\n",
       "\n",
       ".xr-var-name:hover,\n",
       ".xr-var-dims:hover,\n",
       ".xr-var-dtype:hover,\n",
       ".xr-attrs dt:hover {\n",
       "  overflow: visible;\n",
       "  width: auto;\n",
       "  z-index: 1;\n",
       "}\n",
       "\n",
       ".xr-var-attrs,\n",
       ".xr-var-data {\n",
       "  display: none;\n",
       "  background-color: var(--xr-background-color) !important;\n",
       "  padding-bottom: 5px !important;\n",
       "}\n",
       "\n",
       ".xr-var-attrs-in:checked ~ .xr-var-attrs,\n",
       ".xr-var-data-in:checked ~ .xr-var-data {\n",
       "  display: block;\n",
       "}\n",
       "\n",
       ".xr-var-data > table {\n",
       "  float: right;\n",
       "}\n",
       "\n",
       ".xr-var-name span,\n",
       ".xr-var-data,\n",
       ".xr-attrs {\n",
       "  padding-left: 25px !important;\n",
       "}\n",
       "\n",
       ".xr-attrs,\n",
       ".xr-var-attrs,\n",
       ".xr-var-data {\n",
       "  grid-column: 1 / -1;\n",
       "}\n",
       "\n",
       "dl.xr-attrs {\n",
       "  padding: 0;\n",
       "  margin: 0;\n",
       "  display: grid;\n",
       "  grid-template-columns: 125px auto;\n",
       "}\n",
       "\n",
       ".xr-attrs dt,\n",
       ".xr-attrs dd {\n",
       "  padding: 0;\n",
       "  margin: 0;\n",
       "  float: left;\n",
       "  padding-right: 10px;\n",
       "  width: auto;\n",
       "}\n",
       "\n",
       ".xr-attrs dt {\n",
       "  font-weight: normal;\n",
       "  grid-column: 1;\n",
       "}\n",
       "\n",
       ".xr-attrs dt:hover span {\n",
       "  display: inline-block;\n",
       "  background: var(--xr-background-color);\n",
       "  padding-right: 10px;\n",
       "}\n",
       "\n",
       ".xr-attrs dd {\n",
       "  grid-column: 2;\n",
       "  white-space: pre-wrap;\n",
       "  word-break: break-all;\n",
       "}\n",
       "\n",
       ".xr-icon-database,\n",
       ".xr-icon-file-text2 {\n",
       "  display: inline-block;\n",
       "  vertical-align: middle;\n",
       "  width: 1em;\n",
       "  height: 1.5em !important;\n",
       "  stroke-width: 0;\n",
       "  stroke: currentColor;\n",
       "  fill: currentColor;\n",
       "}\n",
       "</style><pre class='xr-text-repr-fallback'>&lt;xarray.DataArray &#x27;LANDMASK&#x27; (lat: 1554, lon: 9216)&gt;\n",
       "[14321664 values with dtype=float32]\n",
       "Coordinates:\n",
       "  * lat      (lat) float32 -30.0 -29.96 -29.92 -29.88 ... 29.88 29.92 29.96 30.0\n",
       "  * lon      (lon) float32 0.01953 0.05859 0.09766 0.1367 ... 359.9 359.9 360.0\n",
       "    time     float32 231.4\n",
       "Attributes:\n",
       "    long_name:  Landmask:0-ocean,1-land,2-landice,3-seaice\n",
       "    units:                </pre><div class='xr-wrap' hidden><div class='xr-header'><div class='xr-obj-type'>xarray.DataArray</div><div class='xr-array-name'>'LANDMASK'</div><ul class='xr-dim-list'><li><span class='xr-has-index'>lat</span>: 1554</li><li><span class='xr-has-index'>lon</span>: 9216</li></ul></div><ul class='xr-sections'><li class='xr-section-item'><div class='xr-array-wrap'><input id='section-a77f3893-2ed1-4fa2-a74b-e45754e4165b' class='xr-array-in' type='checkbox' checked><label for='section-a77f3893-2ed1-4fa2-a74b-e45754e4165b' title='Show/hide data repr'><svg class='icon xr-icon-database'><use xlink:href='#icon-database'></use></svg></label><div class='xr-array-preview xr-preview'><span>...</span></div><div class='xr-array-data'><pre>[14321664 values with dtype=float32]</pre></div></div></li><li class='xr-section-item'><input id='section-80db19b8-ba9d-4c5b-9d0f-c2b37780a6b9' class='xr-section-summary-in' type='checkbox'  checked><label for='section-80db19b8-ba9d-4c5b-9d0f-c2b37780a6b9' class='xr-section-summary' >Coordinates: <span>(3)</span></label><div class='xr-section-inline-details'></div><div class='xr-section-details'><ul class='xr-var-list'><li class='xr-var-item'><div class='xr-var-name'><span class='xr-has-index'>lat</span></div><div class='xr-var-dims'>(lat)</div><div class='xr-var-dtype'>float32</div><div class='xr-var-preview xr-preview'>-30.0 -29.96 -29.92 ... 29.96 30.0</div><input id='attrs-80aba6d4-d2ac-43a7-a9ce-50735428376e' class='xr-var-attrs-in' type='checkbox' ><label for='attrs-80aba6d4-d2ac-43a7-a9ce-50735428376e' title='Show/Hide attributes'><svg class='icon xr-icon-file-text2'><use xlink:href='#icon-file-text2'></use></svg></label><input id='data-47a28d2b-6446-4225-be42-c476f8ceaf2c' class='xr-var-data-in' type='checkbox'><label for='data-47a28d2b-6446-4225-be42-c476f8ceaf2c' title='Show/Hide data repr'><svg class='icon xr-icon-database'><use xlink:href='#icon-database'></use></svg></label><div class='xr-var-attrs'><dl class='xr-attrs'><dt><span>units :</span></dt><dd>degrees_north</dd></dl></div><div class='xr-var-data'><pre>array([-29.995008, -29.95638 , -29.917751, ...,  29.917751,  29.95638 ,\n",
       "        29.995008], dtype=float32)</pre></div></li><li class='xr-var-item'><div class='xr-var-name'><span class='xr-has-index'>lon</span></div><div class='xr-var-dims'>(lon)</div><div class='xr-var-dtype'>float32</div><div class='xr-var-preview xr-preview'>0.01953 0.05859 ... 359.9 360.0</div><input id='attrs-ec1a5274-2406-41c3-8908-c91844eb74f0' class='xr-var-attrs-in' type='checkbox' ><label for='attrs-ec1a5274-2406-41c3-8908-c91844eb74f0' title='Show/Hide attributes'><svg class='icon xr-icon-file-text2'><use xlink:href='#icon-file-text2'></use></svg></label><input id='data-bbc9f6b4-6541-4e65-8afb-3ec047f2c39c' class='xr-var-data-in' type='checkbox'><label for='data-bbc9f6b4-6541-4e65-8afb-3ec047f2c39c' title='Show/Hide data repr'><svg class='icon xr-icon-database'><use xlink:href='#icon-database'></use></svg></label><div class='xr-var-attrs'><dl class='xr-attrs'><dt><span>units :</span></dt><dd>degrees_east</dd></dl></div><div class='xr-var-data'><pre>array([1.953125e-02, 5.859374e-02, 9.765624e-02, ..., 3.599023e+02,\n",
       "       3.599414e+02, 3.599805e+02], dtype=float32)</pre></div></li><li class='xr-var-item'><div class='xr-var-name'><span>time</span></div><div class='xr-var-dims'>()</div><div class='xr-var-dtype'>float32</div><div class='xr-var-preview xr-preview'>231.4</div><input id='attrs-425f5903-2c60-44f1-a7cd-d9b9ccf64069' class='xr-var-attrs-in' type='checkbox' ><label for='attrs-425f5903-2c60-44f1-a7cd-d9b9ccf64069' title='Show/Hide attributes'><svg class='icon xr-icon-file-text2'><use xlink:href='#icon-file-text2'></use></svg></label><input id='data-b1887ba7-872e-423e-a835-866bf2f852a5' class='xr-var-data-in' type='checkbox'><label for='data-b1887ba7-872e-423e-a835-866bf2f852a5' title='Show/Hide data repr'><svg class='icon xr-icon-database'><use xlink:href='#icon-database'></use></svg></label><div class='xr-var-attrs'><dl class='xr-attrs'><dt><span>units :</span></dt><dd>day</dd><dt><span>long_name :</span></dt><dd>time</dd></dl></div><div class='xr-var-data'><pre>array(231.375, dtype=float32)</pre></div></li></ul></div></li><li class='xr-section-item'><input id='section-80630401-1205-405d-8e12-83ec5c2a9110' class='xr-section-summary-in' type='checkbox'  checked><label for='section-80630401-1205-405d-8e12-83ec5c2a9110' class='xr-section-summary' >Attributes: <span>(2)</span></label><div class='xr-section-inline-details'></div><div class='xr-section-details'><dl class='xr-attrs'><dt><span>long_name :</span></dt><dd>Landmask:0-ocean,1-land,2-landice,3-seaice</dd><dt><span>units :</span></dt><dd>          </dd></dl></div></li></ul></div></div>"
      ],
      "text/plain": [
       "<xarray.DataArray 'LANDMASK' (lat: 1554, lon: 9216)>\n",
       "[14321664 values with dtype=float32]\n",
       "Coordinates:\n",
       "  * lat      (lat) float32 -30.0 -29.96 -29.92 -29.88 ... 29.88 29.92 29.96 30.0\n",
       "  * lon      (lon) float32 0.01953 0.05859 0.09766 0.1367 ... 359.9 359.9 360.0\n",
       "    time     float32 231.4\n",
       "Attributes:\n",
       "    long_name:  Landmask:0-ocean,1-land,2-landice,3-seaice\n",
       "    units:                "
      ]
     },
     "execution_count": 36,
     "metadata": {},
     "output_type": "execute_result"
    }
   ],
   "source": [
    "landmask"
   ]
  },
  {
   "cell_type": "code",
   "execution_count": 38,
   "id": "f9c876d7-cde1-44a4-ae82-93f56ccc172b",
   "metadata": {},
   "outputs": [
    {
     "name": "stdout",
     "output_type": "stream",
     "text": [
      "fraction of land points = 0.2583796128718004\n",
      "fraction of ocean points = 0.7416203871281997\n"
     ]
    }
   ],
   "source": [
    "island = landmask > 0.5\n",
    "isocean = landmask < 0.5\n",
    "Nland = np.sum(island).values\n",
    "Nocean = np.sum(isocean).values\n",
    "Ntot = np.size(island)\n",
    "print('fraction of land points =',Nland/Ntot)\n",
    "print('fraction of ocean points =',Nocean/Ntot)"
   ]
  },
  {
   "cell_type": "code",
   "execution_count": null,
   "id": "fdb8ac17-7f43-4c9f-9be4-2322ecefe704",
   "metadata": {},
   "outputs": [],
   "source": []
  }
 ],
 "metadata": {
  "kernelspec": {
   "display_name": "Python 3 (ipykernel)",
   "language": "python",
   "name": "python3"
  },
  "language_info": {
   "codemirror_mode": {
    "name": "ipython",
    "version": 3
   },
   "file_extension": ".py",
   "mimetype": "text/x-python",
   "name": "python",
   "nbconvert_exporter": "python",
   "pygments_lexer": "ipython3",
   "version": "3.8.13"
  }
 },
 "nbformat": 4,
 "nbformat_minor": 5
}
