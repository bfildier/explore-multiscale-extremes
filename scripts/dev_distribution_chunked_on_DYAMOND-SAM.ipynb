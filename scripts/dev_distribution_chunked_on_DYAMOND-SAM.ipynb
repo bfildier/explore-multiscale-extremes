{
 "cells": [
  {
   "cell_type": "code",
   "execution_count": 2,
   "id": "396a45c0-24a6-4187-a2d6-6df637637203",
   "metadata": {},
   "outputs": [],
   "source": [
    "%reload_ext autoreload\n",
    "%matplotlib inline"
   ]
  },
  {
   "cell_type": "code",
   "execution_count": 3,
   "id": "22e0851b-8ce4-4b19-b96b-86c3af035812",
   "metadata": {},
   "outputs": [
    {
     "name": "stdout",
     "output_type": "stream",
     "text": [
      "Own modules available: ['casestudy', 'conditionalstats', 'conditionalstats_chunked', 'lifecycle_mapping', 'plot1D', 'plot2D', 'plotCondPDFs']\n",
      "Own modules available: ['PrecipGrid', 'fcns_load_DYAMOND_SAM', 'fcns_load_RCEMIP_SAM', 'fcns_movie', 'fcns_multiscale_extremes', 'load_TOOCAN_DYAMOND', 'load_TOOCAN_DYAMOND_modif', 'load_TOOCAN_DYAMOND_modif_BF', 'fcns_load_DYAMOND_SAM_Tb_Feng']\n"
     ]
    }
   ],
   "source": [
    "%autoreload 2\n",
    "\n",
    "import sys,os,glob\n",
    "import psutil\n",
    "\n",
    "import matplotlib\n",
    "import matplotlib.pyplot as plt\n",
    "import numpy as np\n",
    "import xarray as xr\n",
    "import pandas as pd\n",
    "from pprint import pprint\n",
    "import datetime as dt\n",
    "\n",
    "\n",
    "from matplotlib.colors import LogNorm\n",
    "from matplotlib.gridspec import GridSpec\n",
    "import cartopy.crs as ccrs\n",
    "\n",
    "import datetime as dt\n",
    "import re\n",
    "import gc\n",
    "import matplotlib.animation as animation\n",
    "import warnings\n",
    "import pickle\n",
    "from scipy.interpolate import interp1d\n",
    "\n",
    "\n",
    "#-- Own settings\n",
    "\n",
    "from settings import *\n",
    "\n",
    "## current script object\n",
    "thismodule = sys.modules[__name__]\n",
    "workdir = os.getcwd()\n",
    "# Add own module library to path\n",
    "moduledir, fcndir = defineDir(workdir)\n",
    "\n",
    "# load own libraries\n",
    "from conditionalstats import *\n",
    "from conditionalstats_chunked import *\n",
    "from plot1D import *\n",
    "\n",
    "# own DYAMOND functions\n",
    "from fcns_load_DYAMOND_SAM import *\n",
    "# own TOOCAN functions\n",
    "from load_TOOCAN_DYAMOND_modif_BF import load_TOOCAN_DYAMOND\n",
    "\n",
    "\n",
    "# ## Graphical parameters\n",
    "# plt.style.use(os.path.join(matplotlib.get_configdir(),'stylelib/presentation.mplstyle'))"
   ]
  },
  {
   "cell_type": "markdown",
   "id": "ff334f3e-240a-46ef-ada7-6f77584e5e26",
   "metadata": {},
   "source": [
    "-----"
   ]
  },
  {
   "cell_type": "markdown",
   "id": "fcf4e8cf-6e7b-4f5f-a945-f5bec9ae52a9",
   "metadata": {},
   "source": [
    "<h5><center>GOAL</center></h5>"
   ]
  },
  {
   "cell_type": "markdown",
   "id": "467bcb72-2a60-484b-aa92-58505767167b",
   "metadata": {},
   "source": [
    "- Compute the distribution of rain (initial resolution) at each time step and store it on disk\n",
    "- Find the points corresponding to extremes above 99th percentile\n",
    "- Condition large-scale variables onto these extremes\n",
    "- ..."
   ]
  },
  {
   "cell_type": "markdown",
   "id": "5b0e445e-1787-472a-8e94-6f60debef889",
   "metadata": {},
   "source": [
    "____"
   ]
  },
  {
   "cell_type": "markdown",
   "id": "4058c839-1996-4f14-8ac5-2ccc21caa2d3",
   "metadata": {},
   "source": [
    "# Domain mean Precac"
   ]
  },
  {
   "cell_type": "code",
   "execution_count": null,
   "id": "1e54ef7e-fe54-4766-ba76-ac3ae820378f",
   "metadata": {},
   "outputs": [
    {
     "name": "stdout",
     "output_type": "stream",
     "text": [
      "832..840..850..860..870..880..890..900..910..920..930..940..980..990..1000..1010..1020..1030..1040..1050..1060..1070..1080..1090.."
     ]
    }
   ],
   "source": [
    "# tropics\n",
    "lat_slice = slice(-30,30)\n",
    "\n",
    "# load pr\n",
    "\n",
    "i_t_min = 832\n",
    "i_t_max = 1917\n",
    "range_t = range(i_t_min,i_t_max+1)\n",
    "\n",
    "precac_mean = []\n",
    "\n",
    "for i_t in range_t:\n",
    "    \n",
    "    if i_t%10 == 0 or i_t in [i_t_min,i_t_max]:\n",
    "        print(i_t,end='..')\n",
    "        \n",
    "    precac_mean.append(np.mean(loadPrec(i_t,reltab_dyam_seg).sel(lat=lat_slice)))\n"
   ]
  },
  {
   "cell_type": "code",
   "execution_count": null,
   "id": "3724f79b-5075-42d9-8a68-83347a4d4875",
   "metadata": {},
   "outputs": [],
   "source": [
    "fig,ax = plt.subplots(figsize=(5,3))\n",
    "\n",
    "ax.plot(time,precac_mean)\n",
    "\n",
    "ax.set_ylabel('domain mean Precac (mm)')\n",
    "ax.set_xlabel('date')\n",
    "plt.show()"
   ]
  },
  {
   "cell_type": "markdown",
   "id": "8959fb16-8ed7-458a-a4f2-2dcd76a88152",
   "metadata": {},
   "source": [
    "# Extremes at one time step"
   ]
  },
  {
   "cell_type": "markdown",
   "id": "6e463632-f4fe-4bb0-9767-888c0717f9ab",
   "metadata": {},
   "source": [
    "(now automated as a script)"
   ]
  },
  {
   "cell_type": "code",
   "execution_count": 4,
   "id": "6ed7e50f-9964-4cf8-962c-620052758413",
   "metadata": {},
   "outputs": [],
   "source": [
    "# geographical parameters\n",
    "lat_slice = slice(-30,30)"
   ]
  },
  {
   "cell_type": "code",
   "execution_count": 5,
   "id": "ffd27f67-9451-4b7b-acec-9fa65b6c9b63",
   "metadata": {},
   "outputs": [],
   "source": [
    "reltab_dyam_seg = loadRelTable('DYAMOND_SEG')"
   ]
  },
  {
   "cell_type": "code",
   "execution_count": 6,
   "id": "63ea5930-3df5-4538-8844-f6cccfe0c38d",
   "metadata": {},
   "outputs": [],
   "source": [
    "# an arbitrary time step\n",
    "i_t = 900\n",
    "\n",
    "pr = loadPrec(i_t,reltab_dyam_seg).sel(lat=lat_slice)"
   ]
  },
  {
   "cell_type": "code",
   "execution_count": 7,
   "id": "d6dd0610-f413-453b-8ab4-b35d83521962",
   "metadata": {},
   "outputs": [],
   "source": [
    "# init\n",
    "dist_pr_t = Distribution(name='pr, DYAMOND-SAM tropics, i_t=%d'%i_t,nbins=50,bintype='invlogQ')\n",
    "# compute\n",
    "# pr_min, pr_max = 0,100 # mm/d\n",
    "dist_pr_t.computeDistribution(sample=pr.data.flatten())\n",
    "dist_pr_t.computeMean(sample=pr.data.flatten())"
   ]
  },
  {
   "cell_type": "code",
   "execution_count": 7,
   "id": "842b897d-35f2-4c3e-85dd-c8e7119b17d8",
   "metadata": {},
   "outputs": [
    {
     "data": {
      "text/html": [
       "<div>\n",
       "<style scoped>\n",
       "    .dataframe tbody tr th:only-of-type {\n",
       "        vertical-align: middle;\n",
       "    }\n",
       "\n",
       "    .dataframe tbody tr th {\n",
       "        vertical-align: top;\n",
       "    }\n",
       "\n",
       "    .dataframe thead th {\n",
       "        text-align: right;\n",
       "    }\n",
       "</style>\n",
       "<table border=\"1\" class=\"dataframe\">\n",
       "  <thead>\n",
       "    <tr style=\"text-align: right;\">\n",
       "      <th></th>\n",
       "      <th>Unnamed: 0</th>\n",
       "      <th>Unnamed: 0.4</th>\n",
       "      <th>Unnamed: 0.3</th>\n",
       "      <th>Unnamed: 0.2</th>\n",
       "      <th>img_seg_path</th>\n",
       "      <th>str_code</th>\n",
       "      <th>Unnamed: 0.1</th>\n",
       "      <th>Unnamed: 0.1.1</th>\n",
       "      <th>year</th>\n",
       "      <th>month</th>\n",
       "      <th>day</th>\n",
       "      <th>hour</th>\n",
       "      <th>minute</th>\n",
       "      <th>path_dyamond</th>\n",
       "      <th>UTC</th>\n",
       "    </tr>\n",
       "  </thead>\n",
       "  <tbody>\n",
       "    <tr>\n",
       "      <th>0</th>\n",
       "      <td>476</td>\n",
       "      <td>476.0</td>\n",
       "      <td>476.0</td>\n",
       "      <td>476.0</td>\n",
       "      <td>data/fiolleau/DYAMOND/TOOCAN/TOOCAN_v2.07/GLOB...</td>\n",
       "      <td>2016-8-1-1-30</td>\n",
       "      <td>2.0</td>\n",
       "      <td>2.0</td>\n",
       "      <td>2016.0</td>\n",
       "      <td>8.0</td>\n",
       "      <td>1.0</td>\n",
       "      <td>1.0</td>\n",
       "      <td>30.0</td>\n",
       "      <td>DYAMOND_9216x4608x74_7.5s_4km_4608_0000000720</td>\n",
       "      <td>17014.03</td>\n",
       "    </tr>\n",
       "    <tr>\n",
       "      <th>1</th>\n",
       "      <td>443</td>\n",
       "      <td>443.0</td>\n",
       "      <td>443.0</td>\n",
       "      <td>443.0</td>\n",
       "      <td>data/fiolleau/DYAMOND/TOOCAN/TOOCAN_v2.07/GLOB...</td>\n",
       "      <td>2016-8-1-2-0</td>\n",
       "      <td>3.0</td>\n",
       "      <td>3.0</td>\n",
       "      <td>2016.0</td>\n",
       "      <td>8.0</td>\n",
       "      <td>1.0</td>\n",
       "      <td>2.0</td>\n",
       "      <td>0.0</td>\n",
       "      <td>DYAMOND_9216x4608x74_7.5s_4km_4608_0000000960</td>\n",
       "      <td>17014.04</td>\n",
       "    </tr>\n",
       "    <tr>\n",
       "      <th>2</th>\n",
       "      <td>468</td>\n",
       "      <td>468.0</td>\n",
       "      <td>468.0</td>\n",
       "      <td>468.0</td>\n",
       "      <td>data/fiolleau/DYAMOND/TOOCAN/TOOCAN_v2.07/GLOB...</td>\n",
       "      <td>2016-8-1-2-30</td>\n",
       "      <td>4.0</td>\n",
       "      <td>4.0</td>\n",
       "      <td>2016.0</td>\n",
       "      <td>8.0</td>\n",
       "      <td>1.0</td>\n",
       "      <td>2.0</td>\n",
       "      <td>30.0</td>\n",
       "      <td>DYAMOND_9216x4608x74_7.5s_4km_4608_0000001200</td>\n",
       "      <td>17014.05</td>\n",
       "    </tr>\n",
       "    <tr>\n",
       "      <th>3</th>\n",
       "      <td>432</td>\n",
       "      <td>432.0</td>\n",
       "      <td>432.0</td>\n",
       "      <td>432.0</td>\n",
       "      <td>data/fiolleau/DYAMOND/TOOCAN/TOOCAN_v2.07/GLOB...</td>\n",
       "      <td>2016-8-1-3-0</td>\n",
       "      <td>5.0</td>\n",
       "      <td>5.0</td>\n",
       "      <td>2016.0</td>\n",
       "      <td>8.0</td>\n",
       "      <td>1.0</td>\n",
       "      <td>3.0</td>\n",
       "      <td>0.0</td>\n",
       "      <td>DYAMOND_9216x4608x74_7.5s_4km_4608_0000001440</td>\n",
       "      <td>17014.06</td>\n",
       "    </tr>\n",
       "    <tr>\n",
       "      <th>4</th>\n",
       "      <td>437</td>\n",
       "      <td>437.0</td>\n",
       "      <td>437.0</td>\n",
       "      <td>437.0</td>\n",
       "      <td>data/fiolleau/DYAMOND/TOOCAN/TOOCAN_v2.07/GLOB...</td>\n",
       "      <td>2016-8-1-3-30</td>\n",
       "      <td>6.0</td>\n",
       "      <td>6.0</td>\n",
       "      <td>2016.0</td>\n",
       "      <td>8.0</td>\n",
       "      <td>1.0</td>\n",
       "      <td>3.0</td>\n",
       "      <td>30.0</td>\n",
       "      <td>DYAMOND_9216x4608x74_7.5s_4km_4608_0000001680</td>\n",
       "      <td>17014.07</td>\n",
       "    </tr>\n",
       "    <tr>\n",
       "      <th>...</th>\n",
       "      <td>...</td>\n",
       "      <td>...</td>\n",
       "      <td>...</td>\n",
       "      <td>...</td>\n",
       "      <td>...</td>\n",
       "      <td>...</td>\n",
       "      <td>...</td>\n",
       "      <td>...</td>\n",
       "      <td>...</td>\n",
       "      <td>...</td>\n",
       "      <td>...</td>\n",
       "      <td>...</td>\n",
       "      <td>...</td>\n",
       "      <td>...</td>\n",
       "      <td>...</td>\n",
       "    </tr>\n",
       "    <tr>\n",
       "      <th>1914</th>\n",
       "      <td>1295</td>\n",
       "      <td>1295.0</td>\n",
       "      <td>1295.0</td>\n",
       "      <td>1295.0</td>\n",
       "      <td>data/fiolleau/DYAMOND/TOOCAN/TOOCAN_v2.07/GLOB...</td>\n",
       "      <td>2016-9-9-22-30</td>\n",
       "      <td>1916.0</td>\n",
       "      <td>1916.0</td>\n",
       "      <td>2016.0</td>\n",
       "      <td>9.0</td>\n",
       "      <td>9.0</td>\n",
       "      <td>22.0</td>\n",
       "      <td>30.0</td>\n",
       "      <td>DYAMOND_9216x4608x74_7.5s_4km_4608_0000460080</td>\n",
       "      <td>17053.45</td>\n",
       "    </tr>\n",
       "    <tr>\n",
       "      <th>1915</th>\n",
       "      <td>1315</td>\n",
       "      <td>1315.0</td>\n",
       "      <td>1315.0</td>\n",
       "      <td>1315.0</td>\n",
       "      <td>data/fiolleau/DYAMOND/TOOCAN/TOOCAN_v2.07/GLOB...</td>\n",
       "      <td>2016-9-9-23-0</td>\n",
       "      <td>1917.0</td>\n",
       "      <td>1917.0</td>\n",
       "      <td>2016.0</td>\n",
       "      <td>9.0</td>\n",
       "      <td>9.0</td>\n",
       "      <td>23.0</td>\n",
       "      <td>0.0</td>\n",
       "      <td>DYAMOND_9216x4608x74_7.5s_4km_4608_0000460320</td>\n",
       "      <td>17053.46</td>\n",
       "    </tr>\n",
       "    <tr>\n",
       "      <th>1916</th>\n",
       "      <td>1313</td>\n",
       "      <td>1313.0</td>\n",
       "      <td>1313.0</td>\n",
       "      <td>1313.0</td>\n",
       "      <td>data/fiolleau/DYAMOND/TOOCAN/TOOCAN_v2.07/GLOB...</td>\n",
       "      <td>2016-9-9-23-30</td>\n",
       "      <td>1918.0</td>\n",
       "      <td>1918.0</td>\n",
       "      <td>2016.0</td>\n",
       "      <td>9.0</td>\n",
       "      <td>9.0</td>\n",
       "      <td>23.0</td>\n",
       "      <td>30.0</td>\n",
       "      <td>DYAMOND_9216x4608x74_7.5s_4km_4608_0000460560</td>\n",
       "      <td>17053.47</td>\n",
       "    </tr>\n",
       "    <tr>\n",
       "      <th>1917</th>\n",
       "      <td>1304</td>\n",
       "      <td>1304.0</td>\n",
       "      <td>1304.0</td>\n",
       "      <td>1304.0</td>\n",
       "      <td>data/fiolleau/DYAMOND/TOOCAN/TOOCAN_v2.07/GLOB...</td>\n",
       "      <td>2016-9-10-0-0</td>\n",
       "      <td>1919.0</td>\n",
       "      <td>1919.0</td>\n",
       "      <td>2016.0</td>\n",
       "      <td>9.0</td>\n",
       "      <td>10.0</td>\n",
       "      <td>0.0</td>\n",
       "      <td>0.0</td>\n",
       "      <td>DYAMOND_9216x4608x74_7.5s_4km_4608_0000460800</td>\n",
       "      <td>17053.48</td>\n",
       "    </tr>\n",
       "    <tr>\n",
       "      <th>1918</th>\n",
       "      <td>1919</td>\n",
       "      <td>NaN</td>\n",
       "      <td>NaN</td>\n",
       "      <td>NaN</td>\n",
       "      <td>NaN</td>\n",
       "      <td>NaN</td>\n",
       "      <td>NaN</td>\n",
       "      <td>NaN</td>\n",
       "      <td>NaN</td>\n",
       "      <td>NaN</td>\n",
       "      <td>NaN</td>\n",
       "      <td>NaN</td>\n",
       "      <td>NaN</td>\n",
       "      <td>NaN</td>\n",
       "      <td>17054.01</td>\n",
       "    </tr>\n",
       "  </tbody>\n",
       "</table>\n",
       "<p>1919 rows × 15 columns</p>\n",
       "</div>"
      ],
      "text/plain": [
       "      Unnamed: 0  Unnamed: 0.4  Unnamed: 0.3  Unnamed: 0.2  \\\n",
       "0            476         476.0         476.0         476.0   \n",
       "1            443         443.0         443.0         443.0   \n",
       "2            468         468.0         468.0         468.0   \n",
       "3            432         432.0         432.0         432.0   \n",
       "4            437         437.0         437.0         437.0   \n",
       "...          ...           ...           ...           ...   \n",
       "1914        1295        1295.0        1295.0        1295.0   \n",
       "1915        1315        1315.0        1315.0        1315.0   \n",
       "1916        1313        1313.0        1313.0        1313.0   \n",
       "1917        1304        1304.0        1304.0        1304.0   \n",
       "1918        1919           NaN           NaN           NaN   \n",
       "\n",
       "                                           img_seg_path        str_code  \\\n",
       "0     data/fiolleau/DYAMOND/TOOCAN/TOOCAN_v2.07/GLOB...   2016-8-1-1-30   \n",
       "1     data/fiolleau/DYAMOND/TOOCAN/TOOCAN_v2.07/GLOB...    2016-8-1-2-0   \n",
       "2     data/fiolleau/DYAMOND/TOOCAN/TOOCAN_v2.07/GLOB...   2016-8-1-2-30   \n",
       "3     data/fiolleau/DYAMOND/TOOCAN/TOOCAN_v2.07/GLOB...    2016-8-1-3-0   \n",
       "4     data/fiolleau/DYAMOND/TOOCAN/TOOCAN_v2.07/GLOB...   2016-8-1-3-30   \n",
       "...                                                 ...             ...   \n",
       "1914  data/fiolleau/DYAMOND/TOOCAN/TOOCAN_v2.07/GLOB...  2016-9-9-22-30   \n",
       "1915  data/fiolleau/DYAMOND/TOOCAN/TOOCAN_v2.07/GLOB...   2016-9-9-23-0   \n",
       "1916  data/fiolleau/DYAMOND/TOOCAN/TOOCAN_v2.07/GLOB...  2016-9-9-23-30   \n",
       "1917  data/fiolleau/DYAMOND/TOOCAN/TOOCAN_v2.07/GLOB...   2016-9-10-0-0   \n",
       "1918                                                NaN             NaN   \n",
       "\n",
       "      Unnamed: 0.1  Unnamed: 0.1.1    year  month   day  hour  minute  \\\n",
       "0              2.0             2.0  2016.0    8.0   1.0   1.0    30.0   \n",
       "1              3.0             3.0  2016.0    8.0   1.0   2.0     0.0   \n",
       "2              4.0             4.0  2016.0    8.0   1.0   2.0    30.0   \n",
       "3              5.0             5.0  2016.0    8.0   1.0   3.0     0.0   \n",
       "4              6.0             6.0  2016.0    8.0   1.0   3.0    30.0   \n",
       "...            ...             ...     ...    ...   ...   ...     ...   \n",
       "1914        1916.0          1916.0  2016.0    9.0   9.0  22.0    30.0   \n",
       "1915        1917.0          1917.0  2016.0    9.0   9.0  23.0     0.0   \n",
       "1916        1918.0          1918.0  2016.0    9.0   9.0  23.0    30.0   \n",
       "1917        1919.0          1919.0  2016.0    9.0  10.0   0.0     0.0   \n",
       "1918           NaN             NaN     NaN    NaN   NaN   NaN     NaN   \n",
       "\n",
       "                                       path_dyamond       UTC  \n",
       "0     DYAMOND_9216x4608x74_7.5s_4km_4608_0000000720  17014.03  \n",
       "1     DYAMOND_9216x4608x74_7.5s_4km_4608_0000000960  17014.04  \n",
       "2     DYAMOND_9216x4608x74_7.5s_4km_4608_0000001200  17014.05  \n",
       "3     DYAMOND_9216x4608x74_7.5s_4km_4608_0000001440  17014.06  \n",
       "4     DYAMOND_9216x4608x74_7.5s_4km_4608_0000001680  17014.07  \n",
       "...                                             ...       ...  \n",
       "1914  DYAMOND_9216x4608x74_7.5s_4km_4608_0000460080  17053.45  \n",
       "1915  DYAMOND_9216x4608x74_7.5s_4km_4608_0000460320  17053.46  \n",
       "1916  DYAMOND_9216x4608x74_7.5s_4km_4608_0000460560  17053.47  \n",
       "1917  DYAMOND_9216x4608x74_7.5s_4km_4608_0000460800  17053.48  \n",
       "1918                                            NaN  17054.01  \n",
       "\n",
       "[1919 rows x 15 columns]"
      ]
     },
     "execution_count": 7,
     "metadata": {},
     "output_type": "execute_result"
    }
   ],
   "source": [
    "reltab_dyam_seg"
   ]
  },
  {
   "cell_type": "code",
   "execution_count": 8,
   "id": "38c966dc-e9a7-4c0b-aee7-e57c18d0f4d8",
   "metadata": {},
   "outputs": [],
   "source": [
    "# # save on disk\n",
    "# save_dir = os.path.join(DIR_OUT,'time_slices')\n",
    "# os.makedirs(save_dir,exist_ok=True)\n",
    "# pickle.dump(dist_pr_t,open(os.path.join(save_dir,'dist_pr_t_%d.pickle'%i_t),'wb'))"
   ]
  },
  {
   "cell_type": "code",
   "execution_count": 9,
   "id": "ff00e58c-5dd4-4843-a25b-b00cedc286ad",
   "metadata": {},
   "outputs": [
    {
     "data": {
      "text/plain": [
       "< Distribution object:\n",
       " . bintype: invlogQ\n",
       " . nbins: 66\n",
       " . nbpd: 10\n",
       " . nppb: 4\n",
       " . nd: None\n",
       " . fill_last_decade: False\n",
       " . name: <class 'str'>\n",
       " . size: 14321664\n",
       " . vmin: -0.04471199\n",
       " . vmax: 79.120636\n",
       " . rank_edges: <class 'numpy.ndarray'>\n",
       " . ranks: <class 'numpy.ndarray'>\n",
       " . percentiles: <class 'numpy.ndarray'>\n",
       " . bins: <class 'numpy.ndarray'>\n",
       " . density: <class 'numpy.ndarray'>\n",
       " . bin_locations_stored: False\n",
       " . overwrite: False\n",
       " . frac_below_vmin: 0.0\n",
       " . frac_above_vmax: 0.0\n",
       " . mean: 0.08582007\n",
       " >"
      ]
     },
     "execution_count": 9,
     "metadata": {},
     "output_type": "execute_result"
    }
   ],
   "source": [
    "dist_pr_t"
   ]
  },
  {
   "cell_type": "code",
   "execution_count": 10,
   "id": "0d201b67-c2db-436d-9b2a-c3bc3d4f573f",
   "metadata": {},
   "outputs": [
    {
     "data": {
      "text/plain": [
       "array([ 0.        , 20.56717653, 36.90426555, 49.88127664, 60.18928294,\n",
       "       68.3772234 , 74.88113568, 80.04737685, 84.15106808, 87.41074588,\n",
       "       90.        , 92.05671765, 93.69042656, 94.98812766, 96.01892829,\n",
       "       96.83772234, 97.48811357, 98.00473769, 98.41510681, 98.74107459,\n",
       "       99.        , 99.20567177, 99.36904266, 99.49881277, 99.60189283,\n",
       "       99.68377223, 99.74881136, 99.80047377, 99.84151068, 99.87410746,\n",
       "       99.9       , 99.92056718, 99.93690427, 99.94988128, 99.96018928,\n",
       "       99.96837722, 99.97488114, 99.98004738, 99.98415107, 99.98741075,\n",
       "       99.99      , 99.99205672, 99.99369043, 99.99498813, 99.99601893,\n",
       "       99.99683772, 99.99748811, 99.99800474, 99.99841511, 99.99874107,\n",
       "       99.999     , 99.99920567, 99.99936904, 99.99949881, 99.99960189,\n",
       "       99.99968377, 99.99974881, 99.99980047, 99.99984151, 99.99987411,\n",
       "       99.9999    , 99.99992057, 99.9999369 , 99.99994988, 99.99996019,\n",
       "       99.99996838])"
      ]
     },
     "execution_count": 10,
     "metadata": {},
     "output_type": "execute_result"
    }
   ],
   "source": [
    "dist_pr_t.ranks"
   ]
  },
  {
   "cell_type": "code",
   "execution_count": 11,
   "id": "3a9eb855-715e-42fa-bda7-6b6fc21d6f52",
   "metadata": {},
   "outputs": [],
   "source": [
    "fig,ax = plt.subplots(figsize=(5,5))\n",
    "\n",
    "rankmax = 99.9999\n",
    "ranks = dist_pr_t.ranks[dist_pr_t.ranks<rankmax]\n",
    "y = dist_pr_t.percentiles[dist_pr_t.ranks<rankmax]\n",
    "\n",
    "\n",
    "subplotRanksILog(ax,ranks,y,rankmin=0,rankmax=rankmax)\n",
    "\n",
    "# # frame\n",
    "# setFrame(ax,rankmin=0,rankmax=rankmax) # in here, duplicate the outer axis for fixing independent frame\n",
    "# # data\n",
    "# showData(ax,dist_pr_t.ranks,dist_pr_t.percentiles)\n",
    "\n",
    "#- labels\n",
    "ax.set_xlabel('Ranks Q (%)',labelpad=25)\n",
    "ax.set_ylabel('P (mm/day)')\n",
    "\n",
    "\n",
    "plt.show()"
   ]
  },
  {
   "cell_type": "markdown",
   "id": "582e5966-fb2d-4dd1-bfb4-418e38bff38b",
   "metadata": {},
   "source": [
    "# Combine sliced distribution into 1 global distribution"
   ]
  },
  {
   "cell_type": "markdown",
   "id": "7cc80378-e6e4-4e23-9588-e5ee9147880e",
   "metadata": {},
   "source": [
    "OBSOLETE: now time_slices are stored in tar.gz file"
   ]
  },
  {
   "cell_type": "code",
   "execution_count": 12,
   "id": "bc09b75a-efda-4606-863d-c3e27032c5d7",
   "metadata": {},
   "outputs": [],
   "source": [
    "# an arbitrary time step\n",
    "i_t = 900\n",
    "pr_ex = loadPrec(i_t,reltab_dyam_seg).sel(lat=lat_slice)"
   ]
  },
  {
   "cell_type": "code",
   "execution_count": 18,
   "id": "97a1b8d6-00e6-4226-abff-f6d5f8e0c78a",
   "metadata": {},
   "outputs": [
    {
     "name": "stdout",
     "output_type": "stream",
     "text": [
      "time_slices.tar.gz\n"
     ]
    }
   ],
   "source": [
    "! ls ../results/tropics/Prec/all"
   ]
  },
  {
   "cell_type": "code",
   "execution_count": null,
   "id": "81350b00-d723-434d-898e-b89a98b14b43",
   "metadata": {},
   "outputs": [],
   "source": [
    "##-- OBSOLETE: now time_slices are stored in tar.gz file -- ##\n",
    "\n",
    "# Load pre-computed distributions\n",
    "\n",
    "dir_dist_sliced = os.path.join(DIR_OUT,'time_slices')\n",
    "\n",
    "i_t_min = 832\n",
    "i_t_max = 1917\n",
    "range_t = range(i_t_min,i_t_max+1)\n",
    "\n",
    "dict_dist_pr_sliced = {}\n",
    "\n",
    "for i_t in range_t:\n",
    "\n",
    "    # load\n",
    "    dist_pr_t = pickle.load(open(os.path.join(dir_dist_sliced,'dist_pr_t_%d.pickle'%i_t),'rb'))\n",
    "    # store\n",
    "    dict_dist_pr_sliced[i_t] = dist_pr_t\n"
   ]
  },
  {
   "cell_type": "code",
   "execution_count": 42,
   "id": "711e33b3-aa5c-44ac-97be-1b1f08280099",
   "metadata": {},
   "outputs": [],
   "source": [
    "# mean precip\n",
    "pr_mean = np.array([dict_dist_pr_sliced[i_t].mean for i_t in range_t])"
   ]
  },
  {
   "cell_type": "code",
   "execution_count": 43,
   "id": "93181715-e97e-4b88-be1f-d4acfc5928ec",
   "metadata": {},
   "outputs": [
    {
     "name": "stdout",
     "output_type": "stream",
     "text": [
      "Found 22 indices where precip should not be analyzed: [ 862  863  958  959 1054 1055 1150 1151 1246 1247 1342 1343 1438 1439\n",
      " 1534 1535 1630 1631 1726 1727 1822 1823]\n"
     ]
    }
   ],
   "source": [
    "# Get indices where precip data is wrong\n",
    "#\n",
    "# choose to call k_t indices in range [0,1085] and i_t indices in range [832,1917]\n",
    "#\n",
    "k_t_skip = np.where(pr_mean < 0.01)[0] # find where precip is too small\n",
    "k_t_skip = np.hstack([k_t_skip-1,k_t_skip]) # also flag the previous index\n",
    "k_t_skip.sort() # sort\n",
    "i_t_skip = k_t_skip + i_t_min\n",
    "print(\"Found %d indices where precip should not be analyzed:\"%len(i_t_skip),i_t_skip)"
   ]
  },
  {
   "cell_type": "code",
   "execution_count": 44,
   "id": "af34e38c-382a-4d9e-bbd5-7fd5a9b79aba",
   "metadata": {},
   "outputs": [],
   "source": [
    "# starting date\n",
    "date_ref = dt.datetime(year=2016,month=8,day=1)"
   ]
  },
  {
   "cell_type": "code",
   "execution_count": 45,
   "id": "14358224-3649-4086-b9a5-475f6f7939a8",
   "metadata": {},
   "outputs": [],
   "source": [
    "def getDateCurrent(i_t):\n",
    "    \n",
    "    # number of seconds elapsed\n",
    "    dt_dyam = int(reltab_dyam_seg.iloc[i_t]['path_dyamond'].split('_')[-1])\n",
    "    # corresponding delta\n",
    "    delta_t = dt.timedelta(seconds=int(dt_dyam*7.5))\n",
    "    # current date\n",
    "    date_current = date_ref + delta_t\n",
    "    \n",
    "    return date_current"
   ]
  },
  {
   "cell_type": "code",
   "execution_count": 46,
   "id": "ef020304-cd3e-44c6-b4a3-bba0a7d894cc",
   "metadata": {},
   "outputs": [],
   "source": [
    "# time dimension\n",
    "time = np.array([getDateCurrent(i_t) for i_t in range_t])"
   ]
  },
  {
   "cell_type": "code",
   "execution_count": 47,
   "id": "ebe9bced-44a0-4721-849b-689e007902c6",
   "metadata": {},
   "outputs": [
    {
     "data": {
      "image/png": "[encoded data removed]",
      "text/plain": [
       "<Figure size 500x300 with 1 Axes>"
      ]
     },
     "metadata": {},
     "output_type": "display_data"
    }
   ],
   "source": [
    "fig,ax = plt.subplots(figsize=(5,3))\n",
    "\n",
    "ax.plot(time,pr_mean)\n",
    "\n",
    "ax.set_ylabel('domain mean 30-mn P (mm)')\n",
    "ax.set_xlabel('date')\n",
    "plt.show()"
   ]
  },
  {
   "cell_type": "markdown",
   "id": "cf6b90d7-f550-4cd9-b710-846f6ff2caad",
   "metadata": {},
   "source": [
    "## Algorithm"
   ]
  },
  {
   "cell_type": "code",
   "execution_count": 48,
   "id": "0c448b39-4d14-4154-be7e-7e32cce99509",
   "metadata": {},
   "outputs": [],
   "source": [
    "#--- sample sizes\n",
    "\n",
    "# sample size in subsample\n",
    "N_sub = dict_dist_pr_sliced[i_t_min].size\n",
    "# total number of time slices\n",
    "N_t_all = len(dict_dist_pr_sliced)\n",
    "# number of time slices (minus skipped slices)\n",
    "N_t = len(dict_dist_pr_sliced) - len(i_t_skip)\n",
    "# global sample size\n",
    "N_global = N_t * N_sub"
   ]
  },
  {
   "cell_type": "code",
   "execution_count": 49,
   "id": "78215057-5015-4e97-b353-a505cd2e0845",
   "metadata": {},
   "outputs": [],
   "source": [
    "#--- min and max\n",
    "\n",
    "# t-sliced min\n",
    "min_sub = np.array([dict_dist_pr_sliced[i_t].vmin for i_t in range_t])\n",
    "min_sub[k_t_skip] = None\n",
    "# global min\n",
    "min_global = np.nanmin(min_sub)\n",
    "# t-sliced max\n",
    "max_sub = np.array([dict_dist_pr_sliced[i_t].vmax for i_t in range_t])\n",
    "max_sub[k_t_skip] = None\n",
    "# global max\n",
    "max_global = np.nanmax(max_sub)"
   ]
  },
  {
   "cell_type": "code",
   "execution_count": 50,
   "id": "2c3d1600-44d1-4284-8f74-61e0c56f85f2",
   "metadata": {},
   "outputs": [
    {
     "data": {
      "image/png": "[encoded data removed]",
      "text/plain": [
       "<Figure size 500x300 with 1 Axes>"
      ]
     },
     "metadata": {},
     "output_type": "display_data"
    }
   ],
   "source": [
    "fig,ax = plt.subplots(figsize=(5,3))\n",
    "\n",
    "ax.plot(time,min_sub,label='min')\n",
    "ax.plot(time,max_sub,label='max')\n",
    "\n",
    "ax.set_ylabel('spatial min/max of 30-mn P (mm)')\n",
    "ax.set_xlabel('date')\n",
    "plt.show()"
   ]
  },
  {
   "cell_type": "code",
   "execution_count": 51,
   "id": "feb6c0d3-0883-42af-a1c6-ec86d02f6f61",
   "metadata": {},
   "outputs": [
    {
     "name": "stdout",
     "output_type": "stream",
     "text": [
      "error, current estimate:\n",
      "125.90929 40\n",
      "40.07597601413727 19.962011992931366\n",
      "20.037988007068634 9.943017989397049\n",
      "10.018994003534317 4.93352098762989\n",
      "5.0094970017671585 2.428772486746311\n",
      "2.5047485008835793 1.1763982363045216\n",
      "1.2523742504417896 1.8025853615254164\n",
      "0.6261871252208948 1.489491798914969\n",
      "0.3130935626104474 1.6460385802201927\n",
      "0.1565467813052237 1.7243119708728045\n",
      "0.07827339065261185 1.7634486661991104\n",
      "0.039136695326305926 1.7830170138622634\n",
      "0.019568347663152963 1.773232840030687\n"
     ]
    }
   ],
   "source": [
    "#---- DEV ----#\n",
    "\n",
    "#--- main algorithm\n",
    "# target_Q = 99.99999\n",
    "target_Q = 99\n",
    "target_nless = int(N_global*target_Q/100)\n",
    "\n",
    "## initialize\n",
    "# initial guess\n",
    "Pe_i = 40\n",
    "# current estimate\n",
    "Pe_c = Pe_i\n",
    "# search bounds\n",
    "B1 = min_global\n",
    "B2 = max_global\n",
    "# threshold\n",
    "err_thresh = max_global/10000\n",
    "err = np.absolute(B2-B1)\n",
    "\n",
    "## iterate\n",
    "print('error, current estimate:')\n",
    "\n",
    "while err > err_thresh:\n",
    "    \n",
    "    print(err,Pe_c)\n",
    "\n",
    "    #- calculate position of current estimate\n",
    "    \n",
    "    nless = [] \n",
    "    for i_t in range_t:\n",
    "        \n",
    "        if i_t in i_t_skip: # skip\n",
    "            nless.append(0)\n",
    "            continue\n",
    "        \n",
    "        dist_t = dict_dist_pr_sliced[i_t]\n",
    "        \n",
    "        if Pe_c > dist_t.vmax:\n",
    "            \n",
    "            nless.append(N_sub)\n",
    "            \n",
    "        elif Pe_c < dist_t.vmin:\n",
    "            \n",
    "            nless.append(0)\n",
    "        \n",
    "        else:\n",
    "            \n",
    "            # read percentile rank Q(Pe|S)\n",
    "            pr_t = np.hstack([dist_t.vmin,dist_t.percentiles,dist_t.vmax])\n",
    "            Q_t = np.hstack([0,dist_t.ranks,100])\n",
    "            Q_interp = interp1d(pr_t,Q_t)\n",
    "            Q_est = Q_interp(Pe_c)\n",
    "\n",
    "            # infer number of points below\n",
    "            nless.append(int(N_sub*Q_est/100))\n",
    "        \n",
    "    nless_tot = np.sum(nless)\n",
    "    \n",
    "    #- update search bounds and get new estimate\n",
    "    if nless_tot < target_nless:\n",
    "        \n",
    "        # move lower bound up\n",
    "        B1 = Pe_c\n",
    "        # new estimate is mean between current estimate and upper bound\n",
    "        Pe_n = np.mean([Pe_c,B2])\n",
    "        \n",
    "    elif nless_tot > target_nless:\n",
    "        \n",
    "        # move upper bound down\n",
    "        B2 = Pe_c\n",
    "        # new estimate is mean between current estimate and lower bound\n",
    "        Pe_n = np.mean([B1,Pe_c])\n",
    "        \n",
    "    else: # found exact equality by chance\n",
    "        \n",
    "        B1 = B2 = Pe_n = Pe_c\n",
    "        \n",
    "        \n",
    "    # update error and current estimate\n",
    "    err = np.absolute(B2-B1)\n",
    "    Pe_c = Pe_n\n",
    "     "
   ]
  },
  {
   "cell_type": "code",
   "execution_count": 21,
   "id": "c1879d8e-6048-4222-88ac-042d785d657f",
   "metadata": {},
   "outputs": [],
   "source": [
    "#---- Save as function ----#\n",
    "\n",
    "def computeGlobalPercentile(target_Q,verbose=False):\n",
    "\n",
    "    target_nless = int(N_global*target_Q/100)\n",
    "\n",
    "    ## initialize\n",
    "    # initial guess\n",
    "    Pe_i = 40\n",
    "    # current estimate\n",
    "    Pe_c = Pe_i\n",
    "    # search bounds\n",
    "    B1 = min_global\n",
    "    B2 = max_global\n",
    "    # threshold\n",
    "    err_thresh = max_global/10000\n",
    "    err = np.absolute(B2-B1)\n",
    "\n",
    "    ## iterate\n",
    "    if verbose:\n",
    "        print('error, current estimate:')\n",
    "\n",
    "    while err > err_thresh:\n",
    "\n",
    "        if verbose:\n",
    "            print(err,Pe_c)\n",
    "\n",
    "        #- calculate position of current estimate\n",
    "\n",
    "        nless = [] \n",
    "        for i_t in range_t:\n",
    "\n",
    "            if i_t in i_t_skip: # skip\n",
    "                nless.append(0)\n",
    "                continue\n",
    "\n",
    "            dist_t = dict_dist_pr_sliced[i_t]\n",
    "\n",
    "            if Pe_c > dist_t.vmax:\n",
    "\n",
    "                nless.append(N_sub)\n",
    "\n",
    "            elif Pe_c < dist_t.vmin:\n",
    "\n",
    "                nless.append(0)\n",
    "\n",
    "            else:\n",
    "\n",
    "                # read percentile rank Q(Pe|S)\n",
    "                pr_t = np.hstack([dist_t.vmin,dist_t.percentiles,dist_t.vmax])\n",
    "                Q_t = np.hstack([0,dist_t.ranks,100])\n",
    "                Q_interp = interp1d(pr_t,Q_t)\n",
    "                Q_est = Q_interp(Pe_c)\n",
    "\n",
    "                # infer number of points below\n",
    "                nless.append(int(N_sub*Q_est/100))\n",
    "\n",
    "        nless_tot = np.sum(nless)\n",
    "\n",
    "        #- update search bounds and get new estimate\n",
    "        if nless_tot < target_nless:\n",
    "\n",
    "            # move lower bound up\n",
    "            B1 = Pe_c\n",
    "            # new estimate is mean between current estimate and upper bound\n",
    "            Pe_n = np.mean([Pe_c,B2])\n",
    "\n",
    "        elif nless_tot > target_nless:\n",
    "\n",
    "            # move upper bound down\n",
    "            B2 = Pe_c\n",
    "            # new estimate is mean between current estimate and lower bound\n",
    "            Pe_n = np.mean([B1,Pe_c])\n",
    "\n",
    "        else: # found exact equality by chance\n",
    "\n",
    "            B1 = B2 = Pe_n = Pe_c\n",
    "\n",
    "\n",
    "        # update error and current estimate\n",
    "        err = np.absolute(B2-B1)\n",
    "        Pe_c = Pe_n\n",
    "    \n",
    "    return Pe_c\n"
   ]
  },
  {
   "cell_type": "markdown",
   "id": "03e6b640-3f66-4ca2-90e1-5c4e8f0da733",
   "metadata": {},
   "source": [
    "## Do all percentiles"
   ]
  },
  {
   "cell_type": "code",
   "execution_count": 52,
   "id": "fae0e364-bcdf-48e3-9316-12dd8b02955c",
   "metadata": {},
   "outputs": [],
   "source": [
    "#-- initiate global distribution\n",
    "dist_pr = Distribution(name='pr, DYAMOND-SAM tropics, all times',bintype='invlogQ',nd=8)"
   ]
  },
  {
   "cell_type": "code",
   "execution_count": 24,
   "id": "3849b7ad-3370-4498-a47b-e7be0664bceb",
   "metadata": {},
   "outputs": [
    {
     "name": "stdout",
     "output_type": "stream",
     "text": [
      "0.0..20.567176527571853..36.90426555198067..49.88127663727278..60.18928294465028..68.3772233983162..74.8811356849042..80.0473768503112..84.15106807538886..87.41074588205832..90.0..92.05671765275719..93.69042655519807..94.98812766372727..96.01892829446503..96.83772233983163..97.48811356849042..98.00473768503112..98.41510680753889..98.74107458820583..99.0..99.20567176527571..99.3690426555198..99.49881276637272..99.6018928294465..99.68377223398316..99.74881135684905..99.80047376850311..99.84151068075388..99.87410745882059..99.9..99.92056717652757..99.93690426555199..99.94988127663727..99.96018928294464..99.96837722339832..99.9748811356849..99.98004737685031..99.98415106807539..99.98741074588206..99.99..99.99205671765276..99.99369042655519..99.99498812766373..99.99601892829446..99.99683772233982..99.9974881135685..99.99800473768504..99.99841510680754..99.99874107458821..99.99900000000001..99.99920567176528..99.99936904265552..99.99949881276638..99.99960189282945..99.99968377223398..99.99974881135685..99.9998004737685..99.99984151068075..99.99987410745882..99.9999..99.99992056717653..99.99993690426555..99.99994988127663..99.99996018928294..99.9999683772234..99.99997488113569..99.99998004737685..99.99998415106808..99.99998741074589..99.99999000000001..99.99999205671766..99.99999369042656..99.99999498812767..99.9999960189283..99.99999683772234..99.99999748811356..99.99999800473769..99.9999984151068..99.99999874107459..99.99999899999999..\n",
      "CPU times: user 1min 18s, sys: 962 ms, total: 1min 19s\n",
      "Wall time: 1min 16s\n"
     ]
    }
   ],
   "source": [
    "%%time\n",
    "#-- manually compute global distribution\n",
    "\n",
    "# store full sample size\n",
    "dist_pr.size = N_global\n",
    "# compute ranks\n",
    "dist_pr.getInvLogRanks()\n",
    "N_Q = len(dist_pr.ranks)\n",
    "\n",
    "#- loop over all ranks to store full distribution\n",
    "# init\n",
    "dist_pr.percentiles = np.full(len(dist_pr.ranks),np.nan)\n",
    "#- loop\n",
    "for i_Q in range(N_Q):\n",
    "    \n",
    "    # pick target\n",
    "    target_Q = dist_pr.ranks[i_Q]\n",
    "    print(target_Q,end='..')\n",
    "    \n",
    "    # compute and store\n",
    "    dist_pr.percentiles[i_Q] = computeGlobalPercentile(target_Q)\n",
    "    \n",
    "print()"
   ]
  },
  {
   "cell_type": "code",
   "execution_count": 68,
   "id": "60da2d7b-c9ba-4441-8b28-0595afbdb249",
   "metadata": {},
   "outputs": [
    {
     "data": {
      "image/png": "[encoded data removed]",
      "text/plain": [
       "<Figure size 500x500 with 2 Axes>"
      ]
     },
     "metadata": {},
     "output_type": "display_data"
    }
   ],
   "source": [
    "# show\n",
    "\n",
    "fig,ax = plt.subplots(figsize=(5,5))\n",
    "\n",
    "rankmax = 99.999999\n",
    "\n",
    "for i_t in range_t:\n",
    "    \n",
    "    if i_t in i_t_skip:\n",
    "        continue\n",
    "        \n",
    "    x_t = dict_dist_pr_sliced[i_t].ranks\n",
    "    y_t = dict_dist_pr_sliced[i_t].percentiles\n",
    "    showData(ax,x_t,y_t,color='r',linewidth=0.3,alpha=0.2,rankmin=0,rankmax=rankmax)\n",
    "\n",
    "\n",
    "subplotRanksILog(ax,dist_pr.ranks,dist_pr.percentiles,rankmin=0,rankmax=rankmax,xtickrotation=45,col='k')\n",
    "\n",
    "\n",
    "#- labels\n",
    "ax.set_xlabel('Ranks Q (%)',labelpad=45)\n",
    "ax.set_ylabel('30-mn P (mm/day)')\n",
    "\n",
    "plt.savefig(os.path.join(DIR_FIG,'dist_pr_allt.png'),dpi=200,bbox_inches='tight')\n",
    "\n",
    "plt.show()"
   ]
  },
  {
   "cell_type": "markdown",
   "id": "a5925ca9-fe19-4c4d-ba6e-0cc1f7e6958e",
   "metadata": {},
   "source": [
    "## Adapt code to compute all percentiles at once"
   ]
  },
  {
   "cell_type": "code",
   "execution_count": null,
   "id": "5b43ce32-2c67-441a-8249-ced75e6240b0",
   "metadata": {},
   "outputs": [],
   "source": []
  },
  {
   "cell_type": "code",
   "execution_count": 62,
   "id": "a7ae87aa-dc66-4806-8351-88ee9281b5c9",
   "metadata": {},
   "outputs": [
    {
     "name": "stdout",
     "output_type": "stream",
     "text": [
      "error:\n",
      "125.91±0.00\n",
      "60.41±22.74\n",
      "30.21±11.37\n",
      "15.10±5.68\n",
      "7.55±2.84\n",
      "3.78±1.42\n",
      "1.89±0.71\n",
      "0.94±0.36\n",
      "0.47±0.18\n",
      "0.24±0.09\n",
      "0.12±0.04\n",
      "0.06±0.02\n",
      "0.03±0.01\n",
      "0.01±0.01\n",
      "CPU times: user 1.3 s, sys: 12.5 ms, total: 1.31 s\n",
      "Wall time: 1.3 s\n"
     ]
    }
   ],
   "source": [
    "%%time\n",
    "\n",
    "#---- DEV ----#\n",
    "\n",
    "#--- main algorithm\n",
    "target_ranks = cs_tropics.dist_pr.ranks\n",
    "N_Q = len(target_ranks)\n",
    "\n",
    "target_nless = np.array(N_global*target_ranks/100,dtype=int)\n",
    "# time dimension\n",
    "d_time = 1\n",
    "\n",
    "## initialize\n",
    "# initial guess\n",
    "Pe_i = np.full(N_Q,40.0)\n",
    "# current estimate\n",
    "Pe_c = Pe_i.copy()\n",
    "Pe_n = Pe_i.copy()\n",
    "# search bounds\n",
    "B1 = np.full(N_Q,min_global)\n",
    "B2 = np.full(N_Q,max_global)\n",
    "# threshold\n",
    "err_thresh = max_global/10000\n",
    "err = np.absolute(B2-B1)\n",
    "\n",
    "# init to store values at each iteration\n",
    "Pe_all = []\n",
    "B1_all = []\n",
    "B2_all = []\n",
    "err_all = []\n",
    "\n",
    "## iterate\n",
    "# print('error, current estimate:')\n",
    "print('error:')\n",
    "\n",
    "while np.any(err > err_thresh):\n",
    "    \n",
    "    # print(u\"%2.2f\\u00B1%2.2f,\"%(np.mean(err),np.std(err)),Pe_c)\n",
    "    print(u\"%2.2f\\u00B1%2.2f\"%(np.mean(err),np.std(err)))\n",
    "\n",
    "    ##-- calculate position of current estimate\n",
    "    \n",
    "    nless = np.full((N_Q,N_t_all),np.nan) \n",
    "    for i_t in range_t:\n",
    "        \n",
    "        # convert indices in array starting at 0\n",
    "        k_t = i_t-i_t_min\n",
    "        \n",
    "        if i_t in i_t_skip: # skip\n",
    "            nless[:,k_t] = 0\n",
    "            continue\n",
    "        \n",
    "        dist_t = dict_dist_pr_sliced[i_t]\n",
    "        \n",
    "        #- deal with precip values outside subset range\n",
    "        # above max value\n",
    "        select_Pabove = Pe_c > dist_t.vmax\n",
    "        nless[select_Pabove,k_t] = N_sub\n",
    "        # below min value\n",
    "        select_Pbelow = Pe_c < dist_t.vmin\n",
    "        nless[select_Pbelow,k_t] = 0\n",
    "        # in between:\n",
    "        select_valid = np.logical_not(np.logical_or(select_Pabove,select_Pbelow))\n",
    "        \n",
    "        #- interpolate percentile rank Q(Pe|S)\n",
    "        # interpolation function\n",
    "        pr_t = np.hstack([dist_t.vmin,dist_t.percentiles,dist_t.vmax])\n",
    "        Q_t = np.hstack([0,dist_t.ranks,100])\n",
    "        Q_interp = interp1d(pr_t,Q_t)\n",
    "        # perform interpolation on vector\n",
    "        Q_est = Q_interp(Pe_c[select_valid]) # ! only keep valid points\n",
    "        # infer number of points below\n",
    "        nless[select_valid,k_t] = np.array(N_sub*Q_est/100,dtype=int) # ! only assign to valid points\n",
    "        \n",
    "    nless_tot = np.sum(nless,axis=d_time) # add in time direction\n",
    "    # print(nless_tot)\n",
    "    \n",
    "    ##-- update search bounds and get new estimate\n",
    "    \n",
    "    #- for percentiles that are smaller than target\n",
    "    nless_smaller = nless_tot < target_nless\n",
    "    # move lower bound up\n",
    "    B1[nless_smaller] = Pe_c[nless_smaller]\n",
    "    # new estimate is mean between current estimate and upper bound\n",
    "    Pe_n[nless_smaller] = np.mean(np.array([Pe_c[nless_smaller],B2[nless_smaller]]),axis=0)\n",
    "    \n",
    "    #- for percentiles that are larger than target\n",
    "    nless_larger = nless_tot > target_nless\n",
    "    # move lower bound up\n",
    "    B2[nless_larger] = Pe_c[nless_larger]\n",
    "    # new estimate is mean between current estimate and upper bound\n",
    "    Pe_n[nless_larger] = np.mean(np.array([B1[nless_larger],Pe_c[nless_larger]]),axis=0)\n",
    "    \n",
    "    #- percentiles found exactly equal to target, by chance\n",
    "    nless_equal = nless_tot == target_nless\n",
    "    B1[nless_equal] = Pe_c[nless_equal]\n",
    "    B2[nless_equal] = Pe_c[nless_equal]\n",
    "    Pe_n[nless_equal] = Pe_c[nless_equal]\n",
    "    \n",
    "    # print('nless_smaller',(nless_smaller))\n",
    "    # print('nless_larger', (nless_larger))\n",
    "    # print('nless_equal', (nless_equal))\n",
    "    # print('B1',B1)\n",
    "    # print('B2',B2)\n",
    "        \n",
    "    ##-- update error and current estimate\n",
    "    err = np.absolute(B2-B1)\n",
    "    Pe_c[:] = Pe_n\n",
    "    # save steps\n",
    "    Pe_all.append(Pe_c.copy())\n",
    "    B1_all.append(B1.copy())\n",
    "    B2_all.append(B2.copy())\n",
    "    err_all.append(err.copy())\n",
    "    # print(\"-----------------------------------------\")\n",
    "     "
   ]
  },
  {
   "cell_type": "code",
   "execution_count": 38,
   "id": "5974fb53-64f9-4239-9a66-b0c4087f0f48",
   "metadata": {},
   "outputs": [
    {
     "data": {
      "image/png": "[encoded data removed]",
      "text/plain": [
       "<Figure size 500x500 with 2 Axes>"
      ]
     },
     "metadata": {},
     "output_type": "display_data"
    }
   ],
   "source": [
    "# Show\n",
    "\n",
    "fig,ax = plt.subplots(figsize=(5,5))\n",
    "\n",
    "rankmax = 99.999999\n",
    "N_it = len(Pe_all)\n",
    "ranks = target_ranks\n",
    "# cols = iter(plt.cm.RdYlGn(np.linspace(0, 1, N_it)))\n",
    "cols = iter(plt.cm.brg(np.linspace(0, 1, N_it)))\n",
    "\n",
    "# frame\n",
    "setFrame(ax,rankmin=0,rankmax=rankmax,xtickrotation=45) # in here, duplicate the outer axis for fixing independent frame\n",
    "\n",
    "for i_it in range(N_it):\n",
    "        \n",
    "    y_it = Pe_all[i_it]\n",
    "    # rmse = np.sqrt(np.sum(np.power(err_all[i_it],2)))\n",
    "    err = np.max(err_all[i_it])\n",
    "    showData(ax,ranks,y_it,color=next(cols),linewidth=1.2,alpha=0.5,rankmin=0,rankmax=rankmax,label='iter. #%d; err=%3.2f'%(i_it,err))\n",
    "\n",
    "\n",
    "#- labels\n",
    "ax.set_xlabel('Ranks Q (%)',labelpad=45)\n",
    "ax.set_ylabel('30-mn P (mm/day)')\n",
    "ax.legend(fontsize=7)\n",
    "\n",
    "# plt.savefig(os.path.join(DIR_FIG,'algorithm_iterations_sliced_extremes_all_ranks.png'),dpi=200,bbox_inches='tight')\n",
    "\n",
    "plt.show()"
   ]
  },
  {
   "cell_type": "code",
   "execution_count": 60,
   "id": "65711e52-1868-4670-8200-327b59318d51",
   "metadata": {},
   "outputs": [],
   "source": [
    "# Save as function\n",
    "\n",
    "def computeGlobalDistributionFromSlices(target_ranks,list_dist,inds_to_ignore,verbose=False):\n",
    "\n",
    "    N_Q = len(target_ranks)\n",
    "    N_dist = len(list_dist)\n",
    "\n",
    "    target_nless = np.array(N_global*target_ranks/100,dtype=int)  # to adapt in class Distribution\n",
    "    \n",
    "    # subset dimension axis\n",
    "    d_sub = 1\n",
    "\n",
    "    ##-- initialize\n",
    "    \n",
    "    # initial guess\n",
    "    Pe_i = np.full(N_Q,40.0)\n",
    "    # current estimate\n",
    "    Pe_c = Pe_i.copy()\n",
    "    Pe_n = Pe_i.copy()\n",
    "    Pe_all = []\n",
    "    # search bounds\n",
    "    B1 = np.full(N_Q,min_global) # to adapt in class Distribution\n",
    "    B2 = np.full(N_Q,max_global) # to adapt in class Distribution\n",
    "    B1_all = []\n",
    "    B2_all = []\n",
    "    # threshold\n",
    "    err_thresh = max_global/10000  # to adapt in class Distribution\n",
    "    err = np.absolute(B2-B1)\n",
    "\n",
    "    ##-- iterate\n",
    "    \n",
    "    if verbose:\n",
    "        print('error:')\n",
    "\n",
    "    while np.any(err > err_thresh):\n",
    "\n",
    "        if verbose:\n",
    "            print(u\"%2.2f\\u00B1%2.2f\"%(np.mean(err),np.std(err)))\n",
    "\n",
    "        ##-- calculate position of current estimate\n",
    "\n",
    "        nless = np.full((N_Q,N_t_all),np.nan) \n",
    "        for i_d in range(N_dist):\n",
    "\n",
    "            if i_d in inds_to_ignore: # skip\n",
    "                nless[:,i_d] = 0\n",
    "                continue\n",
    "\n",
    "            dist = list_dist[i_d]\n",
    "\n",
    "            #- deal with precip values outside subset range\n",
    "            # above max value\n",
    "            select_Pabove = Pe_c > dist.vmax\n",
    "            nless[select_Pabove,i_d] = N_sub  # to adapt in class Distribution\n",
    "            # below min value\n",
    "            select_Pbelow = Pe_c < dist_t.vmin\n",
    "            nless[select_Pbelow,i_d] = 0\n",
    "            # in between:\n",
    "            select_valid = np.logical_not(np.logical_or(select_Pabove,select_Pbelow))\n",
    "\n",
    "            #- interpolate percentile rank Q(Pe|S)\n",
    "            # interpolation function\n",
    "            perc_all = np.hstack([dist.vmin,dist.percentiles,dist.vmax])\n",
    "            Q_all = np.hstack([0,dist.ranks,100])\n",
    "            Q_interp = interp1d(perc_all,Q_all)\n",
    "            # perform interpolation on vector\n",
    "            Q_est = Q_interp(Pe_c[select_valid]) # ! only keep valid points\n",
    "            # infer number of points below\n",
    "            nless[select_valid,i_d] = np.array(N_sub*Q_est/100,dtype=int) # ! only assign to valid points # to adapt in class DistributionSliced (N_sub[i_d])\n",
    "\n",
    "        nless_tot = np.sum(nless,axis=d_sub) # add in time direction\n",
    "\n",
    "        ##-- update search bounds and get new estimate\n",
    "\n",
    "        #- for percentiles that are smaller than target\n",
    "        nless_smaller = nless_tot < target_nless\n",
    "        # move lower bound up\n",
    "        B1[nless_smaller] = Pe_c[nless_smaller]\n",
    "        # new estimate is mean between current estimate and upper bound\n",
    "        Pe_n[nless_smaller] = np.mean(np.array([Pe_c[nless_smaller],B2[nless_smaller]]),axis=0)\n",
    "\n",
    "        #- for percentiles that are larger than target\n",
    "        nless_larger = nless_tot > target_nless\n",
    "        # move lower bound up\n",
    "        B2[nless_larger] = Pe_c[nless_larger]\n",
    "        # new estimate is mean between current estimate and upper bound\n",
    "        Pe_n[nless_larger] = np.mean(np.array([B1[nless_larger],Pe_c[nless_larger]]),axis=0)\n",
    "\n",
    "        #- percentiles found exactly equal to target, by chance\n",
    "        nless_equal = nless_tot == target_nless\n",
    "        B1[nless_equal] = Pe_c[nless_equal]\n",
    "        B2[nless_equal] = Pe_c[nless_equal]\n",
    "        Pe_n[nless_equal] = Pe_c[nless_equal]\n",
    "\n",
    "        ##-- update error and current estimate\n",
    "        err = np.absolute(B2-B1)\n",
    "        Pe_c[:] = Pe_n\n",
    "        \n",
    "         # to adapt in class Distribution (store Pe_c in object)\n",
    "    return Pe_c\n",
    "\n"
   ]
  },
  {
   "cell_type": "markdown",
   "id": "2c81599d-84e1-47e3-aada-228d1409a941",
   "metadata": {},
   "source": [
    "# Clean up code from beginning"
   ]
  },
  {
   "cell_type": "code",
   "execution_count": 22,
   "id": "1ca583fa-8120-4721-831b-06a664f45e1b",
   "metadata": {},
   "outputs": [],
   "source": [
    "from casestudy import *\n",
    "\n",
    "region = 'tropics'\n",
    "varid = 'pr'\n",
    "mask = 'all'"
   ]
  },
  {
   "cell_type": "code",
   "execution_count": 23,
   "id": "a92cafe6-4735-42c5-95cf-6b6611732bc3",
   "metadata": {},
   "outputs": [],
   "source": [
    "cs_tropics = CaseStudy(name='DYAMOND-SAM',\n",
    "                       region=region,\n",
    "                       rel_tab_dyam_seg=loadRelTable('DYAMOND_SEG'))"
   ]
  },
  {
   "cell_type": "code",
   "execution_count": 24,
   "id": "03581de5-4ade-4e89-b563-8e5eac1ca3ae",
   "metadata": {},
   "outputs": [
    {
     "ename": "TypeError",
     "evalue": "loadDistPrSliced() missing 1 required positional argument: 'mask'",
     "output_type": "error",
     "traceback": [
      "\u001b[0;31m---------------------------------------------------------------------------\u001b[0m",
      "\u001b[0;31mTypeError\u001b[0m                                 Traceback (most recent call last)",
      "Cell \u001b[0;32mIn[24], line 10\u001b[0m\n\u001b[1;32m      7\u001b[0m cs_tropics\u001b[38;5;241m.\u001b[39msetDirectories(region\u001b[38;5;241m=\u001b[39mregion,varid\u001b[38;5;241m=\u001b[39mvarid,mask\u001b[38;5;241m=\u001b[39mmask)\n\u001b[1;32m      9\u001b[0m \u001b[38;5;66;03m# load all distributions\u001b[39;00m\n\u001b[0;32m---> 10\u001b[0m \u001b[43mcs_tropics\u001b[49m\u001b[38;5;241;43m.\u001b[39;49m\u001b[43mloadDistPrSliced\u001b[49m\u001b[43m(\u001b[49m\u001b[43m)\u001b[49m\n",
      "\u001b[0;31mTypeError\u001b[0m: loadDistPrSliced() missing 1 required positional argument: 'mask'"
     ]
    }
   ],
   "source": [
    "cs_tropics.setSimulationSpecs(i_t_min = 832,\n",
    "                              i_t_max = 1917,\n",
    "                              lat_slice=slice(-30,30))\n",
    "\n",
    "# where sliced distributions are stored\n",
    "# cs_tropics.setDirectories(dir_dist_sliced=os.path.join(DIR_OUT,'time_slices'))\n",
    "cs_tropics.setDirectories(varid=varid,mask=mask)\n",
    "\n",
    "# load all distributions\n",
    "cs_tropics.loadDistPrSliced()"
   ]
  },
  {
   "cell_type": "code",
   "execution_count": 19,
   "id": "f80360a2-d268-4a12-967b-5a49d55713bd",
   "metadata": {},
   "outputs": [
    {
     "name": "stdout",
     "output_type": "stream",
     "text": [
      "[0.08895927 0.09020749 0.09127147 ... 0.0871079  0.08649893 0.08537947]\n"
     ]
    }
   ],
   "source": [
    "# compute sequence of mean(pr) for all slices\n",
    "cs_tropics.computePrMean()\n",
    "print(cs_tropics.pr_mean)"
   ]
  },
  {
   "cell_type": "code",
   "execution_count": 22,
   "id": "a82bcdb1-277f-4dd7-a4da-993ba95a5538",
   "metadata": {},
   "outputs": [
    {
     "name": "stdout",
     "output_type": "stream",
     "text": [
      "Found 22 indices where precip should not be analyzed: [ 862  863  958  959 1054 1055 1150 1151 1246 1247 1342 1343 1438 1439\n",
      " 1534 1535 1630 1631 1726 1727 1822 1823]\n"
     ]
    }
   ],
   "source": [
    "# Get indices where precip data is wrong\n",
    "cs_tropics.findTimeIndToIgnore()\n",
    "print(\"Found %d indices where precip should not be analyzed:\"%len(cs_tropics.times_to_ignore),cs_tropics.times_to_ignore)"
   ]
  },
  {
   "cell_type": "code",
   "execution_count": 23,
   "id": "cdebdee8-a8a6-4de7-a852-ce581c32ff2b",
   "metadata": {},
   "outputs": [
    {
     "data": {
      "text/plain": [
       "< DistributionChunked object:\n",
       " . name: DYAMOND-SAM\n",
       " . region: tropics\n",
       " . rel_tab_dyam_seg: <class 'pandas.core.frame.DataFrame'>\n",
       " . i_t_min: 832\n",
       " . i_t_max: 1917\n",
       " . range_t: range(832, 1918)\n",
       " . lat_slice: slice(-30, 30, None)\n",
       " . lon_slice: None\n",
       " . dir_dist_sliced: ../results/time_slices\n",
       " . dict_dist_pr_sliced: <class 'dict'>\n",
       " . pr_mean: [0.08895927 0.09020749 0.09127147 ... 0.0871079  0.08649893 0.08537947]\n",
       " . times_to_ignore: <class 'numpy.ndarray'>\n",
       " >"
      ]
     },
     "execution_count": 23,
     "metadata": {},
     "output_type": "execute_result"
    }
   ],
   "source": [
    "cs_tropics"
   ]
  },
  {
   "cell_type": "code",
   "execution_count": 26,
   "id": "4c0d903a-e13f-41dc-938f-8d128c65495a",
   "metadata": {},
   "outputs": [
    {
     "name": "stdout",
     "output_type": "stream",
     "text": [
      "CPU times: user 2.46 s, sys: 0 ns, total: 2.46 s\n",
      "Wall time: 2.46 s\n"
     ]
    }
   ],
   "source": [
    "%%time\n",
    "\n",
    "cs_tropics.combinePrDistributions()\n",
    "\n",
    "\n",
    "# list_dist = list(dict_dist_pr_sliced.values())\n",
    "# inds_to_ignore = list(i_t_skip - i_t_min)\n",
    "\n",
    "# #-- initiate global distribution\n",
    "# dist_pr = DistributionChunked(name='pr, DYAMOND-SAM tropics, all times',\n",
    "#                               dist_chunks=list_dist,\n",
    "#                               chunks_to_ignore=inds_to_ignore,\n",
    "#                               bintype='invlogQ',nd=8)\n",
    "\n",
    "# # compute ranks\n",
    "# dist_pr.getInvLogRanks()\n",
    "# # compute all percentiles with new algorithm\n",
    "# dist_pr.computeDistribution()\n",
    "\n",
    "# # dist_pr.percentiles = computeGlobalDistributionFromSlices(target_ranks,list_dist,inds_to_ignore)"
   ]
  },
  {
   "cell_type": "code",
   "execution_count": 63,
   "id": "3cea75cf-d49a-4dd6-a9fa-e0c40016fe46",
   "metadata": {},
   "outputs": [
    {
     "data": {
      "image/png": "[encoded data removed]",
      "text/plain": [
       "<Figure size 500x500 with 2 Axes>"
      ]
     },
     "metadata": {},
     "output_type": "display_data"
    }
   ],
   "source": [
    "# Check if implementation in object is correct\n",
    "# Compare with manual calculation\n",
    "\n",
    "fig,ax = plt.subplots(figsize=(5,5))\n",
    "\n",
    "rankmax = 99.999999\n",
    "ranks = cs_tropics.dist_pr.ranks\n",
    "\n",
    "# frame\n",
    "setFrame(ax,rankmin=0,rankmax=rankmax,xtickrotation=45) # in here, duplicate the outer axis for fixing independent frame\n",
    "\n",
    "# Manual\n",
    "showData(ax,ranks,Pe_c,color='r',linewidth=1.2,alpha=0.5,rankmin=0,rankmax=rankmax,label='final iteration, manual')\n",
    "\n",
    "# embedded method DistributionChunked.computeDistribution\n",
    "showData(ax,ranks,cs_tropics.dist_pr.percentiles,color='k',linestyle='--',linewidth=1.2,alpha=0.5,rankmin=0,rankmax=rankmax,label='object method')\n",
    "\n",
    "\n",
    "#- labels\n",
    "ax.set_xlabel('Ranks Q (%)',labelpad=45)\n",
    "ax.set_ylabel('30-mn P (mm/day)')\n",
    "ax.legend(fontsize=7)\n",
    "\n",
    "# plt.savefig(os.path.join(DIR_FIG,'check_object_method_computePercentilesFromRanks.png'),dpi=200,bbox_inches='tight')\n",
    "\n",
    "plt.show()"
   ]
  },
  {
   "cell_type": "markdown",
   "id": "6bc1462f-8c5d-4d99-9c29-ba7f82d640d3",
   "metadata": {},
   "source": [
    "# Compute global bin locations in distribution at time t"
   ]
  },
  {
   "cell_type": "code",
   "execution_count": 64,
   "id": "b8d5ac4e-4bd6-4492-91bd-80046975168d",
   "metadata": {},
   "outputs": [],
   "source": [
    "dist_pr = cs_tropics.dist_pr"
   ]
  },
  {
   "cell_type": "code",
   "execution_count": 65,
   "id": "0aef3b93-93f6-4afc-8826-43ca794b0c62",
   "metadata": {},
   "outputs": [
    {
     "data": {
      "text/plain": [
       "< DistributionChunked object:\n",
       " . bintype: invlogQ\n",
       " . nbins: 81\n",
       " . nbpd: 10\n",
       " . nppb: 4\n",
       " . nd: 8\n",
       " . fill_last_decade: False\n",
       " . name: pr, DYAMOND-SAM tropics, all times\n",
       " . size: 15238250496\n",
       " . vmin: -0.075976014\n",
       " . vmax: 125.83331\n",
       " . rank_edges: <class 'numpy.ndarray'>\n",
       " . ranks: <class 'numpy.ndarray'>\n",
       " . percentiles: <class 'numpy.ndarray'>\n",
       " . bins: <class 'numpy.ndarray'>\n",
       " . density: None\n",
       " . bin_locations_stored: False\n",
       " . overwrite: False\n",
       " . dist_chunks: <class 'list'>\n",
       " . chunks_to_ignore: <class 'list'>\n",
       " . nchunks: 1086\n",
       " . size_chunks: <class 'list'>\n",
       " . vmin_chunks: <class 'list'>\n",
       " . vmax_chunks: <class 'list'>\n",
       " >"
      ]
     },
     "execution_count": 65,
     "metadata": {},
     "output_type": "execute_result"
    }
   ],
   "source": [
    "dist_pr"
   ]
  },
  {
   "cell_type": "code",
   "execution_count": 75,
   "id": "e1f9bf03-cb6d-4399-ab78-d0c14888b81c",
   "metadata": {},
   "outputs": [
    {
     "name": "stdout",
     "output_type": "stream",
     "text": [
      "[30, 31, 126, 127, 222, 223, 318, 319, 414, 415, 510, 511, 606, 607, 702, 703, 798, 799, 894, 895, 990, 991]\n"
     ]
    },
    {
     "data": {
      "text/plain": [
       "< Distribution object:\n",
       " . bintype: invlogQ\n",
       " . nbins: 66\n",
       " . nbpd: 10\n",
       " . nppb: 4\n",
       " . nd: None\n",
       " . fill_last_decade: False\n",
       " . name: <class 'str'>\n",
       " . size: 14321664\n",
       " . vmin: -0.04340558\n",
       " . vmax: 79.054016\n",
       " . rank_edges: <class 'numpy.ndarray'>\n",
       " . ranks: <class 'numpy.ndarray'>\n",
       " . percentiles: <class 'numpy.ndarray'>\n",
       " . bins: <class 'numpy.ndarray'>\n",
       " . density: <class 'numpy.ndarray'>\n",
       " . bin_locations_stored: False\n",
       " . overwrite: False\n",
       " . frac_below_vmin: 0.0\n",
       " . frac_above_vmax: 0.0\n",
       " . mean: 0.08436371\n",
       " >"
      ]
     },
     "execution_count": 75,
     "metadata": {},
     "output_type": "execute_result"
    }
   ],
   "source": [
    "print(dist_pr.chunks_to_ignore)\n",
    "\n",
    "# distribution at arbitrary time slice\n",
    "i_d_ex = 45\n",
    "dist_pr_t_ex = dist_pr.dist_chunks[i_d_ex]\n",
    "\n",
    "# global bins\n",
    "global_bins = dist_pr.bins\n",
    "\n",
    "# Load pr data\n",
    "pr_t = loadPrec(i_t,reltab_dyam_seg).sel(lat=lat_slice)\n",
    "\n",
    "# compute locations\n",
    "dist_pr_t_ex.storeBinLocationsGlobal()\n"
   ]
  }
 ],
 "metadata": {
  "kernelspec": {
   "display_name": "Python 3 (ipykernel)",
   "language": "python",
   "name": "python3"
  },
  "language_info": {
   "codemirror_mode": {
    "name": "ipython",
    "version": 3
   },
   "file_extension": ".py",
   "mimetype": "text/x-python",
   "name": "python",
   "nbconvert_exporter": "python",
   "pygments_lexer": "ipython3",
   "version": "3.8.13"
  }
 },
 "nbformat": 4,
 "nbformat_minor": 5
}
