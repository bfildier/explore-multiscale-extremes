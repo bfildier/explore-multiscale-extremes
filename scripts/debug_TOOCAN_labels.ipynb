{
 "cells": [
  {
   "cell_type": "code",
   "execution_count": 2,
   "id": "14fc9537-6c60-403e-a740-5f2e348338b3",
   "metadata": {},
   "outputs": [
    {
     "name": "stdout",
     "output_type": "stream",
     "text": [
      "The autoreload extension is already loaded. To reload it, use:\n",
      "  %reload_ext autoreload\n"
     ]
    }
   ],
   "source": [
    "%load_ext autoreload\n",
    "%matplotlib inline"
   ]
  },
  {
   "cell_type": "code",
   "execution_count": 3,
   "id": "cc26a63e-d113-4a9e-a271-b6021bd08d70",
   "metadata": {},
   "outputs": [
    {
     "name": "stdout",
     "output_type": "stream",
     "text": [
      "Own modules available: ['casestudy', 'conditionalstats', 'conditionalstats_chunked', 'plot1D', 'plot2D', 'plotCondPDFs', 'lifecycle_mapping']\n",
      "Own modules available: ['load_TOOCAN_DYAMOND_modif', 'load_TOOCAN_DYAMOND', 'load_TOOCAN_DYAMOND_modif_BF', 'fcns_load_RCEMIP_SAM', 'fcns_multiscale_extremes', 'PrecipGrid', 'fcns_load_DYAMOND_SAM', 'fcns_movie']\n"
     ]
    }
   ],
   "source": [
    "%autoreload 2\n",
    "\n",
    "import sys,os,glob\n",
    "import psutil\n",
    "\n",
    "import matplotlib\n",
    "import matplotlib.pyplot as plt\n",
    "import numpy as np\n",
    "import xarray as xr\n",
    "import pandas as pd\n",
    "from pprint import pprint\n",
    "from skimage import measure\n",
    "from scipy.optimize import curve_fit\n",
    "\n",
    "from matplotlib.colors import LogNorm\n",
    "from matplotlib.gridspec import GridSpec\n",
    "from matplotlib.patches import Rectangle\n",
    "import cartopy.crs as ccrs\n",
    "from datetime import datetime as dt\n",
    "\n",
    "import datetime as dt\n",
    "import re\n",
    "import gc\n",
    "import matplotlib.animation as animation\n",
    "import warnings\n",
    "\n",
    "## current script object\n",
    "thismodule = sys.modules[__name__]\n",
    "\n",
    "# Own settings\n",
    "from settings import *\n",
    "\n",
    "workdir = os.getcwd()\n",
    "moduledir, fcndir = defineDir(workdir)"
   ]
  },
  {
   "cell_type": "code",
   "execution_count": 4,
   "id": "46457b3e-10cd-4b70-9fa6-8a23db6c2869",
   "metadata": {},
   "outputs": [],
   "source": [
    "# to access segmentation files and simulation outputs\n",
    "from fcns_load_DYAMOND_SAM import *\n",
    "# to access TOOCAN objects\n",
    "from load_TOOCAN_DYAMOND_modif_BF import *\n",
    "# mapping function\n",
    "from lifecycle_mapping import *"
   ]
  },
  {
   "cell_type": "code",
   "execution_count": 5,
   "id": "83721a8a-cd6c-484c-95d4-e984e8e9e20d",
   "metadata": {},
   "outputs": [],
   "source": [
    "# load relation table\n",
    "relation_table = loadRelTable('DYAMOND_SEG')"
   ]
  },
  {
   "cell_type": "code",
   "execution_count": 6,
   "id": "f7078bec-a216-4ac0-a069-fbf7b19d8fb7",
   "metadata": {},
   "outputs": [
    {
     "data": {
      "text/plain": [
       "['/data/fiolleau/DYAMOND/TOOCAN/TOOCAN_v2.07/GLOBAL/2016/FileTracking/TOOCAN-GLOBAL-20160901-20160910.dat.gz',\n",
       " '/data/fiolleau/DYAMOND/TOOCAN/TOOCAN_v2.07/GLOBAL/2016/FileTracking/TOOCAN-GLOBAL-20160801-20160831.dat.gz']"
      ]
     },
     "execution_count": 6,
     "metadata": {},
     "output_type": "execute_result"
    }
   ],
   "source": [
    "glob.glob(os.path.join(DIR_TOOCAN_DYAMOND,'*.gz'))"
   ]
  },
  {
   "cell_type": "code",
   "execution_count": 7,
   "id": "8e2d0594-bcdf-4f26-b34c-f377441dfaaf",
   "metadata": {},
   "outputs": [
    {
     "name": "stdout",
     "output_type": "stream",
     "text": [
      "load /data/fiolleau/DYAMOND/TOOCAN/TOOCAN_v2.07/GLOBAL/2016/FileTracking/TOOCAN-GLOBAL-20160901-20160910.dat.gz\n",
      "/data/fiolleau/DYAMOND/TOOCAN/TOOCAN_v2.07/GLOBAL/2016/FileTracking/TOOCAN-GLOBAL-20160901-20160910.dat.gz\n",
      "load /data/fiolleau/DYAMOND/TOOCAN/TOOCAN_v2.07/GLOBAL/2016/FileTracking/TOOCAN-GLOBAL-20160801-20160831.dat.gz\n",
      "/data/fiolleau/DYAMOND/TOOCAN/TOOCAN_v2.07/GLOBAL/2016/FileTracking/TOOCAN-GLOBAL-20160801-20160831.dat.gz\n"
     ]
    }
   ],
   "source": [
    "toocan = loadAllMCSs(DIR_TOOCAN_DYAMOND,load_TOOCAN_DYAMOND)"
   ]
  },
  {
   "cell_type": "code",
   "execution_count": 8,
   "id": "8ec7adc0-c526-4c41-933a-119ae79b04d2",
   "metadata": {},
   "outputs": [],
   "source": [
    "# list of TOOCAN labels, for quicker mapping on toocan list\n",
    "labels_toocan = [toocan[i].label for i in range(len(toocan))]"
   ]
  },
  {
   "cell_type": "code",
   "execution_count": 26,
   "id": "6ad0e448-d203-44fb-9c06-3f378358efb6",
   "metadata": {},
   "outputs": [],
   "source": [
    "# np.sum(np.logical_not(np.in1d(np.arange(np.min(labels_toocan),np.max(labels_toocan)+1),np.array(labels_toocan))))"
   ]
  },
  {
   "cell_type": "markdown",
   "id": "74d18ac7-6947-45eb-8c62-73e6399aecfb",
   "metadata": {},
   "source": [
    "## DEBUG DUPLICATE TOOCAN LABELS"
   ]
  },
  {
   "cell_type": "markdown",
   "id": "3faf0e13-8fef-41a2-bbe2-9a4bb0c74271",
   "metadata": {},
   "source": [
    "    #######------------------------------------------------#######\n",
    "    #   Explore why several toocan labels occur more than once   #\n",
    "    #######------------------------------------------------#######"
   ]
  },
  {
   "cell_type": "markdown",
   "id": "06fc957c-73d6-45ac-a571-105a8474251b",
   "metadata": {},
   "source": [
    "Find labels that occur more than once"
   ]
  },
  {
   "cell_type": "code",
   "execution_count": 27,
   "id": "3099dccc-2f13-4320-9183-fd45e5c90ac0",
   "metadata": {},
   "outputs": [
    {
     "name": "stdout",
     "output_type": "stream",
     "text": [
      "[717, 729, 2565, 2903, 3327, 5728, 18298, 18537, 18539, 19218, 20562, 20565, 21368, 23984, 24391, 25621, 26139, 28061, 31542, 33523, 33524, 41189, 43066, 49149, 49717, 52429, 53092, 55540, 62755, 63769, 64271, 64272, 64569, 64570, 64807, 65055, 66285, 67801, 68454, 72417, 74141, 87444, 87445, 87662, 104757, 105566, 113595, 125606, 128417, 141662, 150634, 153266, 156107, 156370, 162780, 171631, 174849, 175108, 180755, 181941, 190433, 192691, 194926, 196100, 199485, 207567, 207965, 218615, 219796, 221569, 224652, 224705, 229157, 229318, 230911, 231223, 239805, 252646, 257068, 258692, 258911, 259047, 260964, 266678, 267866, 267867, 268595, 268660, 276058, 277656, 278325, 280233, 281159, 285952, 287751, 289761, 290318, 297070, 298033, 298073, 298074, 298823, 299352, 299380, 313110, 315861, 318489, 318490, 319169, 319753, 325514, 327698, 328137, 328138, 329491, 331575, 331576, 331627, 343880, 346428, 350434, 352908, 354173, 354445, 355507, 356225, 358379, 358410, 358605, 358978, 360224, 360225, 361180, 368066]\n"
     ]
    }
   ],
   "source": [
    "labels_unique, labels_counts = np.unique(labels_toocan,return_counts=True)\n",
    "# appear several times\n",
    "ind_several = np.where(labels_counts > 1)[0]\n",
    "labels_several = [labels_unique[i] for i in ind_several]\n",
    "# appear only once\n",
    "ind_unique = np.where(labels_counts == 1)[0]\n",
    "labels_valid = [labels_unique[i] for i in ind_unique]\n",
    "print(labels_several)"
   ]
  },
  {
   "cell_type": "markdown",
   "id": "980fc218-e284-41ff-bb6d-099d4a942064",
   "metadata": {},
   "source": [
    "Create an array arr of indices such that arr[l] = index (in toocan list) of toocan object with label l "
   ]
  },
  {
   "cell_type": "code",
   "execution_count": 32,
   "id": "9e3bb1d3-15f0-4bb3-9328-931e920a8508",
   "metadata": {},
   "outputs": [
    {
     "name": "stdout",
     "output_type": "stream",
     "text": [
      "1\n",
      "-- replace with nans where necessary\n",
      "[  0  52  57  59  81 105 122 124 143 152] ...\n",
      "-- add correct indices\n",
      "size of toocan-style arrays: 347106 347106\n",
      "size of ind-style (output) arrays: 368507 368507\n",
      "#labels_several: 134\n",
      "#True in mask_labels_invalid: 134\n",
      "#True in mask_toocan_labels_valid: 346834\n",
      "#labels valid in mask_labels_invalid: 368373\n",
      "[ True  True  True  True  True  True  True False  True  True] ...\n",
      "len(ind_toocan_valid) 346834\n",
      "[0 1 2 3 4 5 6 7 8 9]\n",
      "\n",
      "how many labels total: 368506\n",
      "how many labels to replace by indices: 368372\n",
      "how many indices found: 346834\n",
      "\n",
      "21673\n",
      "\n",
      "-- TEST\n",
      "example MCS label: 18531\n",
      "index of label in TOOCAN list is 17778\n",
      "toocan label for that index is 311590\n"
     ]
    }
   ],
   "source": [
    "# Create an array arr of indices such that arr[l] = index (in toocan list) of toocan object with label l\n",
    "\n",
    "\n",
    "# 0. initiate with nans\n",
    "inds_labels_all = np.array(np.arange(0,np.nanmax(labels_toocan)+1),dtype=float)\n",
    "inds_labels_all[0] = np.nan\n",
    "print(np.sum(np.isnan(inds_labels_all)))\n",
    "\n",
    "print('-- replace with nans where necessary')\n",
    "# 1. mask of invalid labels (because duplicate)\n",
    "# mask_labels_invalid = np.in1d(inds_labels_all,labels_several)\n",
    "mask_labels_valid = np.in1d(inds_labels_all,labels_valid)\n",
    "# replace these with nans\n",
    "# inds_labels_all[mask_labels_invalid] = np.nan\n",
    "inds_labels_all[~mask_labels_valid] = np.nan\n",
    "print(np.where(np.isnan(inds_labels_all))[0][:10],'...')\n",
    "\n",
    "print('-- add correct indices')\n",
    "# 2. mask toocan labels that are duplicate\n",
    "# mask_toocan_labels_invalid = np.in1d(labels_toocan,labels_several)\n",
    "mask_toocan_labels_valid = np.in1d(labels_toocan,labels_valid)\n",
    "print('size of toocan-style arrays:',len(labels_toocan),len(mask_toocan_labels_valid))\n",
    "# find indices of valid toocan labels\n",
    "# ind_toocan_valid = np.where(~mask_toocan_labels_invalid)[0]\n",
    "ind_toocan_valid = np.where(mask_toocan_labels_valid)[0]\n",
    "# replace in output index arrays at valid label locations\n",
    "print('size of ind-style (output) arrays:',len(inds_labels_all),len(mask_labels_invalid))\n",
    "print('#labels_several:',len(labels_several))\n",
    "print('#True in mask_labels_invalid:',np.sum(mask_labels_invalid))\n",
    "print('#True in mask_toocan_labels_valid:',np.sum(mask_toocan_labels_valid))\n",
    "print('#labels valid in mask_labels_invalid:',np.sum(~mask_labels_invalid))\n",
    "print(~mask_labels_invalid[710:720],'...')\n",
    "print('len(ind_toocan_valid)',len(ind_toocan_valid))\n",
    "print(ind_toocan_valid[0:10])\n",
    "\n",
    "print()\n",
    "Nlabs = np.nanmax(labels_toocan)\n",
    "print('how many labels total:',Nlabs)\n",
    "print('how many labels to replace by indices:',Nlabs-len(labels_several))\n",
    "print('how many indices found:',len(labels_toocan)-272)\n",
    "print()\n",
    "\n",
    "# inds_labels_all[~mask_labels_invalid][1:] = ind_toocan_valid\n",
    "inds_labels_all[mask_labels_valid] = ind_toocan_valid\n",
    "print(np.sum(np.isnan(inds_labels_all)))\n",
    "# convert to integer\n",
    "inds_labels_all = np.asarray(inds_labels_all,dtype=int) # nans become large negative integers\n",
    "\n",
    "### TEST\n",
    "print()\n",
    "\n",
    "print('-- TEST')\n",
    "label_test = 18531\n",
    "print('example MCS label:',label_test)\n",
    "\n",
    "print('index of label in TOOCAN list is',inds_labels_all[label_test])\n",
    "\n",
    "print('toocan label for that index is',labels_toocan[inds_labels_all[label_test]])"
   ]
  },
  {
   "cell_type": "code",
   "execution_count": 18,
   "id": "de64f9d5-cbe9-456d-a712-f820c67a814a",
   "metadata": {},
   "outputs": [
    {
     "name": "stdout",
     "output_type": "stream",
     "text": [
      "4 MCS labels occur 3 times\n",
      "\n",
      "__ label 20562, index 90635\n",
      "__ label 20562, index 90636\n",
      "__ label 20562, index 90637\n",
      "__ label 31542, index 101006\n",
      "__ label 31542, index 101007\n",
      "__ label 31542, index 101008\n",
      "__ label 87444, index 152881\n",
      "__ label 87444, index 152882\n",
      "__ label 87444, index 152883\n",
      "__ label 328137, index 33177\n",
      "__ label 328137, index 33178\n",
      "__ label 328137, index 33179\n"
     ]
    }
   ],
   "source": [
    "# N_occurrences = 2\n",
    "N_occurrences = 3\n",
    "\n",
    "labels_unique, labels_counts = np.unique(labels_toocan,return_counts=True)\n",
    "ind_double = np.where(labels_counts == N_occurrences)[0]\n",
    "labels_double = [labels_unique[i] for i in ind_double]\n",
    "labels_double.sort()\n",
    "\n",
    "print('%d MCS labels occur %d times'%(len(labels_double),N_occurrences))\n",
    "print()\n",
    "\n",
    "for label in labels_double:\n",
    "    # where in toocan list\n",
    "    ind_label_toocan = np.where(labels_toocan == label)[0]\n",
    "    \n",
    "    area_label = 'surfkm2_172Wm2'\n",
    "\n",
    "    # fig,ax = plt.subplots(ncols=1,figsize=(5,5))\n",
    "    fig,axs = plt.subplots(ncols=N_occurrences,figsize=(N_occurrences*7,7))\n",
    "    \n",
    "    import matplotlib.dates as mdates\n",
    "    \n",
    "    # birth time of first MCS\n",
    "    time_ref_birth = timeIndex2Timedelta(ind_label_toocan[0],0)\n",
    "\n",
    "    for i_MCS,ax in zip(ind_label_toocan,axs):\n",
    "    \n",
    "        plt.gca().xaxis.set_major_formatter(mdates.DateFormatter('%m-%d,%H:%M'))\n",
    "        plt.gca().xaxis.set_major_locator(mdates.HourLocator(interval=1))\n",
    "        \n",
    "        print('__ label %d, index %d'%(toocan[i_MCS].label,i_MCS))\n",
    "        # delta between MCS births\n",
    "        time_birth = timeIndex2Timedelta(i_MCS,0)\n",
    "        timedelta_birth = time_birth - time_ref_birth\n",
    "\n",
    "        # print(toocan[i_MCS])\n",
    "        time = toocan[i_MCS].clusters.Localtime\n",
    "        time_delta_formatted = np.array([timeIndex2Timedelta(i_MCS,j) for j in range(len(time))])\n",
    "        time_ref = dt.datetime(year=1970,month=1,day=1)\n",
    "        time_formatted = time_ref + timedelta_birth + time_delta_formatted\n",
    "        area_t = np.array(getattr(toocan[i_MCS].clusters,area_lab))\n",
    "    \n",
    "        ax.plot(time_formatted,area_t,label=area_lab)\n",
    "        ax.set_title('MCS label %d, TOOCAN index %d'%(toocan[i_MCS].label,i_MCS))\n",
    "        ax.set_xlabel('Local Time')\n",
    "        ax.set_ylabel('Area (km2)')\n",
    "    \n",
    "    # rotate x labels if necessary\n",
    "    plt.gcf().autofmt_xdate()\n",
    "\n",
    "    # Save\n",
    "    outdir = os.path.join(DIR_FIG,'duplicates')\n",
    "    os.makedirs(outdir,exist_ok = True)\n",
    "    plt.savefig(os.path.join(outdir,'lifecycle_label%d_match_%dMCS.pdf'%(label,N_occurrences)),bbox_inches='tight')\n",
    "    \n",
    "    # Do not show\n",
    "    plt.close()\n",
    "    "
   ]
  },
  {
   "cell_type": "code",
   "execution_count": 131,
   "id": "2e96ddf7-9f2b-48bb-a440-6e71d7475667",
   "metadata": {},
   "outputs": [],
   "source": [
    "def UtimeToRelTableIndex(Utime):\n",
    "    \"\"\"Convert Utime (in TOOCAN object for instance) to index in relation table.\"\"\"\n",
    "\n",
    "    i_t = np.where(relation_table.UTC == Utime)[0][0]\n",
    "\n",
    "    return i_t\n",
    "\n",
    "def getTimeStr(i_t,df=relation_table):\n",
    "\n",
    "    timestamp = df.path_dyamond[i_t].split('_')[-1]\n",
    "    delta = dt.timedelta(seconds=int(int(timestamp)*7.5))\n",
    "    date_t = dt.datetime(2016,8,1) + delta\n",
    "    time_str = dt.datetime.strftime(date_t,\"%h %d %Y, %H:%M\")\n",
    "\n",
    "    return time_str"
   ]
  },
  {
   "cell_type": "code",
   "execution_count": 134,
   "id": "170bbf2d-9648-4d90-8a54-cde6cf688a55",
   "metadata": {},
   "outputs": [
    {
     "name": "stdout",
     "output_type": "stream",
     "text": [
      "6 7.0\n",
      "4 MCS labels occur 3 times\n",
      "\n",
      "58 83\n",
      "0.929375 16.63\n",
      "60\n"
     ]
    },
    {
     "name": "stderr",
     "output_type": "stream",
     "text": [
      "/home/bfildier/.local/lib/python3.8/site-packages/xarray/conventions.py:492: SerializationWarning: variable 'MCS_label' has multiple fill values {-999.0, -998.0}, decoding all values to NaN.\n",
      "  new_vars[k] = decode_cf_variable(\n",
      "/home/bfildier/.conda/envs/pyLMD/lib/python3.8/site-packages/cartopy/mpl/gridliner.py:451: UserWarning: The .xlabels_top attribute is deprecated. Please use .top_labels to toggle visibility instead.\n",
      "  warnings.warn('The .xlabels_top attribute is deprecated. Please '\n",
      "/home/bfildier/.conda/envs/pyLMD/lib/python3.8/site-packages/cartopy/mpl/gridliner.py:487: UserWarning: The .ylabels_right attribute is deprecated. Please use .right_labels to toggle visibility instead.\n",
      "  warnings.warn('The .ylabels_right attribute is deprecated. Please '\n"
     ]
    },
    {
     "data": {
      "image/png": "[encoded data removed]",
      "text/plain": [
       "<Figure size 600x700 with 1 Axes>"
      ]
     },
     "metadata": {},
     "output_type": "display_data"
    }
   ],
   "source": [
    "##### MAKE SNAPSHOTS\n",
    "\n",
    "cmap_mcs = plt.cm.get_cmap('Accent', 10)\n",
    "\n",
    "# compute figure size\n",
    "dlon = 5\n",
    "dlat = 5\n",
    "Lx_fig = 6\n",
    "Lx_cbar = 0\n",
    "Ly_title = 1\n",
    "Ly_fig = (Lx_fig-Lx_cbar)/dlon*dlat + Ly_title\n",
    "\n",
    "print(Lx_fig,Ly_fig)\n",
    "\n",
    "# N_occurrences = 2\n",
    "N_occurrences = 3\n",
    "\n",
    "labels_unique, labels_counts = np.unique(labels_toocan,return_counts=True)\n",
    "ind_double = np.where(labels_counts == N_occurrences)[0]\n",
    "labels_double = [labels_unique[i] for i in ind_double]\n",
    "labels_double.sort()\n",
    "\n",
    "print('%d MCS labels occur %d times'%(len(labels_double),N_occurrences))\n",
    "print()\n",
    "\n",
    "for label in labels_double:\n",
    "    # where in toocan list\n",
    "    ind_label_toocan = np.where(labels_toocan == label)[0]\n",
    "    \n",
    "    area_label = 'surfkm2_172Wm2'\n",
    "\n",
    "    #-- find time bounds\n",
    "    i_t_min = np.min([UtimeToRelTableIndex(np.min(toocan[i_MCS].clusters.Utime)) for i_MCS in ind_label_toocan])\n",
    "    i_t_max = np.max([UtimeToRelTableIndex(np.max(toocan[i_MCS].clusters.Utime)) for i_MCS in ind_label_toocan])\n",
    "    print(i_t_min,i_t_max)\n",
    "    \n",
    "    #-- find mean center of mass\n",
    "    lon_mean = np.mean(np.hstack([toocan[i_MCS].clusters.lon for i_MCS in ind_label_toocan]))\n",
    "    lat_mean = np.mean(np.hstack([toocan[i_MCS].clusters.lat for i_MCS in ind_label_toocan]))\n",
    "    print(lon_mean,lat_mean)\n",
    "    \n",
    "    # #-- find spacing between center of mass\n",
    "    # lon_all = [np.mean(toocan[i_MCS].clusters.lon) for i_MCS in ind_label_toocan]\n",
    "    # lat_all = [np.mean(toocan[i_MCS].clusters.lat) for i_MCS in ind_label_toocan]\n",
    "    # print(lon_all,lat_all)\n",
    "    \n",
    "    #-- Show image at given t\n",
    "    # try at midpoint t\n",
    "    # i_t = int(i_t_min+(i_t_max-i_t_min)/3)\n",
    "    i_t = i_t_min + 2\n",
    "    title = getTimeStr(i_t)\n",
    "    print(i_t)\n",
    "    \n",
    "    # initialize figure\n",
    "    fig = plt.figure(figsize=(Lx_fig,Ly_fig))\n",
    "    ax = plt.axes(projection=ccrs.PlateCarree(central_longitude=0))\n",
    "    \n",
    "    slice_lon = slice(lon_mean-3,lon_mean+3)\n",
    "    slice_lat = slice(lat_mean-2,lat_mean+2)\n",
    "    \n",
    "    # load \n",
    "    segmask = loadTOOCANSeg(i_t,relation_table)\n",
    "    lonarray_toocan,latarray_toocan = getCoords2D(segmask,slice_lon,slice_lat)\n",
    "    img_seg = segmask.sel(longitude=slice_lon,latitude=slice_lat)[0]\n",
    "    img_seg_modulo10 = img_seg%10\n",
    "    img_mask_label = ~(img_seg == label)\n",
    "    img_seg_label = np.ma.masked_array(img_mask_label,img_mask_label)\n",
    "    \n",
    "    # mask\n",
    "    with warnings.catch_warnings():\n",
    "        warnings.simplefilter(\"ignore\")\n",
    "        im_MCS = ax.pcolormesh(lonarray_toocan,latarray_toocan,img_seg_modulo10,transform=ccrs.PlateCarree(),cmap=cmap_mcs,alpha=0.2)\n",
    "        im_label = ax.pcolormesh(lonarray_toocan,latarray_toocan,img_seg_label,transform=ccrs.PlateCarree(),cmap='RdGy',alpha=1)\n",
    "\n",
    "    # coordinates\n",
    "    gl = ax.gridlines(crs=ccrs.PlateCarree(), draw_labels=True,\n",
    "                  linewidth=0.1, color='k', alpha=1, linestyle='-')\n",
    "    \n",
    "    gl.xlabels_top = None\n",
    "    gl.ylabels_right = None\n",
    "    \n",
    "    # labels\n",
    "    ax.set_xlabel('Longitude')\n",
    "    ax.set_ylabel('Latitude')\n",
    "    ax.set_title(title)\n",
    "    \n",
    "    break"
   ]
  },
  {
   "cell_type": "markdown",
   "id": "146f1652-5962-4089-ac8b-826c0082cb51",
   "metadata": {},
   "source": [
    "    ##### AUTOMATE FIGURE"
   ]
  },
  {
   "cell_type": "code",
   "execution_count": 140,
   "id": "8dab9576-1601-45ec-bfa8-15dcdbd999c6",
   "metadata": {},
   "outputs": [],
   "source": [
    "\n",
    "def initFigure(i_t0,Lx_fig=15,Ly_fig=4,title=None):\n",
    "    \n",
    "    # load data\n",
    "    segmask = loadTOOCANSeg(i_t,relation_table)\n",
    "    lonarray_toocan,latarray_toocan = getCoords2D(segmask,slice_lon,slice_lat)\n",
    "    img_seg = segmask.sel(longitude=slice_lon,latitude=slice_lat)[0]\n",
    "    img_seg_modulo10 = img_seg%10\n",
    "    img_seg_label = np.ma.masked_array(~(img_seg == label),img_mask_label)\n",
    "    \n",
    "    # initialize figure\n",
    "    fig = plt.figure(figsize=(Lx_fig,Ly_fig))\n",
    "    ax = plt.axes(projection=ccrs.PlateCarree(central_longitude=0))\n",
    "\n",
    "    #- show masks\n",
    "    with warnings.catch_warnings():\n",
    "        warnings.simplefilter(\"ignore\")\n",
    "        im_MCS = ax.pcolormesh(lonarray_toocan,latarray_toocan,img_seg_modulo10,transform=ccrs.PlateCarree(),cmap=cmap_mcs,alpha=0.2)\n",
    "        im_label = ax.pcolormesh(lonarray_toocan,latarray_toocan,img_seg_label,transform=ccrs.PlateCarree(),cmap='RdGy',alpha=1)\n",
    "\n",
    "    # coordinates\n",
    "    gl = ax.gridlines(crs=ccrs.PlateCarree(), draw_labels=True,\n",
    "                  linewidth=0.1, color='k', alpha=1, linestyle='-')    \n",
    "\n",
    "    # store image placeholders for later updating\n",
    "    ims = [im_MCS,im_label]\n",
    "\n",
    "    # delete data and remove from memory\n",
    "    del segmask\n",
    "    del img_seg_modulo10\n",
    "    del img_seg_label\n",
    "    gc.collect()\n",
    "    \n",
    "    # cosmetics\n",
    "    gl.xlabels_top = None\n",
    "    gl.ylabels_right = None\n",
    "    \n",
    "    # labels\n",
    "    ax.set_xlabel('Longitude')\n",
    "    ax.set_ylabel('Latitude')\n",
    "    ax.set_title(title)\n",
    "\n",
    "    \n",
    "    return fig, ax, ims"
   ]
  },
  {
   "cell_type": "code",
   "execution_count": 141,
   "id": "6e5d9585-1d72-4367-91d9-a79a40158b3b",
   "metadata": {},
   "outputs": [
    {
     "data": {
      "image/png": "[encoded data removed]",
      "text/plain": [
       "<Figure size 600x700 with 1 Axes>"
      ]
     },
     "metadata": {},
     "output_type": "display_data"
    }
   ],
   "source": [
    "i_t = 60\n",
    "\n",
    "with warnings.catch_warnings():\n",
    "    warnings.simplefilter(\"ignore\")\n",
    "    initFigure(i_t,Lx_fig,Ly_fig,title='')"
   ]
  },
  {
   "cell_type": "markdown",
   "id": "730a2ab8-af06-4503-bf9f-d99eae86e4ae",
   "metadata": {},
   "source": [
    "    ##### MAKE MOVIE\n"
   ]
  },
  {
   "cell_type": "code",
   "execution_count": null,
   "id": "42e5502a-11b6-4084-abe6-856aebcc55a7",
   "metadata": {},
   "outputs": [],
   "source": [
    "#-- MOVIE -- EDIT\n",
    "\n",
    "def makeMovie(movie_path):\n",
    "    \n",
    "    Nt = len(df)\n",
    "    \n",
    "    # -- initialize figure\n",
    "    \n",
    "    # first time step\n",
    "    # i_t0 = j_row_t0 ## EDIT\n",
    "    \n",
    "    title_root = 'Day %s'\n",
    "    # t_str = \"%3.2f\"%PW_DYAMOND.time.data[0]\n",
    "    t_str = getTimeStr(i_t0)\n",
    "    title = title_root%t_str\n",
    "    \n",
    "    # initialize\n",
    "    fig, ax, ims = initFigure(i_t0,Lx_fig,Ly_fig,title=title)\n",
    "    \n",
    "    # -- define movie loop\n",
    "    def updateImage(i_t):\n",
    "        \n",
    "        print(i_t,end=' ')\n",
    "        \n",
    "        # load data at i_t\n",
    "        PW_DYAMOND, img_TOOCAN = importData(i_t)\n",
    "        \n",
    "        t_str = getTimeStr(i_t)\n",
    "        \n",
    "        for slice_lon,i_ims in zip([slice(lon_lim[0],360),slice(0,lon_lim[1])],list(np.arange(2))):\n",
    "        \n",
    "            Z = PW_DYAMOND.sel(lon=slice_lon,lat=slice_lat)[0]\n",
    "            IMG_SEG = img_TOOCAN.sel(longitude=slice_lon,latitude=slice_lat)[0]%10    \n",
    "\n",
    "            # update images\n",
    "            ims[i_ims][0].set_array(np.ravel(Z[:-1,:-1].data))\n",
    "            ims[i_ims][1].set_array(np.ravel(IMG_SEG[:-1,:-1].data))\n",
    "        \n",
    "        ax.set_title(title_root%t_str)\n",
    "\n",
    "        # delete data and remove from memory\n",
    "        del PW_DYAMOND\n",
    "        del img_TOOCAN\n",
    "        del Z\n",
    "        del IMG_SEG\n",
    "        gc.collect()\n",
    "        \n",
    "        return [ims]\n",
    "    \n",
    "    # anim = animation.FuncAnimation(fig, updateImage,\n",
    "    #                                frames=range(i_t0,i_t0+24), interval=interval, blit=False)\n",
    "    anim = animation.FuncAnimation(fig, updateImage,\n",
    "                                   frames=range(j_row_t0,j_row_t0+10), interval=interval, blit=False)\n",
    "\n",
    "    writer = animation.writers['ffmpeg'](fps=frame_rate)\n",
    "\n",
    "    anim.save(movie_path,writer=writer,dpi=150,savefig_kwargs={'bbox_inches':'tight'})"
   ]
  },
  {
   "cell_type": "code",
   "execution_count": null,
   "id": "e0e4f71d-a1dd-4d10-9ce4-6cac59950cf3",
   "metadata": {},
   "outputs": [],
   "source": [
    "label = \n",
    "\n",
    "moviedir = '../movies/'\n",
    "movie_name = 'toocan_duplicate_label_%s'%\n",
    "movie_path = os.path.join(moviedir, '%s.mp4'%(movie_name))\n",
    "\n",
    "with warnings.catch_warnings():\n",
    "    warnings.simplefilter(\"ignore\")\n",
    "    makeMovie(movie_path)"
   ]
  },
  {
   "cell_type": "code",
   "execution_count": null,
   "id": "89560ab8-3c48-4f2e-a446-b7ebc6fc8219",
   "metadata": {},
   "outputs": [],
   "source": []
  }
 ],
 "metadata": {
  "kernelspec": {
   "display_name": "Python 3 (ipykernel)",
   "language": "python",
   "name": "python3"
  },
  "language_info": {
   "codemirror_mode": {
    "name": "ipython",
    "version": 3
   },
   "file_extension": ".py",
   "mimetype": "text/x-python",
   "name": "python",
   "nbconvert_exporter": "python",
   "pygments_lexer": "ipython3",
   "version": "3.8.13"
  }
 },
 "nbformat": 4,
 "nbformat_minor": 5
}
